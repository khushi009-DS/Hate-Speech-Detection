{
  "cells": [
    {
      "cell_type": "code",
      "execution_count": null,
      "metadata": {
        "id": "5PU9earqg0M6"
      },
      "outputs": [],
      "source": [
        "\n",
        "import pandas as pd\n",
        "import numpy as np\n",
        "import matplotlib.pyplot as plt\n",
        "import seaborn as sns"
      ]
    },
    {
      "cell_type": "code",
      "execution_count": null,
      "metadata": {
        "id": "cAfZrIO1hgth"
      },
      "outputs": [],
      "source": [
        "dataset=pd.read_csv(\"/content/labeled_data.csv\")"
      ]
    },
    {
      "cell_type": "code",
      "execution_count": null,
      "metadata": {
        "colab": {
          "base_uri": "https://localhost:8080/",
          "height": 310
        },
        "id": "OZr_DkM4ho7f",
        "outputId": "5144f567-82e9-497b-9e08-5b5d210b5d59"
      },
      "outputs": [
        {
          "data": {
            "application/vnd.google.colaboratory.intrinsic+json": {
              "summary": "{\n  \"name\": \"dataset\",\n  \"rows\": 24783,\n  \"fields\": [\n    {\n      \"column\": \"Unnamed: 0\",\n      \"properties\": {\n        \"dtype\": \"number\",\n        \"std\": 7299,\n        \"min\": 0,\n        \"max\": 25296,\n        \"num_unique_values\": 24783,\n        \"samples\": [\n          2326,\n          16283,\n          19362\n        ],\n        \"semantic_type\": \"\",\n        \"description\": \"\"\n      }\n    },\n    {\n      \"column\": \"count\",\n      \"properties\": {\n        \"dtype\": \"number\",\n        \"std\": 0,\n        \"min\": 3,\n        \"max\": 9,\n        \"num_unique_values\": 5,\n        \"samples\": [\n          6,\n          7,\n          9\n        ],\n        \"semantic_type\": \"\",\n        \"description\": \"\"\n      }\n    },\n    {\n      \"column\": \"hate_speech\",\n      \"properties\": {\n        \"dtype\": \"number\",\n        \"std\": 0,\n        \"min\": 0,\n        \"max\": 7,\n        \"num_unique_values\": 8,\n        \"samples\": [\n          1,\n          6,\n          0\n        ],\n        \"semantic_type\": \"\",\n        \"description\": \"\"\n      }\n    },\n    {\n      \"column\": \"offensive_language\",\n      \"properties\": {\n        \"dtype\": \"number\",\n        \"std\": 1,\n        \"min\": 0,\n        \"max\": 9,\n        \"num_unique_values\": 10,\n        \"samples\": [\n          8,\n          3,\n          7\n        ],\n        \"semantic_type\": \"\",\n        \"description\": \"\"\n      }\n    },\n    {\n      \"column\": \"neither\",\n      \"properties\": {\n        \"dtype\": \"number\",\n        \"std\": 1,\n        \"min\": 0,\n        \"max\": 9,\n        \"num_unique_values\": 10,\n        \"samples\": [\n          8,\n          0,\n          4\n        ],\n        \"semantic_type\": \"\",\n        \"description\": \"\"\n      }\n    },\n    {\n      \"column\": \"class\",\n      \"properties\": {\n        \"dtype\": \"number\",\n        \"std\": 0,\n        \"min\": 0,\n        \"max\": 2,\n        \"num_unique_values\": 3,\n        \"samples\": [\n          2,\n          1,\n          0\n        ],\n        \"semantic_type\": \"\",\n        \"description\": \"\"\n      }\n    },\n    {\n      \"column\": \"tweet\",\n      \"properties\": {\n        \"dtype\": \"string\",\n        \"num_unique_values\": 24783,\n        \"samples\": [\n          \"934 8616\\ni got a missed call from yo bitch\",\n          \"RT @KINGTUNCHI_: Fucking with a bad bitch you gone need some money lil homie!\",\n          \"RT @eanahS__: @1inkkofrosess lol my credit ain't no where near good , but I know the right man for the job .. that ho nice though!\"\n        ],\n        \"semantic_type\": \"\",\n        \"description\": \"\"\n      }\n    }\n  ]\n}",
              "type": "dataframe",
              "variable_name": "dataset"
            },
            "text/html": [
              "\n",
              "  <div id=\"df-6b2ed1d3-5435-474e-ba9b-fff5bfdb21ff\" class=\"colab-df-container\">\n",
              "    <div>\n",
              "<style scoped>\n",
              "    .dataframe tbody tr th:only-of-type {\n",
              "        vertical-align: middle;\n",
              "    }\n",
              "\n",
              "    .dataframe tbody tr th {\n",
              "        vertical-align: top;\n",
              "    }\n",
              "\n",
              "    .dataframe thead th {\n",
              "        text-align: right;\n",
              "    }\n",
              "</style>\n",
              "<table border=\"1\" class=\"dataframe\">\n",
              "  <thead>\n",
              "    <tr style=\"text-align: right;\">\n",
              "      <th></th>\n",
              "      <th>Unnamed: 0</th>\n",
              "      <th>count</th>\n",
              "      <th>hate_speech</th>\n",
              "      <th>offensive_language</th>\n",
              "      <th>neither</th>\n",
              "      <th>class</th>\n",
              "      <th>tweet</th>\n",
              "    </tr>\n",
              "  </thead>\n",
              "  <tbody>\n",
              "    <tr>\n",
              "      <th>0</th>\n",
              "      <td>0</td>\n",
              "      <td>3</td>\n",
              "      <td>0</td>\n",
              "      <td>0</td>\n",
              "      <td>3</td>\n",
              "      <td>2</td>\n",
              "      <td>!!! RT @mayasolovely: As a woman you shouldn't...</td>\n",
              "    </tr>\n",
              "    <tr>\n",
              "      <th>1</th>\n",
              "      <td>1</td>\n",
              "      <td>3</td>\n",
              "      <td>0</td>\n",
              "      <td>3</td>\n",
              "      <td>0</td>\n",
              "      <td>1</td>\n",
              "      <td>!!!!! RT @mleew17: boy dats cold...tyga dwn ba...</td>\n",
              "    </tr>\n",
              "    <tr>\n",
              "      <th>2</th>\n",
              "      <td>2</td>\n",
              "      <td>3</td>\n",
              "      <td>0</td>\n",
              "      <td>3</td>\n",
              "      <td>0</td>\n",
              "      <td>1</td>\n",
              "      <td>!!!!!!! RT @UrKindOfBrand Dawg!!!! RT @80sbaby...</td>\n",
              "    </tr>\n",
              "    <tr>\n",
              "      <th>3</th>\n",
              "      <td>3</td>\n",
              "      <td>3</td>\n",
              "      <td>0</td>\n",
              "      <td>2</td>\n",
              "      <td>1</td>\n",
              "      <td>1</td>\n",
              "      <td>!!!!!!!!! RT @C_G_Anderson: @viva_based she lo...</td>\n",
              "    </tr>\n",
              "    <tr>\n",
              "      <th>4</th>\n",
              "      <td>4</td>\n",
              "      <td>6</td>\n",
              "      <td>0</td>\n",
              "      <td>6</td>\n",
              "      <td>0</td>\n",
              "      <td>1</td>\n",
              "      <td>!!!!!!!!!!!!! RT @ShenikaRoberts: The shit you...</td>\n",
              "    </tr>\n",
              "  </tbody>\n",
              "</table>\n",
              "</div>\n",
              "    <div class=\"colab-df-buttons\">\n",
              "\n",
              "  <div class=\"colab-df-container\">\n",
              "    <button class=\"colab-df-convert\" onclick=\"convertToInteractive('df-6b2ed1d3-5435-474e-ba9b-fff5bfdb21ff')\"\n",
              "            title=\"Convert this dataframe to an interactive table.\"\n",
              "            style=\"display:none;\">\n",
              "\n",
              "  <svg xmlns=\"http://www.w3.org/2000/svg\" height=\"24px\" viewBox=\"0 -960 960 960\">\n",
              "    <path d=\"M120-120v-720h720v720H120Zm60-500h600v-160H180v160Zm220 220h160v-160H400v160Zm0 220h160v-160H400v160ZM180-400h160v-160H180v160Zm440 0h160v-160H620v160ZM180-180h160v-160H180v160Zm440 0h160v-160H620v160Z\"/>\n",
              "  </svg>\n",
              "    </button>\n",
              "\n",
              "  <style>\n",
              "    .colab-df-container {\n",
              "      display:flex;\n",
              "      gap: 12px;\n",
              "    }\n",
              "\n",
              "    .colab-df-convert {\n",
              "      background-color: #E8F0FE;\n",
              "      border: none;\n",
              "      border-radius: 50%;\n",
              "      cursor: pointer;\n",
              "      display: none;\n",
              "      fill: #1967D2;\n",
              "      height: 32px;\n",
              "      padding: 0 0 0 0;\n",
              "      width: 32px;\n",
              "    }\n",
              "\n",
              "    .colab-df-convert:hover {\n",
              "      background-color: #E2EBFA;\n",
              "      box-shadow: 0px 1px 2px rgba(60, 64, 67, 0.3), 0px 1px 3px 1px rgba(60, 64, 67, 0.15);\n",
              "      fill: #174EA6;\n",
              "    }\n",
              "\n",
              "    .colab-df-buttons div {\n",
              "      margin-bottom: 4px;\n",
              "    }\n",
              "\n",
              "    [theme=dark] .colab-df-convert {\n",
              "      background-color: #3B4455;\n",
              "      fill: #D2E3FC;\n",
              "    }\n",
              "\n",
              "    [theme=dark] .colab-df-convert:hover {\n",
              "      background-color: #434B5C;\n",
              "      box-shadow: 0px 1px 3px 1px rgba(0, 0, 0, 0.15);\n",
              "      filter: drop-shadow(0px 1px 2px rgba(0, 0, 0, 0.3));\n",
              "      fill: #FFFFFF;\n",
              "    }\n",
              "  </style>\n",
              "\n",
              "    <script>\n",
              "      const buttonEl =\n",
              "        document.querySelector('#df-6b2ed1d3-5435-474e-ba9b-fff5bfdb21ff button.colab-df-convert');\n",
              "      buttonEl.style.display =\n",
              "        google.colab.kernel.accessAllowed ? 'block' : 'none';\n",
              "\n",
              "      async function convertToInteractive(key) {\n",
              "        const element = document.querySelector('#df-6b2ed1d3-5435-474e-ba9b-fff5bfdb21ff');\n",
              "        const dataTable =\n",
              "          await google.colab.kernel.invokeFunction('convertToInteractive',\n",
              "                                                    [key], {});\n",
              "        if (!dataTable) return;\n",
              "\n",
              "        const docLinkHtml = 'Like what you see? Visit the ' +\n",
              "          '<a target=\"_blank\" href=https://colab.research.google.com/notebooks/data_table.ipynb>data table notebook</a>'\n",
              "          + ' to learn more about interactive tables.';\n",
              "        element.innerHTML = '';\n",
              "        dataTable['output_type'] = 'display_data';\n",
              "        await google.colab.output.renderOutput(dataTable, element);\n",
              "        const docLink = document.createElement('div');\n",
              "        docLink.innerHTML = docLinkHtml;\n",
              "        element.appendChild(docLink);\n",
              "      }\n",
              "    </script>\n",
              "  </div>\n",
              "\n",
              "\n",
              "<div id=\"df-0f62e2a4-1b8b-4d8a-a349-2fd83be83364\">\n",
              "  <button class=\"colab-df-quickchart\" onclick=\"quickchart('df-0f62e2a4-1b8b-4d8a-a349-2fd83be83364')\"\n",
              "            title=\"Suggest charts\"\n",
              "            style=\"display:none;\">\n",
              "\n",
              "<svg xmlns=\"http://www.w3.org/2000/svg\" height=\"24px\"viewBox=\"0 0 24 24\"\n",
              "     width=\"24px\">\n",
              "    <g>\n",
              "        <path d=\"M19 3H5c-1.1 0-2 .9-2 2v14c0 1.1.9 2 2 2h14c1.1 0 2-.9 2-2V5c0-1.1-.9-2-2-2zM9 17H7v-7h2v7zm4 0h-2V7h2v10zm4 0h-2v-4h2v4z\"/>\n",
              "    </g>\n",
              "</svg>\n",
              "  </button>\n",
              "\n",
              "<style>\n",
              "  .colab-df-quickchart {\n",
              "      --bg-color: #E8F0FE;\n",
              "      --fill-color: #1967D2;\n",
              "      --hover-bg-color: #E2EBFA;\n",
              "      --hover-fill-color: #174EA6;\n",
              "      --disabled-fill-color: #AAA;\n",
              "      --disabled-bg-color: #DDD;\n",
              "  }\n",
              "\n",
              "  [theme=dark] .colab-df-quickchart {\n",
              "      --bg-color: #3B4455;\n",
              "      --fill-color: #D2E3FC;\n",
              "      --hover-bg-color: #434B5C;\n",
              "      --hover-fill-color: #FFFFFF;\n",
              "      --disabled-bg-color: #3B4455;\n",
              "      --disabled-fill-color: #666;\n",
              "  }\n",
              "\n",
              "  .colab-df-quickchart {\n",
              "    background-color: var(--bg-color);\n",
              "    border: none;\n",
              "    border-radius: 50%;\n",
              "    cursor: pointer;\n",
              "    display: none;\n",
              "    fill: var(--fill-color);\n",
              "    height: 32px;\n",
              "    padding: 0;\n",
              "    width: 32px;\n",
              "  }\n",
              "\n",
              "  .colab-df-quickchart:hover {\n",
              "    background-color: var(--hover-bg-color);\n",
              "    box-shadow: 0 1px 2px rgba(60, 64, 67, 0.3), 0 1px 3px 1px rgba(60, 64, 67, 0.15);\n",
              "    fill: var(--button-hover-fill-color);\n",
              "  }\n",
              "\n",
              "  .colab-df-quickchart-complete:disabled,\n",
              "  .colab-df-quickchart-complete:disabled:hover {\n",
              "    background-color: var(--disabled-bg-color);\n",
              "    fill: var(--disabled-fill-color);\n",
              "    box-shadow: none;\n",
              "  }\n",
              "\n",
              "  .colab-df-spinner {\n",
              "    border: 2px solid var(--fill-color);\n",
              "    border-color: transparent;\n",
              "    border-bottom-color: var(--fill-color);\n",
              "    animation:\n",
              "      spin 1s steps(1) infinite;\n",
              "  }\n",
              "\n",
              "  @keyframes spin {\n",
              "    0% {\n",
              "      border-color: transparent;\n",
              "      border-bottom-color: var(--fill-color);\n",
              "      border-left-color: var(--fill-color);\n",
              "    }\n",
              "    20% {\n",
              "      border-color: transparent;\n",
              "      border-left-color: var(--fill-color);\n",
              "      border-top-color: var(--fill-color);\n",
              "    }\n",
              "    30% {\n",
              "      border-color: transparent;\n",
              "      border-left-color: var(--fill-color);\n",
              "      border-top-color: var(--fill-color);\n",
              "      border-right-color: var(--fill-color);\n",
              "    }\n",
              "    40% {\n",
              "      border-color: transparent;\n",
              "      border-right-color: var(--fill-color);\n",
              "      border-top-color: var(--fill-color);\n",
              "    }\n",
              "    60% {\n",
              "      border-color: transparent;\n",
              "      border-right-color: var(--fill-color);\n",
              "    }\n",
              "    80% {\n",
              "      border-color: transparent;\n",
              "      border-right-color: var(--fill-color);\n",
              "      border-bottom-color: var(--fill-color);\n",
              "    }\n",
              "    90% {\n",
              "      border-color: transparent;\n",
              "      border-bottom-color: var(--fill-color);\n",
              "    }\n",
              "  }\n",
              "</style>\n",
              "\n",
              "  <script>\n",
              "    async function quickchart(key) {\n",
              "      const quickchartButtonEl =\n",
              "        document.querySelector('#' + key + ' button');\n",
              "      quickchartButtonEl.disabled = true;  // To prevent multiple clicks.\n",
              "      quickchartButtonEl.classList.add('colab-df-spinner');\n",
              "      try {\n",
              "        const charts = await google.colab.kernel.invokeFunction(\n",
              "            'suggestCharts', [key], {});\n",
              "      } catch (error) {\n",
              "        console.error('Error during call to suggestCharts:', error);\n",
              "      }\n",
              "      quickchartButtonEl.classList.remove('colab-df-spinner');\n",
              "      quickchartButtonEl.classList.add('colab-df-quickchart-complete');\n",
              "    }\n",
              "    (() => {\n",
              "      let quickchartButtonEl =\n",
              "        document.querySelector('#df-0f62e2a4-1b8b-4d8a-a349-2fd83be83364 button');\n",
              "      quickchartButtonEl.style.display =\n",
              "        google.colab.kernel.accessAllowed ? 'block' : 'none';\n",
              "    })();\n",
              "  </script>\n",
              "</div>\n",
              "\n",
              "    </div>\n",
              "  </div>\n"
            ],
            "text/plain": [
              "   Unnamed: 0  count  hate_speech  offensive_language  neither  class  \\\n",
              "0           0      3            0                   0        3      2   \n",
              "1           1      3            0                   3        0      1   \n",
              "2           2      3            0                   3        0      1   \n",
              "3           3      3            0                   2        1      1   \n",
              "4           4      6            0                   6        0      1   \n",
              "\n",
              "                                               tweet  \n",
              "0  !!! RT @mayasolovely: As a woman you shouldn't...  \n",
              "1  !!!!! RT @mleew17: boy dats cold...tyga dwn ba...  \n",
              "2  !!!!!!! RT @UrKindOfBrand Dawg!!!! RT @80sbaby...  \n",
              "3  !!!!!!!!! RT @C_G_Anderson: @viva_based she lo...  \n",
              "4  !!!!!!!!!!!!! RT @ShenikaRoberts: The shit you...  "
            ]
          },
          "execution_count": 4,
          "metadata": {},
          "output_type": "execute_result"
        }
      ],
      "source": [
        "dataset.head()"
      ]
    },
    {
      "cell_type": "code",
      "source": [],
      "metadata": {
        "id": "2j_J8Z77yXGt"
      },
      "execution_count": null,
      "outputs": []
    },
    {
      "cell_type": "code",
      "execution_count": null,
      "metadata": {
        "colab": {
          "base_uri": "https://localhost:8080/",
          "height": 293
        },
        "id": "uub4eMWwh_AL",
        "outputId": "8ed1a4b3-f5f8-4984-cab7-d6e51f914e6f"
      },
      "outputs": [
        {
          "data": {
            "application/vnd.google.colaboratory.intrinsic+json": {
              "summary": "{\n  \"name\": \"dataset\",\n  \"rows\": 5,\n  \"fields\": [\n    {\n      \"column\": \"Unnamed: 0\",\n      \"properties\": {\n        \"dtype\": \"number\",\n        \"std\": 2,\n        \"min\": 25291,\n        \"max\": 25296,\n        \"num_unique_values\": 5,\n        \"samples\": [\n          25292,\n          25296,\n          25294\n        ],\n        \"semantic_type\": \"\",\n        \"description\": \"\"\n      }\n    },\n    {\n      \"column\": \"count\",\n      \"properties\": {\n        \"dtype\": \"number\",\n        \"std\": 1,\n        \"min\": 3,\n        \"max\": 6,\n        \"num_unique_values\": 2,\n        \"samples\": [\n          6,\n          3\n        ],\n        \"semantic_type\": \"\",\n        \"description\": \"\"\n      }\n    },\n    {\n      \"column\": \"hate_speech\",\n      \"properties\": {\n        \"dtype\": \"number\",\n        \"std\": 0,\n        \"min\": 0,\n        \"max\": 0,\n        \"num_unique_values\": 1,\n        \"samples\": [\n          0\n        ],\n        \"semantic_type\": \"\",\n        \"description\": \"\"\n      }\n    },\n    {\n      \"column\": \"offensive_language\",\n      \"properties\": {\n        \"dtype\": \"number\",\n        \"std\": 2,\n        \"min\": 0,\n        \"max\": 6,\n        \"num_unique_values\": 5,\n        \"samples\": [\n          1\n        ],\n        \"semantic_type\": \"\",\n        \"description\": \"\"\n      }\n    },\n    {\n      \"column\": \"neither\",\n      \"properties\": {\n        \"dtype\": \"number\",\n        \"std\": 1,\n        \"min\": 0,\n        \"max\": 3,\n        \"num_unique_values\": 4,\n        \"samples\": [\n          2\n        ],\n        \"semantic_type\": \"\",\n        \"description\": \"\"\n      }\n    },\n    {\n      \"column\": \"class\",\n      \"properties\": {\n        \"dtype\": \"number\",\n        \"std\": 0,\n        \"min\": 1,\n        \"max\": 2,\n        \"num_unique_values\": 2,\n        \"samples\": [\n          2\n        ],\n        \"semantic_type\": \"\",\n        \"description\": \"\"\n      }\n    },\n    {\n      \"column\": \"tweet\",\n      \"properties\": {\n        \"dtype\": \"string\",\n        \"num_unique_values\": 5,\n        \"samples\": [\n          \"you've gone and broke the wrong heart baby, and drove me redneck crazy\"\n        ],\n        \"semantic_type\": \"\",\n        \"description\": \"\"\n      }\n    }\n  ]\n}",
              "type": "dataframe"
            },
            "text/html": [
              "\n",
              "  <div id=\"df-16c0bdaa-609e-4c05-b28b-b2b94c56229b\" class=\"colab-df-container\">\n",
              "    <div>\n",
              "<style scoped>\n",
              "    .dataframe tbody tr th:only-of-type {\n",
              "        vertical-align: middle;\n",
              "    }\n",
              "\n",
              "    .dataframe tbody tr th {\n",
              "        vertical-align: top;\n",
              "    }\n",
              "\n",
              "    .dataframe thead th {\n",
              "        text-align: right;\n",
              "    }\n",
              "</style>\n",
              "<table border=\"1\" class=\"dataframe\">\n",
              "  <thead>\n",
              "    <tr style=\"text-align: right;\">\n",
              "      <th></th>\n",
              "      <th>Unnamed: 0</th>\n",
              "      <th>count</th>\n",
              "      <th>hate_speech</th>\n",
              "      <th>offensive_language</th>\n",
              "      <th>neither</th>\n",
              "      <th>class</th>\n",
              "      <th>tweet</th>\n",
              "    </tr>\n",
              "  </thead>\n",
              "  <tbody>\n",
              "    <tr>\n",
              "      <th>24778</th>\n",
              "      <td>25291</td>\n",
              "      <td>3</td>\n",
              "      <td>0</td>\n",
              "      <td>2</td>\n",
              "      <td>1</td>\n",
              "      <td>1</td>\n",
              "      <td>you's a muthaf***in lie &amp;#8220;@LifeAsKing: @2...</td>\n",
              "    </tr>\n",
              "    <tr>\n",
              "      <th>24779</th>\n",
              "      <td>25292</td>\n",
              "      <td>3</td>\n",
              "      <td>0</td>\n",
              "      <td>1</td>\n",
              "      <td>2</td>\n",
              "      <td>2</td>\n",
              "      <td>you've gone and broke the wrong heart baby, an...</td>\n",
              "    </tr>\n",
              "    <tr>\n",
              "      <th>24780</th>\n",
              "      <td>25294</td>\n",
              "      <td>3</td>\n",
              "      <td>0</td>\n",
              "      <td>3</td>\n",
              "      <td>0</td>\n",
              "      <td>1</td>\n",
              "      <td>young buck wanna eat!!.. dat nigguh like I ain...</td>\n",
              "    </tr>\n",
              "    <tr>\n",
              "      <th>24781</th>\n",
              "      <td>25295</td>\n",
              "      <td>6</td>\n",
              "      <td>0</td>\n",
              "      <td>6</td>\n",
              "      <td>0</td>\n",
              "      <td>1</td>\n",
              "      <td>youu got wild bitches tellin you lies</td>\n",
              "    </tr>\n",
              "    <tr>\n",
              "      <th>24782</th>\n",
              "      <td>25296</td>\n",
              "      <td>3</td>\n",
              "      <td>0</td>\n",
              "      <td>0</td>\n",
              "      <td>3</td>\n",
              "      <td>2</td>\n",
              "      <td>~~Ruffled | Ntac Eileen Dahlia - Beautiful col...</td>\n",
              "    </tr>\n",
              "  </tbody>\n",
              "</table>\n",
              "</div>\n",
              "    <div class=\"colab-df-buttons\">\n",
              "\n",
              "  <div class=\"colab-df-container\">\n",
              "    <button class=\"colab-df-convert\" onclick=\"convertToInteractive('df-16c0bdaa-609e-4c05-b28b-b2b94c56229b')\"\n",
              "            title=\"Convert this dataframe to an interactive table.\"\n",
              "            style=\"display:none;\">\n",
              "\n",
              "  <svg xmlns=\"http://www.w3.org/2000/svg\" height=\"24px\" viewBox=\"0 -960 960 960\">\n",
              "    <path d=\"M120-120v-720h720v720H120Zm60-500h600v-160H180v160Zm220 220h160v-160H400v160Zm0 220h160v-160H400v160ZM180-400h160v-160H180v160Zm440 0h160v-160H620v160ZM180-180h160v-160H180v160Zm440 0h160v-160H620v160Z\"/>\n",
              "  </svg>\n",
              "    </button>\n",
              "\n",
              "  <style>\n",
              "    .colab-df-container {\n",
              "      display:flex;\n",
              "      gap: 12px;\n",
              "    }\n",
              "\n",
              "    .colab-df-convert {\n",
              "      background-color: #E8F0FE;\n",
              "      border: none;\n",
              "      border-radius: 50%;\n",
              "      cursor: pointer;\n",
              "      display: none;\n",
              "      fill: #1967D2;\n",
              "      height: 32px;\n",
              "      padding: 0 0 0 0;\n",
              "      width: 32px;\n",
              "    }\n",
              "\n",
              "    .colab-df-convert:hover {\n",
              "      background-color: #E2EBFA;\n",
              "      box-shadow: 0px 1px 2px rgba(60, 64, 67, 0.3), 0px 1px 3px 1px rgba(60, 64, 67, 0.15);\n",
              "      fill: #174EA6;\n",
              "    }\n",
              "\n",
              "    .colab-df-buttons div {\n",
              "      margin-bottom: 4px;\n",
              "    }\n",
              "\n",
              "    [theme=dark] .colab-df-convert {\n",
              "      background-color: #3B4455;\n",
              "      fill: #D2E3FC;\n",
              "    }\n",
              "\n",
              "    [theme=dark] .colab-df-convert:hover {\n",
              "      background-color: #434B5C;\n",
              "      box-shadow: 0px 1px 3px 1px rgba(0, 0, 0, 0.15);\n",
              "      filter: drop-shadow(0px 1px 2px rgba(0, 0, 0, 0.3));\n",
              "      fill: #FFFFFF;\n",
              "    }\n",
              "  </style>\n",
              "\n",
              "    <script>\n",
              "      const buttonEl =\n",
              "        document.querySelector('#df-16c0bdaa-609e-4c05-b28b-b2b94c56229b button.colab-df-convert');\n",
              "      buttonEl.style.display =\n",
              "        google.colab.kernel.accessAllowed ? 'block' : 'none';\n",
              "\n",
              "      async function convertToInteractive(key) {\n",
              "        const element = document.querySelector('#df-16c0bdaa-609e-4c05-b28b-b2b94c56229b');\n",
              "        const dataTable =\n",
              "          await google.colab.kernel.invokeFunction('convertToInteractive',\n",
              "                                                    [key], {});\n",
              "        if (!dataTable) return;\n",
              "\n",
              "        const docLinkHtml = 'Like what you see? Visit the ' +\n",
              "          '<a target=\"_blank\" href=https://colab.research.google.com/notebooks/data_table.ipynb>data table notebook</a>'\n",
              "          + ' to learn more about interactive tables.';\n",
              "        element.innerHTML = '';\n",
              "        dataTable['output_type'] = 'display_data';\n",
              "        await google.colab.output.renderOutput(dataTable, element);\n",
              "        const docLink = document.createElement('div');\n",
              "        docLink.innerHTML = docLinkHtml;\n",
              "        element.appendChild(docLink);\n",
              "      }\n",
              "    </script>\n",
              "  </div>\n",
              "\n",
              "\n",
              "<div id=\"df-78515f87-2fa9-403f-ac26-0123d50248d7\">\n",
              "  <button class=\"colab-df-quickchart\" onclick=\"quickchart('df-78515f87-2fa9-403f-ac26-0123d50248d7')\"\n",
              "            title=\"Suggest charts\"\n",
              "            style=\"display:none;\">\n",
              "\n",
              "<svg xmlns=\"http://www.w3.org/2000/svg\" height=\"24px\"viewBox=\"0 0 24 24\"\n",
              "     width=\"24px\">\n",
              "    <g>\n",
              "        <path d=\"M19 3H5c-1.1 0-2 .9-2 2v14c0 1.1.9 2 2 2h14c1.1 0 2-.9 2-2V5c0-1.1-.9-2-2-2zM9 17H7v-7h2v7zm4 0h-2V7h2v10zm4 0h-2v-4h2v4z\"/>\n",
              "    </g>\n",
              "</svg>\n",
              "  </button>\n",
              "\n",
              "<style>\n",
              "  .colab-df-quickchart {\n",
              "      --bg-color: #E8F0FE;\n",
              "      --fill-color: #1967D2;\n",
              "      --hover-bg-color: #E2EBFA;\n",
              "      --hover-fill-color: #174EA6;\n",
              "      --disabled-fill-color: #AAA;\n",
              "      --disabled-bg-color: #DDD;\n",
              "  }\n",
              "\n",
              "  [theme=dark] .colab-df-quickchart {\n",
              "      --bg-color: #3B4455;\n",
              "      --fill-color: #D2E3FC;\n",
              "      --hover-bg-color: #434B5C;\n",
              "      --hover-fill-color: #FFFFFF;\n",
              "      --disabled-bg-color: #3B4455;\n",
              "      --disabled-fill-color: #666;\n",
              "  }\n",
              "\n",
              "  .colab-df-quickchart {\n",
              "    background-color: var(--bg-color);\n",
              "    border: none;\n",
              "    border-radius: 50%;\n",
              "    cursor: pointer;\n",
              "    display: none;\n",
              "    fill: var(--fill-color);\n",
              "    height: 32px;\n",
              "    padding: 0;\n",
              "    width: 32px;\n",
              "  }\n",
              "\n",
              "  .colab-df-quickchart:hover {\n",
              "    background-color: var(--hover-bg-color);\n",
              "    box-shadow: 0 1px 2px rgba(60, 64, 67, 0.3), 0 1px 3px 1px rgba(60, 64, 67, 0.15);\n",
              "    fill: var(--button-hover-fill-color);\n",
              "  }\n",
              "\n",
              "  .colab-df-quickchart-complete:disabled,\n",
              "  .colab-df-quickchart-complete:disabled:hover {\n",
              "    background-color: var(--disabled-bg-color);\n",
              "    fill: var(--disabled-fill-color);\n",
              "    box-shadow: none;\n",
              "  }\n",
              "\n",
              "  .colab-df-spinner {\n",
              "    border: 2px solid var(--fill-color);\n",
              "    border-color: transparent;\n",
              "    border-bottom-color: var(--fill-color);\n",
              "    animation:\n",
              "      spin 1s steps(1) infinite;\n",
              "  }\n",
              "\n",
              "  @keyframes spin {\n",
              "    0% {\n",
              "      border-color: transparent;\n",
              "      border-bottom-color: var(--fill-color);\n",
              "      border-left-color: var(--fill-color);\n",
              "    }\n",
              "    20% {\n",
              "      border-color: transparent;\n",
              "      border-left-color: var(--fill-color);\n",
              "      border-top-color: var(--fill-color);\n",
              "    }\n",
              "    30% {\n",
              "      border-color: transparent;\n",
              "      border-left-color: var(--fill-color);\n",
              "      border-top-color: var(--fill-color);\n",
              "      border-right-color: var(--fill-color);\n",
              "    }\n",
              "    40% {\n",
              "      border-color: transparent;\n",
              "      border-right-color: var(--fill-color);\n",
              "      border-top-color: var(--fill-color);\n",
              "    }\n",
              "    60% {\n",
              "      border-color: transparent;\n",
              "      border-right-color: var(--fill-color);\n",
              "    }\n",
              "    80% {\n",
              "      border-color: transparent;\n",
              "      border-right-color: var(--fill-color);\n",
              "      border-bottom-color: var(--fill-color);\n",
              "    }\n",
              "    90% {\n",
              "      border-color: transparent;\n",
              "      border-bottom-color: var(--fill-color);\n",
              "    }\n",
              "  }\n",
              "</style>\n",
              "\n",
              "  <script>\n",
              "    async function quickchart(key) {\n",
              "      const quickchartButtonEl =\n",
              "        document.querySelector('#' + key + ' button');\n",
              "      quickchartButtonEl.disabled = true;  // To prevent multiple clicks.\n",
              "      quickchartButtonEl.classList.add('colab-df-spinner');\n",
              "      try {\n",
              "        const charts = await google.colab.kernel.invokeFunction(\n",
              "            'suggestCharts', [key], {});\n",
              "      } catch (error) {\n",
              "        console.error('Error during call to suggestCharts:', error);\n",
              "      }\n",
              "      quickchartButtonEl.classList.remove('colab-df-spinner');\n",
              "      quickchartButtonEl.classList.add('colab-df-quickchart-complete');\n",
              "    }\n",
              "    (() => {\n",
              "      let quickchartButtonEl =\n",
              "        document.querySelector('#df-78515f87-2fa9-403f-ac26-0123d50248d7 button');\n",
              "      quickchartButtonEl.style.display =\n",
              "        google.colab.kernel.accessAllowed ? 'block' : 'none';\n",
              "    })();\n",
              "  </script>\n",
              "</div>\n",
              "\n",
              "    </div>\n",
              "  </div>\n"
            ],
            "text/plain": [
              "       Unnamed: 0  count  hate_speech  offensive_language  neither  class  \\\n",
              "24778       25291      3            0                   2        1      1   \n",
              "24779       25292      3            0                   1        2      2   \n",
              "24780       25294      3            0                   3        0      1   \n",
              "24781       25295      6            0                   6        0      1   \n",
              "24782       25296      3            0                   0        3      2   \n",
              "\n",
              "                                                   tweet  \n",
              "24778  you's a muthaf***in lie &#8220;@LifeAsKing: @2...  \n",
              "24779  you've gone and broke the wrong heart baby, an...  \n",
              "24780  young buck wanna eat!!.. dat nigguh like I ain...  \n",
              "24781              youu got wild bitches tellin you lies  \n",
              "24782  ~~Ruffled | Ntac Eileen Dahlia - Beautiful col...  "
            ]
          },
          "execution_count": 5,
          "metadata": {},
          "output_type": "execute_result"
        }
      ],
      "source": [
        "dataset.tail()\n"
      ]
    },
    {
      "cell_type": "code",
      "execution_count": null,
      "metadata": {
        "id": "PXAjRf3iQ74a"
      },
      "outputs": [],
      "source": []
    },
    {
      "cell_type": "code",
      "execution_count": null,
      "metadata": {
        "colab": {
          "base_uri": "https://localhost:8080/",
          "height": 186
        },
        "id": "Q67V7FoPiIsv",
        "outputId": "cedf6cac-ee85-49f3-dd29-71058fb09d0f"
      },
      "outputs": [
        {
          "data": {
            "text/html": [
              "<div style=\"max-width:800px; border: 1px solid var(--colab-border-color);\"><style>\n",
              "      pre.function-repr-contents {\n",
              "        overflow-x: auto;\n",
              "        padding: 8px 12px;\n",
              "        max-height: 500px;\n",
              "      }\n",
              "\n",
              "      pre.function-repr-contents.function-repr-contents-collapsed {\n",
              "        cursor: pointer;\n",
              "        max-height: 100px;\n",
              "      }\n",
              "    </style>\n",
              "    <pre style=\"white-space: initial; background:\n",
              "         var(--colab-secondary-surface-color); padding: 8px 12px;\n",
              "         border-bottom: 1px solid var(--colab-border-color);\"><b>pandas.core.series.Series.skew</b><br/>def skew(axis: Axis | None=0, skipna: bool=True, numeric_only: bool=False, **kwargs)</pre><pre class=\"function-repr-contents function-repr-contents-collapsed\" style=\"\"><a class=\"filepath\" style=\"display:none\" href=\"#\">/usr/local/lib/python3.10/dist-packages/pandas/core/series.py</a>Return unbiased skew over requested axis.\n",
              "\n",
              "Normalized by N-1.\n",
              "\n",
              "Parameters\n",
              "----------\n",
              "axis : {index (0)}\n",
              "    Axis for the function to be applied on.\n",
              "    For `Series` this parameter is unused and defaults to 0.\n",
              "\n",
              "    For DataFrames, specifying ``axis=None`` will apply the aggregation\n",
              "    across both axes.\n",
              "\n",
              "    .. versionadded:: 2.0.0\n",
              "\n",
              "skipna : bool, default True\n",
              "    Exclude NA/null values when computing the result.\n",
              "numeric_only : bool, default False\n",
              "    Include only float, int, boolean columns. Not implemented for Series.\n",
              "\n",
              "**kwargs\n",
              "    Additional keyword arguments to be passed to the function.\n",
              "\n",
              "Returns\n",
              "-------\n",
              "scalar or scalar\n",
              "\n",
              "            Examples\n",
              "            --------\n",
              "            &gt;&gt;&gt; s = pd.Series([1, 2, 3])\n",
              "            &gt;&gt;&gt; s.skew()\n",
              "            0.0\n",
              "\n",
              "            With a DataFrame\n",
              "\n",
              "            &gt;&gt;&gt; df = pd.DataFrame({&#x27;a&#x27;: [1, 2, 3], &#x27;b&#x27;: [2, 3, 4], &#x27;c&#x27;: [1, 3, 5]},\n",
              "            ...                  index=[&#x27;tiger&#x27;, &#x27;zebra&#x27;, &#x27;cow&#x27;])\n",
              "            &gt;&gt;&gt; df\n",
              "                    a   b   c\n",
              "            tiger   1   2   1\n",
              "            zebra   2   3   3\n",
              "            cow     3   4   5\n",
              "            &gt;&gt;&gt; df.skew()\n",
              "            a   0.0\n",
              "            b   0.0\n",
              "            c   0.0\n",
              "            dtype: float64\n",
              "\n",
              "            Using axis=1\n",
              "\n",
              "            &gt;&gt;&gt; df.skew(axis=1)\n",
              "            tiger   1.732051\n",
              "            zebra  -1.732051\n",
              "            cow     0.000000\n",
              "            dtype: float64\n",
              "\n",
              "            In this case, `numeric_only` should be set to `True` to avoid\n",
              "            getting an error.\n",
              "\n",
              "            &gt;&gt;&gt; df = pd.DataFrame({&#x27;a&#x27;: [1, 2, 3], &#x27;b&#x27;: [&#x27;T&#x27;, &#x27;Z&#x27;, &#x27;X&#x27;]},\n",
              "            ...                  index=[&#x27;tiger&#x27;, &#x27;zebra&#x27;, &#x27;cow&#x27;])\n",
              "            &gt;&gt;&gt; df.skew(numeric_only=True)\n",
              "            a   0.0\n",
              "            dtype: float64</pre>\n",
              "      <script>\n",
              "      if (google.colab.kernel.accessAllowed && google.colab.files && google.colab.files.view) {\n",
              "        for (const element of document.querySelectorAll('.filepath')) {\n",
              "          element.style.display = 'block'\n",
              "          element.onclick = (event) => {\n",
              "            event.preventDefault();\n",
              "            event.stopPropagation();\n",
              "            google.colab.files.view(element.textContent, 6270);\n",
              "          };\n",
              "        }\n",
              "      }\n",
              "      for (const element of document.querySelectorAll('.function-repr-contents')) {\n",
              "        element.onclick = (event) => {\n",
              "          event.preventDefault();\n",
              "          event.stopPropagation();\n",
              "          element.classList.toggle('function-repr-contents-collapsed');\n",
              "        };\n",
              "      }\n",
              "      </script>\n",
              "      </div>"
            ],
            "text/plain": [
              "<bound method Series.skew of 0        0\n",
              "1        0\n",
              "2        0\n",
              "3        0\n",
              "4        0\n",
              "        ..\n",
              "24778    0\n",
              "24779    0\n",
              "24780    0\n",
              "24781    0\n",
              "24782    0\n",
              "Name: hate_speech, Length: 24783, dtype: int64>"
            ]
          },
          "execution_count": 7,
          "metadata": {},
          "output_type": "execute_result"
        }
      ],
      "source": [
        "dataset[\"hate_speech\"].skew"
      ]
    },
    {
      "cell_type": "code",
      "execution_count": null,
      "metadata": {
        "colab": {
          "base_uri": "https://localhost:8080/"
        },
        "id": "GTUQT4PSinSz",
        "outputId": "54422690-0363-4480-da4d-5f7075c75a0a"
      },
      "outputs": [
        {
          "data": {
            "text/plain": [
              "0.28051486906347095"
            ]
          },
          "execution_count": 9,
          "metadata": {},
          "output_type": "execute_result"
        }
      ],
      "source": [
        "dataset[\"hate_speech\"].mean()"
      ]
    },
    {
      "cell_type": "code",
      "execution_count": null,
      "metadata": {
        "colab": {
          "base_uri": "https://localhost:8080/"
        },
        "id": "qufgimEvisr2",
        "outputId": "0bca3bdd-a44f-4ad6-b764-b646fd7a7fe4"
      },
      "outputs": [
        {
          "data": {
            "text/plain": [
              "0.0"
            ]
          },
          "execution_count": 10,
          "metadata": {},
          "output_type": "execute_result"
        }
      ],
      "source": [
        "dataset[\"hate_speech\"].median()"
      ]
    },
    {
      "cell_type": "code",
      "execution_count": null,
      "metadata": {
        "colab": {
          "base_uri": "https://localhost:8080/",
          "height": 115
        },
        "id": "rE_MyQAyi1kQ",
        "outputId": "5398d98d-3348-4c88-f047-a45715972a15"
      },
      "outputs": [
        {
          "data": {
            "text/html": [
              "<div>\n",
              "<style scoped>\n",
              "    .dataframe tbody tr th:only-of-type {\n",
              "        vertical-align: middle;\n",
              "    }\n",
              "\n",
              "    .dataframe tbody tr th {\n",
              "        vertical-align: top;\n",
              "    }\n",
              "\n",
              "    .dataframe thead th {\n",
              "        text-align: right;\n",
              "    }\n",
              "</style>\n",
              "<table border=\"1\" class=\"dataframe\">\n",
              "  <thead>\n",
              "    <tr style=\"text-align: right;\">\n",
              "      <th></th>\n",
              "      <th>hate_speech</th>\n",
              "    </tr>\n",
              "  </thead>\n",
              "  <tbody>\n",
              "    <tr>\n",
              "      <th>0</th>\n",
              "      <td>0</td>\n",
              "    </tr>\n",
              "  </tbody>\n",
              "</table>\n",
              "</div><br><label><b>dtype:</b> int64</label>"
            ],
            "text/plain": [
              "0    0\n",
              "Name: hate_speech, dtype: int64"
            ]
          },
          "execution_count": 11,
          "metadata": {},
          "output_type": "execute_result"
        }
      ],
      "source": [
        "dataset[\"hate_speech\"].mode()"
      ]
    },
    {
      "cell_type": "code",
      "execution_count": null,
      "metadata": {
        "colab": {
          "base_uri": "https://localhost:8080/"
        },
        "id": "_ImIpfdfj5fF",
        "outputId": "5db32b1e-6f1a-4324-9792-fba212cffc75"
      },
      "outputs": [
        {
          "data": {
            "text/plain": [
              "0.6318510592276959"
            ]
          },
          "execution_count": 12,
          "metadata": {},
          "output_type": "execute_result"
        }
      ],
      "source": [
        "dataset[\"hate_speech\"].std()"
      ]
    },
    {
      "cell_type": "code",
      "execution_count": null,
      "metadata": {
        "colab": {
          "base_uri": "https://localhost:8080/"
        },
        "id": "2TSxb-V7kLWF",
        "outputId": "4f586d20-667b-4098-b44d-27923f91a7a2"
      },
      "outputs": [
        {
          "name": "stdout",
          "output_type": "stream",
          "text": [
            "<class 'pandas.core.frame.DataFrame'>\n",
            "RangeIndex: 24783 entries, 0 to 24782\n",
            "Data columns (total 7 columns):\n",
            " #   Column              Non-Null Count  Dtype \n",
            "---  ------              --------------  ----- \n",
            " 0   Unnamed: 0          24783 non-null  int64 \n",
            " 1   count               24783 non-null  int64 \n",
            " 2   hate_speech         24783 non-null  int64 \n",
            " 3   offensive_language  24783 non-null  int64 \n",
            " 4   neither             24783 non-null  int64 \n",
            " 5   class               24783 non-null  int64 \n",
            " 6   tweet               24783 non-null  object\n",
            "dtypes: int64(6), object(1)\n",
            "memory usage: 1.3+ MB\n"
          ]
        }
      ],
      "source": [
        "dataset.info()"
      ]
    },
    {
      "cell_type": "code",
      "execution_count": null,
      "metadata": {
        "colab": {
          "base_uri": "https://localhost:8080/",
          "height": 300
        },
        "id": "DBOyrYZqkU6H",
        "outputId": "fb1bec5d-c618-41db-8d2e-c544b26f84e4"
      },
      "outputs": [
        {
          "data": {
            "application/vnd.google.colaboratory.intrinsic+json": {
              "summary": "{\n  \"name\": \"dataset\",\n  \"rows\": 8,\n  \"fields\": [\n    {\n      \"column\": \"Unnamed: 0\",\n      \"properties\": {\n        \"dtype\": \"number\",\n        \"std\": 9019.443540678876,\n        \"min\": 0.0,\n        \"max\": 25296.0,\n        \"num_unique_values\": 8,\n        \"samples\": [\n          12681.19202679256,\n          12703.0,\n          24783.0\n        ],\n        \"semantic_type\": \"\",\n        \"description\": \"\"\n      }\n    },\n    {\n      \"column\": \"count\",\n      \"properties\": {\n        \"dtype\": \"number\",\n        \"std\": 8760.844908191184,\n        \"min\": 0.8830600691421232,\n        \"max\": 24783.0,\n        \"num_unique_values\": 5,\n        \"samples\": [\n          3.2434733486664244,\n          9.0,\n          0.8830600691421232\n        ],\n        \"semantic_type\": \"\",\n        \"description\": \"\"\n      }\n    },\n    {\n      \"column\": \"hate_speech\",\n      \"properties\": {\n        \"dtype\": \"number\",\n        \"std\": 8761.714374693967,\n        \"min\": 0.0,\n        \"max\": 24783.0,\n        \"num_unique_values\": 5,\n        \"samples\": [\n          0.28051486906347095,\n          7.0,\n          0.6318510592276959\n        ],\n        \"semantic_type\": \"\",\n        \"description\": \"\"\n      }\n    },\n    {\n      \"column\": \"offensive_language\",\n      \"properties\": {\n        \"dtype\": \"number\",\n        \"std\": 8761.062853899848,\n        \"min\": 0.0,\n        \"max\": 24783.0,\n        \"num_unique_values\": 7,\n        \"samples\": [\n          24783.0,\n          2.413711011580519,\n          3.0\n        ],\n        \"semantic_type\": \"\",\n        \"description\": \"\"\n      }\n    },\n    {\n      \"column\": \"neither\",\n      \"properties\": {\n        \"dtype\": \"number\",\n        \"std\": 8761.575679681884,\n        \"min\": 0.0,\n        \"max\": 24783.0,\n        \"num_unique_values\": 5,\n        \"samples\": [\n          0.5492474680224347,\n          9.0,\n          1.1132985222300682\n        ],\n        \"semantic_type\": \"\",\n        \"description\": \"\"\n      }\n    },\n    {\n      \"column\": \"class\",\n      \"properties\": {\n        \"dtype\": \"number\",\n        \"std\": 8761.781742989284,\n        \"min\": 0.0,\n        \"max\": 24783.0,\n        \"num_unique_values\": 6,\n        \"samples\": [\n          24783.0,\n          1.1102772061493766,\n          2.0\n        ],\n        \"semantic_type\": \"\",\n        \"description\": \"\"\n      }\n    }\n  ]\n}",
              "type": "dataframe"
            },
            "text/html": [
              "\n",
              "  <div id=\"df-9c9d4351-a5a0-41f0-9e59-a845220e118f\" class=\"colab-df-container\">\n",
              "    <div>\n",
              "<style scoped>\n",
              "    .dataframe tbody tr th:only-of-type {\n",
              "        vertical-align: middle;\n",
              "    }\n",
              "\n",
              "    .dataframe tbody tr th {\n",
              "        vertical-align: top;\n",
              "    }\n",
              "\n",
              "    .dataframe thead th {\n",
              "        text-align: right;\n",
              "    }\n",
              "</style>\n",
              "<table border=\"1\" class=\"dataframe\">\n",
              "  <thead>\n",
              "    <tr style=\"text-align: right;\">\n",
              "      <th></th>\n",
              "      <th>Unnamed: 0</th>\n",
              "      <th>count</th>\n",
              "      <th>hate_speech</th>\n",
              "      <th>offensive_language</th>\n",
              "      <th>neither</th>\n",
              "      <th>class</th>\n",
              "    </tr>\n",
              "  </thead>\n",
              "  <tbody>\n",
              "    <tr>\n",
              "      <th>count</th>\n",
              "      <td>24783.000000</td>\n",
              "      <td>24783.000000</td>\n",
              "      <td>24783.000000</td>\n",
              "      <td>24783.000000</td>\n",
              "      <td>24783.000000</td>\n",
              "      <td>24783.000000</td>\n",
              "    </tr>\n",
              "    <tr>\n",
              "      <th>mean</th>\n",
              "      <td>12681.192027</td>\n",
              "      <td>3.243473</td>\n",
              "      <td>0.280515</td>\n",
              "      <td>2.413711</td>\n",
              "      <td>0.549247</td>\n",
              "      <td>1.110277</td>\n",
              "    </tr>\n",
              "    <tr>\n",
              "      <th>std</th>\n",
              "      <td>7299.553863</td>\n",
              "      <td>0.883060</td>\n",
              "      <td>0.631851</td>\n",
              "      <td>1.399459</td>\n",
              "      <td>1.113299</td>\n",
              "      <td>0.462089</td>\n",
              "    </tr>\n",
              "    <tr>\n",
              "      <th>min</th>\n",
              "      <td>0.000000</td>\n",
              "      <td>3.000000</td>\n",
              "      <td>0.000000</td>\n",
              "      <td>0.000000</td>\n",
              "      <td>0.000000</td>\n",
              "      <td>0.000000</td>\n",
              "    </tr>\n",
              "    <tr>\n",
              "      <th>25%</th>\n",
              "      <td>6372.500000</td>\n",
              "      <td>3.000000</td>\n",
              "      <td>0.000000</td>\n",
              "      <td>2.000000</td>\n",
              "      <td>0.000000</td>\n",
              "      <td>1.000000</td>\n",
              "    </tr>\n",
              "    <tr>\n",
              "      <th>50%</th>\n",
              "      <td>12703.000000</td>\n",
              "      <td>3.000000</td>\n",
              "      <td>0.000000</td>\n",
              "      <td>3.000000</td>\n",
              "      <td>0.000000</td>\n",
              "      <td>1.000000</td>\n",
              "    </tr>\n",
              "    <tr>\n",
              "      <th>75%</th>\n",
              "      <td>18995.500000</td>\n",
              "      <td>3.000000</td>\n",
              "      <td>0.000000</td>\n",
              "      <td>3.000000</td>\n",
              "      <td>0.000000</td>\n",
              "      <td>1.000000</td>\n",
              "    </tr>\n",
              "    <tr>\n",
              "      <th>max</th>\n",
              "      <td>25296.000000</td>\n",
              "      <td>9.000000</td>\n",
              "      <td>7.000000</td>\n",
              "      <td>9.000000</td>\n",
              "      <td>9.000000</td>\n",
              "      <td>2.000000</td>\n",
              "    </tr>\n",
              "  </tbody>\n",
              "</table>\n",
              "</div>\n",
              "    <div class=\"colab-df-buttons\">\n",
              "\n",
              "  <div class=\"colab-df-container\">\n",
              "    <button class=\"colab-df-convert\" onclick=\"convertToInteractive('df-9c9d4351-a5a0-41f0-9e59-a845220e118f')\"\n",
              "            title=\"Convert this dataframe to an interactive table.\"\n",
              "            style=\"display:none;\">\n",
              "\n",
              "  <svg xmlns=\"http://www.w3.org/2000/svg\" height=\"24px\" viewBox=\"0 -960 960 960\">\n",
              "    <path d=\"M120-120v-720h720v720H120Zm60-500h600v-160H180v160Zm220 220h160v-160H400v160Zm0 220h160v-160H400v160ZM180-400h160v-160H180v160Zm440 0h160v-160H620v160ZM180-180h160v-160H180v160Zm440 0h160v-160H620v160Z\"/>\n",
              "  </svg>\n",
              "    </button>\n",
              "\n",
              "  <style>\n",
              "    .colab-df-container {\n",
              "      display:flex;\n",
              "      gap: 12px;\n",
              "    }\n",
              "\n",
              "    .colab-df-convert {\n",
              "      background-color: #E8F0FE;\n",
              "      border: none;\n",
              "      border-radius: 50%;\n",
              "      cursor: pointer;\n",
              "      display: none;\n",
              "      fill: #1967D2;\n",
              "      height: 32px;\n",
              "      padding: 0 0 0 0;\n",
              "      width: 32px;\n",
              "    }\n",
              "\n",
              "    .colab-df-convert:hover {\n",
              "      background-color: #E2EBFA;\n",
              "      box-shadow: 0px 1px 2px rgba(60, 64, 67, 0.3), 0px 1px 3px 1px rgba(60, 64, 67, 0.15);\n",
              "      fill: #174EA6;\n",
              "    }\n",
              "\n",
              "    .colab-df-buttons div {\n",
              "      margin-bottom: 4px;\n",
              "    }\n",
              "\n",
              "    [theme=dark] .colab-df-convert {\n",
              "      background-color: #3B4455;\n",
              "      fill: #D2E3FC;\n",
              "    }\n",
              "\n",
              "    [theme=dark] .colab-df-convert:hover {\n",
              "      background-color: #434B5C;\n",
              "      box-shadow: 0px 1px 3px 1px rgba(0, 0, 0, 0.15);\n",
              "      filter: drop-shadow(0px 1px 2px rgba(0, 0, 0, 0.3));\n",
              "      fill: #FFFFFF;\n",
              "    }\n",
              "  </style>\n",
              "\n",
              "    <script>\n",
              "      const buttonEl =\n",
              "        document.querySelector('#df-9c9d4351-a5a0-41f0-9e59-a845220e118f button.colab-df-convert');\n",
              "      buttonEl.style.display =\n",
              "        google.colab.kernel.accessAllowed ? 'block' : 'none';\n",
              "\n",
              "      async function convertToInteractive(key) {\n",
              "        const element = document.querySelector('#df-9c9d4351-a5a0-41f0-9e59-a845220e118f');\n",
              "        const dataTable =\n",
              "          await google.colab.kernel.invokeFunction('convertToInteractive',\n",
              "                                                    [key], {});\n",
              "        if (!dataTable) return;\n",
              "\n",
              "        const docLinkHtml = 'Like what you see? Visit the ' +\n",
              "          '<a target=\"_blank\" href=https://colab.research.google.com/notebooks/data_table.ipynb>data table notebook</a>'\n",
              "          + ' to learn more about interactive tables.';\n",
              "        element.innerHTML = '';\n",
              "        dataTable['output_type'] = 'display_data';\n",
              "        await google.colab.output.renderOutput(dataTable, element);\n",
              "        const docLink = document.createElement('div');\n",
              "        docLink.innerHTML = docLinkHtml;\n",
              "        element.appendChild(docLink);\n",
              "      }\n",
              "    </script>\n",
              "  </div>\n",
              "\n",
              "\n",
              "<div id=\"df-94bcd082-7ddc-4a7a-b618-818f19a02b89\">\n",
              "  <button class=\"colab-df-quickchart\" onclick=\"quickchart('df-94bcd082-7ddc-4a7a-b618-818f19a02b89')\"\n",
              "            title=\"Suggest charts\"\n",
              "            style=\"display:none;\">\n",
              "\n",
              "<svg xmlns=\"http://www.w3.org/2000/svg\" height=\"24px\"viewBox=\"0 0 24 24\"\n",
              "     width=\"24px\">\n",
              "    <g>\n",
              "        <path d=\"M19 3H5c-1.1 0-2 .9-2 2v14c0 1.1.9 2 2 2h14c1.1 0 2-.9 2-2V5c0-1.1-.9-2-2-2zM9 17H7v-7h2v7zm4 0h-2V7h2v10zm4 0h-2v-4h2v4z\"/>\n",
              "    </g>\n",
              "</svg>\n",
              "  </button>\n",
              "\n",
              "<style>\n",
              "  .colab-df-quickchart {\n",
              "      --bg-color: #E8F0FE;\n",
              "      --fill-color: #1967D2;\n",
              "      --hover-bg-color: #E2EBFA;\n",
              "      --hover-fill-color: #174EA6;\n",
              "      --disabled-fill-color: #AAA;\n",
              "      --disabled-bg-color: #DDD;\n",
              "  }\n",
              "\n",
              "  [theme=dark] .colab-df-quickchart {\n",
              "      --bg-color: #3B4455;\n",
              "      --fill-color: #D2E3FC;\n",
              "      --hover-bg-color: #434B5C;\n",
              "      --hover-fill-color: #FFFFFF;\n",
              "      --disabled-bg-color: #3B4455;\n",
              "      --disabled-fill-color: #666;\n",
              "  }\n",
              "\n",
              "  .colab-df-quickchart {\n",
              "    background-color: var(--bg-color);\n",
              "    border: none;\n",
              "    border-radius: 50%;\n",
              "    cursor: pointer;\n",
              "    display: none;\n",
              "    fill: var(--fill-color);\n",
              "    height: 32px;\n",
              "    padding: 0;\n",
              "    width: 32px;\n",
              "  }\n",
              "\n",
              "  .colab-df-quickchart:hover {\n",
              "    background-color: var(--hover-bg-color);\n",
              "    box-shadow: 0 1px 2px rgba(60, 64, 67, 0.3), 0 1px 3px 1px rgba(60, 64, 67, 0.15);\n",
              "    fill: var(--button-hover-fill-color);\n",
              "  }\n",
              "\n",
              "  .colab-df-quickchart-complete:disabled,\n",
              "  .colab-df-quickchart-complete:disabled:hover {\n",
              "    background-color: var(--disabled-bg-color);\n",
              "    fill: var(--disabled-fill-color);\n",
              "    box-shadow: none;\n",
              "  }\n",
              "\n",
              "  .colab-df-spinner {\n",
              "    border: 2px solid var(--fill-color);\n",
              "    border-color: transparent;\n",
              "    border-bottom-color: var(--fill-color);\n",
              "    animation:\n",
              "      spin 1s steps(1) infinite;\n",
              "  }\n",
              "\n",
              "  @keyframes spin {\n",
              "    0% {\n",
              "      border-color: transparent;\n",
              "      border-bottom-color: var(--fill-color);\n",
              "      border-left-color: var(--fill-color);\n",
              "    }\n",
              "    20% {\n",
              "      border-color: transparent;\n",
              "      border-left-color: var(--fill-color);\n",
              "      border-top-color: var(--fill-color);\n",
              "    }\n",
              "    30% {\n",
              "      border-color: transparent;\n",
              "      border-left-color: var(--fill-color);\n",
              "      border-top-color: var(--fill-color);\n",
              "      border-right-color: var(--fill-color);\n",
              "    }\n",
              "    40% {\n",
              "      border-color: transparent;\n",
              "      border-right-color: var(--fill-color);\n",
              "      border-top-color: var(--fill-color);\n",
              "    }\n",
              "    60% {\n",
              "      border-color: transparent;\n",
              "      border-right-color: var(--fill-color);\n",
              "    }\n",
              "    80% {\n",
              "      border-color: transparent;\n",
              "      border-right-color: var(--fill-color);\n",
              "      border-bottom-color: var(--fill-color);\n",
              "    }\n",
              "    90% {\n",
              "      border-color: transparent;\n",
              "      border-bottom-color: var(--fill-color);\n",
              "    }\n",
              "  }\n",
              "</style>\n",
              "\n",
              "  <script>\n",
              "    async function quickchart(key) {\n",
              "      const quickchartButtonEl =\n",
              "        document.querySelector('#' + key + ' button');\n",
              "      quickchartButtonEl.disabled = true;  // To prevent multiple clicks.\n",
              "      quickchartButtonEl.classList.add('colab-df-spinner');\n",
              "      try {\n",
              "        const charts = await google.colab.kernel.invokeFunction(\n",
              "            'suggestCharts', [key], {});\n",
              "      } catch (error) {\n",
              "        console.error('Error during call to suggestCharts:', error);\n",
              "      }\n",
              "      quickchartButtonEl.classList.remove('colab-df-spinner');\n",
              "      quickchartButtonEl.classList.add('colab-df-quickchart-complete');\n",
              "    }\n",
              "    (() => {\n",
              "      let quickchartButtonEl =\n",
              "        document.querySelector('#df-94bcd082-7ddc-4a7a-b618-818f19a02b89 button');\n",
              "      quickchartButtonEl.style.display =\n",
              "        google.colab.kernel.accessAllowed ? 'block' : 'none';\n",
              "    })();\n",
              "  </script>\n",
              "</div>\n",
              "\n",
              "    </div>\n",
              "  </div>\n"
            ],
            "text/plain": [
              "         Unnamed: 0         count   hate_speech  offensive_language  \\\n",
              "count  24783.000000  24783.000000  24783.000000        24783.000000   \n",
              "mean   12681.192027      3.243473      0.280515            2.413711   \n",
              "std     7299.553863      0.883060      0.631851            1.399459   \n",
              "min        0.000000      3.000000      0.000000            0.000000   \n",
              "25%     6372.500000      3.000000      0.000000            2.000000   \n",
              "50%    12703.000000      3.000000      0.000000            3.000000   \n",
              "75%    18995.500000      3.000000      0.000000            3.000000   \n",
              "max    25296.000000      9.000000      7.000000            9.000000   \n",
              "\n",
              "            neither         class  \n",
              "count  24783.000000  24783.000000  \n",
              "mean       0.549247      1.110277  \n",
              "std        1.113299      0.462089  \n",
              "min        0.000000      0.000000  \n",
              "25%        0.000000      1.000000  \n",
              "50%        0.000000      1.000000  \n",
              "75%        0.000000      1.000000  \n",
              "max        9.000000      2.000000  "
            ]
          },
          "execution_count": 14,
          "metadata": {},
          "output_type": "execute_result"
        }
      ],
      "source": [
        "dataset.describe()"
      ]
    },
    {
      "cell_type": "code",
      "execution_count": null,
      "metadata": {
        "colab": {
          "base_uri": "https://localhost:8080/",
          "height": 303
        },
        "id": "5crN-MyFkaec",
        "outputId": "84e8343a-40ca-4f83-e01a-96e0f61f4a2c"
      },
      "outputs": [
        {
          "data": {
            "text/html": [
              "<div>\n",
              "<style scoped>\n",
              "    .dataframe tbody tr th:only-of-type {\n",
              "        vertical-align: middle;\n",
              "    }\n",
              "\n",
              "    .dataframe tbody tr th {\n",
              "        vertical-align: top;\n",
              "    }\n",
              "\n",
              "    .dataframe thead th {\n",
              "        text-align: right;\n",
              "    }\n",
              "</style>\n",
              "<table border=\"1\" class=\"dataframe\">\n",
              "  <thead>\n",
              "    <tr style=\"text-align: right;\">\n",
              "      <th></th>\n",
              "      <th>0</th>\n",
              "    </tr>\n",
              "  </thead>\n",
              "  <tbody>\n",
              "    <tr>\n",
              "      <th>Unnamed: 0</th>\n",
              "      <td>0</td>\n",
              "    </tr>\n",
              "    <tr>\n",
              "      <th>count</th>\n",
              "      <td>0</td>\n",
              "    </tr>\n",
              "    <tr>\n",
              "      <th>hate_speech</th>\n",
              "      <td>0</td>\n",
              "    </tr>\n",
              "    <tr>\n",
              "      <th>offensive_language</th>\n",
              "      <td>0</td>\n",
              "    </tr>\n",
              "    <tr>\n",
              "      <th>neither</th>\n",
              "      <td>0</td>\n",
              "    </tr>\n",
              "    <tr>\n",
              "      <th>class</th>\n",
              "      <td>0</td>\n",
              "    </tr>\n",
              "    <tr>\n",
              "      <th>tweet</th>\n",
              "      <td>0</td>\n",
              "    </tr>\n",
              "  </tbody>\n",
              "</table>\n",
              "</div><br><label><b>dtype:</b> int64</label>"
            ],
            "text/plain": [
              "Unnamed: 0            0\n",
              "count                 0\n",
              "hate_speech           0\n",
              "offensive_language    0\n",
              "neither               0\n",
              "class                 0\n",
              "tweet                 0\n",
              "dtype: int64"
            ]
          },
          "execution_count": 15,
          "metadata": {},
          "output_type": "execute_result"
        }
      ],
      "source": [
        "dataset.isnull().sum()"
      ]
    },
    {
      "cell_type": "code",
      "execution_count": null,
      "metadata": {
        "id": "dWClPBVqm7kV"
      },
      "outputs": [],
      "source": [
        "import pandas as pd\n"
      ]
    },
    {
      "cell_type": "code",
      "execution_count": null,
      "metadata": {
        "id": "yfsyRe0Mm-wU"
      },
      "outputs": [],
      "source": [
        "df = pd.read_csv('/content/labeled_data.csv')  # Ensure this line is run first\n"
      ]
    },
    {
      "cell_type": "code",
      "execution_count": null,
      "metadata": {
        "colab": {
          "base_uri": "https://localhost:8080/",
          "height": 614
        },
        "id": "Puaj2HvxnEt6",
        "outputId": "65a9404b-c85a-456c-db54-efe070b13703"
      },
      "outputs": [
        {
          "data": {
            "application/vnd.google.colaboratory.intrinsic+json": {
              "summary": "{\n  \"name\": \"df\",\n  \"rows\": 24783,\n  \"fields\": [\n    {\n      \"column\": \"Unnamed: 0\",\n      \"properties\": {\n        \"dtype\": \"number\",\n        \"std\": 7299,\n        \"min\": 0,\n        \"max\": 25296,\n        \"num_unique_values\": 24783,\n        \"samples\": [\n          2326,\n          16283,\n          19362\n        ],\n        \"semantic_type\": \"\",\n        \"description\": \"\"\n      }\n    },\n    {\n      \"column\": \"count\",\n      \"properties\": {\n        \"dtype\": \"number\",\n        \"std\": 0,\n        \"min\": 3,\n        \"max\": 9,\n        \"num_unique_values\": 5,\n        \"samples\": [\n          6,\n          7,\n          9\n        ],\n        \"semantic_type\": \"\",\n        \"description\": \"\"\n      }\n    },\n    {\n      \"column\": \"hate_speech\",\n      \"properties\": {\n        \"dtype\": \"number\",\n        \"std\": 0,\n        \"min\": 0,\n        \"max\": 7,\n        \"num_unique_values\": 8,\n        \"samples\": [\n          1,\n          6,\n          0\n        ],\n        \"semantic_type\": \"\",\n        \"description\": \"\"\n      }\n    },\n    {\n      \"column\": \"offensive_language\",\n      \"properties\": {\n        \"dtype\": \"number\",\n        \"std\": 1,\n        \"min\": 0,\n        \"max\": 9,\n        \"num_unique_values\": 10,\n        \"samples\": [\n          8,\n          3,\n          7\n        ],\n        \"semantic_type\": \"\",\n        \"description\": \"\"\n      }\n    },\n    {\n      \"column\": \"neither\",\n      \"properties\": {\n        \"dtype\": \"number\",\n        \"std\": 1,\n        \"min\": 0,\n        \"max\": 9,\n        \"num_unique_values\": 10,\n        \"samples\": [\n          8,\n          0,\n          4\n        ],\n        \"semantic_type\": \"\",\n        \"description\": \"\"\n      }\n    },\n    {\n      \"column\": \"class\",\n      \"properties\": {\n        \"dtype\": \"number\",\n        \"std\": 0,\n        \"min\": 0,\n        \"max\": 2,\n        \"num_unique_values\": 3,\n        \"samples\": [\n          2,\n          1,\n          0\n        ],\n        \"semantic_type\": \"\",\n        \"description\": \"\"\n      }\n    },\n    {\n      \"column\": \"tweet\",\n      \"properties\": {\n        \"dtype\": \"string\",\n        \"num_unique_values\": 24783,\n        \"samples\": [\n          \"934 8616\\ni got a missed call from yo bitch\",\n          \"RT @KINGTUNCHI_: Fucking with a bad bitch you gone need some money lil homie!\",\n          \"RT @eanahS__: @1inkkofrosess lol my credit ain't no where near good , but I know the right man for the job .. that ho nice though!\"\n        ],\n        \"semantic_type\": \"\",\n        \"description\": \"\"\n      }\n    }\n  ]\n}",
              "type": "dataframe",
              "variable_name": "df"
            },
            "text/html": [
              "\n",
              "  <div id=\"df-297332cb-ebae-49c9-8a18-05e5905f4a1e\" class=\"colab-df-container\">\n",
              "    <div>\n",
              "<style scoped>\n",
              "    .dataframe tbody tr th:only-of-type {\n",
              "        vertical-align: middle;\n",
              "    }\n",
              "\n",
              "    .dataframe tbody tr th {\n",
              "        vertical-align: top;\n",
              "    }\n",
              "\n",
              "    .dataframe thead th {\n",
              "        text-align: right;\n",
              "    }\n",
              "</style>\n",
              "<table border=\"1\" class=\"dataframe\">\n",
              "  <thead>\n",
              "    <tr style=\"text-align: right;\">\n",
              "      <th></th>\n",
              "      <th>Unnamed: 0</th>\n",
              "      <th>count</th>\n",
              "      <th>hate_speech</th>\n",
              "      <th>offensive_language</th>\n",
              "      <th>neither</th>\n",
              "      <th>class</th>\n",
              "      <th>tweet</th>\n",
              "    </tr>\n",
              "  </thead>\n",
              "  <tbody>\n",
              "    <tr>\n",
              "      <th>0</th>\n",
              "      <td>0</td>\n",
              "      <td>3</td>\n",
              "      <td>0</td>\n",
              "      <td>0</td>\n",
              "      <td>3</td>\n",
              "      <td>2</td>\n",
              "      <td>!!! RT @mayasolovely: As a woman you shouldn't...</td>\n",
              "    </tr>\n",
              "    <tr>\n",
              "      <th>1</th>\n",
              "      <td>1</td>\n",
              "      <td>3</td>\n",
              "      <td>0</td>\n",
              "      <td>3</td>\n",
              "      <td>0</td>\n",
              "      <td>1</td>\n",
              "      <td>!!!!! RT @mleew17: boy dats cold...tyga dwn ba...</td>\n",
              "    </tr>\n",
              "    <tr>\n",
              "      <th>2</th>\n",
              "      <td>2</td>\n",
              "      <td>3</td>\n",
              "      <td>0</td>\n",
              "      <td>3</td>\n",
              "      <td>0</td>\n",
              "      <td>1</td>\n",
              "      <td>!!!!!!! RT @UrKindOfBrand Dawg!!!! RT @80sbaby...</td>\n",
              "    </tr>\n",
              "    <tr>\n",
              "      <th>3</th>\n",
              "      <td>3</td>\n",
              "      <td>3</td>\n",
              "      <td>0</td>\n",
              "      <td>2</td>\n",
              "      <td>1</td>\n",
              "      <td>1</td>\n",
              "      <td>!!!!!!!!! RT @C_G_Anderson: @viva_based she lo...</td>\n",
              "    </tr>\n",
              "    <tr>\n",
              "      <th>4</th>\n",
              "      <td>4</td>\n",
              "      <td>6</td>\n",
              "      <td>0</td>\n",
              "      <td>6</td>\n",
              "      <td>0</td>\n",
              "      <td>1</td>\n",
              "      <td>!!!!!!!!!!!!! RT @ShenikaRoberts: The shit you...</td>\n",
              "    </tr>\n",
              "    <tr>\n",
              "      <th>...</th>\n",
              "      <td>...</td>\n",
              "      <td>...</td>\n",
              "      <td>...</td>\n",
              "      <td>...</td>\n",
              "      <td>...</td>\n",
              "      <td>...</td>\n",
              "      <td>...</td>\n",
              "    </tr>\n",
              "    <tr>\n",
              "      <th>95</th>\n",
              "      <td>96</td>\n",
              "      <td>3</td>\n",
              "      <td>0</td>\n",
              "      <td>3</td>\n",
              "      <td>0</td>\n",
              "      <td>1</td>\n",
              "      <td>\"@CauseWereGuys: Going back to school sucks mo...</td>\n",
              "    </tr>\n",
              "    <tr>\n",
              "      <th>96</th>\n",
              "      <td>97</td>\n",
              "      <td>3</td>\n",
              "      <td>0</td>\n",
              "      <td>3</td>\n",
              "      <td>0</td>\n",
              "      <td>1</td>\n",
              "      <td>\"@CauseWereGuys: On my way to fuck yo bitch ht...</td>\n",
              "    </tr>\n",
              "    <tr>\n",
              "      <th>97</th>\n",
              "      <td>98</td>\n",
              "      <td>3</td>\n",
              "      <td>0</td>\n",
              "      <td>3</td>\n",
              "      <td>0</td>\n",
              "      <td>1</td>\n",
              "      <td>\"@CeleyNichole: @white_thunduh how come you ne...</td>\n",
              "    </tr>\n",
              "    <tr>\n",
              "      <th>98</th>\n",
              "      <td>99</td>\n",
              "      <td>3</td>\n",
              "      <td>0</td>\n",
              "      <td>3</td>\n",
              "      <td>0</td>\n",
              "      <td>1</td>\n",
              "      <td>\"@ChadMFVerbeck: If Richnow doesn't show up wi...</td>\n",
              "    </tr>\n",
              "    <tr>\n",
              "      <th>99</th>\n",
              "      <td>100</td>\n",
              "      <td>3</td>\n",
              "      <td>1</td>\n",
              "      <td>2</td>\n",
              "      <td>0</td>\n",
              "      <td>1</td>\n",
              "      <td>\"@ChandlerParsons: How bout them Cowboys!!!!\" ...</td>\n",
              "    </tr>\n",
              "  </tbody>\n",
              "</table>\n",
              "<p>100 rows × 7 columns</p>\n",
              "</div>\n",
              "    <div class=\"colab-df-buttons\">\n",
              "\n",
              "  <div class=\"colab-df-container\">\n",
              "    <button class=\"colab-df-convert\" onclick=\"convertToInteractive('df-297332cb-ebae-49c9-8a18-05e5905f4a1e')\"\n",
              "            title=\"Convert this dataframe to an interactive table.\"\n",
              "            style=\"display:none;\">\n",
              "\n",
              "  <svg xmlns=\"http://www.w3.org/2000/svg\" height=\"24px\" viewBox=\"0 -960 960 960\">\n",
              "    <path d=\"M120-120v-720h720v720H120Zm60-500h600v-160H180v160Zm220 220h160v-160H400v160Zm0 220h160v-160H400v160ZM180-400h160v-160H180v160Zm440 0h160v-160H620v160ZM180-180h160v-160H180v160Zm440 0h160v-160H620v160Z\"/>\n",
              "  </svg>\n",
              "    </button>\n",
              "\n",
              "  <style>\n",
              "    .colab-df-container {\n",
              "      display:flex;\n",
              "      gap: 12px;\n",
              "    }\n",
              "\n",
              "    .colab-df-convert {\n",
              "      background-color: #E8F0FE;\n",
              "      border: none;\n",
              "      border-radius: 50%;\n",
              "      cursor: pointer;\n",
              "      display: none;\n",
              "      fill: #1967D2;\n",
              "      height: 32px;\n",
              "      padding: 0 0 0 0;\n",
              "      width: 32px;\n",
              "    }\n",
              "\n",
              "    .colab-df-convert:hover {\n",
              "      background-color: #E2EBFA;\n",
              "      box-shadow: 0px 1px 2px rgba(60, 64, 67, 0.3), 0px 1px 3px 1px rgba(60, 64, 67, 0.15);\n",
              "      fill: #174EA6;\n",
              "    }\n",
              "\n",
              "    .colab-df-buttons div {\n",
              "      margin-bottom: 4px;\n",
              "    }\n",
              "\n",
              "    [theme=dark] .colab-df-convert {\n",
              "      background-color: #3B4455;\n",
              "      fill: #D2E3FC;\n",
              "    }\n",
              "\n",
              "    [theme=dark] .colab-df-convert:hover {\n",
              "      background-color: #434B5C;\n",
              "      box-shadow: 0px 1px 3px 1px rgba(0, 0, 0, 0.15);\n",
              "      filter: drop-shadow(0px 1px 2px rgba(0, 0, 0, 0.3));\n",
              "      fill: #FFFFFF;\n",
              "    }\n",
              "  </style>\n",
              "\n",
              "    <script>\n",
              "      const buttonEl =\n",
              "        document.querySelector('#df-297332cb-ebae-49c9-8a18-05e5905f4a1e button.colab-df-convert');\n",
              "      buttonEl.style.display =\n",
              "        google.colab.kernel.accessAllowed ? 'block' : 'none';\n",
              "\n",
              "      async function convertToInteractive(key) {\n",
              "        const element = document.querySelector('#df-297332cb-ebae-49c9-8a18-05e5905f4a1e');\n",
              "        const dataTable =\n",
              "          await google.colab.kernel.invokeFunction('convertToInteractive',\n",
              "                                                    [key], {});\n",
              "        if (!dataTable) return;\n",
              "\n",
              "        const docLinkHtml = 'Like what you see? Visit the ' +\n",
              "          '<a target=\"_blank\" href=https://colab.research.google.com/notebooks/data_table.ipynb>data table notebook</a>'\n",
              "          + ' to learn more about interactive tables.';\n",
              "        element.innerHTML = '';\n",
              "        dataTable['output_type'] = 'display_data';\n",
              "        await google.colab.output.renderOutput(dataTable, element);\n",
              "        const docLink = document.createElement('div');\n",
              "        docLink.innerHTML = docLinkHtml;\n",
              "        element.appendChild(docLink);\n",
              "      }\n",
              "    </script>\n",
              "  </div>\n",
              "\n",
              "\n",
              "<div id=\"df-2a2117e7-e8aa-4ef0-9320-ed3349e5c540\">\n",
              "  <button class=\"colab-df-quickchart\" onclick=\"quickchart('df-2a2117e7-e8aa-4ef0-9320-ed3349e5c540')\"\n",
              "            title=\"Suggest charts\"\n",
              "            style=\"display:none;\">\n",
              "\n",
              "<svg xmlns=\"http://www.w3.org/2000/svg\" height=\"24px\"viewBox=\"0 0 24 24\"\n",
              "     width=\"24px\">\n",
              "    <g>\n",
              "        <path d=\"M19 3H5c-1.1 0-2 .9-2 2v14c0 1.1.9 2 2 2h14c1.1 0 2-.9 2-2V5c0-1.1-.9-2-2-2zM9 17H7v-7h2v7zm4 0h-2V7h2v10zm4 0h-2v-4h2v4z\"/>\n",
              "    </g>\n",
              "</svg>\n",
              "  </button>\n",
              "\n",
              "<style>\n",
              "  .colab-df-quickchart {\n",
              "      --bg-color: #E8F0FE;\n",
              "      --fill-color: #1967D2;\n",
              "      --hover-bg-color: #E2EBFA;\n",
              "      --hover-fill-color: #174EA6;\n",
              "      --disabled-fill-color: #AAA;\n",
              "      --disabled-bg-color: #DDD;\n",
              "  }\n",
              "\n",
              "  [theme=dark] .colab-df-quickchart {\n",
              "      --bg-color: #3B4455;\n",
              "      --fill-color: #D2E3FC;\n",
              "      --hover-bg-color: #434B5C;\n",
              "      --hover-fill-color: #FFFFFF;\n",
              "      --disabled-bg-color: #3B4455;\n",
              "      --disabled-fill-color: #666;\n",
              "  }\n",
              "\n",
              "  .colab-df-quickchart {\n",
              "    background-color: var(--bg-color);\n",
              "    border: none;\n",
              "    border-radius: 50%;\n",
              "    cursor: pointer;\n",
              "    display: none;\n",
              "    fill: var(--fill-color);\n",
              "    height: 32px;\n",
              "    padding: 0;\n",
              "    width: 32px;\n",
              "  }\n",
              "\n",
              "  .colab-df-quickchart:hover {\n",
              "    background-color: var(--hover-bg-color);\n",
              "    box-shadow: 0 1px 2px rgba(60, 64, 67, 0.3), 0 1px 3px 1px rgba(60, 64, 67, 0.15);\n",
              "    fill: var(--button-hover-fill-color);\n",
              "  }\n",
              "\n",
              "  .colab-df-quickchart-complete:disabled,\n",
              "  .colab-df-quickchart-complete:disabled:hover {\n",
              "    background-color: var(--disabled-bg-color);\n",
              "    fill: var(--disabled-fill-color);\n",
              "    box-shadow: none;\n",
              "  }\n",
              "\n",
              "  .colab-df-spinner {\n",
              "    border: 2px solid var(--fill-color);\n",
              "    border-color: transparent;\n",
              "    border-bottom-color: var(--fill-color);\n",
              "    animation:\n",
              "      spin 1s steps(1) infinite;\n",
              "  }\n",
              "\n",
              "  @keyframes spin {\n",
              "    0% {\n",
              "      border-color: transparent;\n",
              "      border-bottom-color: var(--fill-color);\n",
              "      border-left-color: var(--fill-color);\n",
              "    }\n",
              "    20% {\n",
              "      border-color: transparent;\n",
              "      border-left-color: var(--fill-color);\n",
              "      border-top-color: var(--fill-color);\n",
              "    }\n",
              "    30% {\n",
              "      border-color: transparent;\n",
              "      border-left-color: var(--fill-color);\n",
              "      border-top-color: var(--fill-color);\n",
              "      border-right-color: var(--fill-color);\n",
              "    }\n",
              "    40% {\n",
              "      border-color: transparent;\n",
              "      border-right-color: var(--fill-color);\n",
              "      border-top-color: var(--fill-color);\n",
              "    }\n",
              "    60% {\n",
              "      border-color: transparent;\n",
              "      border-right-color: var(--fill-color);\n",
              "    }\n",
              "    80% {\n",
              "      border-color: transparent;\n",
              "      border-right-color: var(--fill-color);\n",
              "      border-bottom-color: var(--fill-color);\n",
              "    }\n",
              "    90% {\n",
              "      border-color: transparent;\n",
              "      border-bottom-color: var(--fill-color);\n",
              "    }\n",
              "  }\n",
              "</style>\n",
              "\n",
              "  <script>\n",
              "    async function quickchart(key) {\n",
              "      const quickchartButtonEl =\n",
              "        document.querySelector('#' + key + ' button');\n",
              "      quickchartButtonEl.disabled = true;  // To prevent multiple clicks.\n",
              "      quickchartButtonEl.classList.add('colab-df-spinner');\n",
              "      try {\n",
              "        const charts = await google.colab.kernel.invokeFunction(\n",
              "            'suggestCharts', [key], {});\n",
              "      } catch (error) {\n",
              "        console.error('Error during call to suggestCharts:', error);\n",
              "      }\n",
              "      quickchartButtonEl.classList.remove('colab-df-spinner');\n",
              "      quickchartButtonEl.classList.add('colab-df-quickchart-complete');\n",
              "    }\n",
              "    (() => {\n",
              "      let quickchartButtonEl =\n",
              "        document.querySelector('#df-2a2117e7-e8aa-4ef0-9320-ed3349e5c540 button');\n",
              "      quickchartButtonEl.style.display =\n",
              "        google.colab.kernel.accessAllowed ? 'block' : 'none';\n",
              "    })();\n",
              "  </script>\n",
              "</div>\n",
              "\n",
              "    </div>\n",
              "  </div>\n"
            ],
            "text/plain": [
              "    Unnamed: 0  count  hate_speech  offensive_language  neither  class  \\\n",
              "0            0      3            0                   0        3      2   \n",
              "1            1      3            0                   3        0      1   \n",
              "2            2      3            0                   3        0      1   \n",
              "3            3      3            0                   2        1      1   \n",
              "4            4      6            0                   6        0      1   \n",
              "..         ...    ...          ...                 ...      ...    ...   \n",
              "95          96      3            0                   3        0      1   \n",
              "96          97      3            0                   3        0      1   \n",
              "97          98      3            0                   3        0      1   \n",
              "98          99      3            0                   3        0      1   \n",
              "99         100      3            1                   2        0      1   \n",
              "\n",
              "                                                tweet  \n",
              "0   !!! RT @mayasolovely: As a woman you shouldn't...  \n",
              "1   !!!!! RT @mleew17: boy dats cold...tyga dwn ba...  \n",
              "2   !!!!!!! RT @UrKindOfBrand Dawg!!!! RT @80sbaby...  \n",
              "3   !!!!!!!!! RT @C_G_Anderson: @viva_based she lo...  \n",
              "4   !!!!!!!!!!!!! RT @ShenikaRoberts: The shit you...  \n",
              "..                                                ...  \n",
              "95  \"@CauseWereGuys: Going back to school sucks mo...  \n",
              "96  \"@CauseWereGuys: On my way to fuck yo bitch ht...  \n",
              "97  \"@CeleyNichole: @white_thunduh how come you ne...  \n",
              "98  \"@ChadMFVerbeck: If Richnow doesn't show up wi...  \n",
              "99  \"@ChandlerParsons: How bout them Cowboys!!!!\" ...  \n",
              "\n",
              "[100 rows x 7 columns]"
            ]
          },
          "execution_count": 21,
          "metadata": {},
          "output_type": "execute_result"
        }
      ],
      "source": [
        "df.head(100)\n"
      ]
    },
    {
      "cell_type": "code",
      "execution_count": null,
      "metadata": {
        "id": "s1KQs4Ciq1xq"
      },
      "outputs": [],
      "source": [
        "import pandas as pd\n",
        "import numpy as np\n",
        "import matplotlib.pyplot as plt\n",
        "import seaborn as sns"
      ]
    },
    {
      "cell_type": "code",
      "execution_count": null,
      "metadata": {
        "id": "uuUCS5Yeq9at"
      },
      "outputs": [],
      "source": [
        "df = pd.read_csv('/content/labeled_data (1).csv')"
      ]
    },
    {
      "cell_type": "code",
      "execution_count": null,
      "metadata": {
        "colab": {
          "base_uri": "https://localhost:8080/"
        },
        "id": "L77MsmblrBeJ",
        "outputId": "c89e4bdd-2900-4e4c-a102-8b41a5435dcd"
      },
      "outputs": [
        {
          "name": "stdout",
          "output_type": "stream",
          "text": [
            "Index(['Unnamed: 0', 'count', 'hate_speech', 'offensive_language', 'neither',\n",
            "       'class', 'tweet'],\n",
            "      dtype='object')\n"
          ]
        }
      ],
      "source": [
        "print(df.columns)"
      ]
    },
    {
      "cell_type": "code",
      "execution_count": null,
      "metadata": {
        "id": "SzTkd2CctesR"
      },
      "outputs": [],
      "source": [
        "numerical_df = df.select_dtypes(include=['int64', 'float64'])\n"
      ]
    },
    {
      "cell_type": "code",
      "execution_count": null,
      "metadata": {
        "id": "JI4TwB_AfhJ-"
      },
      "outputs": [],
      "source": []
    },
    {
      "cell_type": "markdown",
      "metadata": {
        "id": "780-xqjLuJ9R"
      },
      "source": []
    },
    {
      "cell_type": "code",
      "execution_count": null,
      "metadata": {
        "id": "3Lf1fBqdtguc"
      },
      "outputs": [],
      "source": [
        "corr_matrix = numerical_df.corr()"
      ]
    },
    {
      "cell_type": "code",
      "execution_count": null,
      "metadata": {
        "colab": {
          "base_uri": "https://localhost:8080/",
          "height": 770
        },
        "id": "McFB1EwdtnRQ",
        "outputId": "0de61867-682d-4adc-8165-5a98a9b0b68d"
      },
      "outputs": [
        {
          "data": {
            "image/png": "[encoded data removed]",
            "text/plain": [
              "<Figure size 1000x800 with 2 Axes>"
            ]
          },
          "metadata": {},
          "output_type": "display_data"
        }
      ],
      "source": [
        "plt.figure(figsize=(10, 8))\n",
        "sns.heatmap(corr_matrix, annot=True, cmap='coolwarm', vmin=-1, vmax=1)\n",
        "plt.title('Correlation Matrix for Numerical Features')\n",
        "plt.show()"
      ]
    },
    {
      "cell_type": "code",
      "execution_count": null,
      "metadata": {
        "colab": {
          "base_uri": "https://localhost:8080/",
          "height": 518
        },
        "id": "jgeYBtRPyFl7",
        "outputId": "db577f63-764d-4e4b-e6d0-02f0dca63200"
      },
      "outputs": [
        {
          "data": {
            "image/png": "[encoded data removed]",
            "text/plain": [
              "<Figure size 2000x1500 with 6 Axes>"
            ]
          },
          "metadata": {},
          "output_type": "display_data"
        }
      ],
      "source": [
        "#plot histogram\n",
        "df.hist(bins=50, figsize=(20,15), edgecolor='black')\n",
        "plt.tight_layout()\n",
        "plt.show()\n",
        "\n"
      ]
    },
    {
      "cell_type": "code",
      "execution_count": null,
      "metadata": {
        "id": "6FiDMIroVP8L"
      },
      "outputs": [],
      "source": [
        "import pandas as pd\n",
        "from sklearn.impute import SimpleImputer"
      ]
    },
    {
      "cell_type": "code",
      "execution_count": null,
      "metadata": {
        "id": "9M8OsNWtVvJd"
      },
      "outputs": [],
      "source": [
        "# OR, you can fill missing values (if any) with some value\n",
        "df = df.fillna(0)"
      ]
    },
    {
      "cell_type": "code",
      "execution_count": null,
      "metadata": {
        "id": "Huhe8A1tqotA"
      },
      "outputs": [],
      "source": [
        "df = df.drop_duplicates()\n"
      ]
    },
    {
      "cell_type": "code",
      "execution_count": null,
      "metadata": {
        "id": "kkeF0Nl1quyn"
      },
      "outputs": [],
      "source": [
        "# Show only the first 4 rows\n",
        "df = df.head(4)\n"
      ]
    },
    {
      "cell_type": "code",
      "execution_count": null,
      "metadata": {
        "id": "iaWo6n9squ82"
      },
      "outputs": [],
      "source": [
        "from sklearn.preprocessing import StandardScaler\n",
        "\n",
        "scaler = StandardScaler()\n",
        "df[['count', 'hate_speech', 'offensive_language', 'neither']] = scaler.fit_transform(\n",
        "    df[['count', 'hate_speech', 'offensive_language', 'neither']]\n",
        ")\n"
      ]
    },
    {
      "cell_type": "code",
      "execution_count": null,
      "metadata": {
        "colab": {
          "base_uri": "https://localhost:8080/"
        },
        "id": "pTlCVOz3gi1z",
        "outputId": "ea716f5b-f722-48c1-ea94-850878b42042"
      },
      "outputs": [
        {
          "name": "stdout",
          "output_type": "stream",
          "text": [
            "Number of tweets containing offensive language: 2066\n"
          ]
        }
      ],
      "source": [
        "# To count how many tweets contain offensive language\n",
        "import pandas as pd\n",
        "dataset=pd.read_csv('/content/labeled_data.csv')\n",
        "\n",
        "offensive_language_count = dataset[dataset['offensive_language'] == 1].shape[0]\n",
        "\n",
        "# Print the result\n",
        "print(f\"Number of tweets containing offensive language: {offensive_language_count}\")\n"
      ]
    },
    {
      "cell_type": "code",
      "execution_count": null,
      "metadata": {
        "colab": {
          "base_uri": "https://localhost:8080/"
        },
        "id": "ssbRRQvrpols",
        "outputId": "fcaecbaa-d712-4828-b8a3-b252a12a5779"
      },
      "outputs": [
        {
          "name": "stdout",
          "output_type": "stream",
          "text": [
            "Class Distribution:\n",
            "class\n",
            "1    19190\n",
            "2     4163\n",
            "0     1430\n",
            "Name: count, dtype: int64\n"
          ]
        }
      ],
      "source": [
        "# Get class distribution # neutral offensive hate speech #neutral , offensive,hate speech\n",
        "class_distribution = dataset['class'].value_counts()\n",
        "\n",
        "# Print the class distribution\n",
        "print(\"Class Distribution:\")\n",
        "print(class_distribution)\n"
      ]
    },
    {
      "cell_type": "code",
      "execution_count": null,
      "metadata": {
        "colab": {
          "base_uri": "https://localhost:8080/"
        },
        "id": "tnVRfCKIqKLu",
        "outputId": "3a86176e-cc3a-4048-a725-409cf09b763c"
      },
      "outputs": [
        {
          "name": "stdout",
          "output_type": "stream",
          "text": [
            "Class Distribution (Percentage):\n",
            "class\n",
            "1    77.432111\n",
            "2    16.797805\n",
            "0     5.770084\n",
            "Name: proportion, dtype: float64\n"
          ]
        }
      ],
      "source": [
        "class_distribution_percentage = dataset['class'].value_counts(normalize=True) * 100\n",
        "# Print class distribution in percentage\n",
        "print(\"Class Distribution (Percentage):\")\n",
        "print(class_distribution_percentage)\n"
      ]
    },
    {
      "cell_type": "code",
      "execution_count": null,
      "metadata": {
        "id": "oz6CvfUpd6Mr"
      },
      "outputs": [],
      "source": [
        "dataset['class']"
      ]
    },
    {
      "cell_type": "code",
      "execution_count": null,
      "metadata": {
        "colab": {
          "base_uri": "https://localhost:8080/",
          "height": 413
        },
        "id": "_NbhEJii6iEJ",
        "outputId": "8226efa3-0ce4-44fa-fc60-eb2b106f38cb"
      },
      "outputs": [
        {
          "data": {
            "image/png": "[encoded data removed]",
            "text/plain": [
              "<Figure size 1000x600 with 1 Axes>"
            ]
          },
          "metadata": {},
          "output_type": "display_data"
        }
      ],
      "source": [
        "import pandas as pd\n",
        "import matplotlib.pyplot as plt\n",
        "\n",
        "# Assuming your DataFrame is named df\n",
        "# Replace 'class' with the actual column name you want to plot\n",
        "class_counts = df['class'].value_counts()\n",
        "\n",
        "# Get unique class names from the DataFrame (replace 'class' with the actual column name)\n",
        "unique_classes = df['class'].unique()\n",
        "\n",
        "# Create a bar chart\n",
        "plt.figure(figsize=(10, 6))\n",
        "class_counts.plot(kind='bar', color=['skyblue', 'salmon', 'lightgreen'])\n",
        "plt.title('Distribution of Classes ')\n",
        "plt.xlabel('Classes')\n",
        "plt.ylabel('Counts')\n",
        "plt.xticks(ticks=range(len(class_counts)), labels=unique_classes, rotation=0)\n",
        "plt.grid(axis='y', linestyle='--')\n",
        "plt.show()\n"
      ]
    },
    {
      "cell_type": "code",
      "execution_count": null,
      "metadata": {
        "colab": {
          "base_uri": "https://localhost:8080/"
        },
        "id": "1w_6u4hCrB0p",
        "outputId": "8e48958d-5763-4220-d700-2fa8aa18f248"
      },
      "outputs": [
        {
          "name": "stdout",
          "output_type": "stream",
          "text": [
            "Percentage of tweets with offensive language but no hate speech: 68.26%\n"
          ]
        }
      ],
      "source": [
        "# Count tweets with offensive language but no hate speech\n",
        "offensive_no_hate = dataset[(dataset['offensive_language'] > 0) & (dataset['hate_speech'] == 0)].shape[0]\n",
        "\n",
        "# Total number of tweets\n",
        "total_tweets = dataset.shape[0]\n",
        "\n",
        "# Calculate the percentage of tweets with offensive language but no hate speech\n",
        "percentage_offensive_no_hate = (offensive_no_hate / total_tweets) * 100\n",
        "\n",
        "# Print the result\n",
        "print(f\"Percentage of tweets with offensive language but no hate speech: {percentage_offensive_no_hate:.2f}%\")\n",
        "#The entire code segment you provided effectively filters the dataset to analyze the specific characteristics of tweets with offensive language that do not contain hate speech and calculates their percentage. This is a common practice in data analysis for understanding the distribution of different types of content within a dataset."
      ]
    },
    {
      "cell_type": "code",
      "execution_count": null,
      "metadata": {
        "colab": {
          "base_uri": "https://localhost:8080/"
        },
        "id": "ngomMxWh1mYJ",
        "outputId": "a0a85550-f635-4477-a81b-06e3202359c9"
      },
      "outputs": [
        {
          "name": "stdout",
          "output_type": "stream",
          "text": [
            "Number of neutral flagged instances (count > 1 and class == 0): 1430\n"
          ]
        }
      ],
      "source": [
        "neutral_flagged_multiple = len(dataset[(dataset['count'] > 1) & (dataset['class'] == 0)])\n",
        "print(f\"Number of neutral flagged instances (count > 1 and class == 0): {neutral_flagged_multiple}\")\n",
        "# to check which has count greater than 1 and class 0 we use len to get count of rows directly from filtered dataframe\n"
      ]
    },
    {
      "cell_type": "code",
      "execution_count": null,
      "metadata": {
        "colab": {
          "base_uri": "https://localhost:8080/"
        },
        "id": "K-Ou5R3Y3Mmg",
        "outputId": "fbdb0cc2-b7a7-488d-849a-86af7b8aefc8"
      },
      "outputs": [
        {
          "name": "stdout",
          "output_type": "stream",
          "text": [
            "Correlation between count and class:\n",
            "          count     class\n",
            "count  1.000000 -0.010029\n",
            "class -0.010029  1.000000\n"
          ]
        }
      ],
      "source": [
        "# Calculate the correlation\n",
        "correlation_count_class = dataset[['count', 'class']].corr()\n",
        "\n",
        "# Print the correlation matrix\n",
        "print(\"Correlation between count and class:\")\n",
        "print(correlation_count_class)\n"
      ]
    },
    {
      "cell_type": "code",
      "execution_count": null,
      "metadata": {
        "colab": {
          "base_uri": "https://localhost:8080/",
          "height": 521
        },
        "id": "Xr7zEMnUG826",
        "outputId": "e8350e5c-b883-4628-edb8-da97465126da"
      },
      "outputs": [
        {
          "data": {
            "image/png": "[encoded data removed]",
            "text/plain": [
              "<Figure size 800x600 with 1 Axes>"
            ]
          },
          "metadata": {},
          "output_type": "display_data"
        }
      ],
      "source": [
        "import matplotlib.pyplot as plt\n",
        "\n",
        "# Assuming 'class' is the column you want to visualize\n",
        "class_counts = dataset['class'].value_counts()\n",
        "\n",
        "# Create a pie chart\n",
        "plt.figure(figsize=(8, 6))\n",
        "plt.pie(class_counts, labels=class_counts.index, autopct='%1.1f%%', startangle=90)\n",
        "plt.title('Distribution of Classes in Dataset')\n",
        "plt.axis('equal')  # Equal aspect ratio ensures that pie is drawn as a circle.\n",
        "plt.show()\n"
      ]
    },
    {
      "cell_type": "code",
      "execution_count": null,
      "metadata": {
        "colab": {
          "base_uri": "https://localhost:8080/"
        },
        "id": "JPVuZgPriJS0",
        "outputId": "a52ca1e4-2928-4ec1-fe91-d07069894624"
      },
      "outputs": [
        {
          "name": "stdout",
          "output_type": "stream",
          "text": [
            "Requirement already satisfied: nltk in /usr/local/lib/python3.10/dist-packages (3.8.1)\n",
            "Requirement already satisfied: click in /usr/local/lib/python3.10/dist-packages (from nltk) (8.1.7)\n",
            "Requirement already satisfied: joblib in /usr/local/lib/python3.10/dist-packages (from nltk) (1.4.2)\n",
            "Requirement already satisfied: regex>=2021.8.3 in /usr/local/lib/python3.10/dist-packages (from nltk) (2024.9.11)\n",
            "Requirement already satisfied: tqdm in /usr/local/lib/python3.10/dist-packages (from nltk) (4.66.5)\n"
          ]
        },
        {
          "name": "stderr",
          "output_type": "stream",
          "text": [
            "[nltk_data] Downloading package stopwords to /root/nltk_data...\n",
            "[nltk_data]   Unzipping corpora/stopwords.zip.\n"
          ]
        },
        {
          "name": "stdout",
          "output_type": "stream",
          "text": [
            "0    rt woman shouldnt complain cleaning house amp ...\n",
            "1    rt boy dats coldtyga dwn bad cuffin dat hoe st...\n",
            "2    rt dawg rt ever fuck bitch start cry confused ...\n",
            "3                                  rt look like tranny\n",
            "4    rt shit hear might true might faker bitch told ya\n",
            "Name: tweet, dtype: object\n"
          ]
        }
      ],
      "source": [
        "import re\n",
        "import string\n",
        "from nltk.corpus import stopwords # Import the stopwords function\n",
        "\n",
        "!pip install nltk\n",
        "import nltk\n",
        "nltk.download('stopwords')\n",
        "\n",
        "# Define a set of stopwords\n",
        "stop_words = set(stopwords.words('english'))\n",
        "\n",
        "# Function to clean a single tweet\n",
        "def clean_tweet(text):\n",
        "    # Convert to lowercase\n",
        "    text = text.lower()\n",
        "\n",
        "    # Remove URLs\n",
        "    text = re.sub(r'http\\S+|www\\S+|https\\S+', '', text)\n",
        "\n",
        "    # Remove @mentions and hashtags\n",
        "    text = re.sub(r'\\@\\w+|\\#', '', text)\n",
        "\n",
        "    # Remove punctuation\n",
        "    text = text.translate(str.maketrans('', '', string.punctuation))\n",
        "\n",
        "    # Remove numbers\n",
        "    text = re.sub(r'\\d+', '', text)\n",
        "\n",
        "    # Remove extra whitespace\n",
        "    text = \" \".join(text.split())\n",
        "\n",
        "    # Remove stopwords\n",
        "    text = \" \".join([word for word in text.split() if word not in stop_words])\n",
        "\n",
        "    return text\n",
        "\n",
        "# Apply the cleaning function to the 'tweet' column\n",
        "df['tweet'] = df['tweet'].apply(clean_tweet)\n",
        "\n",
        "# Check the cleaned tweets\n",
        "print(df['tweet'].head())"
      ]
    },
    {
      "source": [
        "# Load or create your dataframe here\n",
        "# Example using pandas:\n",
        "import pandas as pd\n",
        "\n",
        "# Assuming your data is in a CSV file named 'data.csv'\n",
        "df = pd.read_csv('/labeled_data.csv')\n",
        "\n",
        "# Rest of your code including stemming operation\n",
        "from nltk.stem import PorterStemmer\n",
        "stemmer = PorterStemmer()\n",
        "\n",
        "def stem_text(text):\n",
        "    return \" \".join([stemmer.stem(word) for word in text.split()])\n",
        "\n",
        "# Apply stemming after stopword removal\n",
        "df['tweet'] = df['tweet'].apply(lambda x: stem_text(x))"
      ],
      "cell_type": "code",
      "metadata": {
        "id": "yYvbzNyl9zgS"
      },
      "execution_count": null,
      "outputs": []
    },
    {
      "cell_type": "code",
      "execution_count": null,
      "metadata": {
        "id": "5MC_khs8DXNx"
      },
      "outputs": [],
      "source": [
        "numeric_cols = df.select_dtypes(include=['float64', 'int64']).columns\n",
        "non_numeric_cols = df.select_dtypes(exclude=['float64', 'int64']).columns"
      ]
    },
    {
      "cell_type": "code",
      "execution_count": null,
      "metadata": {
        "id": "L1GV0i5KD0Qv"
      },
      "outputs": [],
      "source": [
        "#Impute missing values in non-numeric columns using the 'most_frequent' strategy\n",
        "import pandas as pd\n",
        "from sklearn.impute import SimpleImputer\n",
        "non_numeric_imputer = SimpleImputer(strategy='most_frequent')\n",
        "df_non_numeric_imputed = pd.DataFrame(non_numeric_imputer.fit_transform(df[non_numeric_cols]), columns=non_numeric_cols) # Changed nonnumeric_cols to non_numeric_cols"
      ]
    },
    {
      "cell_type": "code",
      "execution_count": null,
      "metadata": {
        "id": "ivye3HyWiXvg"
      },
      "outputs": [],
      "source": [
        "#Impute missing values in numeric columns using the 'mean' strategy\n",
        "import pandas as pd\n",
        "from sklearn.impute import SimpleImputer\n",
        "\n",
        "numeric_imputer = SimpleImputer(strategy='mean') # Moved this line up\n",
        "df_numeric_imputed = pd.DataFrame(numeric_imputer.fit_transform(df[numeric_cols]), columns=numeric_cols)\n",
        "\n",
        "#Combine both numeric and non-numeric imputed data\n",
        "df_imputed = pd.concat([df_numeric_imputed, df_non_numeric_imputed], axis=1)"
      ]
    },
    {
      "cell_type": "code",
      "execution_count": null,
      "metadata": {
        "colab": {
          "base_uri": "https://localhost:8080/"
        },
        "id": "grNIsEGpE0NP",
        "outputId": "37e87a69-4f3a-46a7-f67f-79be5ed4fa23"
      },
      "outputs": [
        {
          "name": "stdout",
          "output_type": "stream",
          "text": [
            "   Unnamed: 0  count  hate_speech  offensive_language  neither  class  \\\n",
            "0         0.0    3.0          0.0                 0.0      3.0    2.0   \n",
            "1         1.0    3.0          0.0                 3.0      0.0    1.0   \n",
            "2         2.0    3.0          0.0                 3.0      0.0    1.0   \n",
            "3         3.0    3.0          0.0                 2.0      1.0    1.0   \n",
            "4         4.0    6.0          0.0                 6.0      0.0    1.0   \n",
            "\n",
            "                                               tweet  \n",
            "0  !!! RT @mayasolovely: As a woman you shouldn't...  \n",
            "1  !!!!! RT @mleew17: boy dats cold...tyga dwn ba...  \n",
            "2  !!!!!!! RT @UrKindOfBrand Dawg!!!! RT @80sbaby...  \n",
            "3  !!!!!!!!! RT @C_G_Anderson: @viva_based she lo...  \n",
            "4  !!!!!!!!!!!!! RT @ShenikaRoberts: The shit you...  \n"
          ]
        }
      ],
      "source": [
        "# Check the transformed dataset\n",
        "print(df_imputed.head())"
      ]
    },
    {
      "cell_type": "code",
      "execution_count": null,
      "metadata": {
        "id": "gCjmt3vSFyz8"
      },
      "outputs": [],
      "source": [
        "import pandas as pd\n",
        "import numpy as np\n",
        "from sklearn.feature_extraction.text import CountVectorizer\n",
        "from sklearn.model_selection import train_test_split\n",
        "from sklearn.tree import DecisionTreeClassifier\n"
      ]
    },
    {
      "cell_type": "code",
      "execution_count": null,
      "metadata": {
        "colab": {
          "base_uri": "https://localhost:8080/"
        },
        "id": "2icPizaXF62M",
        "outputId": "57a191c0-305c-4f18-cafd-6d81bcb3b9e8"
      },
      "outputs": [
        {
          "name": "stderr",
          "output_type": "stream",
          "text": [
            "[nltk_data] Downloading package stopwords to /root/nltk_data...\n",
            "[nltk_data]   Package stopwords is already up-to-date!\n"
          ]
        },
        {
          "data": {
            "text/plain": [
              "True"
            ]
          },
          "execution_count": 70,
          "metadata": {},
          "output_type": "execute_result"
        }
      ],
      "source": [
        "import re\n",
        "import nltk\n",
        "from nltk.util import pr\n",
        "stemmer=nltk.SnowballStemmer(\"english\")\n",
        "from nltk.corpus import stopwords\n",
        "import string\n",
        "nltk.download('stopwords')"
      ]
    },
    {
      "cell_type": "code",
      "execution_count": null,
      "metadata": {
        "id": "VTk0tsCQGCm4"
      },
      "outputs": [],
      "source": [
        "stopword=set(stopwords.words('english'))"
      ]
    },
    {
      "cell_type": "code",
      "execution_count": null,
      "metadata": {
        "id": "eqKB2KoTGLEL"
      },
      "outputs": [],
      "source": [
        "dataset=pd.read_csv(\"/content/labeled_data (1).csv\")"
      ]
    },
    {
      "cell_type": "code",
      "execution_count": null,
      "metadata": {
        "colab": {
          "base_uri": "https://localhost:8080/"
        },
        "id": "LN34_ertGTPt",
        "outputId": "589bcad4-8951-4c5d-dbf1-e381246ceb35"
      },
      "outputs": [
        {
          "name": "stdout",
          "output_type": "stream",
          "text": [
            "   Unnamed: 0  count  hate_speech  offensive_language  neither  class  \\\n",
            "0           0      3            0                   0        3      2   \n",
            "1           1      3            0                   3        0      1   \n",
            "2           2      3            0                   3        0      1   \n",
            "3           3      3            0                   2        1      1   \n",
            "4           4      6            0                   6        0      1   \n",
            "\n",
            "                                               tweet  \n",
            "0  !!! RT @mayasolovely: As a woman you shouldn't...  \n",
            "1  !!!!! RT @mleew17: boy dats cold...tyga dwn ba...  \n",
            "2  !!!!!!! RT @UrKindOfBrand Dawg!!!! RT @80sbaby...  \n",
            "3  !!!!!!!!! RT @C_G_Anderson: @viva_based she lo...  \n",
            "4  !!!!!!!!!!!!! RT @ShenikaRoberts: The shit you...  \n"
          ]
        }
      ],
      "source": [
        "print(dataset.head())"
      ]
    },
    {
      "cell_type": "code",
      "execution_count": null,
      "metadata": {
        "id": "MRp5r_YnGU8i"
      },
      "outputs": [],
      "source": [
        "dataset['labels']=dataset['class'].map({0:\"Hate Speech Detected\", 1:\"Offensive Language Detected\", 2:\"No Hate Speech and Offensive Language Detected\"}) # Changed 'df' to 'dataset' to reference the correct DataFrame. Also changed key 3 to 2 to match the data."
      ]
    },
    {
      "cell_type": "code",
      "execution_count": null,
      "metadata": {
        "colab": {
          "base_uri": "https://localhost:8080/"
        },
        "id": "nk4o08A9GjS8",
        "outputId": "07b0ac07-6f49-413f-b25e-769e88a6db35"
      },
      "outputs": [
        {
          "name": "stdout",
          "output_type": "stream",
          "text": [
            "   Unnamed: 0  count  hate_speech  offensive_language  neither  class  \\\n",
            "0           0      3            0                   0        3      2   \n",
            "1           1      3            0                   3        0      1   \n",
            "2           2      3            0                   3        0      1   \n",
            "3           3      3            0                   2        1      1   \n",
            "4           4      6            0                   6        0      1   \n",
            "\n",
            "                                               tweet  \n",
            "0  !!! RT @mayasolovely: As a woman you shouldn't...  \n",
            "1  !!!!! RT @mleew17: boy dats cold...tyga dwn ba...  \n",
            "2  !!!!!!! RT @UrKindOfBrand Dawg!!!! RT @80sbaby...  \n",
            "3  !!!!!!!!! RT @C_G_Anderson: @viva_based she lo...  \n",
            "4  !!!!!!!!!!!!! RT @ShenikaRoberts: The shit you...  \n"
          ]
        }
      ],
      "source": [
        "print(dataset.head())"
      ]
    },
    {
      "cell_type": "code",
      "execution_count": null,
      "metadata": {
        "colab": {
          "base_uri": "https://localhost:8080/"
        },
        "id": "Yj9Llot7GtWZ",
        "outputId": "ba9a0c31-bf50-4d4f-c260-23be10350f51"
      },
      "outputs": [
        {
          "name": "stdout",
          "output_type": "stream",
          "text": [
            "                                               tweet  \\\n",
            "0  !!! RT @mayasolovely: As a woman you shouldn't...   \n",
            "1  !!!!! RT @mleew17: boy dats cold...tyga dwn ba...   \n",
            "2  !!!!!!! RT @UrKindOfBrand Dawg!!!! RT @80sbaby...   \n",
            "3  !!!!!!!!! RT @C_G_Anderson: @viva_based she lo...   \n",
            "4  !!!!!!!!!!!!! RT @ShenikaRoberts: The shit you...   \n",
            "\n",
            "                                           labels  \n",
            "0  No Hate Speech and Offensive Language Detected  \n",
            "1                     Offensive Language Detected  \n",
            "2                     Offensive Language Detected  \n",
            "3                     Offensive Language Detected  \n",
            "4                     Offensive Language Detected  \n"
          ]
        }
      ],
      "source": [
        "dataset=dataset[['tweet','labels']]\n",
        "print(dataset.head())"
      ]
    },
    {
      "cell_type": "code",
      "execution_count": null,
      "metadata": {
        "id": "dJ9xESQJG1xT"
      },
      "outputs": [],
      "source": [
        "x=np.array(dataset[\"tweet\"])\n",
        "y=np.array(dataset[\"labels\"])\n",
        "\n",
        "cv=CountVectorizer()\n",
        "x = cv.fit_transform(x) # Changed from '-' to '=' to perform assignment.\n",
        "x_train , x_test, y_train, y_test=train_test_split(x,y,test_size=0.33, random_state=42)"
      ]
    },
    {
      "cell_type": "code",
      "source": [
        "# Load dataset\n",
        "import pandas as pd\n",
        "from sklearn.utils import resample # Import resample\n",
        "\n",
        "df = pd.read_csv('/labeled_data.csv')  # Replace with your actual file path\n",
        "\n",
        "# Check the column names in your DataFrame\n",
        "print(df.columns)\n",
        "\n",
        "# Assuming the correct column name is 'class', replace 'label' with 'class'\n",
        "# in the following lines\n",
        "df_majority = df[df['class'] == 0] # Change 'label' to 'class'\n",
        "df_minority = df[df['class'] == 1] # Change 'label' to 'class'\n",
        "df_minority_upsampled = resample(df_minority, replace=True, n_samples=len(df_majority), random_state=42)\n",
        "df_balanced = pd.concat([df_majority, df_minority_upsampled]).sample(frac=1, random_state=42).reset_index(drop=True)\n"
      ],
      "metadata": {
        "colab": {
          "base_uri": "https://localhost:8080/"
        },
        "id": "J4ChJgAguONs",
        "outputId": "e603844f-925e-4735-f2fb-05c5693a14eb"
      },
      "execution_count": null,
      "outputs": [
        {
          "output_type": "stream",
          "name": "stdout",
          "text": [
            "Index(['Unnamed: 0', 'count', 'hate_speech', 'offensive_language', 'neither',\n",
            "       'class', 'tweet'],\n",
            "      dtype='object')\n"
          ]
        }
      ]
    },
    {
      "cell_type": "code",
      "source": [
        "#Adding Dropout Layers to Avoid Overfitting\n",
        "from tensorflow.keras.layers import Dense, Dropout\n",
        "\n",
        "# Define model architecture with Dropout layers\n",
        "model = Sequential()\n",
        "model.add(Dense(128, activation='relu', input_shape=(input_shape,)))\n",
        "model.add(Dropout(0.5))  # Dropout to prevent overfitting\n",
        "model.add(Dense(64, activation='relu'))\n",
        "model.add(Dropout(0.5))\n",
        "model.add(Dense(1, activation='sigmoid'))\n",
        "\n",
        "# Compile model\n",
        "model.compile(optimizer='adam', loss='binary_crossentropy', metrics=['accuracy'])\n"
      ],
      "metadata": {
        "id": "TNRQnHzKzqST"
      },
      "execution_count": null,
      "outputs": []
    },
    {
      "cell_type": "code",
      "source": [
        "# Make sure you have imported necessary libraries\n",
        "import pandas as pd\n",
        "import numpy as np\n",
        "from sklearn.model_selection import train_test_split\n",
        "from sklearn.feature_extraction.text import CountVectorizer\n",
        "from sklearn.tree import DecisionTreeClassifier\n",
        "\n",
        "# Assuming 'df_balanced' is your DataFrame from the previous cell (ipython-input-12-bd032a764964)\n",
        "dataset = df_balanced  # Assign the balanced DataFrame to 'dataset'\n",
        "\n",
        "# Cell 1: Feature extraction and train-test split\n",
        "x = np.array(dataset[\"tweet\"])\n",
        "# Change 'labels' to the actual name of the column containing your target variable\n",
        "# It's likely 'class' based on the previous code snippets.\n",
        "y = np.array(dataset[\"class\"])  # Changed from 'labels' to 'class'\n",
        "\n",
        "cv = CountVectorizer()\n",
        "x = cv.fit_transform(x)\n",
        "x_train, x_test, y_train, y_test = train_test_split(x, y, test_size=0.33, random_state=42)\n",
        "\n",
        "# Cell 2: Model training\n",
        "clf = DecisionTreeClassifier()\n",
        "clf.fit(x_train, y_train)  # x_train and y_train are now defined\n"
      ],
      "metadata": {
        "colab": {
          "base_uri": "https://localhost:8080/",
          "height": 80
        },
        "id": "-Jb9QnFuzRtK",
        "outputId": "2aaa0562-1f57-4f98-941f-8dfa2c1811e6"
      },
      "execution_count": null,
      "outputs": [
        {
          "output_type": "execute_result",
          "data": {
            "text/plain": [
              "DecisionTreeClassifier()"
            ],
            "text/html": [
              "<style>#sk-container-id-2 {\n",
              "  /* Definition of color scheme common for light and dark mode */\n",
              "  --sklearn-color-text: black;\n",
              "  --sklearn-color-line: gray;\n",
              "  /* Definition of color scheme for unfitted estimators */\n",
              "  --sklearn-color-unfitted-level-0: #fff5e6;\n",
              "  --sklearn-color-unfitted-level-1: #f6e4d2;\n",
              "  --sklearn-color-unfitted-level-2: #ffe0b3;\n",
              "  --sklearn-color-unfitted-level-3: chocolate;\n",
              "  /* Definition of color scheme for fitted estimators */\n",
              "  --sklearn-color-fitted-level-0: #f0f8ff;\n",
              "  --sklearn-color-fitted-level-1: #d4ebff;\n",
              "  --sklearn-color-fitted-level-2: #b3dbfd;\n",
              "  --sklearn-color-fitted-level-3: cornflowerblue;\n",
              "\n",
              "  /* Specific color for light theme */\n",
              "  --sklearn-color-text-on-default-background: var(--sg-text-color, var(--theme-code-foreground, var(--jp-content-font-color1, black)));\n",
              "  --sklearn-color-background: var(--sg-background-color, var(--theme-background, var(--jp-layout-color0, white)));\n",
              "  --sklearn-color-border-box: var(--sg-text-color, var(--theme-code-foreground, var(--jp-content-font-color1, black)));\n",
              "  --sklearn-color-icon: #696969;\n",
              "\n",
              "  @media (prefers-color-scheme: dark) {\n",
              "    /* Redefinition of color scheme for dark theme */\n",
              "    --sklearn-color-text-on-default-background: var(--sg-text-color, var(--theme-code-foreground, var(--jp-content-font-color1, white)));\n",
              "    --sklearn-color-background: var(--sg-background-color, var(--theme-background, var(--jp-layout-color0, #111)));\n",
              "    --sklearn-color-border-box: var(--sg-text-color, var(--theme-code-foreground, var(--jp-content-font-color1, white)));\n",
              "    --sklearn-color-icon: #878787;\n",
              "  }\n",
              "}\n",
              "\n",
              "#sk-container-id-2 {\n",
              "  color: var(--sklearn-color-text);\n",
              "}\n",
              "\n",
              "#sk-container-id-2 pre {\n",
              "  padding: 0;\n",
              "}\n",
              "\n",
              "#sk-container-id-2 input.sk-hidden--visually {\n",
              "  border: 0;\n",
              "  clip: rect(1px 1px 1px 1px);\n",
              "  clip: rect(1px, 1px, 1px, 1px);\n",
              "  height: 1px;\n",
              "  margin: -1px;\n",
              "  overflow: hidden;\n",
              "  padding: 0;\n",
              "  position: absolute;\n",
              "  width: 1px;\n",
              "}\n",
              "\n",
              "#sk-container-id-2 div.sk-dashed-wrapped {\n",
              "  border: 1px dashed var(--sklearn-color-line);\n",
              "  margin: 0 0.4em 0.5em 0.4em;\n",
              "  box-sizing: border-box;\n",
              "  padding-bottom: 0.4em;\n",
              "  background-color: var(--sklearn-color-background);\n",
              "}\n",
              "\n",
              "#sk-container-id-2 div.sk-container {\n",
              "  /* jupyter's `normalize.less` sets `[hidden] { display: none; }`\n",
              "     but bootstrap.min.css set `[hidden] { display: none !important; }`\n",
              "     so we also need the `!important` here to be able to override the\n",
              "     default hidden behavior on the sphinx rendered scikit-learn.org.\n",
              "     See: https://github.com/scikit-learn/scikit-learn/issues/21755 */\n",
              "  display: inline-block !important;\n",
              "  position: relative;\n",
              "}\n",
              "\n",
              "#sk-container-id-2 div.sk-text-repr-fallback {\n",
              "  display: none;\n",
              "}\n",
              "\n",
              "div.sk-parallel-item,\n",
              "div.sk-serial,\n",
              "div.sk-item {\n",
              "  /* draw centered vertical line to link estimators */\n",
              "  background-image: linear-gradient(var(--sklearn-color-text-on-default-background), var(--sklearn-color-text-on-default-background));\n",
              "  background-size: 2px 100%;\n",
              "  background-repeat: no-repeat;\n",
              "  background-position: center center;\n",
              "}\n",
              "\n",
              "/* Parallel-specific style estimator block */\n",
              "\n",
              "#sk-container-id-2 div.sk-parallel-item::after {\n",
              "  content: \"\";\n",
              "  width: 100%;\n",
              "  border-bottom: 2px solid var(--sklearn-color-text-on-default-background);\n",
              "  flex-grow: 1;\n",
              "}\n",
              "\n",
              "#sk-container-id-2 div.sk-parallel {\n",
              "  display: flex;\n",
              "  align-items: stretch;\n",
              "  justify-content: center;\n",
              "  background-color: var(--sklearn-color-background);\n",
              "  position: relative;\n",
              "}\n",
              "\n",
              "#sk-container-id-2 div.sk-parallel-item {\n",
              "  display: flex;\n",
              "  flex-direction: column;\n",
              "}\n",
              "\n",
              "#sk-container-id-2 div.sk-parallel-item:first-child::after {\n",
              "  align-self: flex-end;\n",
              "  width: 50%;\n",
              "}\n",
              "\n",
              "#sk-container-id-2 div.sk-parallel-item:last-child::after {\n",
              "  align-self: flex-start;\n",
              "  width: 50%;\n",
              "}\n",
              "\n",
              "#sk-container-id-2 div.sk-parallel-item:only-child::after {\n",
              "  width: 0;\n",
              "}\n",
              "\n",
              "/* Serial-specific style estimator block */\n",
              "\n",
              "#sk-container-id-2 div.sk-serial {\n",
              "  display: flex;\n",
              "  flex-direction: column;\n",
              "  align-items: center;\n",
              "  background-color: var(--sklearn-color-background);\n",
              "  padding-right: 1em;\n",
              "  padding-left: 1em;\n",
              "}\n",
              "\n",
              "\n",
              "/* Toggleable style: style used for estimator/Pipeline/ColumnTransformer box that is\n",
              "clickable and can be expanded/collapsed.\n",
              "- Pipeline and ColumnTransformer use this feature and define the default style\n",
              "- Estimators will overwrite some part of the style using the `sk-estimator` class\n",
              "*/\n",
              "\n",
              "/* Pipeline and ColumnTransformer style (default) */\n",
              "\n",
              "#sk-container-id-2 div.sk-toggleable {\n",
              "  /* Default theme specific background. It is overwritten whether we have a\n",
              "  specific estimator or a Pipeline/ColumnTransformer */\n",
              "  background-color: var(--sklearn-color-background);\n",
              "}\n",
              "\n",
              "/* Toggleable label */\n",
              "#sk-container-id-2 label.sk-toggleable__label {\n",
              "  cursor: pointer;\n",
              "  display: block;\n",
              "  width: 100%;\n",
              "  margin-bottom: 0;\n",
              "  padding: 0.5em;\n",
              "  box-sizing: border-box;\n",
              "  text-align: center;\n",
              "}\n",
              "\n",
              "#sk-container-id-2 label.sk-toggleable__label-arrow:before {\n",
              "  /* Arrow on the left of the label */\n",
              "  content: \"▸\";\n",
              "  float: left;\n",
              "  margin-right: 0.25em;\n",
              "  color: var(--sklearn-color-icon);\n",
              "}\n",
              "\n",
              "#sk-container-id-2 label.sk-toggleable__label-arrow:hover:before {\n",
              "  color: var(--sklearn-color-text);\n",
              "}\n",
              "\n",
              "/* Toggleable content - dropdown */\n",
              "\n",
              "#sk-container-id-2 div.sk-toggleable__content {\n",
              "  max-height: 0;\n",
              "  max-width: 0;\n",
              "  overflow: hidden;\n",
              "  text-align: left;\n",
              "  /* unfitted */\n",
              "  background-color: var(--sklearn-color-unfitted-level-0);\n",
              "}\n",
              "\n",
              "#sk-container-id-2 div.sk-toggleable__content.fitted {\n",
              "  /* fitted */\n",
              "  background-color: var(--sklearn-color-fitted-level-0);\n",
              "}\n",
              "\n",
              "#sk-container-id-2 div.sk-toggleable__content pre {\n",
              "  margin: 0.2em;\n",
              "  border-radius: 0.25em;\n",
              "  color: var(--sklearn-color-text);\n",
              "  /* unfitted */\n",
              "  background-color: var(--sklearn-color-unfitted-level-0);\n",
              "}\n",
              "\n",
              "#sk-container-id-2 div.sk-toggleable__content.fitted pre {\n",
              "  /* unfitted */\n",
              "  background-color: var(--sklearn-color-fitted-level-0);\n",
              "}\n",
              "\n",
              "#sk-container-id-2 input.sk-toggleable__control:checked~div.sk-toggleable__content {\n",
              "  /* Expand drop-down */\n",
              "  max-height: 200px;\n",
              "  max-width: 100%;\n",
              "  overflow: auto;\n",
              "}\n",
              "\n",
              "#sk-container-id-2 input.sk-toggleable__control:checked~label.sk-toggleable__label-arrow:before {\n",
              "  content: \"▾\";\n",
              "}\n",
              "\n",
              "/* Pipeline/ColumnTransformer-specific style */\n",
              "\n",
              "#sk-container-id-2 div.sk-label input.sk-toggleable__control:checked~label.sk-toggleable__label {\n",
              "  color: var(--sklearn-color-text);\n",
              "  background-color: var(--sklearn-color-unfitted-level-2);\n",
              "}\n",
              "\n",
              "#sk-container-id-2 div.sk-label.fitted input.sk-toggleable__control:checked~label.sk-toggleable__label {\n",
              "  background-color: var(--sklearn-color-fitted-level-2);\n",
              "}\n",
              "\n",
              "/* Estimator-specific style */\n",
              "\n",
              "/* Colorize estimator box */\n",
              "#sk-container-id-2 div.sk-estimator input.sk-toggleable__control:checked~label.sk-toggleable__label {\n",
              "  /* unfitted */\n",
              "  background-color: var(--sklearn-color-unfitted-level-2);\n",
              "}\n",
              "\n",
              "#sk-container-id-2 div.sk-estimator.fitted input.sk-toggleable__control:checked~label.sk-toggleable__label {\n",
              "  /* fitted */\n",
              "  background-color: var(--sklearn-color-fitted-level-2);\n",
              "}\n",
              "\n",
              "#sk-container-id-2 div.sk-label label.sk-toggleable__label,\n",
              "#sk-container-id-2 div.sk-label label {\n",
              "  /* The background is the default theme color */\n",
              "  color: var(--sklearn-color-text-on-default-background);\n",
              "}\n",
              "\n",
              "/* On hover, darken the color of the background */\n",
              "#sk-container-id-2 div.sk-label:hover label.sk-toggleable__label {\n",
              "  color: var(--sklearn-color-text);\n",
              "  background-color: var(--sklearn-color-unfitted-level-2);\n",
              "}\n",
              "\n",
              "/* Label box, darken color on hover, fitted */\n",
              "#sk-container-id-2 div.sk-label.fitted:hover label.sk-toggleable__label.fitted {\n",
              "  color: var(--sklearn-color-text);\n",
              "  background-color: var(--sklearn-color-fitted-level-2);\n",
              "}\n",
              "\n",
              "/* Estimator label */\n",
              "\n",
              "#sk-container-id-2 div.sk-label label {\n",
              "  font-family: monospace;\n",
              "  font-weight: bold;\n",
              "  display: inline-block;\n",
              "  line-height: 1.2em;\n",
              "}\n",
              "\n",
              "#sk-container-id-2 div.sk-label-container {\n",
              "  text-align: center;\n",
              "}\n",
              "\n",
              "/* Estimator-specific */\n",
              "#sk-container-id-2 div.sk-estimator {\n",
              "  font-family: monospace;\n",
              "  border: 1px dotted var(--sklearn-color-border-box);\n",
              "  border-radius: 0.25em;\n",
              "  box-sizing: border-box;\n",
              "  margin-bottom: 0.5em;\n",
              "  /* unfitted */\n",
              "  background-color: var(--sklearn-color-unfitted-level-0);\n",
              "}\n",
              "\n",
              "#sk-container-id-2 div.sk-estimator.fitted {\n",
              "  /* fitted */\n",
              "  background-color: var(--sklearn-color-fitted-level-0);\n",
              "}\n",
              "\n",
              "/* on hover */\n",
              "#sk-container-id-2 div.sk-estimator:hover {\n",
              "  /* unfitted */\n",
              "  background-color: var(--sklearn-color-unfitted-level-2);\n",
              "}\n",
              "\n",
              "#sk-container-id-2 div.sk-estimator.fitted:hover {\n",
              "  /* fitted */\n",
              "  background-color: var(--sklearn-color-fitted-level-2);\n",
              "}\n",
              "\n",
              "/* Specification for estimator info (e.g. \"i\" and \"?\") */\n",
              "\n",
              "/* Common style for \"i\" and \"?\" */\n",
              "\n",
              ".sk-estimator-doc-link,\n",
              "a:link.sk-estimator-doc-link,\n",
              "a:visited.sk-estimator-doc-link {\n",
              "  float: right;\n",
              "  font-size: smaller;\n",
              "  line-height: 1em;\n",
              "  font-family: monospace;\n",
              "  background-color: var(--sklearn-color-background);\n",
              "  border-radius: 1em;\n",
              "  height: 1em;\n",
              "  width: 1em;\n",
              "  text-decoration: none !important;\n",
              "  margin-left: 1ex;\n",
              "  /* unfitted */\n",
              "  border: var(--sklearn-color-unfitted-level-1) 1pt solid;\n",
              "  color: var(--sklearn-color-unfitted-level-1);\n",
              "}\n",
              "\n",
              ".sk-estimator-doc-link.fitted,\n",
              "a:link.sk-estimator-doc-link.fitted,\n",
              "a:visited.sk-estimator-doc-link.fitted {\n",
              "  /* fitted */\n",
              "  border: var(--sklearn-color-fitted-level-1) 1pt solid;\n",
              "  color: var(--sklearn-color-fitted-level-1);\n",
              "}\n",
              "\n",
              "/* On hover */\n",
              "div.sk-estimator:hover .sk-estimator-doc-link:hover,\n",
              ".sk-estimator-doc-link:hover,\n",
              "div.sk-label-container:hover .sk-estimator-doc-link:hover,\n",
              ".sk-estimator-doc-link:hover {\n",
              "  /* unfitted */\n",
              "  background-color: var(--sklearn-color-unfitted-level-3);\n",
              "  color: var(--sklearn-color-background);\n",
              "  text-decoration: none;\n",
              "}\n",
              "\n",
              "div.sk-estimator.fitted:hover .sk-estimator-doc-link.fitted:hover,\n",
              ".sk-estimator-doc-link.fitted:hover,\n",
              "div.sk-label-container:hover .sk-estimator-doc-link.fitted:hover,\n",
              ".sk-estimator-doc-link.fitted:hover {\n",
              "  /* fitted */\n",
              "  background-color: var(--sklearn-color-fitted-level-3);\n",
              "  color: var(--sklearn-color-background);\n",
              "  text-decoration: none;\n",
              "}\n",
              "\n",
              "/* Span, style for the box shown on hovering the info icon */\n",
              ".sk-estimator-doc-link span {\n",
              "  display: none;\n",
              "  z-index: 9999;\n",
              "  position: relative;\n",
              "  font-weight: normal;\n",
              "  right: .2ex;\n",
              "  padding: .5ex;\n",
              "  margin: .5ex;\n",
              "  width: min-content;\n",
              "  min-width: 20ex;\n",
              "  max-width: 50ex;\n",
              "  color: var(--sklearn-color-text);\n",
              "  box-shadow: 2pt 2pt 4pt #999;\n",
              "  /* unfitted */\n",
              "  background: var(--sklearn-color-unfitted-level-0);\n",
              "  border: .5pt solid var(--sklearn-color-unfitted-level-3);\n",
              "}\n",
              "\n",
              ".sk-estimator-doc-link.fitted span {\n",
              "  /* fitted */\n",
              "  background: var(--sklearn-color-fitted-level-0);\n",
              "  border: var(--sklearn-color-fitted-level-3);\n",
              "}\n",
              "\n",
              ".sk-estimator-doc-link:hover span {\n",
              "  display: block;\n",
              "}\n",
              "\n",
              "/* \"?\"-specific style due to the `<a>` HTML tag */\n",
              "\n",
              "#sk-container-id-2 a.estimator_doc_link {\n",
              "  float: right;\n",
              "  font-size: 1rem;\n",
              "  line-height: 1em;\n",
              "  font-family: monospace;\n",
              "  background-color: var(--sklearn-color-background);\n",
              "  border-radius: 1rem;\n",
              "  height: 1rem;\n",
              "  width: 1rem;\n",
              "  text-decoration: none;\n",
              "  /* unfitted */\n",
              "  color: var(--sklearn-color-unfitted-level-1);\n",
              "  border: var(--sklearn-color-unfitted-level-1) 1pt solid;\n",
              "}\n",
              "\n",
              "#sk-container-id-2 a.estimator_doc_link.fitted {\n",
              "  /* fitted */\n",
              "  border: var(--sklearn-color-fitted-level-1) 1pt solid;\n",
              "  color: var(--sklearn-color-fitted-level-1);\n",
              "}\n",
              "\n",
              "/* On hover */\n",
              "#sk-container-id-2 a.estimator_doc_link:hover {\n",
              "  /* unfitted */\n",
              "  background-color: var(--sklearn-color-unfitted-level-3);\n",
              "  color: var(--sklearn-color-background);\n",
              "  text-decoration: none;\n",
              "}\n",
              "\n",
              "#sk-container-id-2 a.estimator_doc_link.fitted:hover {\n",
              "  /* fitted */\n",
              "  background-color: var(--sklearn-color-fitted-level-3);\n",
              "}\n",
              "</style><div id=\"sk-container-id-2\" class=\"sk-top-container\"><div class=\"sk-text-repr-fallback\"><pre>DecisionTreeClassifier()</pre><b>In a Jupyter environment, please rerun this cell to show the HTML representation or trust the notebook. <br />On GitHub, the HTML representation is unable to render, please try loading this page with nbviewer.org.</b></div><div class=\"sk-container\" hidden><div class=\"sk-item\"><div class=\"sk-estimator fitted sk-toggleable\"><input class=\"sk-toggleable__control sk-hidden--visually\" id=\"sk-estimator-id-2\" type=\"checkbox\" checked><label for=\"sk-estimator-id-2\" class=\"sk-toggleable__label fitted sk-toggleable__label-arrow fitted\">&nbsp;&nbsp;DecisionTreeClassifier<a class=\"sk-estimator-doc-link fitted\" rel=\"noreferrer\" target=\"_blank\" href=\"https://scikit-learn.org/1.5/modules/generated/sklearn.tree.DecisionTreeClassifier.html\">?<span>Documentation for DecisionTreeClassifier</span></a><span class=\"sk-estimator-doc-link fitted\">i<span>Fitted</span></span></label><div class=\"sk-toggleable__content fitted\"><pre>DecisionTreeClassifier()</pre></div> </div></div></div></div>"
            ]
          },
          "metadata": {},
          "execution_count": 34
        }
      ]
    },
    {
      "cell_type": "code",
      "execution_count": null,
      "metadata": {
        "colab": {
          "base_uri": "https://localhost:8080/"
        },
        "id": "dG63jsswHGT6",
        "outputId": "3406efe3-ae70-495f-85c3-82e85195314b"
      },
      "outputs": [
        {
          "output_type": "stream",
          "name": "stdout",
          "text": [
            "[1]\n"
          ]
        }
      ],
      "source": [
        "test_data=\"boy dats cold...tyga dwn bad for cuffin dat hoe in the 1st place!!\"\n",
        "dataset=cv.transform([test_data]).toarray()\n",
        "print(clf.predict(dataset))"
      ]
    },
    {
      "cell_type": "code",
      "execution_count": null,
      "metadata": {
        "colab": {
          "base_uri": "https://localhost:8080/"
        },
        "id": "NPU-cC85HSKL",
        "outputId": "aa47b679-6e43-4340-9a11-af162255a0f9"
      },
      "outputs": [
        {
          "output_type": "stream",
          "name": "stdout",
          "text": [
            "[1]\n"
          ]
        }
      ],
      "source": [
        "test_data=\"The shit just blows me..claim you so faithful and down for somebody but with hoes!\"\n",
        "dataset=cv.transform([test_data]).toarray()\n",
        "print(clf.predict(dataset))"
      ]
    },
    {
      "cell_type": "code",
      "execution_count": null,
      "metadata": {
        "colab": {
          "base_uri": "https://localhost:8080/"
        },
        "id": "NEVt8dZ6Hr4H",
        "outputId": "3d7483bb-0b31-4232-f376-d495c2b0fc68"
      },
      "outputs": [
        {
          "output_type": "stream",
          "name": "stdout",
          "text": [
            "[0]\n"
          ]
        }
      ],
      "source": [
        "test_data=\"Ram is a nonsense boy\"\n",
        "dataset=cv.transform([test_data]).toarray()\n",
        "print(clf.predict(dataset))"
      ]
    },
    {
      "cell_type": "code",
      "execution_count": null,
      "metadata": {
        "colab": {
          "base_uri": "https://localhost:8080/"
        },
        "id": "UqoodBNo631u",
        "outputId": "90b2f8fc-c7bc-47b4-8fef-2c0c4f26200e"
      },
      "outputs": [
        {
          "output_type": "stream",
          "name": "stdout",
          "text": [
            "class\n",
            "1    19190\n",
            "2     4163\n",
            "0     1430\n",
            "Name: count, dtype: int64\n"
          ]
        }
      ],
      "source": [
        "# Display unique values and their counts\n",
        "print(df['class'].value_counts())\n"
      ]
    },
    {
      "cell_type": "code",
      "execution_count": null,
      "metadata": {
        "id": "fSycqbIfs-TQ"
      },
      "outputs": [],
      "source": [
        "# Import necessary libraries\n",
        "from sklearn.model_selection import train_test_split\n",
        "from sklearn.feature_extraction.text import TfidfVectorizer\n",
        "from sklearn.tree import DecisionTreeClassifier\n",
        "from sklearn.metrics import accuracy_score, classification_report"
      ]
    },
    {
      "cell_type": "code",
      "execution_count": null,
      "metadata": {
        "colab": {
          "base_uri": "https://localhost:8080/",
          "height": 80
        },
        "id": "OYTarLXxzM83",
        "outputId": "a06500e3-779c-4789-ba46-27ff5c2dbef7"
      },
      "outputs": [
        {
          "data": {
            "text/html": [
              "<style>#sk-container-id-2 {\n",
              "  /* Definition of color scheme common for light and dark mode */\n",
              "  --sklearn-color-text: black;\n",
              "  --sklearn-color-line: gray;\n",
              "  /* Definition of color scheme for unfitted estimators */\n",
              "  --sklearn-color-unfitted-level-0: #fff5e6;\n",
              "  --sklearn-color-unfitted-level-1: #f6e4d2;\n",
              "  --sklearn-color-unfitted-level-2: #ffe0b3;\n",
              "  --sklearn-color-unfitted-level-3: chocolate;\n",
              "  /* Definition of color scheme for fitted estimators */\n",
              "  --sklearn-color-fitted-level-0: #f0f8ff;\n",
              "  --sklearn-color-fitted-level-1: #d4ebff;\n",
              "  --sklearn-color-fitted-level-2: #b3dbfd;\n",
              "  --sklearn-color-fitted-level-3: cornflowerblue;\n",
              "\n",
              "  /* Specific color for light theme */\n",
              "  --sklearn-color-text-on-default-background: var(--sg-text-color, var(--theme-code-foreground, var(--jp-content-font-color1, black)));\n",
              "  --sklearn-color-background: var(--sg-background-color, var(--theme-background, var(--jp-layout-color0, white)));\n",
              "  --sklearn-color-border-box: var(--sg-text-color, var(--theme-code-foreground, var(--jp-content-font-color1, black)));\n",
              "  --sklearn-color-icon: #696969;\n",
              "\n",
              "  @media (prefers-color-scheme: dark) {\n",
              "    /* Redefinition of color scheme for dark theme */\n",
              "    --sklearn-color-text-on-default-background: var(--sg-text-color, var(--theme-code-foreground, var(--jp-content-font-color1, white)));\n",
              "    --sklearn-color-background: var(--sg-background-color, var(--theme-background, var(--jp-layout-color0, #111)));\n",
              "    --sklearn-color-border-box: var(--sg-text-color, var(--theme-code-foreground, var(--jp-content-font-color1, white)));\n",
              "    --sklearn-color-icon: #878787;\n",
              "  }\n",
              "}\n",
              "\n",
              "#sk-container-id-2 {\n",
              "  color: var(--sklearn-color-text);\n",
              "}\n",
              "\n",
              "#sk-container-id-2 pre {\n",
              "  padding: 0;\n",
              "}\n",
              "\n",
              "#sk-container-id-2 input.sk-hidden--visually {\n",
              "  border: 0;\n",
              "  clip: rect(1px 1px 1px 1px);\n",
              "  clip: rect(1px, 1px, 1px, 1px);\n",
              "  height: 1px;\n",
              "  margin: -1px;\n",
              "  overflow: hidden;\n",
              "  padding: 0;\n",
              "  position: absolute;\n",
              "  width: 1px;\n",
              "}\n",
              "\n",
              "#sk-container-id-2 div.sk-dashed-wrapped {\n",
              "  border: 1px dashed var(--sklearn-color-line);\n",
              "  margin: 0 0.4em 0.5em 0.4em;\n",
              "  box-sizing: border-box;\n",
              "  padding-bottom: 0.4em;\n",
              "  background-color: var(--sklearn-color-background);\n",
              "}\n",
              "\n",
              "#sk-container-id-2 div.sk-container {\n",
              "  /* jupyter's `normalize.less` sets `[hidden] { display: none; }`\n",
              "     but bootstrap.min.css set `[hidden] { display: none !important; }`\n",
              "     so we also need the `!important` here to be able to override the\n",
              "     default hidden behavior on the sphinx rendered scikit-learn.org.\n",
              "     See: https://github.com/scikit-learn/scikit-learn/issues/21755 */\n",
              "  display: inline-block !important;\n",
              "  position: relative;\n",
              "}\n",
              "\n",
              "#sk-container-id-2 div.sk-text-repr-fallback {\n",
              "  display: none;\n",
              "}\n",
              "\n",
              "div.sk-parallel-item,\n",
              "div.sk-serial,\n",
              "div.sk-item {\n",
              "  /* draw centered vertical line to link estimators */\n",
              "  background-image: linear-gradient(var(--sklearn-color-text-on-default-background), var(--sklearn-color-text-on-default-background));\n",
              "  background-size: 2px 100%;\n",
              "  background-repeat: no-repeat;\n",
              "  background-position: center center;\n",
              "}\n",
              "\n",
              "/* Parallel-specific style estimator block */\n",
              "\n",
              "#sk-container-id-2 div.sk-parallel-item::after {\n",
              "  content: \"\";\n",
              "  width: 100%;\n",
              "  border-bottom: 2px solid var(--sklearn-color-text-on-default-background);\n",
              "  flex-grow: 1;\n",
              "}\n",
              "\n",
              "#sk-container-id-2 div.sk-parallel {\n",
              "  display: flex;\n",
              "  align-items: stretch;\n",
              "  justify-content: center;\n",
              "  background-color: var(--sklearn-color-background);\n",
              "  position: relative;\n",
              "}\n",
              "\n",
              "#sk-container-id-2 div.sk-parallel-item {\n",
              "  display: flex;\n",
              "  flex-direction: column;\n",
              "}\n",
              "\n",
              "#sk-container-id-2 div.sk-parallel-item:first-child::after {\n",
              "  align-self: flex-end;\n",
              "  width: 50%;\n",
              "}\n",
              "\n",
              "#sk-container-id-2 div.sk-parallel-item:last-child::after {\n",
              "  align-self: flex-start;\n",
              "  width: 50%;\n",
              "}\n",
              "\n",
              "#sk-container-id-2 div.sk-parallel-item:only-child::after {\n",
              "  width: 0;\n",
              "}\n",
              "\n",
              "/* Serial-specific style estimator block */\n",
              "\n",
              "#sk-container-id-2 div.sk-serial {\n",
              "  display: flex;\n",
              "  flex-direction: column;\n",
              "  align-items: center;\n",
              "  background-color: var(--sklearn-color-background);\n",
              "  padding-right: 1em;\n",
              "  padding-left: 1em;\n",
              "}\n",
              "\n",
              "\n",
              "/* Toggleable style: style used for estimator/Pipeline/ColumnTransformer box that is\n",
              "clickable and can be expanded/collapsed.\n",
              "- Pipeline and ColumnTransformer use this feature and define the default style\n",
              "- Estimators will overwrite some part of the style using the `sk-estimator` class\n",
              "*/\n",
              "\n",
              "/* Pipeline and ColumnTransformer style (default) */\n",
              "\n",
              "#sk-container-id-2 div.sk-toggleable {\n",
              "  /* Default theme specific background. It is overwritten whether we have a\n",
              "  specific estimator or a Pipeline/ColumnTransformer */\n",
              "  background-color: var(--sklearn-color-background);\n",
              "}\n",
              "\n",
              "/* Toggleable label */\n",
              "#sk-container-id-2 label.sk-toggleable__label {\n",
              "  cursor: pointer;\n",
              "  display: block;\n",
              "  width: 100%;\n",
              "  margin-bottom: 0;\n",
              "  padding: 0.5em;\n",
              "  box-sizing: border-box;\n",
              "  text-align: center;\n",
              "}\n",
              "\n",
              "#sk-container-id-2 label.sk-toggleable__label-arrow:before {\n",
              "  /* Arrow on the left of the label */\n",
              "  content: \"▸\";\n",
              "  float: left;\n",
              "  margin-right: 0.25em;\n",
              "  color: var(--sklearn-color-icon);\n",
              "}\n",
              "\n",
              "#sk-container-id-2 label.sk-toggleable__label-arrow:hover:before {\n",
              "  color: var(--sklearn-color-text);\n",
              "}\n",
              "\n",
              "/* Toggleable content - dropdown */\n",
              "\n",
              "#sk-container-id-2 div.sk-toggleable__content {\n",
              "  max-height: 0;\n",
              "  max-width: 0;\n",
              "  overflow: hidden;\n",
              "  text-align: left;\n",
              "  /* unfitted */\n",
              "  background-color: var(--sklearn-color-unfitted-level-0);\n",
              "}\n",
              "\n",
              "#sk-container-id-2 div.sk-toggleable__content.fitted {\n",
              "  /* fitted */\n",
              "  background-color: var(--sklearn-color-fitted-level-0);\n",
              "}\n",
              "\n",
              "#sk-container-id-2 div.sk-toggleable__content pre {\n",
              "  margin: 0.2em;\n",
              "  border-radius: 0.25em;\n",
              "  color: var(--sklearn-color-text);\n",
              "  /* unfitted */\n",
              "  background-color: var(--sklearn-color-unfitted-level-0);\n",
              "}\n",
              "\n",
              "#sk-container-id-2 div.sk-toggleable__content.fitted pre {\n",
              "  /* unfitted */\n",
              "  background-color: var(--sklearn-color-fitted-level-0);\n",
              "}\n",
              "\n",
              "#sk-container-id-2 input.sk-toggleable__control:checked~div.sk-toggleable__content {\n",
              "  /* Expand drop-down */\n",
              "  max-height: 200px;\n",
              "  max-width: 100%;\n",
              "  overflow: auto;\n",
              "}\n",
              "\n",
              "#sk-container-id-2 input.sk-toggleable__control:checked~label.sk-toggleable__label-arrow:before {\n",
              "  content: \"▾\";\n",
              "}\n",
              "\n",
              "/* Pipeline/ColumnTransformer-specific style */\n",
              "\n",
              "#sk-container-id-2 div.sk-label input.sk-toggleable__control:checked~label.sk-toggleable__label {\n",
              "  color: var(--sklearn-color-text);\n",
              "  background-color: var(--sklearn-color-unfitted-level-2);\n",
              "}\n",
              "\n",
              "#sk-container-id-2 div.sk-label.fitted input.sk-toggleable__control:checked~label.sk-toggleable__label {\n",
              "  background-color: var(--sklearn-color-fitted-level-2);\n",
              "}\n",
              "\n",
              "/* Estimator-specific style */\n",
              "\n",
              "/* Colorize estimator box */\n",
              "#sk-container-id-2 div.sk-estimator input.sk-toggleable__control:checked~label.sk-toggleable__label {\n",
              "  /* unfitted */\n",
              "  background-color: var(--sklearn-color-unfitted-level-2);\n",
              "}\n",
              "\n",
              "#sk-container-id-2 div.sk-estimator.fitted input.sk-toggleable__control:checked~label.sk-toggleable__label {\n",
              "  /* fitted */\n",
              "  background-color: var(--sklearn-color-fitted-level-2);\n",
              "}\n",
              "\n",
              "#sk-container-id-2 div.sk-label label.sk-toggleable__label,\n",
              "#sk-container-id-2 div.sk-label label {\n",
              "  /* The background is the default theme color */\n",
              "  color: var(--sklearn-color-text-on-default-background);\n",
              "}\n",
              "\n",
              "/* On hover, darken the color of the background */\n",
              "#sk-container-id-2 div.sk-label:hover label.sk-toggleable__label {\n",
              "  color: var(--sklearn-color-text);\n",
              "  background-color: var(--sklearn-color-unfitted-level-2);\n",
              "}\n",
              "\n",
              "/* Label box, darken color on hover, fitted */\n",
              "#sk-container-id-2 div.sk-label.fitted:hover label.sk-toggleable__label.fitted {\n",
              "  color: var(--sklearn-color-text);\n",
              "  background-color: var(--sklearn-color-fitted-level-2);\n",
              "}\n",
              "\n",
              "/* Estimator label */\n",
              "\n",
              "#sk-container-id-2 div.sk-label label {\n",
              "  font-family: monospace;\n",
              "  font-weight: bold;\n",
              "  display: inline-block;\n",
              "  line-height: 1.2em;\n",
              "}\n",
              "\n",
              "#sk-container-id-2 div.sk-label-container {\n",
              "  text-align: center;\n",
              "}\n",
              "\n",
              "/* Estimator-specific */\n",
              "#sk-container-id-2 div.sk-estimator {\n",
              "  font-family: monospace;\n",
              "  border: 1px dotted var(--sklearn-color-border-box);\n",
              "  border-radius: 0.25em;\n",
              "  box-sizing: border-box;\n",
              "  margin-bottom: 0.5em;\n",
              "  /* unfitted */\n",
              "  background-color: var(--sklearn-color-unfitted-level-0);\n",
              "}\n",
              "\n",
              "#sk-container-id-2 div.sk-estimator.fitted {\n",
              "  /* fitted */\n",
              "  background-color: var(--sklearn-color-fitted-level-0);\n",
              "}\n",
              "\n",
              "/* on hover */\n",
              "#sk-container-id-2 div.sk-estimator:hover {\n",
              "  /* unfitted */\n",
              "  background-color: var(--sklearn-color-unfitted-level-2);\n",
              "}\n",
              "\n",
              "#sk-container-id-2 div.sk-estimator.fitted:hover {\n",
              "  /* fitted */\n",
              "  background-color: var(--sklearn-color-fitted-level-2);\n",
              "}\n",
              "\n",
              "/* Specification for estimator info (e.g. \"i\" and \"?\") */\n",
              "\n",
              "/* Common style for \"i\" and \"?\" */\n",
              "\n",
              ".sk-estimator-doc-link,\n",
              "a:link.sk-estimator-doc-link,\n",
              "a:visited.sk-estimator-doc-link {\n",
              "  float: right;\n",
              "  font-size: smaller;\n",
              "  line-height: 1em;\n",
              "  font-family: monospace;\n",
              "  background-color: var(--sklearn-color-background);\n",
              "  border-radius: 1em;\n",
              "  height: 1em;\n",
              "  width: 1em;\n",
              "  text-decoration: none !important;\n",
              "  margin-left: 1ex;\n",
              "  /* unfitted */\n",
              "  border: var(--sklearn-color-unfitted-level-1) 1pt solid;\n",
              "  color: var(--sklearn-color-unfitted-level-1);\n",
              "}\n",
              "\n",
              ".sk-estimator-doc-link.fitted,\n",
              "a:link.sk-estimator-doc-link.fitted,\n",
              "a:visited.sk-estimator-doc-link.fitted {\n",
              "  /* fitted */\n",
              "  border: var(--sklearn-color-fitted-level-1) 1pt solid;\n",
              "  color: var(--sklearn-color-fitted-level-1);\n",
              "}\n",
              "\n",
              "/* On hover */\n",
              "div.sk-estimator:hover .sk-estimator-doc-link:hover,\n",
              ".sk-estimator-doc-link:hover,\n",
              "div.sk-label-container:hover .sk-estimator-doc-link:hover,\n",
              ".sk-estimator-doc-link:hover {\n",
              "  /* unfitted */\n",
              "  background-color: var(--sklearn-color-unfitted-level-3);\n",
              "  color: var(--sklearn-color-background);\n",
              "  text-decoration: none;\n",
              "}\n",
              "\n",
              "div.sk-estimator.fitted:hover .sk-estimator-doc-link.fitted:hover,\n",
              ".sk-estimator-doc-link.fitted:hover,\n",
              "div.sk-label-container:hover .sk-estimator-doc-link.fitted:hover,\n",
              ".sk-estimator-doc-link.fitted:hover {\n",
              "  /* fitted */\n",
              "  background-color: var(--sklearn-color-fitted-level-3);\n",
              "  color: var(--sklearn-color-background);\n",
              "  text-decoration: none;\n",
              "}\n",
              "\n",
              "/* Span, style for the box shown on hovering the info icon */\n",
              ".sk-estimator-doc-link span {\n",
              "  display: none;\n",
              "  z-index: 9999;\n",
              "  position: relative;\n",
              "  font-weight: normal;\n",
              "  right: .2ex;\n",
              "  padding: .5ex;\n",
              "  margin: .5ex;\n",
              "  width: min-content;\n",
              "  min-width: 20ex;\n",
              "  max-width: 50ex;\n",
              "  color: var(--sklearn-color-text);\n",
              "  box-shadow: 2pt 2pt 4pt #999;\n",
              "  /* unfitted */\n",
              "  background: var(--sklearn-color-unfitted-level-0);\n",
              "  border: .5pt solid var(--sklearn-color-unfitted-level-3);\n",
              "}\n",
              "\n",
              ".sk-estimator-doc-link.fitted span {\n",
              "  /* fitted */\n",
              "  background: var(--sklearn-color-fitted-level-0);\n",
              "  border: var(--sklearn-color-fitted-level-3);\n",
              "}\n",
              "\n",
              ".sk-estimator-doc-link:hover span {\n",
              "  display: block;\n",
              "}\n",
              "\n",
              "/* \"?\"-specific style due to the `<a>` HTML tag */\n",
              "\n",
              "#sk-container-id-2 a.estimator_doc_link {\n",
              "  float: right;\n",
              "  font-size: 1rem;\n",
              "  line-height: 1em;\n",
              "  font-family: monospace;\n",
              "  background-color: var(--sklearn-color-background);\n",
              "  border-radius: 1rem;\n",
              "  height: 1rem;\n",
              "  width: 1rem;\n",
              "  text-decoration: none;\n",
              "  /* unfitted */\n",
              "  color: var(--sklearn-color-unfitted-level-1);\n",
              "  border: var(--sklearn-color-unfitted-level-1) 1pt solid;\n",
              "}\n",
              "\n",
              "#sk-container-id-2 a.estimator_doc_link.fitted {\n",
              "  /* fitted */\n",
              "  border: var(--sklearn-color-fitted-level-1) 1pt solid;\n",
              "  color: var(--sklearn-color-fitted-level-1);\n",
              "}\n",
              "\n",
              "/* On hover */\n",
              "#sk-container-id-2 a.estimator_doc_link:hover {\n",
              "  /* unfitted */\n",
              "  background-color: var(--sklearn-color-unfitted-level-3);\n",
              "  color: var(--sklearn-color-background);\n",
              "  text-decoration: none;\n",
              "}\n",
              "\n",
              "#sk-container-id-2 a.estimator_doc_link.fitted:hover {\n",
              "  /* fitted */\n",
              "  background-color: var(--sklearn-color-fitted-level-3);\n",
              "}\n",
              "</style><div id=\"sk-container-id-2\" class=\"sk-top-container\"><div class=\"sk-text-repr-fallback\"><pre>DecisionTreeClassifier()</pre><b>In a Jupyter environment, please rerun this cell to show the HTML representation or trust the notebook. <br />On GitHub, the HTML representation is unable to render, please try loading this page with nbviewer.org.</b></div><div class=\"sk-container\" hidden><div class=\"sk-item\"><div class=\"sk-estimator fitted sk-toggleable\"><input class=\"sk-toggleable__control sk-hidden--visually\" id=\"sk-estimator-id-2\" type=\"checkbox\" checked><label for=\"sk-estimator-id-2\" class=\"sk-toggleable__label fitted sk-toggleable__label-arrow fitted\">&nbsp;&nbsp;DecisionTreeClassifier<a class=\"sk-estimator-doc-link fitted\" rel=\"noreferrer\" target=\"_blank\" href=\"https://scikit-learn.org/1.5/modules/generated/sklearn.tree.DecisionTreeClassifier.html\">?<span>Documentation for DecisionTreeClassifier</span></a><span class=\"sk-estimator-doc-link fitted\">i<span>Fitted</span></span></label><div class=\"sk-toggleable__content fitted\"><pre>DecisionTreeClassifier()</pre></div> </div></div></div></div>"
            ],
            "text/plain": [
              "DecisionTreeClassifier()"
            ]
          },
          "execution_count": 7,
          "metadata": {},
          "output_type": "execute_result"
        }
      ],
      "source": [
        "from sklearn.model_selection import train_test_split\n",
        "from sklearn.tree import DecisionTreeClassifier\n",
        "from sklearn.feature_extraction.text import TfidfVectorizer\n",
        "from sklearn.metrics import classification_report\n",
        "from imblearn.over_sampling import SMOTE\n",
        "import pandas as pd\n",
        "\n",
        "# Sample DataFrame (replace this with your actual data)\n",
        "# df = pd.read_csv('your_dataset.csv')  # Load your dataset\n",
        "# Ensure your DataFrame has 'text' and 'class' columns\n",
        "\n",
        "# Example dataset structure\n",
        "# df = pd.DataFrame({\n",
        "#     'text': ['sample text 1', 'sample text 2', 'sample text 3', ...],\n",
        "#     'class': [0, 1, 2, ...]\n",
        "# })\n",
        "\n",
        "# Prepare your data\n",
        "vectorizer = TfidfVectorizer(max_features=1000)  # Limit to 1000 words\n",
        "# Changed 'text' to 'tweet' to match the column name in the DataFrame\n",
        "X = vectorizer.fit_transform(df['tweet']).toarray()  # Convert text to numbers\n",
        "y = df['class']  # Class labels\n",
        "\n",
        "# Split your data into training and testing sets\n",
        "X_train, X_test, y_train, y_test = train_test_split(X, y, test_size=0.2, random_state=42)\n",
        "\n",
        "# Apply SMOTE to oversample the minority classes\n",
        "smote = SMOTE(random_state=42)\n",
        "X_resampled, y_resampled = smote.fit_resample(X_train, y_train)\n",
        "\n",
        "# Train your Decision Tree classifier on the resampled data\n",
        "clf = DecisionTreeClassifier()\n",
        "clf.fit(X_resampled, y_resampled)"
      ]
    },
    {
      "cell_type": "code",
      "execution_count": null,
      "metadata": {
        "colab": {
          "base_uri": "https://localhost:8080/"
        },
        "id": "bX4arACgXIZ3",
        "outputId": "4e4428bb-bf3e-4550-cb64-1d8c1c4460cd"
      },
      "outputs": [
        {
          "name": "stdout",
          "output_type": "stream",
          "text": [
            "Average Precision:  0.8786734619695421\n",
            "Average Recall:  0.8921440123561417\n",
            "Average F1 Score:  0.882289486920057\n"
          ]
        }
      ],
      "source": [
        "import numpy as np\n",
        "import pandas as pd\n",
        "from sklearn.model_selection import StratifiedKFold\n",
        "from sklearn.ensemble import RandomForestClassifier\n",
        "from sklearn.metrics import classification_report, precision_score, recall_score, f1_score\n",
        "\n",
        "# Sample data - replace this with your actual dataset\n",
        "# X = feature matrix (e.g., your cleaned text data)\n",
        "# y = target variable (e.g., hate speech labels)\n",
        "# X, y = your_data[['feature_1', 'feature_2', ...]], your_data['label']\n",
        "\n",
        "# Initialize the model\n",
        "model = RandomForestClassifier(class_weight='balanced')\n",
        "\n",
        "# Initialize Stratified K-Folds\n",
        "skf = StratifiedKFold(n_splits=5, shuffle=True, random_state=42)\n",
        "\n",
        "# Store metrics\n",
        "precisions = []\n",
        "recalls = []\n",
        "f1_scores = []\n",
        "\n",
        "# Cross-Validation Process\n",
        "for train_index, test_index in skf.split(X, y):\n",
        "    X_train, X_test = X[train_index], X[test_index]\n",
        "    y_train, y_test = y[train_index], y[test_index]\n",
        "\n",
        "    # Fit the model\n",
        "    model.fit(X_train, y_train)\n",
        "\n",
        "    # Predict\n",
        "    y_pred = model.predict(X_test)\n",
        "\n",
        "    # Calculate metrics\n",
        "    precisions.append(precision_score(y_test, y_pred, average='weighted'))\n",
        "    recalls.append(recall_score(y_test, y_pred, average='weighted'))\n",
        "    f1_scores.append(f1_score(y_test, y_pred, average='weighted'))\n",
        "\n",
        "# Print average metrics across folds\n",
        "print(\"Average Precision: \", np.mean(precisions))\n",
        "print(\"Average Recall: \", np.mean(recalls))\n",
        "print(\"Average F1 Score: \", np.mean(f1_scores))\n"
      ]
    },
    {
      "cell_type": "code",
      "execution_count": null,
      "metadata": {
        "colab": {
          "base_uri": "https://localhost:8080/"
        },
        "id": "eLx2oat4X6F3",
        "outputId": "d5a7b994-fcd4-4400-f9d7-2dfc9e339d2c"
      },
      "outputs": [
        {
          "name": "stdout",
          "output_type": "stream",
          "text": [
            "   fold  precision    recall  f1_score\n",
            "0     1   0.870894  0.884809  0.874730\n",
            "1     2   0.876663  0.891467  0.881045\n",
            "2     3   0.878710  0.891265  0.881326\n",
            "3     4   0.874588  0.889225  0.878391\n",
            "4     5   0.880062  0.895278  0.884011\n",
            "\n",
            "Average Precision:  0.8761833954452337\n",
            "Average Recall:  0.8904088966565246\n",
            "Average F1 Score:  0.8799006744456932\n"
          ]
        }
      ],
      "source": [
        "#Random forest\n",
        "import numpy as np\n",
        "import pandas as pd\n",
        "from sklearn.model_selection import StratifiedKFold\n",
        "from sklearn.ensemble import RandomForestClassifier\n",
        "from sklearn.metrics import classification_report, precision_score, recall_score, f1_score\n",
        "\n",
        "# Sample data - replace this with your actual dataset\n",
        "# X = feature matrix (e.g., your cleaned text data)\n",
        "# y = target variable (e.g., hate speech labels)\n",
        "# X, y = your_data[['feature_1', 'feature_2', ...]], your_data['label']\n",
        "\n",
        "# Initialize the model\n",
        "model = RandomForestClassifier(class_weight='balanced')\n",
        "\n",
        "# Initialize Stratified K-Folds\n",
        "skf = StratifiedKFold(n_splits=5, shuffle=True, random_state=42)\n",
        "\n",
        "# Store metrics\n",
        "fold_metrics = []\n",
        "\n",
        "# Cross-Validation Process\n",
        "for fold, (train_index, test_index) in enumerate(skf.split(X, y)):\n",
        "    X_train, X_test = X[train_index], X[test_index]\n",
        "    y_train, y_test = y[train_index], y[test_index]\n",
        "\n",
        "    # Fit the model\n",
        "    model.fit(X_train, y_train)\n",
        "\n",
        "    # Predict\n",
        "    y_pred = model.predict(X_test)\n",
        "\n",
        "    # Calculate metrics for the current fold\n",
        "    precision = precision_score(y_test, y_pred, average='weighted')\n",
        "    recall = recall_score(y_test, y_pred, average='weighted')\n",
        "    f1 = f1_score(y_test, y_pred, average='weighted')\n",
        "\n",
        "    # Store metrics for the current fold\n",
        "    fold_metrics.append({\n",
        "        'fold': fold + 1,\n",
        "        'precision': precision,\n",
        "        'recall': recall,\n",
        "        'f1_score': f1\n",
        "    })\n",
        "\n",
        "# Create a DataFrame to display fold metrics\n",
        "fold_metrics_df = pd.DataFrame(fold_metrics)\n",
        "\n",
        "# Print metrics for each fold\n",
        "print(fold_metrics_df)\n",
        "\n",
        "# Print average metrics across folds\n",
        "average_precision = np.mean(fold_metrics_df['precision'])\n",
        "average_recall = np.mean(fold_metrics_df['recall'])\n",
        "average_f1 = np.mean(fold_metrics_df['f1_score'])\n",
        "\n",
        "print(\"\\nAverage Precision: \", average_precision)\n",
        "print(\"Average Recall: \", average_recall)\n",
        "print(\"Average F1 Score: \", average_f1)\n"
      ]
    },
    {
      "cell_type": "markdown",
      "metadata": {
        "id": "250FngPkqT4R"
      },
      "source": []
    },
    {
      "cell_type": "code",
      "execution_count": null,
      "metadata": {
        "id": "2NbcnimDp_bT",
        "colab": {
          "base_uri": "https://localhost:8080/"
        },
        "outputId": "ec0e020c-3cf3-46e5-ffb0-00dd3e4e2edf"
      },
      "outputs": [
        {
          "output_type": "stream",
          "name": "stdout",
          "text": [
            "Index(['Unnamed: 0', 'count', 'hate_speech', 'offensive_language', 'neither',\n",
            "       'class', 'tweet'],\n",
            "      dtype='object')\n",
            "class\n",
            "1    19190\n",
            "2     4163\n",
            "0     1430\n",
            "Name: count, dtype: int64\n",
            "Accuracy: 79.20%\n",
            "Classification Report:\n",
            "              precision    recall  f1-score   support\n",
            "\n",
            "           0       0.85      0.75      0.79       306\n",
            "           1       0.74      0.85      0.79       266\n",
            "\n",
            "    accuracy                           0.79       572\n",
            "   macro avg       0.80      0.80      0.79       572\n",
            "weighted avg       0.80      0.79      0.79       572\n",
            "\n",
            "Confusion Matrix:\n",
            "[[228  78]\n",
            " [ 41 225]]\n"
          ]
        }
      ],
      "source": [
        "# Import necessary libraries\n",
        "import pandas as pd\n",
        "import numpy as np\n",
        "from sklearn.model_selection import train_test_split\n",
        "from sklearn.feature_extraction.text import TfidfVectorizer\n",
        "from sklearn.ensemble import RandomForestClassifier\n",
        "from sklearn.metrics import accuracy_score, classification_report, confusion_matrix\n",
        "from sklearn.utils import resample\n",
        "\n",
        "# Load your dataset (assuming it's in a CSV file with 'tweet' and 'class' columns)\n",
        "# **Change the file path to the correct location of your CSV file**\n",
        "# For example, if the file is named 'labeled_data.csv', use the following:\n",
        "df = pd.read_csv('/content/labeled_data.csv')\n",
        "# Or if the file is named 'labeled_data1.csv', use the following:\n",
        "# df = pd.read_csv('/content/labeled_data1.csv')\n",
        "\n",
        "# Print the columns of the DataFrame to check the actual column names\n",
        "print(df.columns)\n",
        "\n",
        "# Check for class imbalance\n",
        "print(df['class'].value_counts())\n",
        "\n",
        "# Downsample the majority class or upsample the minority class (if dataset is imbalanced)\n",
        "majority_class = df[df['class'] == 0]  # assuming 0 is the non-hate speech class\n",
        "minority_class = df[df['class'] == 1]  # assuming 1 is the hate speech class\n",
        "\n",
        "# Upsample minority class to match the number of instances in the majority class\n",
        "minority_upsampled = resample(minority_class,\n",
        "                              replace=True,    # sample with replacement\n",
        "                              n_samples=len(majority_class),  # match majority class count\n",
        "                              random_state=42)  # reproducibility\n",
        "\n",
        "# Combine majority and upsampled minority class\n",
        "df_balanced = pd.concat([majority_class, minority_upsampled])\n",
        "\n",
        "# Shuffle the data\n",
        "df_balanced = df_balanced.sample(frac=1, random_state=42).reset_index(drop=True)\n",
        "\n",
        "# Remove any NaN or empty rows\n",
        "df_balanced = df_balanced.dropna(subset=['tweet'])\n",
        "\n",
        "# Split data into features (X) and labels (y)\n",
        "X = df_balanced['tweet']\n",
        "y = df_balanced['class']\n",
        "\n",
        "# Split the dataset into training and testing sets\n",
        "X_train, X_test, y_train, y_test = train_test_split(X, y, test_size=0.2, random_state=42)\n",
        "\n",
        "# Vectorize the text using TF-IDF\n",
        "tfidf_vectorizer = TfidfVectorizer(max_features=5000, stop_words='english')\n",
        "X_train_tfidf = tfidf_vectorizer.fit_transform(X_train)\n",
        "X_test_tfidf = tfidf_vectorizer.transform(X_test)\n",
        "\n",
        "# Initialize and train the Random Forest model\n",
        "rf_model = RandomForestClassifier(n_estimators=100, random_state=42)\n",
        "rf_model.fit(X_train_tfidf, y_train)\n",
        "\n",
        "# Make predictions\n",
        "y_pred = rf_model.predict(X_test_tfidf)\n",
        "\n",
        "# Evaluate the model\n",
        "accuracy = accuracy_score(y_test, y_pred)\n",
        "print(f'Accuracy: {accuracy * 100:.2f}%')\n",
        "\n",
        "print('Classification Report:')\n",
        "print(classification_report(y_test, y_pred))\n",
        "\n",
        "print('Confusion Matrix:')\n",
        "print(confusion_matrix(y_test, y_pred))"
      ]
    },
    {
      "cell_type": "code",
      "source": [],
      "metadata": {
        "id": "G5tapZIMuqFn"
      },
      "execution_count": null,
      "outputs": []
    },
    {
      "cell_type": "code",
      "source": [
        "from google.colab import drive\n",
        "drive.mount('/content/drive')"
      ],
      "metadata": {
        "id": "gUqQ_3-Je1LO"
      },
      "execution_count": null,
      "outputs": []
    },
    {
      "cell_type": "code",
      "execution_count": null,
      "metadata": {
        "id": "kKZtNEIebF9l",
        "colab": {
          "base_uri": "https://localhost:8080/"
        },
        "outputId": "4125026a-5d68-43ae-d262-167f9869e86f"
      },
      "outputs": [
        {
          "output_type": "stream",
          "name": "stdout",
          "text": [
            "Class Distribution:\n",
            "class\n",
            "1    19190\n",
            "2     4163\n",
            "0     1430\n",
            "Name: count, dtype: int64\n"
          ]
        }
      ],
      "source": [
        "#TO SHOW CLASS DISTRIBUTION\n",
        "# Import necessary libraries\n",
        "import pandas as pd\n",
        "\n",
        "# Load your dataset (update the file path to your actual CSV file)\n",
        "df = pd.read_csv('/content/labeled_data.csv')\n",
        "\n",
        "# Check the distribution of classes in the 'class' column\n",
        "class_distribution = df['class'].value_counts()\n",
        "\n",
        "# Print the class distribution\n",
        "print(\"Class Distribution:\")\n",
        "print(class_distribution)\n"
      ]
    },
    {
      "cell_type": "code",
      "execution_count": null,
      "metadata": {
        "id": "-srxkZm1kW_I",
        "colab": {
          "base_uri": "https://localhost:8080/"
        },
        "outputId": "8161d83d-967c-48d2-9afe-166b57f1fa74"
      },
      "outputs": [
        {
          "output_type": "stream",
          "name": "stdout",
          "text": [
            "Balanced Class Distribution:\n",
            "class\n",
            "2    19190\n",
            "0    19190\n",
            "1    19190\n",
            "Name: count, dtype: int64\n"
          ]
        }
      ],
      "source": [
        "# WE WILL APPLY UPSAMPLING\n",
        "from sklearn.utils import resample\n",
        "\n",
        "# Separate the majority and minority classes\n",
        "class_1 = df[df['class'] == 1]  # Majority class\n",
        "class_2 = df[df['class'] == 2]  # Minority class\n",
        "class_0 = df[df['class'] == 0]  # Minority class\n",
        "\n",
        "# Upsample class 0 and class 2 to match the number of samples in class 1\n",
        "class_2_upsampled = resample(class_2,\n",
        "                             replace=True,    # sample with replacement\n",
        "                             n_samples=len(class_1),  # match number of samples in class 1\n",
        "                             random_state=42)\n",
        "\n",
        "class_0_upsampled = resample(class_0,\n",
        "                             replace=True,    # sample with replacement\n",
        "                             n_samples=len(class_1),  # match number of samples in class 1\n",
        "                             random_state=42)\n",
        "\n",
        "# Combine the majority class with the upsampled minority classes\n",
        "df_balanced = pd.concat([class_1, class_2_upsampled, class_0_upsampled])\n",
        "\n",
        "# Shuffle the data\n",
        "df_balanced = df_balanced.sample(frac=1, random_state=42).reset_index(drop=True)\n",
        "\n",
        "# Check the new class distribution after balancing\n",
        "print(\"Balanced Class Distribution:\")\n",
        "print(df_balanced['class'].value_counts())\n"
      ]
    },
    {
      "cell_type": "code",
      "execution_count": null,
      "metadata": {
        "id": "pkPBIJ0qk1D_"
      },
      "outputs": [],
      "source": []
    },
    {
      "cell_type": "code",
      "execution_count": null,
      "metadata": {
        "id": "HjN-2eW-k17Y",
        "colab": {
          "base_uri": "https://localhost:8080/"
        },
        "outputId": "e8b5aa78-2603-41b5-dc65-ffb7f9bff5de"
      },
      "outputs": [
        {
          "output_type": "stream",
          "name": "stdout",
          "text": [
            "Index(['Unnamed: 0', 'count', 'hate_speech', 'offensive_language', 'neither',\n",
            "       'class', 'tweet'],\n",
            "      dtype='object')\n",
            "class\n",
            "1    19190\n",
            "2     4163\n",
            "0     1430\n",
            "Name: count, dtype: int64\n",
            "Accuracy: 80.94%\n",
            "Classification Report:\n",
            "              precision    recall  f1-score   support\n",
            "\n",
            "           0       0.85      0.78      0.81       306\n",
            "           1       0.77      0.85      0.81       266\n",
            "\n",
            "    accuracy                           0.81       572\n",
            "   macro avg       0.81      0.81      0.81       572\n",
            "weighted avg       0.81      0.81      0.81       572\n",
            "\n",
            "Confusion Matrix:\n",
            "[[238  68]\n",
            " [ 41 225]]\n"
          ]
        }
      ],
      "source": [
        "#LOGISTIC REGRESSION\n",
        "# Import necessary libraries\n",
        "import pandas as pd\n",
        "import numpy as np\n",
        "from sklearn.model_selection import train_test_split\n",
        "from sklearn.feature_extraction.text import TfidfVectorizer\n",
        "from sklearn.linear_model import LogisticRegression\n",
        "from sklearn.metrics import accuracy_score, classification_report, confusion_matrix\n",
        "from sklearn.utils import resample\n",
        "\n",
        "# Load your dataset (assuming it's in a CSV file with 'tweet' and 'class' columns)\n",
        "df = pd.read_csv('/content/labeled_data.csv')\n",
        "\n",
        "# Print the columns of the DataFrame to check the actual column names\n",
        "print(df.columns)\n",
        "\n",
        "# Check for class imbalance\n",
        "print(df['class'].value_counts())\n",
        "\n",
        "# Downsample the majority class or upsample the minority class (if dataset is imbalanced)\n",
        "majority_class = df[df['class'] == 0]  # assuming 0 is the non-hate speech class\n",
        "minority_class = df[df['class'] == 1]  # assuming 1 is the hate speech class\n",
        "\n",
        "# Upsample minority class to match the number of instances in the majority class\n",
        "minority_upsampled = resample(minority_class,\n",
        "                              replace=True,    # sample with replacement\n",
        "                              n_samples=len(majority_class),  # match majority class count\n",
        "                              random_state=42)  # reproducibility\n",
        "\n",
        "# Combine majority and upsampled minority class\n",
        "df_balanced = pd.concat([majority_class, minority_upsampled])\n",
        "\n",
        "# Shuffle the data\n",
        "df_balanced = df_balanced.sample(frac=1, random_state=42).reset_index(drop=True)\n",
        "\n",
        "# Remove any NaN or empty rows\n",
        "df_balanced = df_balanced.dropna(subset=['tweet'])\n",
        "\n",
        "# Split data into features (X) and labels (y)\n",
        "X = df_balanced['tweet']\n",
        "y = df_balanced['class']\n",
        "\n",
        "# Split the dataset into training and testing sets\n",
        "X_train, X_test, y_train, y_test = train_test_split(X, y, test_size=0.2, random_state=42)\n",
        "\n",
        "# Vectorize the text using TF-IDF\n",
        "tfidf_vectorizer = TfidfVectorizer(max_features=5000, stop_words='english')\n",
        "X_train_tfidf = tfidf_vectorizer.fit_transform(X_train)\n",
        "X_test_tfidf = tfidf_vectorizer.transform(X_test)\n",
        "\n",
        "# Initialize and train the Logistic Regression model\n",
        "log_reg_model = LogisticRegression(random_state=42, max_iter=1000)\n",
        "log_reg_model.fit(X_train_tfidf, y_train)\n",
        "\n",
        "# Make predictions\n",
        "y_pred = log_reg_model.predict(X_test_tfidf)\n",
        "\n",
        "# Evaluate the model\n",
        "accuracy = accuracy_score(y_test, y_pred)\n",
        "print(f'Accuracy: {accuracy * 100:.2f}%')\n",
        "\n",
        "print('Classification Report:')\n",
        "print(classification_report(y_test, y_pred))\n",
        "\n",
        "print('Confusion Matrix:')\n",
        "print(confusion_matrix(y_test, y_pred))\n"
      ]
    },
    {
      "cell_type": "code",
      "source": [
        "#WE WILL USE K CROSS\n",
        "from sklearn.model_selection import StratifiedKFold\n",
        "from sklearn.linear_model import LogisticRegression\n",
        "from sklearn.metrics import accuracy_score, classification_report, confusion_matrix\n",
        "\n",
        "# Initialize Stratified K-Fold cross-validation\n",
        "skf = StratifiedKFold(n_splits=5)  # You can adjust the number of splits\n",
        "\n",
        "# Convert data to TF-IDF\n",
        "X_tfidf = tfidf_vectorizer.fit_transform(X)  # X is your tweet data\n",
        "y = df_balanced['class']\n",
        "\n",
        "# Initialize lists to store results\n",
        "accuracies = []\n",
        "all_classification_reports = []\n",
        "all_confusion_matrices = []\n",
        "\n",
        "# Perform cross-validation\n",
        "for train_index, test_index in skf.split(X_tfidf, y):\n",
        "    X_train_fold, X_test_fold = X_tfidf[train_index], X_tfidf[test_index]\n",
        "    y_train_fold, y_test_fold = y.iloc[train_index], y.iloc[test_index]\n",
        "\n",
        "    # Train Logistic Regression\n",
        "    log_reg_model = LogisticRegression(random_state=42, max_iter=1000)\n",
        "    log_reg_model.fit(X_train_fold, y_train_fold)\n",
        "\n",
        "    # Predict\n",
        "    y_pred_fold = log_reg_model.predict(X_test_fold)\n",
        "\n",
        "    # Evaluate\n",
        "    acc = accuracy_score(y_test_fold, y_pred_fold)\n",
        "    accuracies.append(acc)\n",
        "\n",
        "    # Save classification report and confusion matrix\n",
        "    report = classification_report(y_test_fold, y_pred_fold, output_dict=True)\n",
        "    all_classification_reports.append(report)"
      ],
      "metadata": {
        "id": "_8ttEHdSClW-"
      },
      "execution_count": null,
      "outputs": []
    },
    {
      "cell_type": "code",
      "source": [
        "# Print the average accuracy across folds\n",
        "print(f'Average Accuracy: {np.mean(accuracies) * 100:.2f}%')\n",
        "\n",
        "# Print classification report for each fold (optional)\n",
        "for i, report in enumerate(all_classification_reports):\n",
        "    print(f\"\\nClassification Report for Fold {i+1}:\\n\", report)\n",
        "\n",
        "# Print confusion matrix for each fold (optional)\n",
        "for i, matrix in enumerate(all_confusion_matrices):\n",
        "    print(f\"\\nConfusion Matrix for Fold {i+1}:\\n\", matrix)\n"
      ],
      "metadata": {
        "colab": {
          "base_uri": "https://localhost:8080/"
        },
        "id": "hXYa-Z-RDU3f",
        "outputId": "297aa402-f6ff-42bc-fd13-e5e9fdbb4fe4"
      },
      "execution_count": null,
      "outputs": [
        {
          "output_type": "stream",
          "name": "stdout",
          "text": [
            "Average Accuracy: 80.21%\n",
            "\n",
            "Classification Report for Fold 1:\n",
            " {'0': {'precision': 0.8358778625954199, 'recall': 0.7657342657342657, 'f1-score': 0.7992700729927007, 'support': 286.0}, '1': {'precision': 0.7838709677419354, 'recall': 0.8496503496503497, 'f1-score': 0.8154362416107382, 'support': 286.0}, 'accuracy': 0.8076923076923077, 'macro avg': {'precision': 0.8098744151686776, 'recall': 0.8076923076923077, 'f1-score': 0.8073531573017194, 'support': 572.0}, 'weighted avg': {'precision': 0.8098744151686775, 'recall': 0.8076923076923077, 'f1-score': 0.8073531573017195, 'support': 572.0}}\n",
            "\n",
            "Classification Report for Fold 2:\n",
            " {'0': {'precision': 0.7964912280701755, 'recall': 0.7937062937062938, 'f1-score': 0.7950963222416813, 'support': 286.0}, '1': {'precision': 0.794425087108014, 'recall': 0.7972027972027972, 'f1-score': 0.7958115183246073, 'support': 286.0}, 'accuracy': 0.7954545454545454, 'macro avg': {'precision': 0.7954581575890947, 'recall': 0.7954545454545454, 'f1-score': 0.7954539202831443, 'support': 572.0}, 'weighted avg': {'precision': 0.7954581575890947, 'recall': 0.7954545454545454, 'f1-score': 0.7954539202831443, 'support': 572.0}}\n",
            "\n",
            "Classification Report for Fold 3:\n",
            " {'0': {'precision': 0.7937062937062938, 'recall': 0.7937062937062938, 'f1-score': 0.7937062937062938, 'support': 286.0}, '1': {'precision': 0.7937062937062938, 'recall': 0.7937062937062938, 'f1-score': 0.7937062937062938, 'support': 286.0}, 'accuracy': 0.7937062937062938, 'macro avg': {'precision': 0.7937062937062938, 'recall': 0.7937062937062938, 'f1-score': 0.7937062937062938, 'support': 572.0}, 'weighted avg': {'precision': 0.7937062937062938, 'recall': 0.7937062937062938, 'f1-score': 0.7937062937062938, 'support': 572.0}}\n",
            "\n",
            "Classification Report for Fold 4:\n",
            " {'0': {'precision': 0.8415094339622642, 'recall': 0.7797202797202797, 'f1-score': 0.809437386569873, 'support': 286.0}, '1': {'precision': 0.7947882736156352, 'recall': 0.8531468531468531, 'f1-score': 0.8229342327150084, 'support': 286.0}, 'accuracy': 0.8164335664335665, 'macro avg': {'precision': 0.8181488537889496, 'recall': 0.8164335664335665, 'f1-score': 0.8161858096424407, 'support': 572.0}, 'weighted avg': {'precision': 0.8181488537889497, 'recall': 0.8164335664335665, 'f1-score': 0.8161858096424407, 'support': 572.0}}\n",
            "\n",
            "Classification Report for Fold 5:\n",
            " {'0': {'precision': 0.8195488721804511, 'recall': 0.7622377622377622, 'f1-score': 0.7898550724637681, 'support': 286.0}, '1': {'precision': 0.7777777777777778, 'recall': 0.8321678321678322, 'f1-score': 0.8040540540540541, 'support': 286.0}, 'accuracy': 0.7972027972027972, 'macro avg': {'precision': 0.7986633249791144, 'recall': 0.7972027972027972, 'f1-score': 0.796954563258911, 'support': 572.0}, 'weighted avg': {'precision': 0.7986633249791145, 'recall': 0.7972027972027972, 'f1-score': 0.796954563258911, 'support': 572.0}}\n"
          ]
        }
      ]
    },
    {
      "cell_type": "code",
      "source": [
        "from sklearn.model_selection import GridSearchCV\n",
        "\n",
        "# Set up the hyperparameter grid\n",
        "param_grid = {\n",
        "    'C': [0.01, 0.1, 1, 10, 100],\n",
        "    'penalty': ['l2'],  # Regularization penalty (can also try 'l1')\n",
        "    'solver': ['lbfgs']  # Solver for optimization (you can experiment with others)\n",
        "}\n",
        "\n",
        "# Initialize the model\n",
        "log_reg_model = LogisticRegression(max_iter=1000)\n",
        "\n",
        "# Initialize GridSearchCV\n",
        "grid_search = GridSearchCV(estimator=log_reg_model, param_grid=param_grid, cv=skf, scoring='accuracy')\n",
        "\n",
        "# Fit the model\n",
        "grid_search.fit(X_tfidf, y)\n",
        "\n",
        "# Print the best parameters\n",
        "print(\"Best Parameters:\", grid_search.best_params_)\n"
      ],
      "metadata": {
        "colab": {
          "base_uri": "https://localhost:8080/"
        },
        "id": "8NUjLgjVDdIL",
        "outputId": "ed1874a4-cb5b-45ed-f633-b2c3f8968f06"
      },
      "execution_count": null,
      "outputs": [
        {
          "output_type": "stream",
          "name": "stdout",
          "text": [
            "Best Parameters: {'C': 1, 'penalty': 'l2', 'solver': 'lbfgs'}\n"
          ]
        }
      ]
    },
    {
      "cell_type": "code",
      "source": [
        "#USING SMOTE TECHNIQUE\n",
        "from imblearn.over_sampling import SMOTE\n",
        "smote = SMOTE(random_state=42)\n",
        "X_train_smote, y_train_smote = smote.fit_resample(X_train_tfidf, y_train)\n"
      ],
      "metadata": {
        "id": "EmF5BYc9EfPB"
      },
      "execution_count": null,
      "outputs": []
    },
    {
      "cell_type": "code",
      "source": [
        "#UNDERSAMPLING THE MAJORITY CLASS\n",
        "from imblearn.under_sampling import RandomUnderSampler\n",
        "under_sampler = RandomUnderSampler(random_state=42)\n",
        "X_train_under, y_train_under = under_sampler.fit_resample(X_train_tfidf, y_train)\n"
      ],
      "metadata": {
        "id": "WTun5P29EnLv"
      },
      "execution_count": null,
      "outputs": []
    },
    {
      "cell_type": "code",
      "source": [
        "#USING K FOLD\n",
        "from sklearn.model_selection import cross_val_score\n",
        "scores = cross_val_score(log_reg_model, X_train_smote, y_train_smote, cv=5, scoring='accuracy')\n",
        "print(f'Cross-validation Accuracy: {np.mean(scores) * 100:.2f}%')\n"
      ],
      "metadata": {
        "colab": {
          "base_uri": "https://localhost:8080/"
        },
        "id": "YNcnLKr3FrSN",
        "outputId": "74d0e584-db1c-4b95-d3a2-cdfe8ffdb448"
      },
      "execution_count": null,
      "outputs": [
        {
          "output_type": "stream",
          "name": "stdout",
          "text": [
            "Cross-validation Accuracy: 80.24%\n"
          ]
        }
      ]
    },
    {
      "cell_type": "code",
      "source": [
        "# Assuming the model before balancing is already trained and we have the predictions stored\n",
        "\n",
        "# Initialize the model if it hasn't been already\n",
        "from sklearn.linear_model import LogisticRegression\n",
        "log_reg_model = LogisticRegression(random_state=42, max_iter=1000)\n",
        "\n",
        "# Fit the model before making predictions\n",
        "log_reg_model.fit(X_train_tfidf, y_train)\n",
        "\n",
        "# Make predictions for imbalanced data\n",
        "y_pred_imbalanced = log_reg_model.predict(X_test_tfidf)  # The prediction before class balancing\n",
        "\n",
        "# Train Logistic Regression again on balanced data (using previously balanced dataset)\n",
        "log_reg_model_balanced = LogisticRegression(random_state=42, max_iter=1000)\n",
        "log_reg_model_balanced.fit(X_train_tfidf, y_train)  # 'X_train_tfidf' and 'y_train' should be balanced\n",
        "\n",
        "# Make predictions on the balanced model\n",
        "y_pred_balanced = log_reg_model_balanced.predict(X_test_tfidf)\n",
        "\n",
        "# Compare Classification Reports\n",
        "\n",
        "print(\"Classification Report (Before Class Balancing):\")\n",
        "print(classification_report(y_test, y_pred_imbalanced))\n",
        "\n",
        "print(\"Classification Report (After Class Balancing):\")\n",
        "print(classification_report(y_test, y_pred_balanced))"
      ],
      "metadata": {
        "colab": {
          "base_uri": "https://localhost:8080/"
        },
        "id": "mGw2ShtoF8kj",
        "outputId": "d4ddb8ca-6734-409b-edd6-2bb27c1de5ea"
      },
      "execution_count": null,
      "outputs": [
        {
          "output_type": "stream",
          "name": "stdout",
          "text": [
            "Classification Report (Before Class Balancing):\n",
            "              precision    recall  f1-score   support\n",
            "\n",
            "           0       0.85      0.78      0.81       306\n",
            "           1       0.77      0.85      0.81       266\n",
            "\n",
            "    accuracy                           0.81       572\n",
            "   macro avg       0.81      0.81      0.81       572\n",
            "weighted avg       0.81      0.81      0.81       572\n",
            "\n",
            "Classification Report (After Class Balancing):\n",
            "              precision    recall  f1-score   support\n",
            "\n",
            "           0       0.85      0.78      0.81       306\n",
            "           1       0.77      0.85      0.81       266\n",
            "\n",
            "    accuracy                           0.81       572\n",
            "   macro avg       0.81      0.81      0.81       572\n",
            "weighted avg       0.81      0.81      0.81       572\n",
            "\n"
          ]
        }
      ]
    },
    {
      "cell_type": "code",
      "source": [
        "print(\"Unique classes in training data before balancing:\", y_train.value_counts())\n",
        "# Assuming you want to print the class distribution after SMOTE:\n",
        "print(\"Unique classes in training data after SMOTE:\", y_train_smote.value_counts())\n",
        "# OR, if you meant to use under-sampling:\n",
        "# print(\"Unique classes in training data after under-sampling:\", y_train_under.value_counts())"
      ],
      "metadata": {
        "colab": {
          "base_uri": "https://localhost:8080/"
        },
        "id": "Dv60lrnqGTms",
        "outputId": "4af19fde-c3ae-4c71-e5c5-c8b43c42918c"
      },
      "execution_count": null,
      "outputs": [
        {
          "output_type": "stream",
          "name": "stdout",
          "text": [
            "Unique classes in training data before balancing: class\n",
            "1    1164\n",
            "0    1124\n",
            "Name: count, dtype: int64\n",
            "Unique classes in training data after SMOTE: class\n",
            "0    1164\n",
            "1    1164\n",
            "Name: count, dtype: int64\n"
          ]
        }
      ]
    },
    {
      "cell_type": "code",
      "source": [
        "# Or, if using SMOTE:\n",
        "from imblearn.over_sampling import SMOTE  # Uncomment this line to import SMOTE\n",
        "smote = SMOTE(random_state=42)\n",
        "X_train_tfidf_balanced, y_train_balanced = smote.fit_resample(X_train_tfidf, y_train) # Uncomment this line to define X_train_tfidf_balanced and y_train_balanced\n",
        "\n",
        "# Initialize the Logistic Regression model\n",
        "log_reg_model_balanced = LogisticRegression(random_state=42, max_iter=1000)\n",
        "\n",
        "# Fit the model on the balanced data\n",
        "log_reg_model_balanced.fit(X_train_tfidf_balanced, y_train_balanced)\n",
        "\n",
        "# Make predictions using the balanced model on the test set\n",
        "y_pred_balanced = log_reg_model_balanced.predict(X_test_tfidf)\n",
        "\n",
        "# Evaluate the model on the test set\n",
        "from sklearn.metrics import accuracy_score, classification_report, confusion_matrix # Assuming these imports are already in place\n",
        "accuracy_balanced = accuracy_score(y_test, y_pred_balanced)\n",
        "print(f'Accuracy after class balancing: {accuracy_balanced * 100:.2f}%')\n",
        "\n",
        "print('Classification Report (After Class Balancing):')\n",
        "print(classification_report(y_test, y_pred_balanced))\n",
        "\n",
        "print('Confusion Matrix (After Class Balancing):')\n",
        "print(confusion_matrix(y_test, y_pred_balanced))"
      ],
      "metadata": {
        "colab": {
          "base_uri": "https://localhost:8080/"
        },
        "id": "TcKnAhRFHGHA",
        "outputId": "ee09b25a-4ca1-4a0d-eac1-2b1def4ce7eb"
      },
      "execution_count": null,
      "outputs": [
        {
          "output_type": "stream",
          "name": "stdout",
          "text": [
            "Accuracy after class balancing: 85.66%\n",
            "Classification Report (After Class Balancing):\n",
            "              precision    recall  f1-score   support\n",
            "\n",
            "           0       0.30      0.58      0.40       290\n",
            "           1       0.96      0.87      0.91      3832\n",
            "           2       0.79      0.91      0.85       835\n",
            "\n",
            "    accuracy                           0.86      4957\n",
            "   macro avg       0.69      0.79      0.72      4957\n",
            "weighted avg       0.90      0.86      0.87      4957\n",
            "\n",
            "Confusion Matrix (After Class Balancing):\n",
            "[[ 168   86   36]\n",
            " [ 353 3318  161]\n",
            " [  38   37  760]]\n"
          ]
        }
      ]
    },
    {
      "cell_type": "code",
      "source": [
        "from sklearn.ensemble import RandomForestClassifier\n",
        "from sklearn.metrics import classification_report, accuracy_score, confusion_matrix\n",
        "from sklearn.preprocessing import LabelEncoder\n",
        "import pandas as pd\n",
        "\n",
        "# Initialize the Random Forest model\n",
        "rf_model_balanced = RandomForestClassifier(random_state=42)\n",
        "\n",
        "# Fit the model with balanced training data\n",
        "rf_model_balanced.fit(X_train_balanced, y_train_balanced)\n",
        "\n",
        "# Assuming X_test is the original data before TF-IDF\n",
        "# Apply the same preprocessing steps used for training data to X_test\n",
        "if not isinstance(X_test, pd.DataFrame):\n",
        "    X_test = pd.DataFrame(X_test)\n",
        "\n",
        "# Convert string columns to numerical using Label Encoding\n",
        "for column in X_test.select_dtypes(include=['object']).columns:\n",
        "    le = LabelEncoder()\n",
        "    X_test[column] = le.fit_transform(X_test[column])\n",
        "\n",
        "# Now, make predictions using the preprocessed X_test\n",
        "y_pred_rf_balanced = rf_model_balanced.predict(X_test)\n",
        "\n",
        "# Evaluate the model\n",
        "accuracy_rf_balanced = accuracy_score(y_test, y_pred_rf_balanced)\n",
        "print(\"Random Forest Classifier Performance on Balanced Data:\")\n",
        "print(f\"Accuracy: {accuracy_rf_balanced:.4f}\")\n",
        "print(\"Classification Report:\")\n",
        "print(classification_report(y_test, y_pred_rf_balanced))\n",
        "print(\"Confusion Matrix:\")\n",
        "print(confusion_matrix(y_test, y_pred_rf_balanced))\n"
      ],
      "metadata": {
        "colab": {
          "base_uri": "https://localhost:8080/"
        },
        "id": "44mHcHRTQUYg",
        "outputId": "4e3addf8-5795-4f5d-a8e0-c72515c3dcc7"
      },
      "execution_count": null,
      "outputs": [
        {
          "output_type": "stream",
          "name": "stdout",
          "text": [
            "Random Forest Classifier Performance on Balanced Data:\n",
            "Accuracy: 0.4002\n",
            "Classification Report:\n",
            "              precision    recall  f1-score   support\n",
            "\n",
            "           0       0.05      0.28      0.09       290\n",
            "           1       0.78      0.44      0.56      3832\n",
            "           2       0.18      0.27      0.22       835\n",
            "\n",
            "    accuracy                           0.40      4957\n",
            "   macro avg       0.34      0.33      0.29      4957\n",
            "weighted avg       0.64      0.40      0.47      4957\n",
            "\n",
            "Confusion Matrix:\n",
            "[[  82  137   71]\n",
            " [1182 1674  976]\n",
            " [ 270  337  228]]\n"
          ]
        }
      ]
    },
    {
      "cell_type": "code",
      "source": [
        "# Import necessary libraries\n",
        "from sklearn.model_selection import train_test_split\n",
        "from sklearn.feature_extraction.text import TfidfVectorizer\n",
        "from sklearn.datasets import fetch_20newsgroups  # Example dataset (you can use your own)\n",
        "\n",
        "# 1. Load your dataset (replace this with your own dataset)\n",
        "# For demonstration, we are using the 20 newsgroups dataset, but replace this with your own data.\n",
        "newsgroups_data = fetch_20newsgroups(subset='all', categories=['sci.space', 'comp.graphics'], remove=('headers', 'footers', 'quotes'))\n",
        "X = newsgroups_data.data  # Input data (text)\n",
        "y = newsgroups_data.target  # Labels\n",
        "\n",
        "# 2. Split the data into training and test sets\n",
        "X_train, X_test, y_train, y_test = train_test_split(X, y, test_size=0.2, random_state=42)\n",
        "\n",
        "# 3. Initialize and fit the TF-IDF vectorizer on the training data\n",
        "vectorizer = TfidfVectorizer()\n",
        "X_train_tfidf = vectorizer.fit_transform(X_train)  # Transform the training data into TF-IDF features\n",
        "\n",
        "# 4. Transform the test data using the same vectorizer\n",
        "X_test_tfidf = vectorizer.transform(X_test)  # Transform the test data\n",
        "\n",
        "# Now, X_train_tfidf and X_test_tfidf can be used to train your model\n"
      ],
      "metadata": {
        "id": "406GAX6nBNmg"
      },
      "execution_count": null,
      "outputs": []
    },
    {
      "cell_type": "code",
      "source": [
        "# Import necessary libraries\n",
        "from sklearn.model_selection import train_test_split\n",
        "from sklearn.feature_extraction.text import TfidfVectorizer\n",
        "from sklearn.datasets import fetch_20newsgroups  # Example dataset (you can use your own)\n",
        "\n",
        "# 1. Load your dataset (replace this with your own dataset)\n",
        "# For demonstration, we are using the 20 newsgroups dataset, but replace this with your own data.\n",
        "newsgroups_data = fetch_20newsgroups(subset='all', categories=['sci.space', 'comp.graphics'], remove=('headers', 'footers', 'quotes'))\n",
        "X = newsgroups_data.data  # Input data (text)\n",
        "y = newsgroups_data.target  # Labels\n",
        "\n",
        "# 2. Split the data into training and test sets\n",
        "X_train, X_test, y_train, y_test = train_test_split(X, y, test_size=0.2, random_state=42)\n",
        "\n",
        "# 3. Initialize and fit the TF-IDF vectorizer on the training data\n",
        "vectorizer = TfidfVectorizer()\n",
        "X_train_tfidf = vectorizer.fit_transform(X_train)  # Transform the training data into TF-IDF features\n",
        "\n",
        "# 4. Transform the test data using the same vectorizer\n",
        "X_test_tfidf = vectorizer.transform(X_test)  # Transform the test data\n",
        "\n",
        "# Now, X_train_tfidf and X_test_tfidf can be used to train your model\n"
      ],
      "metadata": {
        "id": "6pA3vx5sBWK5"
      },
      "execution_count": null,
      "outputs": []
    },
    {
      "cell_type": "code",
      "source": [
        "# Import necessary libraries\n",
        "from sklearn.linear_model import LogisticRegression\n",
        "from sklearn.metrics import classification_report\n",
        "from sklearn.model_selection import GridSearchCV\n",
        "\n",
        "# Logistic Regression Model with class-weight adjustment for handling imbalance\n",
        "log_reg_model = LogisticRegression(random_state=42, max_iter=1000, class_weight='balanced')\n",
        "\n",
        "# Train the model on imbalanced data\n",
        "log_reg_model.fit(X_train_tfidf, y_train)\n",
        "\n",
        "# Make predictions on the imbalanced model\n",
        "y_pred_imbalanced = log_reg_model.predict(X_test_tfidf)\n",
        "\n",
        "# Apply GridSearchCV to tune hyperparameters\n",
        "param_grid = {\n",
        "    'C': [0.01, 0.1, 1, 10, 100],  # Regularization strength\n",
        "    'solver': ['liblinear', 'lbfgs']  # Solver options\n",
        "}\n",
        "\n",
        "# Initialize GridSearchCV\n",
        "grid_search = GridSearchCV(LogisticRegression(random_state=42, max_iter=1000, class_weight='balanced'), param_grid, cv=5)\n",
        "grid_search.fit(X_train_tfidf, y_train)\n",
        "\n",
        "# Best parameters after tuning\n",
        "best_params = grid_search.best_params_\n",
        "print(\"Best parameters found: \", best_params)\n",
        "\n",
        "# Train Logistic Regression with the best parameters\n",
        "log_reg_model_balanced = LogisticRegression(random_state=42, max_iter=1000, **best_params)\n",
        "log_reg_model_balanced.fit(X_train_tfidf, y_train)\n",
        "\n",
        "# Make predictions on the balanced model\n",
        "y_pred_balanced = log_reg_model_balanced.predict(X_test_tfidf)\n",
        "\n",
        "# Compare Classification Reports\n",
        "print(\"Classification Report (Before Class Balancing):\")\n",
        "print(classification_report(y_test, y_pred_imbalanced))\n",
        "\n",
        "print(\"Classification Report (After Class Balancing and Hyperparameter Tuning):\")\n",
        "print(classification_report(y_test, y_pred_balanced))\n"
      ],
      "metadata": {
        "colab": {
          "base_uri": "https://localhost:8080/"
        },
        "id": "GSfyn3T0B8GF",
        "outputId": "efe4724d-ad34-4ef3-d264-83f5c166ce80"
      },
      "execution_count": null,
      "outputs": [
        {
          "output_type": "stream",
          "name": "stdout",
          "text": [
            "Best parameters found:  {'C': 100, 'solver': 'liblinear'}\n",
            "Classification Report (Before Class Balancing):\n",
            "              precision    recall  f1-score   support\n",
            "\n",
            "           0       0.91      0.92      0.91       192\n",
            "           1       0.92      0.91      0.92       200\n",
            "\n",
            "    accuracy                           0.92       392\n",
            "   macro avg       0.92      0.92      0.92       392\n",
            "weighted avg       0.92      0.92      0.92       392\n",
            "\n",
            "Classification Report (After Class Balancing and Hyperparameter Tuning):\n",
            "              precision    recall  f1-score   support\n",
            "\n",
            "           0       0.94      0.93      0.93       192\n",
            "           1       0.93      0.94      0.94       200\n",
            "\n",
            "    accuracy                           0.94       392\n",
            "   macro avg       0.94      0.94      0.94       392\n",
            "weighted avg       0.94      0.94      0.94       392\n",
            "\n"
          ]
        }
      ]
    },
    {
      "cell_type": "code",
      "source": [
        "# Import necessary libraries for Decision Tree\n",
        "from sklearn.tree import DecisionTreeClassifier\n",
        "from sklearn.model_selection import GridSearchCV\n",
        "from sklearn.metrics import classification_report\n",
        "# Import necessary libraries for TF-IDF\n",
        "from sklearn.feature_extraction.text import TfidfVectorizer\n",
        "from sklearn.model_selection import train_test_split\n",
        "from sklearn.datasets import fetch_20newsgroups\n",
        "\n",
        "# Load your dataset (replace this with your own dataset)\n",
        "# For demonstration, we are using the 20 newsgroups dataset, but replace this with your own data.\n",
        "newsgroups_data = fetch_20newsgroups(subset='all', categories=['sci.space', 'comp.graphics'], remove=('headers', 'footers', 'quotes'))\n",
        "X = newsgroups_data.data  # Input data (text)\n",
        "y = newsgroups_data.target  # Labels\n",
        "\n",
        "# Split the data into training and test sets\n",
        "X_train, X_test, y_train, y_test = train_test_split(X, y, test_size=0.2, random_state=42)\n",
        "\n",
        "# Initialize and fit the TF-IDF vectorizer on the training data\n",
        "vectorizer = TfidfVectorizer()\n",
        "X_train_tfidf = vectorizer.fit_transform(X_train)  # Transform the training data into TF-IDF features\n",
        "\n",
        "# Transform the test data using the same vectorizer\n",
        "X_test_tfidf = vectorizer.transform(X_test)  # Transform the test data\n",
        "\n",
        "\n",
        "# Decision Tree with class weight adjustment for handling imbalance\n",
        "dt_model = DecisionTreeClassifier(random_state=42, class_weight='balanced')\n",
        "\n",
        "# Train the model on imbalanced data\n",
        "dt_model.fit(X_train_tfidf, y_train)\n",
        "\n",
        "# Make predictions on the imbalanced model\n",
        "y_pred_dt_imbalanced = dt_model.predict(X_test_tfidf)\n",
        "\n",
        "# Apply GridSearchCV to tune hyperparameters for Decision Tree\n",
        "dt_param_grid = {\n",
        "    'max_depth': [None, 10, 20, 30],  # Maximum depth of the tree\n",
        "    'min_samples_split': [2, 5, 10],  # Minimum samples required to split a node\n",
        "    'min_samples_leaf': [1, 2, 4],    # Minimum samples required to be a leaf node\n",
        "    'criterion': ['gini', 'entropy'] # Split criteria\n",
        "}\n",
        "\n",
        "# Initialize GridSearchCV\n",
        "dt_grid_search = GridSearchCV(DecisionTreeClassifier(random_state=42, class_weight='balanced'), dt_param_grid, cv=5)\n",
        "dt_grid_search.fit(X_train_tfidf, y_train)\n",
        "\n",
        "# Best parameters after tuning\n",
        "best_dt_params = dt_grid_search.best_params_\n",
        "print(\"Best parameters found for Decision Tree: \", best_dt_params)\n",
        "\n",
        "# Train Decision Tree with the best parameters\n",
        "dt_model_balanced = DecisionTreeClassifier(random_state=42, class_weight='balanced', **best_dt_params)\n",
        "dt_model_balanced.fit(X_train_tfidf, y_train)\n",
        "\n",
        "# Make predictions on the balanced model\n",
        "y_pred_dt_balanced = dt_model_balanced.predict(X_test_tfidf)\n",
        "\n",
        "# Compare Classification Reports\n",
        "print(\"Classification Report (Before Class Balancing):\")\n",
        "print(classification_report(y_test, y_pred_dt_imbalanced))\n",
        "\n",
        "print(\"Classification Report (After Class Balancing and Hyperparameter Tuning):\")\n",
        "print(classification_report(y_test, y_pred_dt_balanced))"
      ],
      "metadata": {
        "colab": {
          "base_uri": "https://localhost:8080/"
        },
        "id": "l5SQNWboGYR-",
        "outputId": "e2f91425-7084-4c3d-936c-a092c178b19c"
      },
      "execution_count": null,
      "outputs": [
        {
          "output_type": "stream",
          "name": "stdout",
          "text": [
            "Best parameters found for Decision Tree:  {'criterion': 'entropy', 'max_depth': None, 'min_samples_leaf': 1, 'min_samples_split': 2}\n",
            "Classification Report (Before Class Balancing):\n",
            "              precision    recall  f1-score   support\n",
            "\n",
            "           0       0.78      0.74      0.76       192\n",
            "           1       0.77      0.80      0.78       200\n",
            "\n",
            "    accuracy                           0.77       392\n",
            "   macro avg       0.77      0.77      0.77       392\n",
            "weighted avg       0.77      0.77      0.77       392\n",
            "\n",
            "Classification Report (After Class Balancing and Hyperparameter Tuning):\n",
            "              precision    recall  f1-score   support\n",
            "\n",
            "           0       0.77      0.81      0.79       192\n",
            "           1       0.81      0.77      0.78       200\n",
            "\n",
            "    accuracy                           0.79       392\n",
            "   macro avg       0.79      0.79      0.79       392\n",
            "weighted avg       0.79      0.79      0.79       392\n",
            "\n"
          ]
        }
      ]
    },
    {
      "cell_type": "code",
      "source": [
        "from sklearn.model_selection import RandomizedSearchCV\n",
        "from scipy.stats import randint\n",
        "\n",
        "# Randomized search over hyperparameters\n",
        "rf_param_dist = {\n",
        "    'n_estimators': randint(50, 200),          # Random search for the number of trees\n",
        "    'max_depth': [None, 10, 20],               # Random search for max depth of trees\n",
        "    'min_samples_split': randint(2, 10),       # Random search for min samples to split\n",
        "    'min_samples_leaf': randint(1, 4),         # Random search for min samples for leaf nodes\n",
        "    'criterion': ['gini', 'entropy']          # Random search for split criteria\n",
        "}\n",
        "\n",
        "# RandomizedSearchCV\n",
        "rf_random_search = RandomizedSearchCV(RandomForestClassifier(random_state=42, class_weight='balanced'),\n",
        "                                      rf_param_dist, n_iter=10, cv=5, random_state=42)\n",
        "rf_random_search.fit(X_train_tfidf, y_train)\n",
        "\n",
        "# Best parameters after tuning\n",
        "best_rf_params = rf_random_search.best_params_\n",
        "print(\"Best parameters found for Random Forest:\", best_rf_params)\n",
        "\n",
        "# Train Random Forest with the best parameters\n",
        "rf_model_balanced = RandomForestClassifier(random_state=42, class_weight='balanced', **best_rf_params)\n",
        "rf_model_balanced.fit(X_train_tfidf, y_train)\n",
        "\n",
        "# Make predictions on the balanced model\n",
        "y_pred_rf_balanced = rf_model_balanced.predict(X_test_tfidf)\n",
        "\n",
        "# Compare Classification Reports\n",
        "print(\"Classification Report (Before Class Balancing):\")\n",
        "print(classification_report(y_test, y_pred_rf_imbalanced))\n",
        "\n",
        "print(\"Classification Report (After Class Balancing and Hyperparameter Tuning):\")\n",
        "print(classification_report(y_test, y_pred_rf_balanced))\n"
      ],
      "metadata": {
        "colab": {
          "base_uri": "https://localhost:8080/"
        },
        "id": "2PbCa5uYM4Fx",
        "outputId": "8d7e2811-1077-41cf-e77c-99a1fac09137"
      },
      "execution_count": null,
      "outputs": [
        {
          "output_type": "stream",
          "name": "stdout",
          "text": [
            "Best parameters found for Random Forest: {'criterion': 'entropy', 'max_depth': None, 'min_samples_leaf': 2, 'min_samples_split': 3, 'n_estimators': 58}\n",
            "Classification Report (Before Class Balancing):\n",
            "              precision    recall  f1-score   support\n",
            "\n",
            "           0       0.90      0.87      0.89       192\n",
            "           1       0.88      0.91      0.89       200\n",
            "\n",
            "    accuracy                           0.89       392\n",
            "   macro avg       0.89      0.89      0.89       392\n",
            "weighted avg       0.89      0.89      0.89       392\n",
            "\n",
            "Classification Report (After Class Balancing and Hyperparameter Tuning):\n",
            "              precision    recall  f1-score   support\n",
            "\n",
            "           0       0.91      0.90      0.91       192\n",
            "           1       0.91      0.92      0.91       200\n",
            "\n",
            "    accuracy                           0.91       392\n",
            "   macro avg       0.91      0.91      0.91       392\n",
            "weighted avg       0.91      0.91      0.91       392\n",
            "\n"
          ]
        }
      ]
    },
    {
      "cell_type": "code",
      "source": [
        "from sklearn.ensemble import RandomForestClassifier\n",
        "from sklearn.tree import DecisionTreeClassifier\n",
        "from sklearn.neural_network import MLPClassifier\n",
        "from sklearn.model_selection import train_test_split\n",
        "from sklearn.metrics import classification_report\n",
        "from sklearn.model_selection import RandomizedSearchCV\n",
        "from scipy.stats import randint\n"
      ],
      "metadata": {
        "id": "SVGMGiw9W0Ou"
      },
      "execution_count": null,
      "outputs": []
    },
    {
      "cell_type": "code",
      "source": [
        "#DECISION TREE\n",
        "# Hyperparameter distribution for Decision Tree\n",
        "dt_param_dist = {\n",
        "    'max_depth': [None, 10, 20, 30],\n",
        "    'min_samples_split': randint(2, 10),\n",
        "    'min_samples_leaf': randint(1, 4),\n",
        "    'criterion': ['gini', 'entropy']\n",
        "}\n",
        "\n",
        "# RandomizedSearchCV for Decision Tree\n",
        "dt_random_search = RandomizedSearchCV(DecisionTreeClassifier(random_state=42),\n",
        "                                      dt_param_dist, n_iter=10, cv=5, random_state=42)\n",
        "dt_random_search.fit(X_train_tfidf, y_train)\n",
        "\n",
        "# Best parameters for Decision Tree\n",
        "best_dt_params = dt_random_search.best_params_\n",
        "print(\"Best parameters found for Decision Tree:\", best_dt_params)\n",
        "\n",
        "# Train Decision Tree with the best parameters\n",
        "dt_model_balanced = DecisionTreeClassifier(random_state=42, **best_dt_params)\n",
        "dt_model_balanced.fit(X_train_tfidf, y_train)\n",
        "\n",
        "# Make predictions for Decision Tree\n",
        "y_pred_dt_balanced = dt_model_balanced.predict(X_test_tfidf)\n",
        "\n",
        "# Classification report for Decision Tree (before balancing)\n",
        "print(\"Classification Report (Before Class Balancing):\")\n",
        "print(classification_report(y_test, y_pred_dt_imbalanced))\n",
        "\n",
        "print(\"Classification Report (After Class Balancing and Hyperparameter Tuning):\")\n",
        "print(classification_report(y_test, y_pred_dt_balanced))\n"
      ],
      "metadata": {
        "colab": {
          "base_uri": "https://localhost:8080/"
        },
        "id": "yD5_ddagW0XP",
        "outputId": "9a4643a8-6290-4b32-ba98-ab872a3426da"
      },
      "execution_count": null,
      "outputs": [
        {
          "output_type": "stream",
          "name": "stdout",
          "text": [
            "Best parameters found for Decision Tree: {'criterion': 'entropy', 'max_depth': None, 'min_samples_leaf': 1, 'min_samples_split': 4}\n",
            "Classification Report (Before Class Balancing):\n",
            "              precision    recall  f1-score   support\n",
            "\n",
            "           0       0.78      0.74      0.76       192\n",
            "           1       0.77      0.80      0.78       200\n",
            "\n",
            "    accuracy                           0.77       392\n",
            "   macro avg       0.77      0.77      0.77       392\n",
            "weighted avg       0.77      0.77      0.77       392\n",
            "\n",
            "Classification Report (After Class Balancing and Hyperparameter Tuning):\n",
            "              precision    recall  f1-score   support\n",
            "\n",
            "           0       0.78      0.80      0.79       192\n",
            "           1       0.80      0.78      0.79       200\n",
            "\n",
            "    accuracy                           0.79       392\n",
            "   macro avg       0.79      0.79      0.79       392\n",
            "weighted avg       0.79      0.79      0.79       392\n",
            "\n"
          ]
        }
      ]
    },
    {
      "cell_type": "code",
      "source": [
        "from sklearn.ensemble import VotingClassifier\n",
        "from sklearn.ensemble import RandomForestClassifier, RandomForestClassifier\n",
        "from sklearn.tree import DecisionTreeClassifier\n",
        "from sklearn.linear_model import LogisticRegression\n",
        "from sklearn.model_selection import RandomizedSearchCV\n",
        "from scipy.stats import randint, uniform\n",
        "from sklearn.metrics import classification_report\n",
        "\n",
        "# Define the individual models (after hyperparameter tuning)\n",
        "rf_model = RandomForestClassifier(random_state=42, class_weight='balanced', **best_rf_params)\n",
        "dt_model = DecisionTreeClassifier(random_state=42, **best_dt_params)\n",
        "logreg_model = LogisticRegression(random_state=42, **best_logreg_params)\n",
        "\n",
        "# Create the voting classifier (hard voting)\n",
        "voting_clf = VotingClassifier(estimators=[\n",
        "    ('rf', rf_model),\n",
        "    ('dt', dt_model),\n",
        "    ('logreg', logreg_model)\n",
        "], voting='hard')  # Use 'soft' for soft voting if you prefer probabilities\n",
        "\n",
        "# Train the Voting Classifier with the training data\n",
        "voting_clf.fit(X_train_tfidf, y_train)\n",
        "\n",
        "# Make predictions with the voting classifier\n",
        "y_pred_voting = voting_clf.predict(X_test_tfidf)\n",
        "\n",
        "# Classification report for the Voting Classifier (before balancing)\n",
        "print(\"Classification Report (Before Class Balancing):\")\n",
        "print(classification_report(y_test, y_pred_voting))\n",
        "\n",
        "# Optionally, if you are doing class balancing:\n",
        "# Voting Classifier with class balancing\n",
        "voting_clf_balanced = VotingClassifier(estimators=[\n",
        "   ('rf', RandomForestClassifier(random_state=42, class_weight='balanced', **best_rf_params)),\n",
        "   ('dt', DecisionTreeClassifier(random_state=42, **best_dt_params)),\n",
        "   ('logreg', LogisticRegression(random_state=42, **best_logreg_params)) ], voting='hard')\n",
        "\n",
        "voting_clf_balanced.fit(X_train_tfidf, y_train)\n",
        " y_pred_voting_balanced = voting_clf_balanced.predict(X_test_tfidf)\n",
        "\n",
        "# Classification report after balancing\n",
        "print(\"Classification Report (After Class Balancing and Hyperparameter Tuning):\")\n",
        "print(classification_report(y_test, y_pred_voting_balanced))\n"
      ],
      "metadata": {
        "id": "0mEsDe9vZzhQ"
      },
      "execution_count": null,
      "outputs": []
    },
    {
      "cell_type": "code",
      "source": [
        "from sklearn.svm import SVC\n",
        "from sklearn.model_selection import RandomizedSearchCV\n",
        "from scipy.stats import uniform\n",
        "from sklearn.metrics import classification_report\n",
        "# Assuming you have your data in X and y and you want to use TF-IDF\n",
        "from sklearn.feature_extraction.text import TfidfVectorizer\n",
        "from sklearn.model_selection import train_test_split # Import train_test_split\n",
        "\n",
        "# Replace these placeholders with your actual data\n",
        "# Example:\n",
        "X = ['This is a document.', 'This is another document.', 'This is a third document.']  # Replace with your actual text data\n",
        "y = [0, 1, 0]  # Replace with your actual target labels\n",
        "\n",
        "# 1. Split your data into training and testing sets\n",
        "X_train, X_test, y_train, y_test = train_test_split(X, y, test_size=0.2, random_state=42) # Added this line to split the data\n",
        "\n",
        "# 2. Create a TF-IDF vectorizer\n",
        "vectorizer = TfidfVectorizer()\n",
        "\n",
        "# 3. Fit and transform your training data\n",
        "# Assuming 'X' contains your text data\n",
        "X_train_tfidf = vectorizer.fit_transform(X_train)\n",
        "\n",
        "# 4. Transform your testing data (using the same vocabulary)\n",
        "X_test_tfidf = vectorizer.transform(X_test)"
      ],
      "metadata": {
        "id": "FTwlQ29Ca0rX"
      },
      "execution_count": null,
      "outputs": []
    },
    {
      "cell_type": "code",
      "source": [
        "from sklearn.svm import SVC\n",
        "from sklearn.model_selection import RandomizedSearchCV\n",
        "from scipy.stats import uniform\n",
        "from sklearn.metrics import classification_report\n",
        "\n",
        "# ... (Your existing code for data preparation and vectorization) ...\n",
        "\n",
        "# Hyperparameter distribution for SVM (remains the same)\n",
        "\n",
        "# RandomizedSearchCV for SVM\n",
        "# Change 'cv' to a value less than or equal to the number of training samples\n",
        "svm_random_search = RandomizedSearchCV(SVC(random_state=42),\n",
        "                                       svm_param_dist, n_iter=10, cv=3, random_state=42)  # cv changed to 3\n",
        "svm_random_search.fit(X_train_tfidf, y_train)\n",
        "\n",
        "# ... (rest of your code remains the same) ..."
      ],
      "metadata": {
        "colab": {
          "base_uri": "https://localhost:8080/",
          "height": 570
        },
        "id": "WrdVrVrFfP7S",
        "outputId": "5fba1e7b-616a-4ca8-e919-d6695e0454ad"
      },
      "execution_count": null,
      "outputs": [
        {
          "output_type": "stream",
          "name": "stderr",
          "text": [
            "/usr/local/lib/python3.10/dist-packages/sklearn/model_selection/_split.py:776: UserWarning: The least populated class in y has only 1 members, which is less than n_splits=3.\n",
            "  warnings.warn(\n",
            "/usr/local/lib/python3.10/dist-packages/sklearn/model_selection/_validation.py:540: FitFailedWarning: \n",
            "10 fits failed out of a total of 30.\n",
            "The score on these train-test partitions for these parameters will be set to nan.\n",
            "If these failures are not expected, you can try to debug them by setting error_score='raise'.\n",
            "\n",
            "Below are more details about the failures:\n",
            "--------------------------------------------------------------------------------\n",
            "10 fits failed with the following error:\n",
            "Traceback (most recent call last):\n",
            "  File \"/usr/local/lib/python3.10/dist-packages/sklearn/model_selection/_validation.py\", line 888, in _fit_and_score\n",
            "    estimator.fit(X_train, y_train, **fit_params)\n",
            "  File \"/usr/local/lib/python3.10/dist-packages/sklearn/base.py\", line 1473, in wrapper\n",
            "    return fit_method(estimator, *args, **kwargs)\n",
            "  File \"/usr/local/lib/python3.10/dist-packages/sklearn/svm/_base.py\", line 199, in fit\n",
            "    y = self._validate_targets(y)\n",
            "  File \"/usr/local/lib/python3.10/dist-packages/sklearn/svm/_base.py\", line 742, in _validate_targets\n",
            "    raise ValueError(\n",
            "ValueError: The number of classes has to be greater than one; got 1 class\n",
            "\n",
            "  warnings.warn(some_fits_failed_message, FitFailedWarning)\n",
            "/usr/local/lib/python3.10/dist-packages/sklearn/model_selection/_search.py:1103: UserWarning: One or more of the test scores are non-finite: [nan nan nan nan nan nan nan nan nan nan]\n",
            "  warnings.warn(\n"
          ]
        },
        {
          "output_type": "execute_result",
          "data": {
            "text/plain": [
              "RandomizedSearchCV(cv=3, estimator=SVC(random_state=42),\n",
              "                   param_distributions={'C': <scipy.stats._distn_infrastructure.rv_continuous_frozen object at 0x79bb0e2f9e10>,\n",
              "                                        'class_weight': ['balanced', None],\n",
              "                                        'degree': [3, 4, 5],\n",
              "                                        'gamma': ['scale', 'auto'],\n",
              "                                        'kernel': ['linear', 'poly', 'rbf',\n",
              "                                                   'sigmoid']},\n",
              "                   random_state=42)"
            ],
            "text/html": [
              "<style>#sk-container-id-2 {\n",
              "  /* Definition of color scheme common for light and dark mode */\n",
              "  --sklearn-color-text: black;\n",
              "  --sklearn-color-line: gray;\n",
              "  /* Definition of color scheme for unfitted estimators */\n",
              "  --sklearn-color-unfitted-level-0: #fff5e6;\n",
              "  --sklearn-color-unfitted-level-1: #f6e4d2;\n",
              "  --sklearn-color-unfitted-level-2: #ffe0b3;\n",
              "  --sklearn-color-unfitted-level-3: chocolate;\n",
              "  /* Definition of color scheme for fitted estimators */\n",
              "  --sklearn-color-fitted-level-0: #f0f8ff;\n",
              "  --sklearn-color-fitted-level-1: #d4ebff;\n",
              "  --sklearn-color-fitted-level-2: #b3dbfd;\n",
              "  --sklearn-color-fitted-level-3: cornflowerblue;\n",
              "\n",
              "  /* Specific color for light theme */\n",
              "  --sklearn-color-text-on-default-background: var(--sg-text-color, var(--theme-code-foreground, var(--jp-content-font-color1, black)));\n",
              "  --sklearn-color-background: var(--sg-background-color, var(--theme-background, var(--jp-layout-color0, white)));\n",
              "  --sklearn-color-border-box: var(--sg-text-color, var(--theme-code-foreground, var(--jp-content-font-color1, black)));\n",
              "  --sklearn-color-icon: #696969;\n",
              "\n",
              "  @media (prefers-color-scheme: dark) {\n",
              "    /* Redefinition of color scheme for dark theme */\n",
              "    --sklearn-color-text-on-default-background: var(--sg-text-color, var(--theme-code-foreground, var(--jp-content-font-color1, white)));\n",
              "    --sklearn-color-background: var(--sg-background-color, var(--theme-background, var(--jp-layout-color0, #111)));\n",
              "    --sklearn-color-border-box: var(--sg-text-color, var(--theme-code-foreground, var(--jp-content-font-color1, white)));\n",
              "    --sklearn-color-icon: #878787;\n",
              "  }\n",
              "}\n",
              "\n",
              "#sk-container-id-2 {\n",
              "  color: var(--sklearn-color-text);\n",
              "}\n",
              "\n",
              "#sk-container-id-2 pre {\n",
              "  padding: 0;\n",
              "}\n",
              "\n",
              "#sk-container-id-2 input.sk-hidden--visually {\n",
              "  border: 0;\n",
              "  clip: rect(1px 1px 1px 1px);\n",
              "  clip: rect(1px, 1px, 1px, 1px);\n",
              "  height: 1px;\n",
              "  margin: -1px;\n",
              "  overflow: hidden;\n",
              "  padding: 0;\n",
              "  position: absolute;\n",
              "  width: 1px;\n",
              "}\n",
              "\n",
              "#sk-container-id-2 div.sk-dashed-wrapped {\n",
              "  border: 1px dashed var(--sklearn-color-line);\n",
              "  margin: 0 0.4em 0.5em 0.4em;\n",
              "  box-sizing: border-box;\n",
              "  padding-bottom: 0.4em;\n",
              "  background-color: var(--sklearn-color-background);\n",
              "}\n",
              "\n",
              "#sk-container-id-2 div.sk-container {\n",
              "  /* jupyter's `normalize.less` sets `[hidden] { display: none; }`\n",
              "     but bootstrap.min.css set `[hidden] { display: none !important; }`\n",
              "     so we also need the `!important` here to be able to override the\n",
              "     default hidden behavior on the sphinx rendered scikit-learn.org.\n",
              "     See: https://github.com/scikit-learn/scikit-learn/issues/21755 */\n",
              "  display: inline-block !important;\n",
              "  position: relative;\n",
              "}\n",
              "\n",
              "#sk-container-id-2 div.sk-text-repr-fallback {\n",
              "  display: none;\n",
              "}\n",
              "\n",
              "div.sk-parallel-item,\n",
              "div.sk-serial,\n",
              "div.sk-item {\n",
              "  /* draw centered vertical line to link estimators */\n",
              "  background-image: linear-gradient(var(--sklearn-color-text-on-default-background), var(--sklearn-color-text-on-default-background));\n",
              "  background-size: 2px 100%;\n",
              "  background-repeat: no-repeat;\n",
              "  background-position: center center;\n",
              "}\n",
              "\n",
              "/* Parallel-specific style estimator block */\n",
              "\n",
              "#sk-container-id-2 div.sk-parallel-item::after {\n",
              "  content: \"\";\n",
              "  width: 100%;\n",
              "  border-bottom: 2px solid var(--sklearn-color-text-on-default-background);\n",
              "  flex-grow: 1;\n",
              "}\n",
              "\n",
              "#sk-container-id-2 div.sk-parallel {\n",
              "  display: flex;\n",
              "  align-items: stretch;\n",
              "  justify-content: center;\n",
              "  background-color: var(--sklearn-color-background);\n",
              "  position: relative;\n",
              "}\n",
              "\n",
              "#sk-container-id-2 div.sk-parallel-item {\n",
              "  display: flex;\n",
              "  flex-direction: column;\n",
              "}\n",
              "\n",
              "#sk-container-id-2 div.sk-parallel-item:first-child::after {\n",
              "  align-self: flex-end;\n",
              "  width: 50%;\n",
              "}\n",
              "\n",
              "#sk-container-id-2 div.sk-parallel-item:last-child::after {\n",
              "  align-self: flex-start;\n",
              "  width: 50%;\n",
              "}\n",
              "\n",
              "#sk-container-id-2 div.sk-parallel-item:only-child::after {\n",
              "  width: 0;\n",
              "}\n",
              "\n",
              "/* Serial-specific style estimator block */\n",
              "\n",
              "#sk-container-id-2 div.sk-serial {\n",
              "  display: flex;\n",
              "  flex-direction: column;\n",
              "  align-items: center;\n",
              "  background-color: var(--sklearn-color-background);\n",
              "  padding-right: 1em;\n",
              "  padding-left: 1em;\n",
              "}\n",
              "\n",
              "\n",
              "/* Toggleable style: style used for estimator/Pipeline/ColumnTransformer box that is\n",
              "clickable and can be expanded/collapsed.\n",
              "- Pipeline and ColumnTransformer use this feature and define the default style\n",
              "- Estimators will overwrite some part of the style using the `sk-estimator` class\n",
              "*/\n",
              "\n",
              "/* Pipeline and ColumnTransformer style (default) */\n",
              "\n",
              "#sk-container-id-2 div.sk-toggleable {\n",
              "  /* Default theme specific background. It is overwritten whether we have a\n",
              "  specific estimator or a Pipeline/ColumnTransformer */\n",
              "  background-color: var(--sklearn-color-background);\n",
              "}\n",
              "\n",
              "/* Toggleable label */\n",
              "#sk-container-id-2 label.sk-toggleable__label {\n",
              "  cursor: pointer;\n",
              "  display: block;\n",
              "  width: 100%;\n",
              "  margin-bottom: 0;\n",
              "  padding: 0.5em;\n",
              "  box-sizing: border-box;\n",
              "  text-align: center;\n",
              "}\n",
              "\n",
              "#sk-container-id-2 label.sk-toggleable__label-arrow:before {\n",
              "  /* Arrow on the left of the label */\n",
              "  content: \"▸\";\n",
              "  float: left;\n",
              "  margin-right: 0.25em;\n",
              "  color: var(--sklearn-color-icon);\n",
              "}\n",
              "\n",
              "#sk-container-id-2 label.sk-toggleable__label-arrow:hover:before {\n",
              "  color: var(--sklearn-color-text);\n",
              "}\n",
              "\n",
              "/* Toggleable content - dropdown */\n",
              "\n",
              "#sk-container-id-2 div.sk-toggleable__content {\n",
              "  max-height: 0;\n",
              "  max-width: 0;\n",
              "  overflow: hidden;\n",
              "  text-align: left;\n",
              "  /* unfitted */\n",
              "  background-color: var(--sklearn-color-unfitted-level-0);\n",
              "}\n",
              "\n",
              "#sk-container-id-2 div.sk-toggleable__content.fitted {\n",
              "  /* fitted */\n",
              "  background-color: var(--sklearn-color-fitted-level-0);\n",
              "}\n",
              "\n",
              "#sk-container-id-2 div.sk-toggleable__content pre {\n",
              "  margin: 0.2em;\n",
              "  border-radius: 0.25em;\n",
              "  color: var(--sklearn-color-text);\n",
              "  /* unfitted */\n",
              "  background-color: var(--sklearn-color-unfitted-level-0);\n",
              "}\n",
              "\n",
              "#sk-container-id-2 div.sk-toggleable__content.fitted pre {\n",
              "  /* unfitted */\n",
              "  background-color: var(--sklearn-color-fitted-level-0);\n",
              "}\n",
              "\n",
              "#sk-container-id-2 input.sk-toggleable__control:checked~div.sk-toggleable__content {\n",
              "  /* Expand drop-down */\n",
              "  max-height: 200px;\n",
              "  max-width: 100%;\n",
              "  overflow: auto;\n",
              "}\n",
              "\n",
              "#sk-container-id-2 input.sk-toggleable__control:checked~label.sk-toggleable__label-arrow:before {\n",
              "  content: \"▾\";\n",
              "}\n",
              "\n",
              "/* Pipeline/ColumnTransformer-specific style */\n",
              "\n",
              "#sk-container-id-2 div.sk-label input.sk-toggleable__control:checked~label.sk-toggleable__label {\n",
              "  color: var(--sklearn-color-text);\n",
              "  background-color: var(--sklearn-color-unfitted-level-2);\n",
              "}\n",
              "\n",
              "#sk-container-id-2 div.sk-label.fitted input.sk-toggleable__control:checked~label.sk-toggleable__label {\n",
              "  background-color: var(--sklearn-color-fitted-level-2);\n",
              "}\n",
              "\n",
              "/* Estimator-specific style */\n",
              "\n",
              "/* Colorize estimator box */\n",
              "#sk-container-id-2 div.sk-estimator input.sk-toggleable__control:checked~label.sk-toggleable__label {\n",
              "  /* unfitted */\n",
              "  background-color: var(--sklearn-color-unfitted-level-2);\n",
              "}\n",
              "\n",
              "#sk-container-id-2 div.sk-estimator.fitted input.sk-toggleable__control:checked~label.sk-toggleable__label {\n",
              "  /* fitted */\n",
              "  background-color: var(--sklearn-color-fitted-level-2);\n",
              "}\n",
              "\n",
              "#sk-container-id-2 div.sk-label label.sk-toggleable__label,\n",
              "#sk-container-id-2 div.sk-label label {\n",
              "  /* The background is the default theme color */\n",
              "  color: var(--sklearn-color-text-on-default-background);\n",
              "}\n",
              "\n",
              "/* On hover, darken the color of the background */\n",
              "#sk-container-id-2 div.sk-label:hover label.sk-toggleable__label {\n",
              "  color: var(--sklearn-color-text);\n",
              "  background-color: var(--sklearn-color-unfitted-level-2);\n",
              "}\n",
              "\n",
              "/* Label box, darken color on hover, fitted */\n",
              "#sk-container-id-2 div.sk-label.fitted:hover label.sk-toggleable__label.fitted {\n",
              "  color: var(--sklearn-color-text);\n",
              "  background-color: var(--sklearn-color-fitted-level-2);\n",
              "}\n",
              "\n",
              "/* Estimator label */\n",
              "\n",
              "#sk-container-id-2 div.sk-label label {\n",
              "  font-family: monospace;\n",
              "  font-weight: bold;\n",
              "  display: inline-block;\n",
              "  line-height: 1.2em;\n",
              "}\n",
              "\n",
              "#sk-container-id-2 div.sk-label-container {\n",
              "  text-align: center;\n",
              "}\n",
              "\n",
              "/* Estimator-specific */\n",
              "#sk-container-id-2 div.sk-estimator {\n",
              "  font-family: monospace;\n",
              "  border: 1px dotted var(--sklearn-color-border-box);\n",
              "  border-radius: 0.25em;\n",
              "  box-sizing: border-box;\n",
              "  margin-bottom: 0.5em;\n",
              "  /* unfitted */\n",
              "  background-color: var(--sklearn-color-unfitted-level-0);\n",
              "}\n",
              "\n",
              "#sk-container-id-2 div.sk-estimator.fitted {\n",
              "  /* fitted */\n",
              "  background-color: var(--sklearn-color-fitted-level-0);\n",
              "}\n",
              "\n",
              "/* on hover */\n",
              "#sk-container-id-2 div.sk-estimator:hover {\n",
              "  /* unfitted */\n",
              "  background-color: var(--sklearn-color-unfitted-level-2);\n",
              "}\n",
              "\n",
              "#sk-container-id-2 div.sk-estimator.fitted:hover {\n",
              "  /* fitted */\n",
              "  background-color: var(--sklearn-color-fitted-level-2);\n",
              "}\n",
              "\n",
              "/* Specification for estimator info (e.g. \"i\" and \"?\") */\n",
              "\n",
              "/* Common style for \"i\" and \"?\" */\n",
              "\n",
              ".sk-estimator-doc-link,\n",
              "a:link.sk-estimator-doc-link,\n",
              "a:visited.sk-estimator-doc-link {\n",
              "  float: right;\n",
              "  font-size: smaller;\n",
              "  line-height: 1em;\n",
              "  font-family: monospace;\n",
              "  background-color: var(--sklearn-color-background);\n",
              "  border-radius: 1em;\n",
              "  height: 1em;\n",
              "  width: 1em;\n",
              "  text-decoration: none !important;\n",
              "  margin-left: 1ex;\n",
              "  /* unfitted */\n",
              "  border: var(--sklearn-color-unfitted-level-1) 1pt solid;\n",
              "  color: var(--sklearn-color-unfitted-level-1);\n",
              "}\n",
              "\n",
              ".sk-estimator-doc-link.fitted,\n",
              "a:link.sk-estimator-doc-link.fitted,\n",
              "a:visited.sk-estimator-doc-link.fitted {\n",
              "  /* fitted */\n",
              "  border: var(--sklearn-color-fitted-level-1) 1pt solid;\n",
              "  color: var(--sklearn-color-fitted-level-1);\n",
              "}\n",
              "\n",
              "/* On hover */\n",
              "div.sk-estimator:hover .sk-estimator-doc-link:hover,\n",
              ".sk-estimator-doc-link:hover,\n",
              "div.sk-label-container:hover .sk-estimator-doc-link:hover,\n",
              ".sk-estimator-doc-link:hover {\n",
              "  /* unfitted */\n",
              "  background-color: var(--sklearn-color-unfitted-level-3);\n",
              "  color: var(--sklearn-color-background);\n",
              "  text-decoration: none;\n",
              "}\n",
              "\n",
              "div.sk-estimator.fitted:hover .sk-estimator-doc-link.fitted:hover,\n",
              ".sk-estimator-doc-link.fitted:hover,\n",
              "div.sk-label-container:hover .sk-estimator-doc-link.fitted:hover,\n",
              ".sk-estimator-doc-link.fitted:hover {\n",
              "  /* fitted */\n",
              "  background-color: var(--sklearn-color-fitted-level-3);\n",
              "  color: var(--sklearn-color-background);\n",
              "  text-decoration: none;\n",
              "}\n",
              "\n",
              "/* Span, style for the box shown on hovering the info icon */\n",
              ".sk-estimator-doc-link span {\n",
              "  display: none;\n",
              "  z-index: 9999;\n",
              "  position: relative;\n",
              "  font-weight: normal;\n",
              "  right: .2ex;\n",
              "  padding: .5ex;\n",
              "  margin: .5ex;\n",
              "  width: min-content;\n",
              "  min-width: 20ex;\n",
              "  max-width: 50ex;\n",
              "  color: var(--sklearn-color-text);\n",
              "  box-shadow: 2pt 2pt 4pt #999;\n",
              "  /* unfitted */\n",
              "  background: var(--sklearn-color-unfitted-level-0);\n",
              "  border: .5pt solid var(--sklearn-color-unfitted-level-3);\n",
              "}\n",
              "\n",
              ".sk-estimator-doc-link.fitted span {\n",
              "  /* fitted */\n",
              "  background: var(--sklearn-color-fitted-level-0);\n",
              "  border: var(--sklearn-color-fitted-level-3);\n",
              "}\n",
              "\n",
              ".sk-estimator-doc-link:hover span {\n",
              "  display: block;\n",
              "}\n",
              "\n",
              "/* \"?\"-specific style due to the `<a>` HTML tag */\n",
              "\n",
              "#sk-container-id-2 a.estimator_doc_link {\n",
              "  float: right;\n",
              "  font-size: 1rem;\n",
              "  line-height: 1em;\n",
              "  font-family: monospace;\n",
              "  background-color: var(--sklearn-color-background);\n",
              "  border-radius: 1rem;\n",
              "  height: 1rem;\n",
              "  width: 1rem;\n",
              "  text-decoration: none;\n",
              "  /* unfitted */\n",
              "  color: var(--sklearn-color-unfitted-level-1);\n",
              "  border: var(--sklearn-color-unfitted-level-1) 1pt solid;\n",
              "}\n",
              "\n",
              "#sk-container-id-2 a.estimator_doc_link.fitted {\n",
              "  /* fitted */\n",
              "  border: var(--sklearn-color-fitted-level-1) 1pt solid;\n",
              "  color: var(--sklearn-color-fitted-level-1);\n",
              "}\n",
              "\n",
              "/* On hover */\n",
              "#sk-container-id-2 a.estimator_doc_link:hover {\n",
              "  /* unfitted */\n",
              "  background-color: var(--sklearn-color-unfitted-level-3);\n",
              "  color: var(--sklearn-color-background);\n",
              "  text-decoration: none;\n",
              "}\n",
              "\n",
              "#sk-container-id-2 a.estimator_doc_link.fitted:hover {\n",
              "  /* fitted */\n",
              "  background-color: var(--sklearn-color-fitted-level-3);\n",
              "}\n",
              "</style><div id=\"sk-container-id-2\" class=\"sk-top-container\"><div class=\"sk-text-repr-fallback\"><pre>RandomizedSearchCV(cv=3, estimator=SVC(random_state=42),\n",
              "                   param_distributions={&#x27;C&#x27;: &lt;scipy.stats._distn_infrastructure.rv_continuous_frozen object at 0x79bb0e2f9e10&gt;,\n",
              "                                        &#x27;class_weight&#x27;: [&#x27;balanced&#x27;, None],\n",
              "                                        &#x27;degree&#x27;: [3, 4, 5],\n",
              "                                        &#x27;gamma&#x27;: [&#x27;scale&#x27;, &#x27;auto&#x27;],\n",
              "                                        &#x27;kernel&#x27;: [&#x27;linear&#x27;, &#x27;poly&#x27;, &#x27;rbf&#x27;,\n",
              "                                                   &#x27;sigmoid&#x27;]},\n",
              "                   random_state=42)</pre><b>In a Jupyter environment, please rerun this cell to show the HTML representation or trust the notebook. <br />On GitHub, the HTML representation is unable to render, please try loading this page with nbviewer.org.</b></div><div class=\"sk-container\" hidden><div class=\"sk-item sk-dashed-wrapped\"><div class=\"sk-label-container\"><div class=\"sk-label fitted sk-toggleable\"><input class=\"sk-toggleable__control sk-hidden--visually\" id=\"sk-estimator-id-4\" type=\"checkbox\" ><label for=\"sk-estimator-id-4\" class=\"sk-toggleable__label fitted sk-toggleable__label-arrow fitted\">&nbsp;&nbsp;RandomizedSearchCV<a class=\"sk-estimator-doc-link fitted\" rel=\"noreferrer\" target=\"_blank\" href=\"https://scikit-learn.org/1.5/modules/generated/sklearn.model_selection.RandomizedSearchCV.html\">?<span>Documentation for RandomizedSearchCV</span></a><span class=\"sk-estimator-doc-link fitted\">i<span>Fitted</span></span></label><div class=\"sk-toggleable__content fitted\"><pre>RandomizedSearchCV(cv=3, estimator=SVC(random_state=42),\n",
              "                   param_distributions={&#x27;C&#x27;: &lt;scipy.stats._distn_infrastructure.rv_continuous_frozen object at 0x79bb0e2f9e10&gt;,\n",
              "                                        &#x27;class_weight&#x27;: [&#x27;balanced&#x27;, None],\n",
              "                                        &#x27;degree&#x27;: [3, 4, 5],\n",
              "                                        &#x27;gamma&#x27;: [&#x27;scale&#x27;, &#x27;auto&#x27;],\n",
              "                                        &#x27;kernel&#x27;: [&#x27;linear&#x27;, &#x27;poly&#x27;, &#x27;rbf&#x27;,\n",
              "                                                   &#x27;sigmoid&#x27;]},\n",
              "                   random_state=42)</pre></div> </div></div><div class=\"sk-parallel\"><div class=\"sk-parallel-item\"><div class=\"sk-item\"><div class=\"sk-label-container\"><div class=\"sk-label fitted sk-toggleable\"><input class=\"sk-toggleable__control sk-hidden--visually\" id=\"sk-estimator-id-5\" type=\"checkbox\" ><label for=\"sk-estimator-id-5\" class=\"sk-toggleable__label fitted sk-toggleable__label-arrow fitted\">best_estimator_: SVC</label><div class=\"sk-toggleable__content fitted\"><pre>SVC(C=3.845401188473625, class_weight=&#x27;balanced&#x27;, degree=5, kernel=&#x27;sigmoid&#x27;,\n",
              "    random_state=42)</pre></div> </div></div><div class=\"sk-serial\"><div class=\"sk-item\"><div class=\"sk-estimator fitted sk-toggleable\"><input class=\"sk-toggleable__control sk-hidden--visually\" id=\"sk-estimator-id-6\" type=\"checkbox\" ><label for=\"sk-estimator-id-6\" class=\"sk-toggleable__label fitted sk-toggleable__label-arrow fitted\">&nbsp;SVC<a class=\"sk-estimator-doc-link fitted\" rel=\"noreferrer\" target=\"_blank\" href=\"https://scikit-learn.org/1.5/modules/generated/sklearn.svm.SVC.html\">?<span>Documentation for SVC</span></a></label><div class=\"sk-toggleable__content fitted\"><pre>SVC(C=3.845401188473625, class_weight=&#x27;balanced&#x27;, degree=5, kernel=&#x27;sigmoid&#x27;,\n",
              "    random_state=42)</pre></div> </div></div></div></div></div></div></div></div></div>"
            ]
          },
          "metadata": {},
          "execution_count": 10
        }
      ]
    },
    {
      "cell_type": "code",
      "source": [
        "#svm\n",
        "import numpy as np\n",
        "import pandas as pd\n",
        "from sklearn.model_selection import train_test_split\n",
        "from sklearn import metrics\n",
        "from sklearn.svm import SVC\n",
        "from sklearn.metrics import classification_report, confusion_matrix\n",
        "from imblearn.over_sampling import SMOTE\n",
        "\n",
        "# Generate sample data (you can replace this with your dataset)\n",
        "from sklearn.datasets import make_classification\n",
        "X, y = make_classification(n_samples=1000, n_features=20, n_classes=2, weights=[0.9, 0.1], random_state=42)\n",
        "\n",
        "# Split the data into training and testing sets\n",
        "X_train, X_test, y_train, y_test = train_test_split(X, y, test_size=0.3, random_state=42)\n",
        "\n",
        "### Step 1: Train SVM on imbalanced data (before balancing)\n",
        "svm_before = SVC(kernel='linear', random_state=42)\n",
        "svm_before.fit(X_train, y_train)\n",
        "\n",
        "# Make predictions and evaluate\n",
        "y_pred_before = svm_before.predict(X_test)\n",
        "print(\"Before Class Balancing:\")\n",
        "print(confusion_matrix(y_test, y_pred_before))\n",
        "print(classification_report(y_test, y_pred_before))\n",
        "\n",
        "### Step 2: Apply SMOTE to balance the classes\n",
        "smote = SMOTE(random_state=42)\n",
        "X_train_balanced, y_train_balanced = smote.fit_resample(X_train, y_train)\n",
        "\n",
        "### Step 3: Train SVM on balanced data (after balancing)\n",
        "svm_after = SVC(kernel='linear', random_state=42)\n",
        "svm_after.fit(X_train_balanced, y_train_balanced)\n",
        "\n",
        "# Make predictions and evaluate\n",
        "y_pred_after = svm_after.predict(X_test)\n",
        "print(\"\\nAfter Class Balancing:\")\n",
        "print(confusion_matrix(y_test, y_pred_after))\n",
        "print(classification_report(y_test, y_pred_after))\n"
      ],
      "metadata": {
        "colab": {
          "base_uri": "https://localhost:8080/"
        },
        "id": "Vfw2XbHHfP-M",
        "outputId": "47f7c7c9-da20-4622-f31b-af1d722a2c57"
      },
      "execution_count": null,
      "outputs": [
        {
          "output_type": "stream",
          "name": "stdout",
          "text": [
            "Before Class Balancing:\n",
            "[[260  10]\n",
            " [ 17  13]]\n",
            "              precision    recall  f1-score   support\n",
            "\n",
            "           0       0.94      0.96      0.95       270\n",
            "           1       0.57      0.43      0.49        30\n",
            "\n",
            "    accuracy                           0.91       300\n",
            "   macro avg       0.75      0.70      0.72       300\n",
            "weighted avg       0.90      0.91      0.90       300\n",
            "\n",
            "\n",
            "After Class Balancing:\n",
            "[[235  35]\n",
            " [  9  21]]\n",
            "              precision    recall  f1-score   support\n",
            "\n",
            "           0       0.96      0.87      0.91       270\n",
            "           1       0.38      0.70      0.49        30\n",
            "\n",
            "    accuracy                           0.85       300\n",
            "   macro avg       0.67      0.79      0.70       300\n",
            "weighted avg       0.90      0.85      0.87       300\n",
            "\n"
          ]
        }
      ]
    },
    {
      "cell_type": "code",
      "source": [
        "!pip install joblib\n"
      ],
      "metadata": {
        "colab": {
          "base_uri": "https://localhost:8080/"
        },
        "id": "rFnwM3SA9dQ0",
        "outputId": "5ffabd5e-73e3-423e-a382-8c076b3b2593"
      },
      "execution_count": null,
      "outputs": [
        {
          "output_type": "stream",
          "name": "stdout",
          "text": [
            "Requirement already satisfied: joblib in /usr/local/lib/python3.10/dist-packages (1.4.2)\n"
          ]
        }
      ]
    },
    {
      "cell_type": "code",
      "source": [
        "import pandas as pd\n",
        "from sklearn.feature_extraction.text import CountVectorizer\n",
        "from sklearn.model_selection import train_test_split\n",
        "from sklearn.linear_model import LogisticRegression\n",
        "import joblib\n",
        "\n",
        "# Step 1: Load the dataset\n",
        "data = pd.read_csv('/labeled_data.csv')  # Adjust this to the correct path\n",
        "\n",
        "# Step 2: Prepare the feature (X) and target (y) variables\n",
        "X = data['tweet']  # Replace with the actual text column\n",
        "y = data['class']  # Replace with the actual label column\n",
        "\n",
        "# Step 3: Text vectorization\n",
        "vectorizer = CountVectorizer()\n",
        "X = vectorizer.fit_transform(X)  # Convert text data to numeric format\n",
        "\n",
        "# Step 4: Train-test split\n",
        "X_train, X_test, y_train, y_test = train_test_split(X, y, test_size=0.2, random_state=42)\n",
        "\n",
        "# Step 5: Train the model (Logistic Regression in this case)\n",
        "model = LogisticRegression()\n",
        "model.fit(X_train, y_train)  # This step trains the model\n"
      ],
      "metadata": {
        "colab": {
          "base_uri": "https://localhost:8080/",
          "height": 80
        },
        "id": "nAdsz9LKACya",
        "outputId": "9e942906-fbc9-4763-f09b-7597f6ad1e5a"
      },
      "execution_count": null,
      "outputs": [
        {
          "output_type": "execute_result",
          "data": {
            "text/plain": [
              "LogisticRegression()"
            ],
            "text/html": [
              "<style>#sk-container-id-1 {\n",
              "  /* Definition of color scheme common for light and dark mode */\n",
              "  --sklearn-color-text: black;\n",
              "  --sklearn-color-line: gray;\n",
              "  /* Definition of color scheme for unfitted estimators */\n",
              "  --sklearn-color-unfitted-level-0: #fff5e6;\n",
              "  --sklearn-color-unfitted-level-1: #f6e4d2;\n",
              "  --sklearn-color-unfitted-level-2: #ffe0b3;\n",
              "  --sklearn-color-unfitted-level-3: chocolate;\n",
              "  /* Definition of color scheme for fitted estimators */\n",
              "  --sklearn-color-fitted-level-0: #f0f8ff;\n",
              "  --sklearn-color-fitted-level-1: #d4ebff;\n",
              "  --sklearn-color-fitted-level-2: #b3dbfd;\n",
              "  --sklearn-color-fitted-level-3: cornflowerblue;\n",
              "\n",
              "  /* Specific color for light theme */\n",
              "  --sklearn-color-text-on-default-background: var(--sg-text-color, var(--theme-code-foreground, var(--jp-content-font-color1, black)));\n",
              "  --sklearn-color-background: var(--sg-background-color, var(--theme-background, var(--jp-layout-color0, white)));\n",
              "  --sklearn-color-border-box: var(--sg-text-color, var(--theme-code-foreground, var(--jp-content-font-color1, black)));\n",
              "  --sklearn-color-icon: #696969;\n",
              "\n",
              "  @media (prefers-color-scheme: dark) {\n",
              "    /* Redefinition of color scheme for dark theme */\n",
              "    --sklearn-color-text-on-default-background: var(--sg-text-color, var(--theme-code-foreground, var(--jp-content-font-color1, white)));\n",
              "    --sklearn-color-background: var(--sg-background-color, var(--theme-background, var(--jp-layout-color0, #111)));\n",
              "    --sklearn-color-border-box: var(--sg-text-color, var(--theme-code-foreground, var(--jp-content-font-color1, white)));\n",
              "    --sklearn-color-icon: #878787;\n",
              "  }\n",
              "}\n",
              "\n",
              "#sk-container-id-1 {\n",
              "  color: var(--sklearn-color-text);\n",
              "}\n",
              "\n",
              "#sk-container-id-1 pre {\n",
              "  padding: 0;\n",
              "}\n",
              "\n",
              "#sk-container-id-1 input.sk-hidden--visually {\n",
              "  border: 0;\n",
              "  clip: rect(1px 1px 1px 1px);\n",
              "  clip: rect(1px, 1px, 1px, 1px);\n",
              "  height: 1px;\n",
              "  margin: -1px;\n",
              "  overflow: hidden;\n",
              "  padding: 0;\n",
              "  position: absolute;\n",
              "  width: 1px;\n",
              "}\n",
              "\n",
              "#sk-container-id-1 div.sk-dashed-wrapped {\n",
              "  border: 1px dashed var(--sklearn-color-line);\n",
              "  margin: 0 0.4em 0.5em 0.4em;\n",
              "  box-sizing: border-box;\n",
              "  padding-bottom: 0.4em;\n",
              "  background-color: var(--sklearn-color-background);\n",
              "}\n",
              "\n",
              "#sk-container-id-1 div.sk-container {\n",
              "  /* jupyter's `normalize.less` sets `[hidden] { display: none; }`\n",
              "     but bootstrap.min.css set `[hidden] { display: none !important; }`\n",
              "     so we also need the `!important` here to be able to override the\n",
              "     default hidden behavior on the sphinx rendered scikit-learn.org.\n",
              "     See: https://github.com/scikit-learn/scikit-learn/issues/21755 */\n",
              "  display: inline-block !important;\n",
              "  position: relative;\n",
              "}\n",
              "\n",
              "#sk-container-id-1 div.sk-text-repr-fallback {\n",
              "  display: none;\n",
              "}\n",
              "\n",
              "div.sk-parallel-item,\n",
              "div.sk-serial,\n",
              "div.sk-item {\n",
              "  /* draw centered vertical line to link estimators */\n",
              "  background-image: linear-gradient(var(--sklearn-color-text-on-default-background), var(--sklearn-color-text-on-default-background));\n",
              "  background-size: 2px 100%;\n",
              "  background-repeat: no-repeat;\n",
              "  background-position: center center;\n",
              "}\n",
              "\n",
              "/* Parallel-specific style estimator block */\n",
              "\n",
              "#sk-container-id-1 div.sk-parallel-item::after {\n",
              "  content: \"\";\n",
              "  width: 100%;\n",
              "  border-bottom: 2px solid var(--sklearn-color-text-on-default-background);\n",
              "  flex-grow: 1;\n",
              "}\n",
              "\n",
              "#sk-container-id-1 div.sk-parallel {\n",
              "  display: flex;\n",
              "  align-items: stretch;\n",
              "  justify-content: center;\n",
              "  background-color: var(--sklearn-color-background);\n",
              "  position: relative;\n",
              "}\n",
              "\n",
              "#sk-container-id-1 div.sk-parallel-item {\n",
              "  display: flex;\n",
              "  flex-direction: column;\n",
              "}\n",
              "\n",
              "#sk-container-id-1 div.sk-parallel-item:first-child::after {\n",
              "  align-self: flex-end;\n",
              "  width: 50%;\n",
              "}\n",
              "\n",
              "#sk-container-id-1 div.sk-parallel-item:last-child::after {\n",
              "  align-self: flex-start;\n",
              "  width: 50%;\n",
              "}\n",
              "\n",
              "#sk-container-id-1 div.sk-parallel-item:only-child::after {\n",
              "  width: 0;\n",
              "}\n",
              "\n",
              "/* Serial-specific style estimator block */\n",
              "\n",
              "#sk-container-id-1 div.sk-serial {\n",
              "  display: flex;\n",
              "  flex-direction: column;\n",
              "  align-items: center;\n",
              "  background-color: var(--sklearn-color-background);\n",
              "  padding-right: 1em;\n",
              "  padding-left: 1em;\n",
              "}\n",
              "\n",
              "\n",
              "/* Toggleable style: style used for estimator/Pipeline/ColumnTransformer box that is\n",
              "clickable and can be expanded/collapsed.\n",
              "- Pipeline and ColumnTransformer use this feature and define the default style\n",
              "- Estimators will overwrite some part of the style using the `sk-estimator` class\n",
              "*/\n",
              "\n",
              "/* Pipeline and ColumnTransformer style (default) */\n",
              "\n",
              "#sk-container-id-1 div.sk-toggleable {\n",
              "  /* Default theme specific background. It is overwritten whether we have a\n",
              "  specific estimator or a Pipeline/ColumnTransformer */\n",
              "  background-color: var(--sklearn-color-background);\n",
              "}\n",
              "\n",
              "/* Toggleable label */\n",
              "#sk-container-id-1 label.sk-toggleable__label {\n",
              "  cursor: pointer;\n",
              "  display: block;\n",
              "  width: 100%;\n",
              "  margin-bottom: 0;\n",
              "  padding: 0.5em;\n",
              "  box-sizing: border-box;\n",
              "  text-align: center;\n",
              "}\n",
              "\n",
              "#sk-container-id-1 label.sk-toggleable__label-arrow:before {\n",
              "  /* Arrow on the left of the label */\n",
              "  content: \"▸\";\n",
              "  float: left;\n",
              "  margin-right: 0.25em;\n",
              "  color: var(--sklearn-color-icon);\n",
              "}\n",
              "\n",
              "#sk-container-id-1 label.sk-toggleable__label-arrow:hover:before {\n",
              "  color: var(--sklearn-color-text);\n",
              "}\n",
              "\n",
              "/* Toggleable content - dropdown */\n",
              "\n",
              "#sk-container-id-1 div.sk-toggleable__content {\n",
              "  max-height: 0;\n",
              "  max-width: 0;\n",
              "  overflow: hidden;\n",
              "  text-align: left;\n",
              "  /* unfitted */\n",
              "  background-color: var(--sklearn-color-unfitted-level-0);\n",
              "}\n",
              "\n",
              "#sk-container-id-1 div.sk-toggleable__content.fitted {\n",
              "  /* fitted */\n",
              "  background-color: var(--sklearn-color-fitted-level-0);\n",
              "}\n",
              "\n",
              "#sk-container-id-1 div.sk-toggleable__content pre {\n",
              "  margin: 0.2em;\n",
              "  border-radius: 0.25em;\n",
              "  color: var(--sklearn-color-text);\n",
              "  /* unfitted */\n",
              "  background-color: var(--sklearn-color-unfitted-level-0);\n",
              "}\n",
              "\n",
              "#sk-container-id-1 div.sk-toggleable__content.fitted pre {\n",
              "  /* unfitted */\n",
              "  background-color: var(--sklearn-color-fitted-level-0);\n",
              "}\n",
              "\n",
              "#sk-container-id-1 input.sk-toggleable__control:checked~div.sk-toggleable__content {\n",
              "  /* Expand drop-down */\n",
              "  max-height: 200px;\n",
              "  max-width: 100%;\n",
              "  overflow: auto;\n",
              "}\n",
              "\n",
              "#sk-container-id-1 input.sk-toggleable__control:checked~label.sk-toggleable__label-arrow:before {\n",
              "  content: \"▾\";\n",
              "}\n",
              "\n",
              "/* Pipeline/ColumnTransformer-specific style */\n",
              "\n",
              "#sk-container-id-1 div.sk-label input.sk-toggleable__control:checked~label.sk-toggleable__label {\n",
              "  color: var(--sklearn-color-text);\n",
              "  background-color: var(--sklearn-color-unfitted-level-2);\n",
              "}\n",
              "\n",
              "#sk-container-id-1 div.sk-label.fitted input.sk-toggleable__control:checked~label.sk-toggleable__label {\n",
              "  background-color: var(--sklearn-color-fitted-level-2);\n",
              "}\n",
              "\n",
              "/* Estimator-specific style */\n",
              "\n",
              "/* Colorize estimator box */\n",
              "#sk-container-id-1 div.sk-estimator input.sk-toggleable__control:checked~label.sk-toggleable__label {\n",
              "  /* unfitted */\n",
              "  background-color: var(--sklearn-color-unfitted-level-2);\n",
              "}\n",
              "\n",
              "#sk-container-id-1 div.sk-estimator.fitted input.sk-toggleable__control:checked~label.sk-toggleable__label {\n",
              "  /* fitted */\n",
              "  background-color: var(--sklearn-color-fitted-level-2);\n",
              "}\n",
              "\n",
              "#sk-container-id-1 div.sk-label label.sk-toggleable__label,\n",
              "#sk-container-id-1 div.sk-label label {\n",
              "  /* The background is the default theme color */\n",
              "  color: var(--sklearn-color-text-on-default-background);\n",
              "}\n",
              "\n",
              "/* On hover, darken the color of the background */\n",
              "#sk-container-id-1 div.sk-label:hover label.sk-toggleable__label {\n",
              "  color: var(--sklearn-color-text);\n",
              "  background-color: var(--sklearn-color-unfitted-level-2);\n",
              "}\n",
              "\n",
              "/* Label box, darken color on hover, fitted */\n",
              "#sk-container-id-1 div.sk-label.fitted:hover label.sk-toggleable__label.fitted {\n",
              "  color: var(--sklearn-color-text);\n",
              "  background-color: var(--sklearn-color-fitted-level-2);\n",
              "}\n",
              "\n",
              "/* Estimator label */\n",
              "\n",
              "#sk-container-id-1 div.sk-label label {\n",
              "  font-family: monospace;\n",
              "  font-weight: bold;\n",
              "  display: inline-block;\n",
              "  line-height: 1.2em;\n",
              "}\n",
              "\n",
              "#sk-container-id-1 div.sk-label-container {\n",
              "  text-align: center;\n",
              "}\n",
              "\n",
              "/* Estimator-specific */\n",
              "#sk-container-id-1 div.sk-estimator {\n",
              "  font-family: monospace;\n",
              "  border: 1px dotted var(--sklearn-color-border-box);\n",
              "  border-radius: 0.25em;\n",
              "  box-sizing: border-box;\n",
              "  margin-bottom: 0.5em;\n",
              "  /* unfitted */\n",
              "  background-color: var(--sklearn-color-unfitted-level-0);\n",
              "}\n",
              "\n",
              "#sk-container-id-1 div.sk-estimator.fitted {\n",
              "  /* fitted */\n",
              "  background-color: var(--sklearn-color-fitted-level-0);\n",
              "}\n",
              "\n",
              "/* on hover */\n",
              "#sk-container-id-1 div.sk-estimator:hover {\n",
              "  /* unfitted */\n",
              "  background-color: var(--sklearn-color-unfitted-level-2);\n",
              "}\n",
              "\n",
              "#sk-container-id-1 div.sk-estimator.fitted:hover {\n",
              "  /* fitted */\n",
              "  background-color: var(--sklearn-color-fitted-level-2);\n",
              "}\n",
              "\n",
              "/* Specification for estimator info (e.g. \"i\" and \"?\") */\n",
              "\n",
              "/* Common style for \"i\" and \"?\" */\n",
              "\n",
              ".sk-estimator-doc-link,\n",
              "a:link.sk-estimator-doc-link,\n",
              "a:visited.sk-estimator-doc-link {\n",
              "  float: right;\n",
              "  font-size: smaller;\n",
              "  line-height: 1em;\n",
              "  font-family: monospace;\n",
              "  background-color: var(--sklearn-color-background);\n",
              "  border-radius: 1em;\n",
              "  height: 1em;\n",
              "  width: 1em;\n",
              "  text-decoration: none !important;\n",
              "  margin-left: 1ex;\n",
              "  /* unfitted */\n",
              "  border: var(--sklearn-color-unfitted-level-1) 1pt solid;\n",
              "  color: var(--sklearn-color-unfitted-level-1);\n",
              "}\n",
              "\n",
              ".sk-estimator-doc-link.fitted,\n",
              "a:link.sk-estimator-doc-link.fitted,\n",
              "a:visited.sk-estimator-doc-link.fitted {\n",
              "  /* fitted */\n",
              "  border: var(--sklearn-color-fitted-level-1) 1pt solid;\n",
              "  color: var(--sklearn-color-fitted-level-1);\n",
              "}\n",
              "\n",
              "/* On hover */\n",
              "div.sk-estimator:hover .sk-estimator-doc-link:hover,\n",
              ".sk-estimator-doc-link:hover,\n",
              "div.sk-label-container:hover .sk-estimator-doc-link:hover,\n",
              ".sk-estimator-doc-link:hover {\n",
              "  /* unfitted */\n",
              "  background-color: var(--sklearn-color-unfitted-level-3);\n",
              "  color: var(--sklearn-color-background);\n",
              "  text-decoration: none;\n",
              "}\n",
              "\n",
              "div.sk-estimator.fitted:hover .sk-estimator-doc-link.fitted:hover,\n",
              ".sk-estimator-doc-link.fitted:hover,\n",
              "div.sk-label-container:hover .sk-estimator-doc-link.fitted:hover,\n",
              ".sk-estimator-doc-link.fitted:hover {\n",
              "  /* fitted */\n",
              "  background-color: var(--sklearn-color-fitted-level-3);\n",
              "  color: var(--sklearn-color-background);\n",
              "  text-decoration: none;\n",
              "}\n",
              "\n",
              "/* Span, style for the box shown on hovering the info icon */\n",
              ".sk-estimator-doc-link span {\n",
              "  display: none;\n",
              "  z-index: 9999;\n",
              "  position: relative;\n",
              "  font-weight: normal;\n",
              "  right: .2ex;\n",
              "  padding: .5ex;\n",
              "  margin: .5ex;\n",
              "  width: min-content;\n",
              "  min-width: 20ex;\n",
              "  max-width: 50ex;\n",
              "  color: var(--sklearn-color-text);\n",
              "  box-shadow: 2pt 2pt 4pt #999;\n",
              "  /* unfitted */\n",
              "  background: var(--sklearn-color-unfitted-level-0);\n",
              "  border: .5pt solid var(--sklearn-color-unfitted-level-3);\n",
              "}\n",
              "\n",
              ".sk-estimator-doc-link.fitted span {\n",
              "  /* fitted */\n",
              "  background: var(--sklearn-color-fitted-level-0);\n",
              "  border: var(--sklearn-color-fitted-level-3);\n",
              "}\n",
              "\n",
              ".sk-estimator-doc-link:hover span {\n",
              "  display: block;\n",
              "}\n",
              "\n",
              "/* \"?\"-specific style due to the `<a>` HTML tag */\n",
              "\n",
              "#sk-container-id-1 a.estimator_doc_link {\n",
              "  float: right;\n",
              "  font-size: 1rem;\n",
              "  line-height: 1em;\n",
              "  font-family: monospace;\n",
              "  background-color: var(--sklearn-color-background);\n",
              "  border-radius: 1rem;\n",
              "  height: 1rem;\n",
              "  width: 1rem;\n",
              "  text-decoration: none;\n",
              "  /* unfitted */\n",
              "  color: var(--sklearn-color-unfitted-level-1);\n",
              "  border: var(--sklearn-color-unfitted-level-1) 1pt solid;\n",
              "}\n",
              "\n",
              "#sk-container-id-1 a.estimator_doc_link.fitted {\n",
              "  /* fitted */\n",
              "  border: var(--sklearn-color-fitted-level-1) 1pt solid;\n",
              "  color: var(--sklearn-color-fitted-level-1);\n",
              "}\n",
              "\n",
              "/* On hover */\n",
              "#sk-container-id-1 a.estimator_doc_link:hover {\n",
              "  /* unfitted */\n",
              "  background-color: var(--sklearn-color-unfitted-level-3);\n",
              "  color: var(--sklearn-color-background);\n",
              "  text-decoration: none;\n",
              "}\n",
              "\n",
              "#sk-container-id-1 a.estimator_doc_link.fitted:hover {\n",
              "  /* fitted */\n",
              "  background-color: var(--sklearn-color-fitted-level-3);\n",
              "}\n",
              "</style><div id=\"sk-container-id-1\" class=\"sk-top-container\"><div class=\"sk-text-repr-fallback\"><pre>LogisticRegression()</pre><b>In a Jupyter environment, please rerun this cell to show the HTML representation or trust the notebook. <br />On GitHub, the HTML representation is unable to render, please try loading this page with nbviewer.org.</b></div><div class=\"sk-container\" hidden><div class=\"sk-item\"><div class=\"sk-estimator fitted sk-toggleable\"><input class=\"sk-toggleable__control sk-hidden--visually\" id=\"sk-estimator-id-1\" type=\"checkbox\" checked><label for=\"sk-estimator-id-1\" class=\"sk-toggleable__label fitted sk-toggleable__label-arrow fitted\">&nbsp;&nbsp;LogisticRegression<a class=\"sk-estimator-doc-link fitted\" rel=\"noreferrer\" target=\"_blank\" href=\"https://scikit-learn.org/1.5/modules/generated/sklearn.linear_model.LogisticRegression.html\">?<span>Documentation for LogisticRegression</span></a><span class=\"sk-estimator-doc-link fitted\">i<span>Fitted</span></span></label><div class=\"sk-toggleable__content fitted\"><pre>LogisticRegression()</pre></div> </div></div></div></div>"
            ]
          },
          "metadata": {},
          "execution_count": 9
        }
      ]
    },
    {
      "cell_type": "code",
      "source": [
        "# Save the trained model as a .pkl file\n",
        "joblib.dump(model, 'hate_speech_model.pkl')\n",
        "\n",
        "# Save the vectorizer (if it's part of your pipeline)\n",
        "joblib.dump(vectorizer, 'vectorizer.pkl')\n"
      ],
      "metadata": {
        "colab": {
          "base_uri": "https://localhost:8080/"
        },
        "id": "qFDsPlYEBwHh",
        "outputId": "5f076af6-3edf-45a2-9946-65c28ae56abe"
      },
      "execution_count": null,
      "outputs": [
        {
          "output_type": "execute_result",
          "data": {
            "text/plain": [
              "['vectorizer.pkl']"
            ]
          },
          "metadata": {},
          "execution_count": 10
        }
      ]
    },
    {
      "cell_type": "code",
      "source": [
        "import joblib\n",
        "\n",
        "# Save the trained model to a file\n",
        "joblib.dump(model, 'hate_speech_model.pkl')\n",
        "\n",
        "# Save the vectorizer to a separate file (if you need to re-use it during prediction)\n",
        "joblib.dump(vectorizer, 'vectorizer.pkl')\n"
      ],
      "metadata": {
        "colab": {
          "base_uri": "https://localhost:8080/"
        },
        "id": "adzXRTC2CXN4",
        "outputId": "7c112e0d-a72d-42d7-f2de-b794ca1b9c10"
      },
      "execution_count": null,
      "outputs": [
        {
          "output_type": "execute_result",
          "data": {
            "text/plain": [
              "['vectorizer.pkl']"
            ]
          },
          "metadata": {},
          "execution_count": 11
        }
      ]
    },
    {
      "cell_type": "code",
      "source": [
        "!ls\n"
      ],
      "metadata": {
        "colab": {
          "base_uri": "https://localhost:8080/"
        },
        "id": "HOpEA4ajCgUH",
        "outputId": "f8189c71-0e87-4665-d11f-72d17dfcf499"
      },
      "execution_count": null,
      "outputs": [
        {
          "output_type": "stream",
          "name": "stdout",
          "text": [
            "hate_speech_model.pkl  sample_data  vectorizer.pkl\n"
          ]
        }
      ]
    },
    {
      "cell_type": "code",
      "source": [
        "from google.colab import files\n",
        "\n",
        "# Download the model file\n",
        "files.download('hate_speech_model.pkl')\n",
        "\n",
        "# Download the vectorizer file\n",
        "files.download('vectorizer.pkl')\n"
      ],
      "metadata": {
        "colab": {
          "base_uri": "https://localhost:8080/",
          "height": 17
        },
        "id": "4YM2zFWbCsdr",
        "outputId": "62f91b1b-270a-42a9-c560-9b2bed89cbf4"
      },
      "execution_count": null,
      "outputs": [
        {
          "output_type": "display_data",
          "data": {
            "text/plain": [
              "<IPython.core.display.Javascript object>"
            ],
            "application/javascript": [
              "\n",
              "    async function download(id, filename, size) {\n",
              "      if (!google.colab.kernel.accessAllowed) {\n",
              "        return;\n",
              "      }\n",
              "      const div = document.createElement('div');\n",
              "      const label = document.createElement('label');\n",
              "      label.textContent = `Downloading \"${filename}\": `;\n",
              "      div.appendChild(label);\n",
              "      const progress = document.createElement('progress');\n",
              "      progress.max = size;\n",
              "      div.appendChild(progress);\n",
              "      document.body.appendChild(div);\n",
              "\n",
              "      const buffers = [];\n",
              "      let downloaded = 0;\n",
              "\n",
              "      const channel = await google.colab.kernel.comms.open(id);\n",
              "      // Send a message to notify the kernel that we're ready.\n",
              "      channel.send({})\n",
              "\n",
              "      for await (const message of channel.messages) {\n",
              "        // Send a message to notify the kernel that we're ready.\n",
              "        channel.send({})\n",
              "        if (message.buffers) {\n",
              "          for (const buffer of message.buffers) {\n",
              "            buffers.push(buffer);\n",
              "            downloaded += buffer.byteLength;\n",
              "            progress.value = downloaded;\n",
              "          }\n",
              "        }\n",
              "      }\n",
              "      const blob = new Blob(buffers, {type: 'application/binary'});\n",
              "      const a = document.createElement('a');\n",
              "      a.href = window.URL.createObjectURL(blob);\n",
              "      a.download = filename;\n",
              "      div.appendChild(a);\n",
              "      a.click();\n",
              "      div.remove();\n",
              "    }\n",
              "  "
            ]
          },
          "metadata": {}
        },
        {
          "output_type": "display_data",
          "data": {
            "text/plain": [
              "<IPython.core.display.Javascript object>"
            ],
            "application/javascript": [
              "download(\"download_5caf21e2-4e54-47eb-9721-b489822faf89\", \"hate_speech_model.pkl\", 861343)"
            ]
          },
          "metadata": {}
        },
        {
          "output_type": "display_data",
          "data": {
            "text/plain": [
              "<IPython.core.display.Javascript object>"
            ],
            "application/javascript": [
              "\n",
              "    async function download(id, filename, size) {\n",
              "      if (!google.colab.kernel.accessAllowed) {\n",
              "        return;\n",
              "      }\n",
              "      const div = document.createElement('div');\n",
              "      const label = document.createElement('label');\n",
              "      label.textContent = `Downloading \"${filename}\": `;\n",
              "      div.appendChild(label);\n",
              "      const progress = document.createElement('progress');\n",
              "      progress.max = size;\n",
              "      div.appendChild(progress);\n",
              "      document.body.appendChild(div);\n",
              "\n",
              "      const buffers = [];\n",
              "      let downloaded = 0;\n",
              "\n",
              "      const channel = await google.colab.kernel.comms.open(id);\n",
              "      // Send a message to notify the kernel that we're ready.\n",
              "      channel.send({})\n",
              "\n",
              "      for await (const message of channel.messages) {\n",
              "        // Send a message to notify the kernel that we're ready.\n",
              "        channel.send({})\n",
              "        if (message.buffers) {\n",
              "          for (const buffer of message.buffers) {\n",
              "            buffers.push(buffer);\n",
              "            downloaded += buffer.byteLength;\n",
              "            progress.value = downloaded;\n",
              "          }\n",
              "        }\n",
              "      }\n",
              "      const blob = new Blob(buffers, {type: 'application/binary'});\n",
              "      const a = document.createElement('a');\n",
              "      a.href = window.URL.createObjectURL(blob);\n",
              "      a.download = filename;\n",
              "      div.appendChild(a);\n",
              "      a.click();\n",
              "      div.remove();\n",
              "    }\n",
              "  "
            ]
          },
          "metadata": {}
        },
        {
          "output_type": "display_data",
          "data": {
            "text/plain": [
              "<IPython.core.display.Javascript object>"
            ],
            "application/javascript": [
              "download(\"download_a7d6506e-54a0-4c7d-b5dc-28bd58c6cb5e\", \"vectorizer.pkl\", 516261)"
            ]
          },
          "metadata": {}
        }
      ]
    },
    {
      "cell_type": "code",
      "source": [
        "import pickle\n",
        "from sklearn.feature_extraction.text import CountVectorizer\n",
        "from sklearn.linear_model import LogisticRegression\n",
        "\n",
        "# Example: Train your model\n",
        "vectorizer = CountVectorizer()\n",
        "X = vectorizer.fit_transform([\"sample text 1\", \"sample text 2\"])  # Replace with your dataset\n",
        "y = [0, 1]  # Replace with your labels\n",
        "\n",
        "model = LogisticRegression()\n",
        "model.fit(X, y)\n",
        "\n",
        "# Save model and vectorizer\n",
        "with open('hate_speech_model.pkl', 'wb') as model_file:\n",
        "    pickle.dump(model, model_file)\n",
        "\n",
        "with open('vectorizer.pkl', 'wb') as vectorizer_file:\n",
        "    pickle.dump(vectorizer, vectorizer_file)\n"
      ],
      "metadata": {
        "id": "wA_DwqjWI2eX"
      },
      "execution_count": null,
      "outputs": []
    },
    {
      "cell_type": "code",
      "source": [
        "from google.colab import files\n",
        "\n",
        "# Download the model file\n",
        "files.download('hate_speech_model.pkl')\n",
        "\n",
        "# Download the vectorizer file\n",
        "files.download('vectorizer.pkl')"
      ],
      "metadata": {
        "colab": {
          "base_uri": "https://localhost:8080/",
          "height": 17
        },
        "id": "GyIrBv0LJGUZ",
        "outputId": "bf261a89-99b8-4ac8-b838-f15f9be54870"
      },
      "execution_count": null,
      "outputs": [
        {
          "output_type": "display_data",
          "data": {
            "text/plain": [
              "<IPython.core.display.Javascript object>"
            ],
            "application/javascript": [
              "\n",
              "    async function download(id, filename, size) {\n",
              "      if (!google.colab.kernel.accessAllowed) {\n",
              "        return;\n",
              "      }\n",
              "      const div = document.createElement('div');\n",
              "      const label = document.createElement('label');\n",
              "      label.textContent = `Downloading \"${filename}\": `;\n",
              "      div.appendChild(label);\n",
              "      const progress = document.createElement('progress');\n",
              "      progress.max = size;\n",
              "      div.appendChild(progress);\n",
              "      document.body.appendChild(div);\n",
              "\n",
              "      const buffers = [];\n",
              "      let downloaded = 0;\n",
              "\n",
              "      const channel = await google.colab.kernel.comms.open(id);\n",
              "      // Send a message to notify the kernel that we're ready.\n",
              "      channel.send({})\n",
              "\n",
              "      for await (const message of channel.messages) {\n",
              "        // Send a message to notify the kernel that we're ready.\n",
              "        channel.send({})\n",
              "        if (message.buffers) {\n",
              "          for (const buffer of message.buffers) {\n",
              "            buffers.push(buffer);\n",
              "            downloaded += buffer.byteLength;\n",
              "            progress.value = downloaded;\n",
              "          }\n",
              "        }\n",
              "      }\n",
              "      const blob = new Blob(buffers, {type: 'application/binary'});\n",
              "      const a = document.createElement('a');\n",
              "      a.href = window.URL.createObjectURL(blob);\n",
              "      a.download = filename;\n",
              "      div.appendChild(a);\n",
              "      a.click();\n",
              "      div.remove();\n",
              "    }\n",
              "  "
            ]
          },
          "metadata": {}
        },
        {
          "output_type": "display_data",
          "data": {
            "text/plain": [
              "<IPython.core.display.Javascript object>"
            ],
            "application/javascript": [
              "download(\"download_77f918be-d669-49ac-a785-b10ec4b8cc0c\", \"hate_speech_model.pkl\", 730)"
            ]
          },
          "metadata": {}
        },
        {
          "output_type": "display_data",
          "data": {
            "text/plain": [
              "<IPython.core.display.Javascript object>"
            ],
            "application/javascript": [
              "\n",
              "    async function download(id, filename, size) {\n",
              "      if (!google.colab.kernel.accessAllowed) {\n",
              "        return;\n",
              "      }\n",
              "      const div = document.createElement('div');\n",
              "      const label = document.createElement('label');\n",
              "      label.textContent = `Downloading \"${filename}\": `;\n",
              "      div.appendChild(label);\n",
              "      const progress = document.createElement('progress');\n",
              "      progress.max = size;\n",
              "      div.appendChild(progress);\n",
              "      document.body.appendChild(div);\n",
              "\n",
              "      const buffers = [];\n",
              "      let downloaded = 0;\n",
              "\n",
              "      const channel = await google.colab.kernel.comms.open(id);\n",
              "      // Send a message to notify the kernel that we're ready.\n",
              "      channel.send({})\n",
              "\n",
              "      for await (const message of channel.messages) {\n",
              "        // Send a message to notify the kernel that we're ready.\n",
              "        channel.send({})\n",
              "        if (message.buffers) {\n",
              "          for (const buffer of message.buffers) {\n",
              "            buffers.push(buffer);\n",
              "            downloaded += buffer.byteLength;\n",
              "            progress.value = downloaded;\n",
              "          }\n",
              "        }\n",
              "      }\n",
              "      const blob = new Blob(buffers, {type: 'application/binary'});\n",
              "      const a = document.createElement('a');\n",
              "      a.href = window.URL.createObjectURL(blob);\n",
              "      a.download = filename;\n",
              "      div.appendChild(a);\n",
              "      a.click();\n",
              "      div.remove();\n",
              "    }\n",
              "  "
            ]
          },
          "metadata": {}
        },
        {
          "output_type": "display_data",
          "data": {
            "text/plain": [
              "<IPython.core.display.Javascript object>"
            ],
            "application/javascript": [
              "download(\"download_c2bdef02-13b7-46d9-ab1d-5dfb970617de\", \"vectorizer.pkl\", 484)"
            ]
          },
          "metadata": {}
        }
      ]
    },
    {
      "cell_type": "code",
      "source": [
        "from joblib import dump\n",
        "import joblib\n",
        "# Assume `model` is your trained model\n",
        "dump(model, 'hate_speech_model.joblib')  # Save using joblib\n"
      ],
      "metadata": {
        "colab": {
          "base_uri": "https://localhost:8080/"
        },
        "id": "Kp0QJkmwK6Ce",
        "outputId": "c52f7842-ff83-48ba-a1f5-5bd81e411876"
      },
      "execution_count": null,
      "outputs": [
        {
          "output_type": "execute_result",
          "data": {
            "text/plain": [
              "['hate_speech_model.joblib']"
            ]
          },
          "metadata": {},
          "execution_count": 16
        }
      ]
    },
    {
      "cell_type": "code",
      "source": [
        "from joblib import load\n",
        "\n",
        "try:\n",
        "    model = load('hate_speech_model.joblib')  # Change this to your file name if necessary\n",
        "    print(\"Model loaded successfully.\")\n",
        "except Exception as e:\n",
        "    print(f\"Error loading model: {e}\")\n"
      ],
      "metadata": {
        "colab": {
          "base_uri": "https://localhost:8080/"
        },
        "id": "YGIOiPEdLM5q",
        "outputId": "1113f5db-6d0a-47b1-82ad-0d0aa516b4d4"
      },
      "execution_count": null,
      "outputs": [
        {
          "output_type": "stream",
          "name": "stdout",
          "text": [
            "Model loaded successfully.\n"
          ]
        }
      ]
    },
    {
      "cell_type": "code",
      "source": [
        "\n",
        "from google.colab import files# Download the model filefiles.download('hate_speech_model.pkl')# Download the vectorizer filefiles.download('vectorizer.pkl')"
      ],
      "metadata": {
        "id": "xR7-0F4dMD9p"
      },
      "execution_count": null,
      "outputs": []
    },
    {
      "cell_type": "code",
      "source": [
        "from google.colab import files\n",
        "\n",
        "# Download the model file\n",
        "files.download('hate_speech_model.joblib')\n",
        "\n",
        "# Download the vectorizer file\n",
        "files.download('vectorizer.pkl')\n"
      ],
      "metadata": {
        "colab": {
          "base_uri": "https://localhost:8080/",
          "height": 17
        },
        "id": "2dn2yVVpMSBo",
        "outputId": "4f8a3747-b8fe-47c7-b14a-4988e0555d17"
      },
      "execution_count": null,
      "outputs": [
        {
          "output_type": "display_data",
          "data": {
            "text/plain": [
              "<IPython.core.display.Javascript object>"
            ],
            "application/javascript": [
              "\n",
              "    async function download(id, filename, size) {\n",
              "      if (!google.colab.kernel.accessAllowed) {\n",
              "        return;\n",
              "      }\n",
              "      const div = document.createElement('div');\n",
              "      const label = document.createElement('label');\n",
              "      label.textContent = `Downloading \"${filename}\": `;\n",
              "      div.appendChild(label);\n",
              "      const progress = document.createElement('progress');\n",
              "      progress.max = size;\n",
              "      div.appendChild(progress);\n",
              "      document.body.appendChild(div);\n",
              "\n",
              "      const buffers = [];\n",
              "      let downloaded = 0;\n",
              "\n",
              "      const channel = await google.colab.kernel.comms.open(id);\n",
              "      // Send a message to notify the kernel that we're ready.\n",
              "      channel.send({})\n",
              "\n",
              "      for await (const message of channel.messages) {\n",
              "        // Send a message to notify the kernel that we're ready.\n",
              "        channel.send({})\n",
              "        if (message.buffers) {\n",
              "          for (const buffer of message.buffers) {\n",
              "            buffers.push(buffer);\n",
              "            downloaded += buffer.byteLength;\n",
              "            progress.value = downloaded;\n",
              "          }\n",
              "        }\n",
              "      }\n",
              "      const blob = new Blob(buffers, {type: 'application/binary'});\n",
              "      const a = document.createElement('a');\n",
              "      a.href = window.URL.createObjectURL(blob);\n",
              "      a.download = filename;\n",
              "      div.appendChild(a);\n",
              "      a.click();\n",
              "      div.remove();\n",
              "    }\n",
              "  "
            ]
          },
          "metadata": {}
        },
        {
          "output_type": "display_data",
          "data": {
            "text/plain": [
              "<IPython.core.display.Javascript object>"
            ],
            "application/javascript": [
              "download(\"download_52dd5eda-bfe9-4730-89e8-7aa70ec265ba\", \"hate_speech_model.joblib\", 879)"
            ]
          },
          "metadata": {}
        },
        {
          "output_type": "display_data",
          "data": {
            "text/plain": [
              "<IPython.core.display.Javascript object>"
            ],
            "application/javascript": [
              "\n",
              "    async function download(id, filename, size) {\n",
              "      if (!google.colab.kernel.accessAllowed) {\n",
              "        return;\n",
              "      }\n",
              "      const div = document.createElement('div');\n",
              "      const label = document.createElement('label');\n",
              "      label.textContent = `Downloading \"${filename}\": `;\n",
              "      div.appendChild(label);\n",
              "      const progress = document.createElement('progress');\n",
              "      progress.max = size;\n",
              "      div.appendChild(progress);\n",
              "      document.body.appendChild(div);\n",
              "\n",
              "      const buffers = [];\n",
              "      let downloaded = 0;\n",
              "\n",
              "      const channel = await google.colab.kernel.comms.open(id);\n",
              "      // Send a message to notify the kernel that we're ready.\n",
              "      channel.send({})\n",
              "\n",
              "      for await (const message of channel.messages) {\n",
              "        // Send a message to notify the kernel that we're ready.\n",
              "        channel.send({})\n",
              "        if (message.buffers) {\n",
              "          for (const buffer of message.buffers) {\n",
              "            buffers.push(buffer);\n",
              "            downloaded += buffer.byteLength;\n",
              "            progress.value = downloaded;\n",
              "          }\n",
              "        }\n",
              "      }\n",
              "      const blob = new Blob(buffers, {type: 'application/binary'});\n",
              "      const a = document.createElement('a');\n",
              "      a.href = window.URL.createObjectURL(blob);\n",
              "      a.download = filename;\n",
              "      div.appendChild(a);\n",
              "      a.click();\n",
              "      div.remove();\n",
              "    }\n",
              "  "
            ]
          },
          "metadata": {}
        },
        {
          "output_type": "display_data",
          "data": {
            "text/plain": [
              "<IPython.core.display.Javascript object>"
            ],
            "application/javascript": [
              "download(\"download_c6969806-fb0e-4957-b426-3c693877ec99\", \"vectorizer.pkl\", 484)"
            ]
          },
          "metadata": {}
        }
      ]
    },
    {
      "cell_type": "code",
      "source": [
        "import pandas as pd\n",
        "import matplotlib.pyplot as plt\n",
        "import seaborn as sns\n",
        "\n",
        "# Load your dataset\n",
        "df = pd.read_csv('/labeled_data.csv')  # Load your dataset (replace 'label.csv' with the actual file name)\n",
        "\n",
        "# Check the distribution of classes\n",
        "class_distribution = df['class'].value_counts()\n",
        "\n",
        "# Print the class distribution\n",
        "print(\"Class Distribution:\")\n",
        "print(class_distribution)\n",
        "\n",
        "# Plotting the class distribution\n",
        "plt.figure(figsize=(10, 6))\n",
        "sns.barplot(x=class_distribution.index, y=class_distribution.values, palette='viridis')\n",
        "plt.title('Class Distribution')\n",
        "plt.xlabel('Classes')\n",
        "plt.ylabel('Frequency')\n",
        "plt.xticks(rotation=45)\n",
        "plt.show()"
      ],
      "metadata": {
        "colab": {
          "base_uri": "https://localhost:8080/",
          "height": 773
        },
        "id": "TSkQIVS3sdM1",
        "outputId": "1a3bdcbb-35fe-4ae5-8953-49db16a31bf3"
      },
      "execution_count": null,
      "outputs": [
        {
          "output_type": "stream",
          "name": "stdout",
          "text": [
            "Class Distribution:\n",
            "class\n",
            "1    19190\n",
            "2     4163\n",
            "0     1430\n",
            "Name: count, dtype: int64\n"
          ]
        },
        {
          "output_type": "stream",
          "name": "stderr",
          "text": [
            "<ipython-input-3-812869e98fda>:17: FutureWarning: \n",
            "\n",
            "Passing `palette` without assigning `hue` is deprecated and will be removed in v0.14.0. Assign the `x` variable to `hue` and set `legend=False` for the same effect.\n",
            "\n",
            "  sns.barplot(x=class_distribution.index, y=class_distribution.values, palette='viridis')\n"
          ]
        },
        {
          "output_type": "display_data",
          "data": {
            "text/plain": [
              "<Figure size 1000x600 with 1 Axes>"
            ],
            "image/png": "[encoded data removed]"
          },
          "metadata": {}
        }
      ]
    },
    {
      "cell_type": "code",
      "source": [
        "import pandas as pd\n",
        "import matplotlib.pyplot as plt\n",
        "import seaborn as sns\n",
        "\n",
        "# Load your dataset\n",
        "# df = pd.read_csv('/labeled_data.csv')  # Uncomment this line to load your dataset\n",
        "\n",
        "# Check the distribution of classes\n",
        "class_distribution = df['class'].value_counts()\n",
        "\n",
        "# Print the class distribution\n",
        "print(\"Class Distribution:\")\n",
        "print(class_distribution)\n",
        "\n",
        "# Plotting the class distribution\n",
        "plt.figure(figsize=(10, 6))\n",
        "sns.barplot(x=class_distribution.index.astype(str), y=class_distribution.values, palette='viridis')\n",
        "plt.title('Class Distribution')\n",
        "plt.xlabel('Classes')\n",
        "plt.ylabel('Frequency')\n",
        "plt.xticks(rotation=45)\n",
        "plt.show()"
      ],
      "metadata": {
        "colab": {
          "base_uri": "https://localhost:8080/",
          "height": 773
        },
        "id": "-GYvXZ7QtUEn",
        "outputId": "658827db-72e0-4e22-b968-8ca815b246ca"
      },
      "execution_count": null,
      "outputs": [
        {
          "output_type": "stream",
          "name": "stdout",
          "text": [
            "Class Distribution:\n",
            "class\n",
            "1    19190\n",
            "2     4163\n",
            "0     1430\n",
            "Name: count, dtype: int64\n"
          ]
        },
        {
          "output_type": "stream",
          "name": "stderr",
          "text": [
            "<ipython-input-5-9d5abaf49553>:17: FutureWarning: \n",
            "\n",
            "Passing `palette` without assigning `hue` is deprecated and will be removed in v0.14.0. Assign the `x` variable to `hue` and set `legend=False` for the same effect.\n",
            "\n",
            "  sns.barplot(x=class_distribution.index.astype(str), y=class_distribution.values, palette='viridis')\n"
          ]
        },
        {
          "output_type": "display_data",
          "data": {
            "text/plain": [
              "<Figure size 1000x600 with 1 Axes>"
            ],
            "image/png": "[encoded data removed]"
          },
          "metadata": {}
        }
      ]
    },
    {
      "cell_type": "code",
      "source": [
        "\n",
        "from google.colab import files# Download the model filefiles.download('hate_speech_model.joblib')# Download the vectorizer filefiles.download('vectorizer.pkl')\n"
      ],
      "metadata": {
        "id": "lKdKR5E-bbZv"
      },
      "execution_count": null,
      "outputs": []
    },
    {
      "cell_type": "code",
      "source": [
        "import os\n",
        "os.listdir()\n",
        "\n"
      ],
      "metadata": {
        "colab": {
          "base_uri": "https://localhost:8080/"
        },
        "id": "Pzm-jsbNdCSO",
        "outputId": "138dac88-0e55-400c-f10b-ed3ff89d2a55"
      },
      "execution_count": null,
      "outputs": [
        {
          "output_type": "execute_result",
          "data": {
            "text/plain": [
              "['.config', 'sample_data']"
            ]
          },
          "metadata": {},
          "execution_count": 3
        }
      ]
    },
    {
      "cell_type": "code",
      "source": [
        "import pandas as pd\n",
        "from sklearn.feature_extraction.text import TfidfVectorizer\n",
        "from sklearn.model_selection import train_test_split\n",
        "from sklearn.linear_model import LogisticRegression\n",
        "from sklearn.metrics import accuracy_score\n",
        "\n",
        "# Load your dataset\n",
        "df = pd.read_csv('/labeled_data.csv')\n",
        "\n",
        "# Features and Labels\n",
        "X = df['tweet']  # Assuming the tweet column contains text data\n",
        "y = df['class']  # Assuming the class column contains labels (0, 1, 2 for hate speech, offensive, neither)\n",
        "\n",
        "# Vectorization\n",
        "vectorizer = TfidfVectorizer(stop_words='english')\n",
        "X = vectorizer.fit_transform(X)\n",
        "\n",
        "# Split the data\n",
        "X_train, X_test, y_train, y_test = train_test_split(X, y, test_size=0.2, random_state=42)\n",
        "\n",
        "# Train the model (Logistic Regression in this case)\n",
        "model = LogisticRegression()\n",
        "model.fit(X_train, y_train)\n",
        "\n",
        "# Evaluate the model\n",
        "y_pred = model.predict(X_test)\n",
        "print(f'Accuracy: {accuracy_score(y_test, y_pred)}')\n"
      ],
      "metadata": {
        "colab": {
          "base_uri": "https://localhost:8080/"
        },
        "id": "ojaDJ_DRdl-K",
        "outputId": "2b2c61e9-124f-4d81-9d33-3a7bce16226e"
      },
      "execution_count": null,
      "outputs": [
        {
          "output_type": "stream",
          "name": "stdout",
          "text": [
            "Accuracy: 0.8902562033487996\n"
          ]
        }
      ]
    },
    {
      "cell_type": "code",
      "source": [
        "import joblib\n",
        "\n",
        "# Save the trained model\n",
        "joblib.dump(model, 'hate_speech_model.joblib')\n",
        "\n",
        "# Save the vectorizer\n",
        "joblib.dump(vectorizer, 'vectorizer.pkl')\n"
      ],
      "metadata": {
        "colab": {
          "base_uri": "https://localhost:8080/"
        },
        "id": "u4pOOtNheFJn",
        "outputId": "e2772285-a273-4a32-d27a-8b90e8d70204"
      },
      "execution_count": null,
      "outputs": [
        {
          "output_type": "execute_result",
          "data": {
            "text/plain": [
              "['vectorizer.pkl']"
            ]
          },
          "metadata": {},
          "execution_count": 7
        }
      ]
    },
    {
      "cell_type": "code",
      "source": [
        "from google.colab import files\n",
        "\n",
        "# Download the model file\n",
        "files.download('hate_speech_model.joblib')\n",
        "\n",
        "# Download the vectorizer file\n",
        "files.download('vectorizer.pkl')\n"
      ],
      "metadata": {
        "colab": {
          "base_uri": "https://localhost:8080/",
          "height": 17
        },
        "id": "yDPw5JhTeWX8",
        "outputId": "63f342d7-e48b-4f37-cfc6-f222951b3b9d"
      },
      "execution_count": null,
      "outputs": [
        {
          "output_type": "display_data",
          "data": {
            "text/plain": [
              "<IPython.core.display.Javascript object>"
            ],
            "application/javascript": [
              "\n",
              "    async function download(id, filename, size) {\n",
              "      if (!google.colab.kernel.accessAllowed) {\n",
              "        return;\n",
              "      }\n",
              "      const div = document.createElement('div');\n",
              "      const label = document.createElement('label');\n",
              "      label.textContent = `Downloading \"${filename}\": `;\n",
              "      div.appendChild(label);\n",
              "      const progress = document.createElement('progress');\n",
              "      progress.max = size;\n",
              "      div.appendChild(progress);\n",
              "      document.body.appendChild(div);\n",
              "\n",
              "      const buffers = [];\n",
              "      let downloaded = 0;\n",
              "\n",
              "      const channel = await google.colab.kernel.comms.open(id);\n",
              "      // Send a message to notify the kernel that we're ready.\n",
              "      channel.send({})\n",
              "\n",
              "      for await (const message of channel.messages) {\n",
              "        // Send a message to notify the kernel that we're ready.\n",
              "        channel.send({})\n",
              "        if (message.buffers) {\n",
              "          for (const buffer of message.buffers) {\n",
              "            buffers.push(buffer);\n",
              "            downloaded += buffer.byteLength;\n",
              "            progress.value = downloaded;\n",
              "          }\n",
              "        }\n",
              "      }\n",
              "      const blob = new Blob(buffers, {type: 'application/binary'});\n",
              "      const a = document.createElement('a');\n",
              "      a.href = window.URL.createObjectURL(blob);\n",
              "      a.download = filename;\n",
              "      div.appendChild(a);\n",
              "      a.click();\n",
              "      div.remove();\n",
              "    }\n",
              "  "
            ]
          },
          "metadata": {}
        },
        {
          "output_type": "display_data",
          "data": {
            "text/plain": [
              "<IPython.core.display.Javascript object>"
            ],
            "application/javascript": [
              "download(\"download_3d39e50a-cd2e-490b-8076-fe321c5e61d4\", \"hate_speech_model.joblib\", 854655)"
            ]
          },
          "metadata": {}
        },
        {
          "output_type": "display_data",
          "data": {
            "text/plain": [
              "<IPython.core.display.Javascript object>"
            ],
            "application/javascript": [
              "\n",
              "    async function download(id, filename, size) {\n",
              "      if (!google.colab.kernel.accessAllowed) {\n",
              "        return;\n",
              "      }\n",
              "      const div = document.createElement('div');\n",
              "      const label = document.createElement('label');\n",
              "      label.textContent = `Downloading \"${filename}\": `;\n",
              "      div.appendChild(label);\n",
              "      const progress = document.createElement('progress');\n",
              "      progress.max = size;\n",
              "      div.appendChild(progress);\n",
              "      document.body.appendChild(div);\n",
              "\n",
              "      const buffers = [];\n",
              "      let downloaded = 0;\n",
              "\n",
              "      const channel = await google.colab.kernel.comms.open(id);\n",
              "      // Send a message to notify the kernel that we're ready.\n",
              "      channel.send({})\n",
              "\n",
              "      for await (const message of channel.messages) {\n",
              "        // Send a message to notify the kernel that we're ready.\n",
              "        channel.send({})\n",
              "        if (message.buffers) {\n",
              "          for (const buffer of message.buffers) {\n",
              "            buffers.push(buffer);\n",
              "            downloaded += buffer.byteLength;\n",
              "            progress.value = downloaded;\n",
              "          }\n",
              "        }\n",
              "      }\n",
              "      const blob = new Blob(buffers, {type: 'application/binary'});\n",
              "      const a = document.createElement('a');\n",
              "      a.href = window.URL.createObjectURL(blob);\n",
              "      a.download = filename;\n",
              "      div.appendChild(a);\n",
              "      a.click();\n",
              "      div.remove();\n",
              "    }\n",
              "  "
            ]
          },
          "metadata": {}
        },
        {
          "output_type": "display_data",
          "data": {
            "text/plain": [
              "<IPython.core.display.Javascript object>"
            ],
            "application/javascript": [
              "download(\"download_4ac1df7c-101a-41bb-b323-1da59ddb2cf9\", \"vectorizer.pkl\", 798207)"
            ]
          },
          "metadata": {}
        }
      ]
    },
    {
      "cell_type": "code",
      "source": [
        "import os\n",
        "os.listdir()\n"
      ],
      "metadata": {
        "id": "vn_2lVsTfOzv",
        "outputId": "9ecb58f9-46fa-4388-dc24-7cfa9e6e9e0e",
        "colab": {
          "base_uri": "https://localhost:8080/"
        }
      },
      "execution_count": null,
      "outputs": [
        {
          "output_type": "execute_result",
          "data": {
            "text/plain": [
              "['.config', '.ipynb_checkpoints', 'sample_data']"
            ]
          },
          "metadata": {},
          "execution_count": 40
        }
      ]
    },
    {
      "cell_type": "code",
      "source": [
        "# Diagnosing Model’s Sensitivity to Specific Words\n",
        "from sklearn.feature_extraction.text import CountVectorizer\n",
        "\n",
        "# Vectorizing the text data, assuming 'tweet' is the correct column name\n",
        "vectorizer = CountVectorizer()\n",
        "# Change 'text' to the actual name of the column containing the tweet text\n",
        "X = vectorizer.fit_transform(df_balanced['tweet'])\n",
        "\n",
        "# Check words the model is sensitive to (for interpretable models like logistic regression)\n",
        "# Note: This might vary depending on your model type\n",
        "try:\n",
        "    offensive_words = np.argsort(model.coef_)[0][-10:]  # Get top 10 offensive words\n",
        "    print([vectorizer.get_feature_names_out()[i] for i in offensive_words])\n",
        "except:\n",
        "    print(\"This analysis is model-specific; adjust if using deep learning models.\")"
      ],
      "metadata": {
        "colab": {
          "base_uri": "https://localhost:8080/"
        },
        "id": "_ICCs4iA03JG",
        "outputId": "57f1a9cb-76d1-401c-e15f-2b4bc6f07e62"
      },
      "execution_count": null,
      "outputs": [
        {
          "output_type": "stream",
          "name": "stdout",
          "text": [
            "This analysis is model-specific; adjust if using deep learning models.\n"
          ]
        }
      ]
    },
    {
      "cell_type": "markdown",
      "source": [],
      "metadata": {
        "id": "rritnm1Axc4u"
      }
    },
    {
      "cell_type": "code",
      "source": [
        "# adjusting the Threshold\n",
        "from tensorflow.keras.models import Sequential\n",
        "from tensorflow.keras.layers import Dense, Dropout\n",
        "from sklearn.model_selection import train_test_split\n",
        "from sklearn.datasets import make_classification  # Import for creating sample data\n",
        "\n",
        "# Define the input shape - replace 784 with the actual number of features in your data\n",
        "input_shape = 784  # Example: Assuming 784 features\n",
        "\n",
        "# Define the model architecture\n",
        "model = Sequential()\n",
        "model.add(Dense(128, activation='relu', input_shape=(input_shape,)))\n",
        "model.add(Dropout(0.5))\n",
        "model.add(Dense(64, activation='relu'))\n",
        "model.add(Dropout(0.5))\n",
        "model.add(Dense(1, activation='sigmoid'))\n",
        "\n",
        "# Compile the model\n",
        "model.compile(optimizer='adam', loss='binary_crossentropy', metrics=['accuracy'])\n",
        "\n",
        "# Load or create your training data here\n",
        "# Replace these with your actual data loading or creation steps\n",
        "# Example using make_classification to generate sample data:\n",
        "X, y = make_classification(n_samples=1000, n_features=input_shape, n_informative=10, n_redundant=0, random_state=42)\n",
        "X_train, X_test, y_train, y_test = train_test_split(X, y, test_size=0.2, random_state=42)\n",
        "\n",
        "# Train the model\n",
        "model.fit(X_train, y_train, epochs=10, batch_size=32, validation_split=0.2)"
      ],
      "metadata": {
        "colab": {
          "base_uri": "https://localhost:8080/"
        },
        "id": "HOaevrg7wwbk",
        "outputId": "e6fb27bb-c73c-4940-c2b8-d00c49a6b7ed"
      },
      "execution_count": null,
      "outputs": [
        {
          "output_type": "stream",
          "name": "stdout",
          "text": [
            "Epoch 1/10\n",
            "\u001b[1m20/20\u001b[0m \u001b[32m━━━━━━━━━━━━━━━━━━━━\u001b[0m\u001b[37m\u001b[0m \u001b[1m2s\u001b[0m 23ms/step - accuracy: 0.5049 - loss: 1.1320 - val_accuracy: 0.5250 - val_loss: 0.7574\n",
            "Epoch 2/10\n",
            "\u001b[1m20/20\u001b[0m \u001b[32m━━━━━━━━━━━━━━━━━━━━\u001b[0m\u001b[37m\u001b[0m \u001b[1m0s\u001b[0m 10ms/step - accuracy: 0.5962 - loss: 0.8525 - val_accuracy: 0.5813 - val_loss: 0.6871\n",
            "Epoch 3/10\n",
            "\u001b[1m20/20\u001b[0m \u001b[32m━━━━━━━━━━━━━━━━━━━━\u001b[0m\u001b[37m\u001b[0m \u001b[1m0s\u001b[0m 10ms/step - accuracy: 0.6338 - loss: 0.6928 - val_accuracy: 0.6500 - val_loss: 0.6398\n",
            "Epoch 4/10\n",
            "\u001b[1m20/20\u001b[0m \u001b[32m━━━━━━━━━━━━━━━━━━━━\u001b[0m\u001b[37m\u001b[0m \u001b[1m0s\u001b[0m 10ms/step - accuracy: 0.6876 - loss: 0.6044 - val_accuracy: 0.6562 - val_loss: 0.6267\n",
            "Epoch 5/10\n",
            "\u001b[1m20/20\u001b[0m \u001b[32m━━━━━━━━━━━━━━━━━━━━\u001b[0m\u001b[37m\u001b[0m \u001b[1m0s\u001b[0m 9ms/step - accuracy: 0.7620 - loss: 0.5084 - val_accuracy: 0.6812 - val_loss: 0.6100\n",
            "Epoch 6/10\n",
            "\u001b[1m20/20\u001b[0m \u001b[32m━━━━━━━━━━━━━━━━━━━━\u001b[0m\u001b[37m\u001b[0m \u001b[1m0s\u001b[0m 13ms/step - accuracy: 0.8026 - loss: 0.3965 - val_accuracy: 0.7000 - val_loss: 0.5887\n",
            "Epoch 7/10\n",
            "\u001b[1m20/20\u001b[0m \u001b[32m━━━━━━━━━━━━━━━━━━━━\u001b[0m\u001b[37m\u001b[0m \u001b[1m0s\u001b[0m 10ms/step - accuracy: 0.8651 - loss: 0.3233 - val_accuracy: 0.7125 - val_loss: 0.5824\n",
            "Epoch 8/10\n",
            "\u001b[1m20/20\u001b[0m \u001b[32m━━━━━━━━━━━━━━━━━━━━\u001b[0m\u001b[37m\u001b[0m \u001b[1m0s\u001b[0m 9ms/step - accuracy: 0.8913 - loss: 0.2774 - val_accuracy: 0.7188 - val_loss: 0.5832\n",
            "Epoch 9/10\n",
            "\u001b[1m20/20\u001b[0m \u001b[32m━━━━━━━━━━━━━━━━━━━━\u001b[0m\u001b[37m\u001b[0m \u001b[1m0s\u001b[0m 10ms/step - accuracy: 0.9169 - loss: 0.2237 - val_accuracy: 0.7250 - val_loss: 0.6062\n",
            "Epoch 10/10\n",
            "\u001b[1m20/20\u001b[0m \u001b[32m━━━━━━━━━━━━━━━━━━━━\u001b[0m\u001b[37m\u001b[0m \u001b[1m0s\u001b[0m 12ms/step - accuracy: 0.9508 - loss: 0.1742 - val_accuracy: 0.7188 - val_loss: 0.5903\n"
          ]
        },
        {
          "output_type": "execute_result",
          "data": {
            "text/plain": [
              "<keras.src.callbacks.history.History at 0x789f79ad7310>"
            ]
          },
          "metadata": {},
          "execution_count": 20
        }
      ]
    },
    {
      "cell_type": "code",
      "source": [
        "# Import necessary libraries\n",
        "import joblib\n",
        "from google.colab import files\n",
        "\n",
        "# Load the trained model and vectorizer if they were saved separately earlier\n",
        "model = joblib.load('hate_speech_model.joblib')  # Ensure this file exists\n",
        "vectorizer = joblib.load('vectorizer.joblib')    # Ensure this file exists\n",
        "\n",
        "# Save the model and vectorizer again as separate files\n",
        "joblib.dump(model, 'hate_speech_model_only.joblib')  # Save the model again\n",
        "joblib.dump(vectorizer, 'vectorizer_only.joblib')    # Save the vectorizer again\n",
        "\n",
        "# Download the saved files\n",
        "files.download('hate_speech_model_only.joblib')\n",
        "files.download('vectorizer_only.joblib')\n"
      ],
      "metadata": {
        "colab": {
          "base_uri": "https://localhost:8080/",
          "height": 17
        },
        "id": "gkdlnYnsZ2kN",
        "outputId": "776ff81d-202f-4e7a-a2de-b46d25044fd6"
      },
      "execution_count": null,
      "outputs": [
        {
          "output_type": "display_data",
          "data": {
            "text/plain": [
              "<IPython.core.display.Javascript object>"
            ],
            "application/javascript": [
              "\n",
              "    async function download(id, filename, size) {\n",
              "      if (!google.colab.kernel.accessAllowed) {\n",
              "        return;\n",
              "      }\n",
              "      const div = document.createElement('div');\n",
              "      const label = document.createElement('label');\n",
              "      label.textContent = `Downloading \"${filename}\": `;\n",
              "      div.appendChild(label);\n",
              "      const progress = document.createElement('progress');\n",
              "      progress.max = size;\n",
              "      div.appendChild(progress);\n",
              "      document.body.appendChild(div);\n",
              "\n",
              "      const buffers = [];\n",
              "      let downloaded = 0;\n",
              "\n",
              "      const channel = await google.colab.kernel.comms.open(id);\n",
              "      // Send a message to notify the kernel that we're ready.\n",
              "      channel.send({})\n",
              "\n",
              "      for await (const message of channel.messages) {\n",
              "        // Send a message to notify the kernel that we're ready.\n",
              "        channel.send({})\n",
              "        if (message.buffers) {\n",
              "          for (const buffer of message.buffers) {\n",
              "            buffers.push(buffer);\n",
              "            downloaded += buffer.byteLength;\n",
              "            progress.value = downloaded;\n",
              "          }\n",
              "        }\n",
              "      }\n",
              "      const blob = new Blob(buffers, {type: 'application/binary'});\n",
              "      const a = document.createElement('a');\n",
              "      a.href = window.URL.createObjectURL(blob);\n",
              "      a.download = filename;\n",
              "      div.appendChild(a);\n",
              "      a.click();\n",
              "      div.remove();\n",
              "    }\n",
              "  "
            ]
          },
          "metadata": {}
        },
        {
          "output_type": "display_data",
          "data": {
            "text/plain": [
              "<IPython.core.display.Javascript object>"
            ],
            "application/javascript": [
              "download(\"download_416a0cf7-efe1-4e60-83ef-6bd499ac3b6c\", \"hate_speech_model_only.joblib\", 879)"
            ]
          },
          "metadata": {}
        },
        {
          "output_type": "display_data",
          "data": {
            "text/plain": [
              "<IPython.core.display.Javascript object>"
            ],
            "application/javascript": [
              "\n",
              "    async function download(id, filename, size) {\n",
              "      if (!google.colab.kernel.accessAllowed) {\n",
              "        return;\n",
              "      }\n",
              "      const div = document.createElement('div');\n",
              "      const label = document.createElement('label');\n",
              "      label.textContent = `Downloading \"${filename}\": `;\n",
              "      div.appendChild(label);\n",
              "      const progress = document.createElement('progress');\n",
              "      progress.max = size;\n",
              "      div.appendChild(progress);\n",
              "      document.body.appendChild(div);\n",
              "\n",
              "      const buffers = [];\n",
              "      let downloaded = 0;\n",
              "\n",
              "      const channel = await google.colab.kernel.comms.open(id);\n",
              "      // Send a message to notify the kernel that we're ready.\n",
              "      channel.send({})\n",
              "\n",
              "      for await (const message of channel.messages) {\n",
              "        // Send a message to notify the kernel that we're ready.\n",
              "        channel.send({})\n",
              "        if (message.buffers) {\n",
              "          for (const buffer of message.buffers) {\n",
              "            buffers.push(buffer);\n",
              "            downloaded += buffer.byteLength;\n",
              "            progress.value = downloaded;\n",
              "          }\n",
              "        }\n",
              "      }\n",
              "      const blob = new Blob(buffers, {type: 'application/binary'});\n",
              "      const a = document.createElement('a');\n",
              "      a.href = window.URL.createObjectURL(blob);\n",
              "      a.download = filename;\n",
              "      div.appendChild(a);\n",
              "      a.click();\n",
              "      div.remove();\n",
              "    }\n",
              "  "
            ]
          },
          "metadata": {}
        },
        {
          "output_type": "display_data",
          "data": {
            "text/plain": [
              "<IPython.core.display.Javascript object>"
            ],
            "application/javascript": [
              "download(\"download_fd92f6b5-ccee-4d40-9289-4501cc028322\", \"vectorizer_only.joblib\", 484)"
            ]
          },
          "metadata": {}
        }
      ]
    },
    {
      "cell_type": "code",
      "source": [
        "# Assuming you already have the model and vectorizer in memory\n",
        "joblib.dump(vectorizer, 'vectorizer.joblib')    # Save the vectorizer if not saved earlier\n"
      ],
      "metadata": {
        "colab": {
          "base_uri": "https://localhost:8080/"
        },
        "id": "XU_QoYSwZ601",
        "outputId": "c101d142-c1bb-4094-a94b-a3c4dd4f437d"
      },
      "execution_count": null,
      "outputs": [
        {
          "output_type": "execute_result",
          "data": {
            "text/plain": [
              "['vectorizer.joblib']"
            ]
          },
          "metadata": {},
          "execution_count": 15
        }
      ]
    },
    {
      "cell_type": "code",
      "source": [
        "print(\"Sample vocabulary:\", list(vectorizer.vocabulary_.keys())[:10])\n"
      ],
      "metadata": {
        "colab": {
          "base_uri": "https://localhost:8080/"
        },
        "id": "3vOX-xq7d6d8",
        "outputId": "c5d3b11e-2050-4a98-adb0-34785dcf4376"
      },
      "execution_count": null,
      "outputs": [
        {
          "output_type": "stream",
          "name": "stdout",
          "text": [
            "Sample vocabulary: ['sample', 'text']\n"
          ]
        }
      ]
    },
    {
      "cell_type": "code",
      "source": [
        "from sklearn.feature_extraction.text import CountVectorizer\n",
        "\n",
        "vectorizer = CountVectorizer(max_features=5000)  # Try increasing max_features to capture more unique words\n"
      ],
      "metadata": {
        "id": "G2NBNBmEeEDl"
      },
      "execution_count": null,
      "outputs": []
    },
    {
      "cell_type": "code",
      "source": [
        "import pandas as pd\n",
        "from sklearn.feature_extraction.text import CountVectorizer\n",
        "\n",
        "# Load your data (replace with the actual data loading code)\n",
        "# Example: df = pd.read_csv('/labeled_data.csv')\n",
        "\n",
        "# Extract the text data from the DataFrame\n",
        "all_tweets = df['tweet'].tolist()  # Convert the 'tweet' column to a list\n",
        "\n",
        "# Initialize and fit the vectorizer\n",
        "vectorizer = CountVectorizer(max_features=5000)  # Adjust max_features as needed\n",
        "vectorizer.fit(all_tweets)\n",
        "\n",
        "# Check the vocabulary size and sample\n",
        "print(\"New vocabulary size:\", len(vectorizer.vocabulary_))\n",
        "print(\"Sample vocabulary:\", list(vectorizer.vocabulary_.keys())[:10])\n"
      ],
      "metadata": {
        "colab": {
          "base_uri": "https://localhost:8080/"
        },
        "id": "KCv22CDZejjC",
        "outputId": "ca20de85-4b41-4be3-d6bf-79e8f67fdbb8"
      },
      "execution_count": null,
      "outputs": [
        {
          "output_type": "stream",
          "name": "stdout",
          "text": [
            "New vocabulary size: 5000\n",
            "Sample vocabulary: ['rt', 'as', 'woman', 'you', 'shouldn', 'complain', 'about', 'cleaning', 'up', 'your']\n"
          ]
        }
      ]
    },
    {
      "cell_type": "code",
      "source": [
        "import pandas as pd\n",
        "from sklearn.feature_extraction.text import CountVectorizer\n",
        "\n",
        "# Replace 'tweets.csv' with your actual file name or data path\n",
        "df = pd.read_csv('/labeled_data.csv')  # Adjust the file path if necessary\n",
        "\n",
        "# Ensure the 'tweet' column exists in your DataFrame\n",
        "if 'tweet' in df.columns:\n",
        "    # Convert the 'tweet' column to a list of all tweets\n",
        "    all_tweets = df['tweet'].tolist()\n",
        "\n",
        "    # Initialize and fit the vectorizer\n",
        "    vectorizer = CountVectorizer(max_features=5000)  # Set max_features as needed\n",
        "    vectorizer.fit(all_tweets)\n",
        "\n",
        "    # Check the vocabulary size and a sample\n",
        "    print(\"New vocabulary size:\", len(vectorizer.vocabulary_))\n",
        "    print(\"Sample vocabulary:\", list(vectorizer.vocabulary_.keys())[:10])\n",
        "else:\n",
        "    print(\"Error: 'tweet' column not found in the DataFrame.\")\n"
      ],
      "metadata": {
        "colab": {
          "base_uri": "https://localhost:8080/"
        },
        "id": "oy-wkgLcfLvN",
        "outputId": "ff88f273-948e-4488-93bd-bcf73eba3f4e"
      },
      "execution_count": null,
      "outputs": [
        {
          "output_type": "stream",
          "name": "stdout",
          "text": [
            "New vocabulary size: 5000\n",
            "Sample vocabulary: ['rt', 'as', 'woman', 'you', 'shouldn', 'complain', 'about', 'cleaning', 'up', 'your']\n"
          ]
        }
      ]
    },
    {
      "cell_type": "code",
      "source": [
        "# After training and fitting your vectorizer\n",
        "print(\"Vectorizer vocabulary during training:\", vectorizer.vocabulary_)\n"
      ],
      "metadata": {
        "colab": {
          "base_uri": "https://localhost:8080/"
        },
        "id": "uN3TISuxtpHi",
        "outputId": "05018d7a-61e4-4b77-d3f5-d60e02e06ae8"
      },
      "execution_count": null,
      "outputs": [
        {
          "output_type": "stream",
          "name": "stdout",
          "text": [
            "Vectorizer vocabulary during training: {'rt': 3694, 'as': 481, 'woman': 4876, 'you': 4970, 'shouldn': 3884, 'complain': 1130, 'about': 301, 'cleaning': 1065, 'up': 4623, 'your': 4973, 'house': 2208, 'amp': 409, 'man': 2792, 'should': 3882, 'always': 400, 'take': 4259, 'the': 4353, 'trash': 4500, 'out': 3244, 'boy': 773, 'dats': 1302, 'cold': 1102, 'tyga': 4585, 'bad': 556, 'for': 1801, 'cuffin': 1244, 'dat': 1298, 'hoe': 2154, 'in': 2305, '1st': 190, 'place': 3365, 'dawg': 1310, '80sbaby4life': 244, 'ever': 1596, 'fuck': 1855, 'bitch': 682, 'and': 415, 'she': 3854, 'start': 4117, 'to': 4451, 'cry': 1231, 'be': 606, 'confused': 1140, 'shit': 3864, 'viva_based': 4679, 'look': 2725, 'like': 2654, 'tranny': 4498, 'hear': 2092, 'me': 2838, 'might': 2895, 'true': 4532, 'or': 3227, 'it': 2353, 'than': 4343, 'who': 4820, 'told': 4459, 'ya': 4927, 'just': 2452, 'blows': 717, 'claim': 1052, 'so': 4002, 'faithful': 1658, 'down': 1446, 'somebody': 4020, 'but': 873, 'still': 4151, 'fucking': 1860, 'with': 4866, 'hoes': 2155, '128514': 109, 'can': 903, 'not': 3141, 'sit': 3925, 'hate': 2072, 'on': 3206, 'another': 428, 'got': 1970, 'too': 4469, 'much': 3005, 'going': 1951, '8220': 249, 'cause': 946, 'tired': 4444, 'of': 3177, 'big': 668, 'bitches': 683, 'coming': 1120, 'us': 4633, 'skinny': 3936, 'girls': 1927, '8221': 250, 'get': 1908, 'back': 550, 'thats': 4351, 'that': 4348, 'rhythmixx_': 3643, 'fighting': 1724, 'is': 2343, 'everyone': 1600, 'lol': 2717, 'walked': 4706, 'into': 2332, 'conversation': 1153, 'this': 4394, 'smh': 3981, 'murda': 3008, 'gang': 1889, 'its': 2356, 'land': 2573, 'smoke': 3986, 'are': 460, 'losers': 2737, 'yea': 4945, 'go': 1943, 'ig': 2271, 'only': 3212, 'thing': 4385, 'off': 3179, 'nigga': 3092, 'miss': 2924, 'plz': 3390, 'whatever': 4794, 'do': 1419, 'love': 2749, 'cut': 1267, 'everyday': 1599, 'black': 691, 'bottle': 760, 'broke': 817, 'cant': 912, 'tell': 4322, 'nothing': 3145, 'cancel': 905, 'nino': 3112, 'see': 3797, 'these': 4375, 'wont': 4882, 'change': 973, 'no': 3119, 'dont': 1438, 'even': 1595, 'suck': 4207, 'dick': 1372, 'videos': 4663, 'bout': 766, 'tip': 4442, 'my': 3023, 'http': 2220, 'co': 1090, 'her': 2114, 'pussy': 3508, 'lips': 2676, 'heaven': 2101, 'doors': 1441, '128524': 118, 'what': 4791, 'hitting': 2149, 'met': 2873, 'ocean': 3175, 'dr': 1449, 'gave': 1898, 'pill': 3343, 'need': 3059, 'spend': 4069, 'money': 2959, 'how': 2212, 'want': 4716, 'business': 868, 'old': 3197, 'new': 3078, 'say': 3750, 'im': 2289, 'would': 4907, 'excited': 1612, 'if': 2269, 'aint': 367, 'murder': 3009, 'game': 1887, 'shut': 3895, 're': 3562, 'toes': 4456, 'ain': 365, 'done': 1437, 'stinks': 4153, 'bitter': 688, 'wrap': 4912, 'angry': 421, 'bird': 677, 'theres': 4374, 'app': 454, 'jus': 2449, 'meet': 2851, 'son': 4027, 'now': 3149, 'he': 2087, 'mane': 2793, 'ass': 493, 'shots': 3881, 'crying': 1234, 'over': 3250, 'tears': 4312, 'clown': 1083, 'snoop': 4000, 'said': 3716, 'we': 4752, 'momma': 2954, 'cats': 944, 'inside': 2321, 'most': 2981, 'hated': 2073, 'favorite': 1690, 'nice': 3084, 'make': 2784, 'real': 3568, 'body': 730, 'south': 4051, 'chick': 1005, 'em': 1555, 'thick': 4381, 'pimps': 3349, 'future': 1878, 'voice': 4683, 'post': 3426, 'picture': 3335, '200': 195, 'likes': 2657, 'drug': 1484, '128517': 112, 'quick': 3522, 'piece': 3338, 'call': 888, 'drive': 1472, 'by': 881, 'running': 3706, 'round': 3690, 'here': 2115, 'some': 4019, 'brand': 785, 'fucked': 1856, 'worst': 4904, 'they': 4379, 'll': 2691, 'send': 3813, 'them': 4362, 'guys': 2031, 'niggas': 3095, 'talk': 4266, 'trust': 4535, 'all': 383, 'yall': 4931, 'cuffing': 1245, 'never': 3076, 'have': 2080, 'bullet': 850, 'da': 1274, 'pregnant': 3448, 'bound': 765, 'thank': 4345, 'god': 1947, '128591': 159, 'young': 4971, 'music': 3012, 'probably': 3466, 'twitter': 4582, 'gay': 1899, 'couldn': 1181, 'wait': 4700, 'act': 318, 'tonight': 4465, 'the_paradox': 4354, 'ima': 2292, 'steal': 4133, 'his': 2144, 'cat': 939, 'gone': 1956, 'took': 4470, 'movie': 2994, 'wanna': 4715, 'model': 2946, 'russell': 3708, 'wouldn': 4909, '8217': 248, 'mind': 2914, 'school': 3765, 'didn': 1375, 'deal': 1318, 'teachers': 4305, 'retweet': 3635, 'fag': 1648, 'females': 1713, 'think': 4387, 'dating': 1301, 'cute': 1268, 'does': 1424, 'doing': 1430, 'stuff': 4196, 'him': 2137, 'woof': 4886, 'hot': 2203, 'scally': 3757, 'lad': 2562, 'asked': 488, 'other': 3240, 'kanye': 2464, 'yes': 4958, 'bring': 806, 'ur': 4629, 'side': 3901, 'where': 4803, 'know': 2541, 'gf': 1914, 'friends': 1841, 'at': 501, '128553': 140, 'swear': 4237, 'soles': 4016, 'eat': 1524, 'oreo': 3233, 'dishes': 1401, 'one': 3209, 'jetsandaswisher': 2398, 'maybe': 2831, 'better': 658, 'red': 3584, 'niggah': 3093, 'could': 1179, 'please': 3384, 'use': 4635, 'complete': 1132, 'why': 4829, 'eggplant': 1538, 'emoji': 1558, 'doe': 1423, 'looked': 2726, 'scream': 3774, 'lmao': 2693, 'gt': 2009, '128584': 155, 'sexy': 3836, 'then': 4365, 'shower': 3891, 'lt': 2761, 'every': 1597, 'eagles': 1511, 'pic': 3330, 'posted': 3427, 'because': 623, 'racist': 3531, 'yo': 4964, 'wood': 4883, 'pushing': 3505, 'faggots': 1650, 'ball': 566, 'life': 2647, 'baby': 548, 'monkey': 2961, 'soooo': 4035, 'adorable': 337, 'damn': 1284, 'kill': 2505, 'ant': 432, 'was': 4724, 'way': 4745, 'bs': 834, 'must': 3015, '30': 217, 'chance': 970, '_kudabrazyy': 280, 'rings': 3659, 'ppl': 3438, 'ghetto': 1915, 'hood': 2184, 'kid': 2499, 'growing': 2007, 'had': 2034, 'facts': 1645, 'tattoos': 4288, 'tattoo': 4287, 'nipples': 3115, '128175': 98, 'wanting': 4719, 'wow': 4911, 'lost': 2740, 'those': 4397, 'yeah': 4946, 'ok': 3194, 'sis': 3922, 'rather': 3558, 'works': 4897, 'blackman38tide': 692, 'queer': 3518, 'itsnotadam': 2362, 'faggot': 1649, 'read': 3565, 'tweets': 4569, 'after': 347, 'wasn': 4730, 'funny': 1875, 'brosconfessions': 822, 'ungrateful': 4614, 'fr': 1820, 'been': 630, 'white_thunduh': 4816, 'hes': 2119, 'beaner': 609, 'mexican': 2877, 'happy': 2058, 'birthday': 680, 'nigs': 3105, 'thanks': 4346, 'chlldhoodruiner': 1023, 'when': 4801, 'teacher': 4304, 'tells': 4325, 'homework': 2172, 'https': 2221, 'eating': 1527, 'hell': 2108, 'john': 2422, 'paul': 3293, 'lil': 2659, 'ugly': 4597, 'bald': 565, 'headed': 2089, 'stop': 4163, 'making': 2788, 'weave': 4761, 'carelessone92': 926, 'win': 4846, 'nig': 3091, 'causewereguys': 947, 'sucks': 4213, 'more': 2972, 'attend': 511, 'year': 4947, 'come': 1114, 'food': 1797, 'car': 919, 'retard': 3631, 'doesn': 1425, 'show': 3889, 'hella': 2109, 'friend': 1838, 'anymore': 441, 'chill': 1013, 'brought': 826, 'cowboys': 1196, 'shutup': 3896, 'clicquotsuave': 1070, 'foh': 1789, 'coley_cee': 1104, 'lil_aerii': 2660, 'girl': 1924, 'spitting': 4077, 'let': 2633, 'couple': 1187, 'page': 3260, 'won': 4878, 'jail': 2373, 'don': 1435, 'trick': 4515, 'again': 349, 'harlem': 2063, 'shake': 3841, 'an': 411, 'excuse': 1613, 'full': 1868, 'seconds': 3793, 'miley': 2904, 'okay': 3195, 'bc': 604, 'having': 2084, 'loyal': 2759, 'female': 1712, 'idc': 2259, '128049': 52, '128533': 126, 'check': 994, 'our': 3243, 'ny': 3166, 'fans': 1673, 'stands': 4110, 'happen': 2054, 'ran': 3541, 'threw': 4412, 'nudes': 3158, 'pat': 3286, '128554': 141, '128527': 121, '128056': 53, 'holding': 2158, 'anyway': 445, 'wrong': 4916, 'nobody': 3122, 'knows': 2546, 'type': 4588, 'dm': 1415, 'which': 4806, 'top': 4472, 'baseball': 590, 'season': 3787, 'yankees': 4933, 'started': 4118, 'little': 2683, 'stupid': 4199, 'really': 3573, 'dead': 1317, 'serious': 3824, 'tho': 4395, 'early': 1515, 'night': 3102, 'wise': 4859, 'heavy': 2102, 'drugs': 1485, 'sound': 4045, 'day': 1312, 'pit': 3360, 'bulls': 852, 'lovely': 2751, 'fairy': 1656, 'tale': 4264, 'creatures': 1210, '1stname_bravo': 192, 'aw': 527, 'tweet': 4565, 'long': 2722, 'lakers': 2569, 'from': 1845, 'cc': 952, 'hahaha': 2036, 'anything': 443, 'kiss': 2526, 'funnypicsdepot': 1876, 'play': 3375, 'soccer': 4006, 'cheat': 991, 'wear': 4755, 'khaki': 2494, 'coloured': 1111, 'cargos': 928, 'haircut': 2039, 'yup': 4986, 'fat': 1683, 'lap': 2576, 'same': 3726, '17': 177, 'missed': 2925, 'calls': 894, '128544': 134, '128545': 135, 'das': 1297, 'finna': 1743, 'gotta': 1972, 'rules': 3703, 'anybody': 440, 'ask': 487, 'cousin': 1190, 'jersey': 2393, 'thinkin': 4388, 'moving': 2996, 'los': 2732, 'girlthatsvonte': 1928, 'thinking': 4389, 'meat': 2845, 'slap': 3941, '128564': 147, '128075': 61, 'bruh': 831, 'wit': 4864, 'edges': 1533, 'talking': 4270, '9995': 269, 'treating': 4507, 'nah': 3029, 'sweet': 4242, 'bags': 561, 'sex': 3832, 'mom': 2951, 'right': 3653, 'came': 897, 'eyes': 1635, 'open': 3219, 'watch': 4738, 'lmfao': 2700, 'woulda': 4908, 'coulda': 1180, 'shoulda': 3883, '128563': 146, '128586': 156, 'bday': 605, 'roll': 3677, 'used': 4636, 'own': 3253, 'wcw': 4751, 'duh': 1496, 'sack': 3713, 'throw': 4416, 'glad': 1934, 'getting': 1912, 'outta': 3248, 'atlanta': 505, 'bunch': 859, 'dumb': 1497, 'mad': 2777, 'kids': 2501, 'fuckin': 1859, 'isn': 2348, 'smart': 3970, 'wife': 4833, 'cuz': 1271, 'care': 923, 'cheating': 993, 'each': 1509, 'force': 1802, 'relationship': 3600, 'first': 1746, 'hornyfacts': 2194, 'being': 639, 'single': 3917, 'theonemiss_luu': 4367, 'hoskinsty96': 2201, 'white': 4815, 'power': 3436, 'lets': 2634, 'drunk': 1487, 'spit': 4076, 'blunts': 720, 'bro': 813, 'dudes': 1494, 'verbally_abrupt': 4649, 'around': 474, 'world': 4898, 'sucked': 4209, 'party': 3280, 'set': 3828, 'oomf': 3217, 'has': 2068, 'lot': 2741, 'cartoon': 935, 'saving': 3748, 'captain': 917, 'wants': 4720, 'there': 4370, 'nose': 3139, 'sox': 4054, 'legs': 2624, 'wish': 4860, 'brother': 824, '128530': 124, 'bet': 656, 'dressed': 1466, 'halloween': 2043, 'basic': 594, 'feature': 1698, 'gtfo': 2012, 'joebudden': 2419, 'scared': 3760, 'choke': 1026, 'during': 1501, 'says': 3753, 'guy': 2030, 'hits': 2147, 'women': 4877, 'bed': 626, 'ha': 2033, 'well': 4776, 'kazatta': 2475, 'oh': 3190, 'am': 401, 'molly': 2950, 'ho': 2152, 'fixed': 1756, 'refer': 3592, 'keyshawnswag': 2491, 'beating': 618, 'finally': 1735, 'move': 2991, 'line': 2667, 'tf': 4340, 'kingcuh': 2519, '16stanleys': 176, 'alu': 399, 'record': 3583, 'vine': 4668, 'hahahaha': 2037, 'haha': 2035, 'naw': 3046, 'tape': 4281, 'cover': 1192, 'mixtape': 2932, 'waiting': 4701, 'mayne': 2832, 'ol': 3196, 'dirty': 1391, 'foot': 1799, 'yellow': 4954, 'amazing': 403, '128079': 65, 'time': 4438, 'actin': 319, 'iffy': 2270, 'stay': 4126, 'alive': 382, 'nation': 3041, 'special': 4063, 'smfh': 3980, 'wonder': 4879, 'decent': 1323, 'keep': 2477, 'soft': 4011, 'many': 2802, 'times': 4440, 'screamed': 3775, 'stfu': 4147, 'bye': 882, 'dry': 1489, 'blame': 697, '128557': 144, 'gucci': 2017, 'dropping': 1479, 'month': 2963, 'text': 4335, 'lebronvuitton': 2613, 'without': 4867, 'daddy': 1276, 'issues': 2352, 'finding': 1737, 'sounding': 4047, 'easy': 1523, 'cum': 1249, 'fact': 1644, 'charlie': 983, 'sheen': 3855, 'major': 2782, 'respect': 3624, 'bae': 559, 'twerking': 4572, 'cook': 1155, 'wtf': 4918, 'lipe_the_great': 2675, 'zoe': 4995, 'fight': 1722, 'good': 1958, 'ma': 2772, 'along': 390, 'snake': 3992, 'booty': 747, 'everywhere': 1603, '128525': 119, '128064': 54, 'update': 4624, 'report': 3616, 'will': 4841, '10': 6, 'weeks': 4769, 'bum': 856, 'oregon': 3232, 'field': 1721, 'program': 3471, 'def': 1331, 'cowboy': 1195, 'best': 654, 'dude': 1493, 'cried': 1215, 'tv': 4560, 'romo': 3680, 'lmfaoooo': 2703, 'people': 3306, 'niggers': 3098, '20tolife_': 202, 'pissed': 3356, 'past': 3285, 'lick': 2643, 'while': 4807, 'slept': 3952, 'fam': 1665, 'feel': 1702, '128588': 157, 'hicks': 2126, 'america': 405, 'means': 2842, 'vagina': 4641, 'nasty': 3039, 'actually': 328, 'choose': 1027, 'mileycyrus': 2905, 'vibe': 4658, 'tried': 4517, 'dis': 1392, 'saying': 3752, 'mean': 2840, 'af': 342, 'tight': 4433, 'shirts': 3863, 'everybody': 1598, 'birds': 678, 'may': 2830, 'climate': 1071, 'beautiful': 620, 'nickiminaj': 3089, 'purple': 3501, 'gurl': 2026, 'playin': 3379, 'track': 4489, 'sum': 4219, 'taller': 4274, 'seen': 3801, 'obsessed': 3172, 'mine': 2916, '128529': 123, 'kobe': 2550, 'forget': 1807, 'meant': 2843, 'nochillpaz': 3123, 'least': 2606, 'nigger': 3097, 'no_fakingg': 3120, 'asking': 490, 'mixed': 2931, 'asian': 485, 'notoriousbm95': 3148, '_whiteponyjr_': 290, 'coward': 1194, 'cripple': 1217, 'hero': 2116, 'lmaoo': 2694, 'home': 2166, 'imaginary': 2294, 'whoa': 4821, 'everything': 1601, 'lowkey': 2758, 'quiet': 3523, 'sleep': 3950, 'prayingforhead': 3443, 'bringing': 807, 'weird': 4773, 'mentions': 2863, '128080': 66, '128581': 152, 'weak': 4753, 'advice': 340, 'speed': 4066, 'quote': 3526, 'animal': 422, 'strippers': 4185, 'pop': 3412, 'their': 4358, 'stripper': 4184, 'double': 1443, 'vision': 4677, 'beers': 632, '128526': 120, 'twerk': 4570, 'computer': 1134, '8252': 253, '65039': 237, 'art': 477, 'takin': 4262, 'welfare': 4775, 'government': 1975, 'aid': 362, 'role': 3676, 'find': 1736, 'hiding': 2128, 'tree': 4508, 'iemonaids': 2268, 'shoes': 3872, 'released': 3604, 'nike': 3106, 'jordan': 2431, 'alone': 389, 'austin': 519, 'teach': 4303, 'curved': 1263, 'ones': 3210, 'both': 758, 'chose': 1030, 'cyrus': 1272, 'naked': 3033, 'types': 4589, 'lmaooo': 2695, 'tony': 4467, 'fuk': 1866, 'holy': 2165, 'chocolate': 1024, 'floor': 1775, 'laughing': 2590, 'using': 4639, 'anonymous': 427, 'followers': 1795, 'bitching': 685, 'clearly': 1067, 'annoying': 426, 'catfish': 943, 'slick': 3953, 'catching': 942, 'worry': 4902, 'worried': 4901, 'insecure': 2320, 'handle': 2048, 'share': 3848, 'brothers': 825, 'sharing': 3849, 'caring': 929, 'hungry': 2236, 'problems': 3468, '128128': 74, 'dese': 1357, 'lyin': 2769, 'sportscenter': 4087, 'eli': 1551, 'manning': 2798, 'nfl': 3081, 'senior': 3816, 'anthony': 434, 'brown': 827, 'head': 2088, 'coach': 1091, 'steve': 4141, 'team': 4307, '187': 182, 'guess': 2018, 'also': 398, 'zero': 4991, 'chilling': 1015, '128069': 56, 'mines': 2917, 'impress': 2303, 'simple': 3911, 'control': 1152, 'idk': 2265, 'blah': 694, 'cuh': 1246, 'crazy': 1206, 'gonna': 1957, 'kevin': 2487, 'hart': 2066, 'fine': 1738, 'dam': 1281, '24': 208, 'boys': 776, 'drink': 1469, 'sends': 3815, 'fags': 1651, 'later': 2583, 'between': 659, 'thighs': 4382, 'longer': 2724, 'through': 4415, 'front': 1846, 'ipad': 2337, 'work': 4893, 'friday': 1835, 'yesterday': 4961, 'walks': 4709, 'test': 4332, 'drops': 1480, 'forever': 1806, 'voiceofdstreetz': 4684, 'taste': 4283, 'bobby': 727, 'live': 2684, 'before': 634, 'workout': 4896, 'stoner': 4161, 'ride': 3649, 'bars': 588, 'uberfacts': 4593, '15': 168, 'sad': 3714, 'character': 980, 'ned': 3058, 'bus': 865, 'video': 4662, 'lana': 2572, 'rey': 3642, 'bitchy': 686, 'vineforthebyrd': 4669, 'explains': 1625, 'helped': 2112, 'fighters': 1723, 'jihadi': 2406, 'wbeezy_': 4749, 'aww': 537, 'together': 4457, '128145': 85, 'ike': 2282, 'avi': 525, 'exposed': 1627, '128540': 130, 'herself': 2118, 'size': 3931, 'exactly': 1609, '128299': 106, '128298': 105, 'kim': 2514, 'near': 3054, 'protect': 3480, 'dope': 1442, 'girlfriend': 1925, 'aye': 539, 'taught': 4289, 'bruno': 833, 'sike': 3907, 'beefing': 629, 'rally': 3539, 'bottom': 762, 'person': 3316, 'pal': 3265, 'knowing': 2543, 'stacks': 4099, 'till': 4435, 'yungmigo': 4985, 'shane_a1': 3845, 'harder': 2061, 'fucc': 1852, 'rich': 3645, 'homie': 2173, 'homeboy': 2167, 'nicca': 3082, 'ewww': 1607, 'last': 2579, 'sunday': 4223, 'punch': 3495, 'face': 1639, 'strong': 4187, 'fresh': 1832, 'something': 4024, 'stank': 4111, 'slapping': 3943, 'greatest': 1992, 'things': 4386, 'slapped': 3942, 'week': 4766, 'texans': 4333, 'nd': 3052, 'dark': 1293, 'blonde': 711, 'several': 3830, 'seats': 3789, 'looking': 2728, 'left': 2616, '128129': 75, '128536': 128, 'deny': 1350, 'butt': 874, 'straight': 4169, 'boss': 755, 'needs': 3062, 'corner': 1172, 'gettin': 1911, 'weekend': 4767, '128168': 95, 'betta': 657, 'streets': 4173, 'hold': 2156, 'locked': 2713, 'college': 1105, 'military': 2907, 'different': 1382, 'story': 4167, 'ratchet': 3555, 'sniff': 3998, 'sosa': 4041, 'legit': 2623, 'watched': 4739, '40': 221, 'did': 1374, 'were': 4781, 'retarded': 3632, 'name': 3034, 'ideas': 2261, 'mr': 2997, 'thug': 4423, 'phone': 3327, '128542': 132, 'married': 2812, 'makes': 2785, 'haven': 2081, 'called': 889, 'soul': 4042, 'bored': 750, 'supposed': 4230, 'sometimes': 4025, 'mans': 2800, '128686': 164, 'treasure': 4504, '127942': 49, 'doubt': 1444, 'teeth': 4320, 'gold': 1952, 'chain': 964, 'cocaine': 1094, 'thots': 4400, 'across': 317, 'known': 2545, 'driver': 1474, 'lie': 2644, 'try': 4539, 'put': 3509, 'tryin': 4541, 'score': 3770, '128293': 104, 'landed': 2574, 'mouth': 2990, 'trevaughnlg': 4513, 'tht': 4421, 'huh': 2226, '128139': 81, 'redneck': 3585, 'distance': 1407, 'wack': 4695, 'knew': 2535, 'uh': 4598, '128120': 71, '128158': 91, 'ban': 572, 'pay': 3294, 'dollar': 1433, 'roses': 3687, 'blue': 718, 'sitting': 3928, 'window': 4848, 'tries': 4518, 'fly': 1781, 'peta': 3320, 'gon': 1955, 'entire': 1576, 'media': 2846, 'likely': 2656, 'mock': 2943, 'such': 4206, 'crybaby': 1232, 'shy': 3897, 'hi': 2124, 'smiles': 3983, 'cracker': 1199, 'soup': 4049, 'tim': 4436, 'already': 394, 'karma': 2469, 'tea': 4300, 'gym': 2032, 'al': 370, 'arrested': 476, 'turn': 4552, 'thts': 4422, 'abortion': 300, 'idntwearcondoms': 2266, 'argue': 463, 'weed': 4765, 'public': 3489, 'cops': 1167, 'run': 3704, 'watermelon': 4743, 'itscoleharmon_': 2357, 'rappers': 3551, 'links': 2673, 'loud': 2746, 'turns': 4555, 'jaimescudi_': 2374, 'tomorrow': 4461, 'barackobama': 583, 'pretending': 3455, 'lied': 2645, 'um': 4601, 'cheese': 1000, 'giving': 1933, 'ah': 355, 'reason': 3577, 'photo': 3329, 'sole': 4015, '128166': 94, 'baddest': 558, 'made': 2778, '128074': 60, '128555': 142, 'tweakin': 4563, '7th': 242, '128123': 72, 'spook': 4084, 'break': 791, 'neck': 3057, 'sorry': 4039, 'savage': 3743, 'pressed': 3452, 'oreos': 3234, 'lildurk_': 2662, 'nikki': 3108, 'screen': 3779, 'shot': 3880, 'asap': 482, 'shoot': 3873, 'sumn': 4221, 'frfr': 1834, 'passed': 3282, 'two': 4583, 'enjoy': 1570, 'metroadlib': 2875, 'colored': 1108, 'contacts': 1150, 'poonsoaker': 3409, 'smacking': 3968, 'period': 3313, 'lifes': 2650, 'die': 1377, 'high': 2129, 'neva': 3075, 'sister': 3923, 'perfect': 3311, 'feeling': 1704, 'pretty': 3456, 'easily': 1521, 'behind': 637, 'nip': 3113, 'chaplin': 979, 'history': 2145, 'sees': 3802, 'drake': 1455, 'cool': 1160, 'sure': 4231, 'news': 3079, 'broadcast': 815, 'retards': 3633, 'nbc': 3049, 'cnn': 1089, 'fox': 1818, 'etc': 1590, 'keeping': 2479, '128076': 62, 'cigarettes': 1044, 'rn': 3666, 'brownies': 829, 'kind': 2516, 'give': 1929, 'someone': 4022, 'hurt': 2244, 'yah': 4929, 'thang': 4344, 'slope': 3959, 'fit': 1751, 'gear': 1902, 'mate': 2821, 'action': 321, 'next': 3080, 'promise': 3475, 'expose': 1626, 'fucker': 1858, 'celebrity': 958, 'saw': 3749, 'walk': 4705, 'listen': 2679, 'childish': 1011, 'socass_': 4005, '00sexilexi00': 2, 'yasss': 4940, 'bestfriend': 655, 'remember': 3606, 'wop': 4888, 'omg': 3203, 'raw': 3560, 'french': 1831, 'nothin': 3144, 'free': 1827, 'write': 4914, 'panties': 3269, 'catch': 940, 'whole': 4823, 'hardcore': 2060, 'mac': 2774, 'water': 4742, 'fade': 1646, 'yours': 4976, 'rite': 3663, 'chase': 986, '128176': 99, '128111': 70, '58399': 230, 'stand': 4106, 'kno': 2537, 'job': 2416, 'become': 624, 'wodaeeex3': 4872, 'ainn': 366, 'feelings': 1705, 'dem': 1342, '9749': 260, 'albino': 374, '128034': 51, 'ordered': 3230, 'chinese': 1017, 'ate': 503, 'tacos': 4254, 'z0mbiedance': 4987, 'lunch': 2765, 'soon': 4033, 'gets': 1910, 'political': 3401, 'views': 4665, 'whores': 4826, 'keeps': 2480, 'devil': 1365, 'away': 532, 'children': 1012, 'street': 4172, 'sounds': 4048, 'word': 4889, 'else': 1554, 'wee': 4764, 'cunt': 1250, 'ex': 1608, 'isnt': 2349, 've': 4646, 'ive': 2367, 'moved': 2992, 'urself': 4632, 'few': 1720, 'brownie': 828, 'hotter': 2205, 'feelin': 1703, 'looks': 2729, 'ape': 450, 'yanks': 4934, 'dad': 1275, 'snapchat': 3994, '9996': 270, 'believe': 640, 'fall': 1660, 'songs': 4029, 'weeknd': 4768, 'alright': 395, 'dropped': 1478, 'song': 4028, 'download': 1447, 'cares': 927, 'foreign': 1805, 'clean': 1063, 'working': 4895, 'dragon': 1453, 'balls': 570, 'ability': 297, 'flappy': 1759, 'via': 4656, 'bear': 613, 'detroit': 1364, 'wigger': 4837, 'unless': 4619, 'heart': 2095, 'shows': 3894, 'lucky': 2763, 'uncle': 4604, 'account': 314, 'imma': 2296, 'great': 1991, 'grandmas': 1985, 'moms': 2956, 'grandpa': 1986, 'carl': 930, 'hey': 2121, 'found': 1816, 'ohio': 3192, 'draft': 1450, 'folks': 1792, 'war': 4721, 'hilarious': 2133, 'negro': 3064, 'dog': 1427, 'hillbilly': 2136, 'jesus': 2394, 'murphy': 3011, 'liquor': 2677, 'chief': 1008, 'beat': 616, 'chug': 1040, 'alot': 391, 'smack': 3967, 'tongue': 4464, 'jada': 2372, 'queen': 3516, 'riding': 3652, 'calling': 891, 'lady': 2564, 'bang': 578, 'heard': 2093, 'candy': 908, 'hope': 2189, 'ladies': 2563, 'names': 3036, 'williams': 4842, 'number': 3159, 'eatin': 1526, 'either': 1542, 'dreams': 1464, 'sold': 4013, 'sell': 3807, 'older': 3198, 'men': 2857, 'mature': 2827, 'fool': 1798, 'prolly': 3473, 'leave': 2608, 'cups': 1253, 'hand': 2045, 'tastes': 4284, 'wolf': 4875, 'myself': 3025, 'hair': 2038, 'dress': 1465, 'cop': 1166, '11': 28, 'went': 4780, 'flock': 1774, 'strike': 4181, 'dike': 1384, 'yg': 4963, 'younger': 4972, 'woke': 4874, 'sir': 3921, 'hard': 2059, 'slit': 3958, 'throat': 4413, 'funky': 1873, 'honkey': 2179, 'shout': 3885, 'macklemore': 2775, 'kfc': 2492, 'personality': 3318, 'ordering': 3231, 'goddamn': 1948, 'rose': 3686, 'yelling': 4953, 'middle': 2892, 'piss': 3355, 'wasting': 4736, 'teams': 4308, 'main': 2781, 'cinnamon': 1045, 'apple': 457, 'sick': 3900, 'fed': 1699, 'yet': 4962, 'pick': 3331, 'dig': 1383, 'kingl': 2523, 'hide': 2127, 'shorty': 3879, 'wizkhalifa': 4870, 'hands': 2049, 'room': 3683, 'starts': 4120, 'tie': 4429, 'anthem': 433, 'takes': 4261, 'accept': 310, 'larry': 2578, 'words': 4890, 'blind': 705, 'husband': 2247, 'cheated': 992, 'late': 2581, 'tag': 4256, 'dykes': 1508, 'hunter': 2238, 'dyke': 1507, 'julia': 2443, 'follow': 1793, 'mama': 2791, '8230': 252, 'davis': 1309, 'scientists': 3769, 'create': 1208, 'study': 4194, 'nips': 3116, 'babies': 547, 'correct': 1174, 'pimpin': 3348, 'pound': 3433, 'cake': 884, '233': 207, 'wat': 4737, 'van': 4645, 'je': 2388, 'leg': 2618, 'ik': 2281, 'until': 4622, 'plays': 3383, 'kirk': 2525, 'franklin': 1822, 'neighbors': 3067, 'grandma': 1984, 'porch': 3419, 'broken': 818, 'knowin': 2542, 'bra': 778, 'admit': 335, 'able': 298, 'since': 3914, 'loss': 2739, 'nomeek_justmilz': 3126, 'thought': 4404, 'yr': 4980, 'super': 4225, 'meanwhile': 2844, 'boats': 725, 'kendrick': 2482, 'lamar': 2570, 'gotten': 1973, 'base': 589, 'dying': 1506, 'race': 3528, 'pistol': 3359, 'whip': 4811, 'club': 1085, 'pierced': 3339, 'timeline': 4439, '128528': 122, 'belly': 642, '9994': 268, 'fan': 1671, 'justin': 2456, 'comment': 1121, 'million': 2909, 'incredible': 2310, 'necessary': 3056, 'chicken': 1006, 'selling': 3809, 'material': 2822, 'wishes': 4861, 'fast': 1681, 'cars': 933, 'tupac': 4550, 'smile': 3982, 'remix': 3610, 'aka': 369, 'rednecks': 3586, 'shall': 3843, 'thee': 4357, 'summer': 4220, 'shape': 3846, 'wigga': 4836, 'rag': 3534, 'florida': 1776, 'pussies': 3507, 'slow': 3962, 'classy': 1061, 'football': 1800, 'player': 3377, 'acts': 326, 'shove': 3887, 'fucks': 1861, 'dirt': 1390, 'finger': 1739, 'moves': 2993, 'plain': 3367, 'chunky': 1041, 'hearts': 2098, 'selfish': 3806, 'color': 1107, 'student': 4191, 'callin': 890, '127926': 46, 'sour': 4050, 'petty': 3322, 'bands': 576, 'saints': 3717, 'motherfuckers': 2985, 'leftover': 2617, 'eaten': 1525, 'broads': 816, 'represent': 3619, 'giant': 1918, 'antonio': 437, 'empty': 1562, 'latest': 2584, 'lookin': 2727, 'low': 2756, 'virgin': 4673, 'regular': 3596, 'luv': 2766, 'ole': 3199, 'titties': 4447, 'kkk': 2532, 'spam': 4058, 'pass': 3281, 'squad': 4094, 'jiggaboo': 2405, 'marriage': 2811, 'beyond': 663, 'seeing': 3798, 'walking': 4708, 'chris': 1031, 'six': 3930, 'green': 1994, 'evil': 1604, 'question': 3520, 'rough': 3689, 'days': 1313, 'cookies': 1158, 'burning': 863, '128155': 90, 'tryna': 4544, 'porn': 3420, 'shirt': 3862, 'feet': 1707, 'smell': 3977, 'puss': 3506, 'flowers': 1778, 'sentence': 3821, 'ended': 1565, 'gunna': 2024, 'spear': 4062, 'chucker': 1039, 'response': 3626, 'texts': 4339, 'pull': 3491, 'jake': 2375, 'hit': 2146, 'lights': 2652, 'bell': 641, 'morning': 2976, 'today': 4452, 'swerve': 4244, 'help': 2111, 'living': 2690, 'total': 4477, 'kick': 2495, 'lives': 2688, 'image': 2293, 'redskins': 3589, 'jokes': 2429, 'garden': 1892, 'pictures': 3336, 'flat': 1761, 'slut': 3964, 'cash': 937, 'stars': 4116, 'far': 1675, 'playing': 3380, 'ariana': 467, 'ayo': 540, 'handicapped': 2047, 'close': 1075, 'triple': 4523, 'freak': 1823, 'root': 3685, 'drama': 1456, 'johnson': 2424, 'save': 3746, 'watching': 4741, 'settle': 3829, 'hater': 2074, 'youtube': 4979, 'comments': 1122, 'hick': 2125, 'very': 4653, 'large': 2577, 'cus': 1264, 'luke': 2764, 'lilbthebasedgod': 2661, 'wasnt': 4731, 'id': 2258, 'deck': 1327, 'end': 1564, 'dip': 1389, 'keeper': 2478, 'rip': 3660, 'apart': 449, 'britney': 811, 'bright': 805, 'tags': 4257, 'studio': 4193, 'crib': 1214, 'skin': 3934, 'assuming': 499, 'bodies': 729, 'lord': 2731, 'poor': 3411, 'whitey': 4819, 'bros': 821, 'naa': 3027, 'nae': 3028, 'kardashian': 2466, 'shaped': 3847, 'mini': 2918, 'fridge': 1836, 'twat': 4561, 'pipe': 3353, '160': 173, 'wth': 4919, 'moment': 2953, 'windows': 4849, 'sideline': 3902, 'facebook': 1640, 'any': 439, 'campus': 902, 'fa': 1636, 'blowin': 715, 'tl': 4449, 'leavin': 2610, 'fun': 1870, 'wilson': 4845, 'feels': 1706, 'rain': 3535, 'enough': 1572, 'wash': 4725, 'teabagger': 4301, 'state': 4121, 'tcot': 4297, 'teaparty': 4309, 'retweets': 3637, 'wet': 4787, 'obama': 3171, 'community': 1126, 'syria': 4248, 'aren': 462, 'rangel': 3545, 'bob': 726, 'breaking': 793, 'ap': 448, 'mass': 2816, 'governor': 1976, 'baker': 564, 'wcvb': 4750, 'online': 3211, 'fruit': 1849, 'becomes': 625, 'bar': 582, 'under': 4606, 'gop': 1964, 'pure': 3499, 'passion': 3284, 'blessjesus': 703, 'amos': 408, 'except': 1611, 'agreed': 354, 'justice': 2455, 'court': 1189, 'truth': 4538, 'crown': 1225, '26': 211, 'air': 368, 'father': 1684, '65': 236, '28': 213, 'aunt': 518, 'mary': 2815, 'diet': 1380, 'bean': 608, 'bag': 560, 'rounds': 3691, 'hurts': 2246, 'california': 887, 'phones': 3328, 'quit': 3524, 'whining': 4809, 'muslim': 3013, 'kissing': 2529, 'otherwise': 3242, 'actor': 325, 'crack': 1197, 'non': 3129, 'allowed': 386, 'penis': 3304, 'boobs': 739, 'easier': 1520, 'losing': 2738, 'self': 3803, 'degenerateartist': 1337, 'blessed': 702, 'fake': 1659, 'card': 920, 'expect': 1619, 'demand': 1343, 'child': 1010, 'yard': 4935, 'questions': 3521, 'turd': 4551, 'bo': 722, 'swing': 4245, 'flick': 1767, 'alarm': 373, 'fire': 1744, 'downtown': 1448, 'hairy': 2040, 'scary': 3762, 'sense': 3818, 'outside': 3247, 'dawn': 1311, 'city': 1050, 'ebola': 1529, 'flu': 1780, 'dies': 1379, 'teabaggers': 4302, 'tail': 4258, 'earth': 1519, 'dayum': 1314, 'attention': 512, 'worse': 4903, 'jig': 2403, 'royals': 3693, 'october': 3176, 'trending': 4511, 'montana': 2962, 'mo': 2939, 'glory': 1940, 'wanted': 4717, 'glizzy': 1938, 'tha': 4342, 'injuns': 2315, 'mess': 2867, 'huffingtonpost': 2222, 'pumpkin': 3494, 'spice': 4072, 'opening': 3221, 'serving': 3827, 'upon': 4625, 'given': 1930, 'instead': 2324, 'others': 3241, 'cruz': 1230, 'lee': 2614, 'exist': 1616, 'iu': 2364, 'champions': 969, 'hoosiers': 2187, 'cooler': 1161, 'international': 2329, 'students': 4192, 'jk': 2413, 'lesbian': 2629, 'band': 575, 'played': 3376, 'sports': 4086, '6th': 238, 'grade': 1979, 'didnt': 1376, 'queens': 3517, 'biden': 666, 'loves': 2753, 'dust': 1502, 'liberals': 2642, 'iraq': 2339, 'gov': 1974, 'handed': 2046, 'defeat': 1332, 'isis': 2346, '300': 218, 'jihadis': 2407, 'killed': 2508, '128073': 59, 'smco71': 3974, 'offer': 3182, 'lingo': 2671, 'a1': 293, 'niccas': 3083, 'tryn': 4543, 'calm': 895, 'average': 524, 'ill': 2284, 'makin': 2787, 'plate': 3374, 'spanish': 4059, 'dressing': 1468, 'slutty': 3966, 'fob': 1786, 'celebrate': 957, 'billion': 673, 'once': 3208, 'yer': 4957, 'wiggers': 4838, 'nowplaying': 3154, 'bt': 835, 'radio': 3533, 'twice': 4573, 'ian': 2255, 'wasp': 4732, 'texas': 4334, 'whipped': 4812, 'putting': 3511, 'ring': 3658, 'hundred': 2234, 'niqqa': 3117, 'whos': 4827, 'taking': 4263, 'tickets': 4428, 'road': 3668, 'continue': 1151, 'iubb': 2365, 'finished': 1742, 'nba': 3048, 'pacers': 3258, 'indiana': 2311, 'though': 4403, 'breast': 795, 'feed': 1701, 'nipple': 3114, '128534': 127, 'usually': 4640, 'mocks': 2945, 'politics': 3402, 'talkin': 4269, 'smashed': 3973, 'homies': 2174, 'sucking': 4212, 'focus': 1787, 'actual': 327, 'lab': 2558, 'natural': 3043, 'redsox': 3590, 'knocked': 2539, 'teen': 4318, 'years': 4948, 'ready': 3567, 'sweep': 4241, 'lose': 2735, 'midnight': 2893, 'shoutout': 3886, 'salute': 3724, 'exit': 1617, '47': 224, 'niggahs': 3094, 'telling': 4324, 'capotoheaven': 916, 'soda': 4010, 'ay': 538, 'benny_balboa': 650, 'west': 4783, 'reported': 3617, 'orange': 3228, 'county': 1186, 'carrying': 932, 'tbt': 4296, 'ling': 2669, '128152': 88, 'david': 1308, 'scandal': 3758, 'toe': 4455, 'wall': 4710, 'hurricane': 2242, 'moan': 2940, '100': 7, 'deez': 1330, 'half': 2041, 'dump': 1499, '128520': 114, 'zimmerman': 4992, 'creepy': 1212, 'spic': 4071, 'virginia': 4674, 'usa': 4634, 'border': 749, 'americans': 407, 'butter': 875, 'wasted': 4735, 'four': 1817, 'points': 3397, 'scale': 3756, 'shave': 3851, '2015': 199, 'jeter': 2396, 'inning': 2317, 'sec': 3791, 'astros': 500, 'series': 3823, 'price': 3458, 'yankee': 4932, 'killing': 2511, 'douche': 1445, 'joe': 2418, 'complaining': 1131, 'showed': 3890, 'flex': 1765, 'zone': 4996, 'earned': 1517, '2010': 196, 'upper': 4626, 'lower': 2757, 'strength': 4174, 'hmm': 2150, 'hr': 2215, 'sale': 3720, 'tanaka': 4278, 'rest': 3627, 'bounce': 764, 'michael': 2886, 'kay': 2472, 'needed': 3061, 'mlb': 2935, 'winning': 4854, 'three': 4410, 'games': 1888, 'building': 847, 'possible': 3425, 'vote': 4689, 'proud': 3482, 'la': 2557, 'trees': 4509, 'weather': 4760, 'horrible': 2195, 'local': 2710, 'boom': 742, 'washington': 4728, 'space': 4056, '80': 243, 'leaving': 2611, 'horse': 2197, 'hello': 2110, 'ahead': 358, 'yourself': 4977, 'pockets': 3394, 'cancer': 906, 'foxnews': 1819, 'cuts': 1269, 'democrat': 1344, 'talks': 4272, 'fair': 1655, 'network': 3073, 'liars': 2639, 'mt': 3004, 'peace': 3298, 'wishing': 4862, 'anyone': 442, 'famous': 1669, 'family': 1668, 'hanging': 2053, 'ncaa': 3051, 'champ': 966, 'totally': 4478, 'metal': 2874, 'honkies': 2181, 'wetback': 4788, 'ca': 883, 'morningjoe': 2978, 'emotions': 1561, 'damned': 1285, 'vinyl': 4672, '127849': 39, 'witcha': 4865, 'ona': 3207, 'plastic': 3373, 'niggaz': 3096, 'android': 416, 'iphone': 2338, 'xxx': 4926, 'anal': 413, 'part': 3278, 'british': 810, 'brazilian': 788, 'babe': 545, 'ebony': 1530, 'beach': 607, 'caught': 945, 'rubbing': 3697, 'nude': 3157, 'tits': 4446, 'closeup': 1079, 'asshole': 495, 'milf': 2906, 'beauty': 621, 'japanese': 2382, 'spicy': 4073, 'oriental': 3235, 'un': 4603, 'deep': 1329, 'wild': 4840, 'whore': 4825, 'fisting': 1750, 'loose': 2730, 'cream': 1207, '21': 203, 'fingers': 1740, 'dildo': 1385, 'homemade': 2171, 'italian': 2354, 'latina': 2585, 'lingerie': 2670, 'cock': 1095, 'small': 3969, 'teens': 4319, 'toy': 4487, 'silver': 3910, '8211': 245, 'xbox': 4924, 'realtalk': 3576, 'truck': 4531, 'rejectedpeanutsspecials': 3597, 'graduation': 1980, 'rate': 3556, '50': 227, 'president': 3450, 'standing': 4109, 'precious': 3446, 'gook': 1963, 'rapping': 3552, 'mississippi': 2928, 'wage': 4698, 'laws': 2594, 'unions': 4617, 'pro': 3465, 'slavery': 3945, 'drinking': 1470, 'loving': 2755, 'vegas': 4647, 'everytime': 1602, 'kitchen': 2530, 'sing': 3915, 'rock': 3672, 'date': 1299, 'bud': 842, 'tn': 4450, 'plus': 3389, 'trip': 4522, 'visit': 4678, 'st': 4098, '60': 233, 'killer': 2509, 'josh': 2432, 'smith': 3985, '127850': 40, 'salad': 3719, 'vianawf': 4657, '127867': 41, '128153': 89, 'crow': 1223, 'seat': 3788, '128184': 101, 'worm': 4900, 'lotta': 2743, 'fck': 1693, 'shooting': 3874, 'orleans': 3237, '128072': 58, 'coon': 1164, 'grew': 1996, 'coons': 1165, 'paying': 3297, 'yep': 4956, 'officiallyice': 3186, 'pr3ttyn33': 3439, 'tom': 4460, 'mark': 2808, 'treated': 4506, '128077': 63, 'sh': 3837, 'laugh': 2587, 'congrats': 1141, 'turned': 4553, 'housewife': 2209, 'shitty': 3869, 'singing': 3916, '128149': 87, '3rd': 220, 'needa': 3060, 'ogbeard': 3189, 'followed': 1794, 'yassss': 4941, 'hop': 2188, '128513': 108, '128131': 77, 'trap': 4499, 'ugh': 4595, 'simply': 3912, 'flawless': 1763, 'short': 3877, '127806': 34, '128165': 93, '128162': 92, '128523': 117, 'important': 2301, 'bullshit': 853, 'lies': 2646, 'rude': 3698, 'worth': 4905, 'mimi': 2911, 'covering': 1193, 'theonlyreed': 4368, 'lean': 2601, 'jusdahl': 2450, 'boring': 751, 'nope': 3134, 'hittin': 2148, 'course': 1188, 'dmv': 1417, 'stomach': 4158, 'pain': 3262, 'yu': 4982, 'pose': 3421, 'vonshayeb': 4686, 'rid': 3648, 'legend': 2621, 'mike': 2898, 'sending': 3814, 'texting': 4338, 'thot': 4398, 'whites': 4818, 'sayin': 3751, 'cookie': 1157, 'a2dao': 294, 'mistake': 2929, 'burnt': 864, 'challenge': 965, 'callneeshcakey': 893, 'shady': 3840, 'tu': 4546, 'rookie': 3682, 'trying': 4542, 'relax': 3602, 'light': 2651, 'brittany': 812, '128569': 150, 'itsnotharold': 2363, 'sellin': 3808, '128561': 145, 'assume': 498, 'laid': 2567, 'kfromtheg': 2493, 'silly': 3909, 'cheap': 989, 'dresses': 1467, '48': 225, 'burn': 862, 'bank': 579, 'stadium': 4101, 'kinda': 2517, 'buying': 880, 'isell_pussy4ebt': 2344, 'bucket': 839, 'sons': 4031, 'honestly': 2177, '128518': 113, 'leash': 2605, 'snap': 3993, 'bffl': 665, 'faded': 1647, '128521': 115, 'drawing': 1459, 'changes': 975, '128532': 125, '11wdnick': 29, 'worked': 4894, 'dinner': 1388, '128556': 143, 'nap': 3037, 'tripping': 4527, '128539': 129, 'honkie': 2180, '128583': 154, '128582': 153, '128543': 133, 'wave': 4744, 'wearing': 4758, 'bat': 599, 'dicks': 1373, 'kinghov1313': 2521, 'bouta': 767, 'delete': 1340, 'yass': 4939, 'vikkinosecrets': 4666, 'wake': 4703, 'kinghorsedick': 2520, 'welp': 4777, 'science': 3768, 'beats': 619, 'step': 4137, 'messing': 2871, 'bm': 721, 'miserable': 2923, 'til': 4434, 'claims': 1054, 'boyfriend': 774, 'sink': 3919, 'min': 2912, 'silence': 3908, 'vodka': 4682, 'strip': 4183, 'mall': 2790, 'built': 848, 'trusted': 4536, 'answers': 431, 'genius': 1905, 'class': 1058, 'el': 1543, '225': 205, 'de': 1316, 'jap': 2381, '243': 209, '176': 179, 'satan': 3737, 'project': 3472, 'harvard': 2067, '8216': 247, 'chillin': 1014, 'rapper': 3550, 'east': 1522, 'unfollow': 4611, 'fired': 1745, 'tweeted': 4566, 'paid': 3261, 'dollars': 1434, 'smash': 3972, 'curb': 1254, '128567': 149, 'uce_ina': 4594, 'ears': 1518, 'breath': 796, 'attitude': 513, '44binko': 222, 'hook': 2186, 'homeless': 2170, 'sleeping': 3951, 'box': 771, 'bubble': 837, 'system': 4249, 'minute': 2920, 'fasho': 1680, 'lmfaooooo': 2704, 'ac_hussle': 308, 'sluts': 3965, 'freshman': 1833, 'coat': 1093, 'warm': 4722, 'himself': 2138, 'wagggggie': 4699, '128170': 97, 'abstractlife': 305, 'alex': 379, 'sat': 3736, 'spot': 4088, 'attempt': 510, 'stone': 4159, 'awkward': 536, 'awesome': 534, 'tank': 4279, '128522': 116, 'ion': 2334, 'dee': 1328, 'kidding': 2500, 'anthonycumia': 435, 'fail': 1652, 'pics': 3334, 'coloreds': 1109, 'joke': 2428, 'waste': 4734, 'alcohol': 376, 'raise': 3536, 'shark': 3850, 'fish': 1747, 'named': 3035, 'anaconda': 412, 'none': 3130, 'goals': 1945, 'hun': 2233, '128107': 68, '128141': 82, '1017_sqquad': 13, 'toddie_soplayer': 4454, 'smdh': 3976, 'giants': 1919, 'dance': 1286, 'suppose': 4229, 'loved': 2750, 'boston': 757, 'basedchasen': 593, 'chad': 963, 'zebra': 4989, 'print': 3462, 'sheets': 3856, 'ginasanabria_': 1922, 'throwing': 4417, 'irrelevant': 2341, 'shade': 3838, 'deleted': 1341, 'store': 4165, 'themselves': 4364, 'foreal': 1803, 'boosie': 744, 'rape': 3548, 'recognize': 3582, 'original': 3236, 'ily': 2288, 'difference': 1381, 'vsamone': 4693, 'church': 1042, 'absolutely': 304, 'police': 3400, 'king': 2518, 'eva': 1592, 'rice': 3644, 'hurting': 2245, 'africa': 345, 'bananas': 574, 'hole': 2160, 'bossman_carl': 756, 'desperate': 1362, 'listening': 2680, 'keef': 2476, 'what_evaittakes': 4792, 'filled': 1730, 'breadtruckkbri': 790, 'fo': 1784, 'folk': 1791, 'trynna': 4545, 'officially': 3185, 'washed': 4726, 'neither': 3068, 'flight': 1768, 'tweaking': 4564, 'messy': 2872, 'nbs': 3050, 'faces': 1642, 'wantin': 4718, 'tiny': 4441, 'derek': 1354, 'consider': 1145, 'caymarieee': 950, 'whereyohussleat': 4804, 'mfs': 2881, 'shyt': 3899, 'happened': 2055, 'beer': 631, 'build': 846, 'a_mitchellll13': 295, 'seriously': 3825, 'brandon': 786, 'motherfucking': 2987, 'waka': 4702, 'ctfu': 1236, 'slide': 3954, 'dms': 1416, 'male': 2789, 'ciscoallday': 1048, '1bcarter': 185, 'avoid': 526, 'support': 4227, 'chicks': 1007, 'heat': 2099, 'bandwagon': 577, 'juicy': 2442, 'js': 2437, 'pants': 3270, 'grinding': 2000, 'seem': 3799, 'corny': 1173, 'vines': 4670, 'voices': 4685, 'available': 523, 'ham': 2044, 'drafts': 1452, 'agree': 353, 'illegal': 2285, 'wetbacks': 4789, 'wana': 4714, 'return': 3634, 'djzeeti': 1414, 'buy': 879, 'hat': 2071, 'forgot': 1809, 'park': 3276, 'driving': 1476, 'stick': 4148, 'brady': 779, 'slowly': 3963, 'weapons': 4754, 'goin': 1950, '10071': 11, 'drtruth247': 1483, 'bare': 586, 'dnt': 1418, 'spent': 4070, 'afraid': 344, 'traded': 4492, 'negative': 3063, 'davethebrave1': 1307, 'thinks': 4390, 'stealing': 4134, 'wassup': 4733, 'buddy': 844, 'normal': 3137, 'ads': 338, 'cleveland': 1068, 'dusty': 1503, 'asf': 483, 'train': 4495, 'extra': 1629, 'drummerkid0328': 1486, 'gives': 1931, 'lmfaoo': 2701, 'dej': 1339, 'loaf': 2709, 'juice': 2441, 'edgarguillenjr': 1532, 'blakeanderson21': 695, 'dalton_ryann': 1280, 'tool': 4471, 'west305': 4784, 'whoop': 4824, 'erikaj00': 1585, 'scratch': 3773, 'private': 3464, 'killin': 2510, 'fredosantana300': 1826, 'rap': 3547, 'fabianmleal': 1638, 'ending': 1566, 'raised': 3537, 'opinion': 3223, 'huge': 2224, 'mental': 2858, 'dallas': 1279, 'freddiegibbs': 1825, 'friendlyassh0le': 1840, 'lightskin': 2653, 'mf': 2880, 'lmfaooo': 2702, 'ight': 2274, 'wut': 4922, 'aux': 522, 'cord': 1169, 'thekaosyatti': 4360, 'nigguh': 3100, 'beyonce': 662, 'problem': 3467, 'mermaid': 2865, 'obviously': 3174, 'dre': 1460, 'dogs': 1428, 'smells': 3978, 'block': 707, '10084': 12, 'glitteredinpink': 1937, 'treslyon': 4512, 'baltimore': 571, 'cavs': 949, 'studying': 4195, 'offended': 3180, '128541': 131, 'fml': 1783, 'homecoming': 2168, 'hating': 2078, 'golden': 1953, 'basically': 595, 'circles': 1047, 'ego': 1540, 'highclasscapri': 2130, 'definitely': 1335, '127814': 36, 'hurry': 2243, 'yesss': 4960, 'mother': 2983, 'cole': 1103, 'ooh': 3215, 'learn': 2603, 'spell': 4067, 'favorites': 1691, 'thirsty': 4393, '9986': 266, 'canadian': 904, 'hoser': 2200, 'imtoblame': 2304, 'jay': 2386, 'funniest': 1874, 'des': 1356, 'nuts': 3163, 'ahh': 359, 'boutta': 768, '100046729': 10, 'common': 1125, 'thompson_era': 4396, 'died': 1378, '45': 223, 'dave': 1305, 'signed': 3905, 'liking': 2658, 'beanies': 611, 'flag': 1758, 'zip': 4993, 'jergucci': 2391, 'mvp': 3022, 'thru': 4420, 'lip': 2674, 'juanndacut': 2438, 'learned': 2604, 'attitudes': 514, 'justkarahn': 2459, 'yess': 4959, 'honey': 2178, 'pillow': 3344, 'majority': 2783, 'arguing': 464, 'alotta': 392, 'kaycimalynn': 2473, 'kush': 2554, 'blunt': 719, 'minded': 2915, 'brah': 782, 'wiz': 4869, 'howard': 2213, 'bosh': 754, 'blocked': 708, 'clingy': 1072, 'girlfriends': 1926, '128143': 84, 'lying': 2770, 'brooklyn': 820, 'yung': 4984, 'lmaoooo': 2696, 'leelucas_': 2615, 'nomo': 3127, 'ed': 1531, 'essay': 1588, 'een': 1535, 'disrespectful': 1404, 'term': 4328, '128546': 136, 'leslieeeixta': 2630, 'mi': 2882, 'vintage_monroe_': 4671, 'justdoitslow': 2453, 'lilreese300': 2665, 'heads': 2090, 'figured': 1727, 'arms': 472, 'cuddle': 1241, 'ahaha': 357, 'az': 541, 'purpose': 3502, 'resting': 3629, 'marcus': 2805, 'google': 1962, 'pops': 3417, 'autocorrect': 520, 'deserved': 1359, 'foul': 1815, '128133': 78, '12': 30, 'starburst': 4114, 'yellows': 4955, 'lay': 2595, 'mostly': 2982, 'leggings': 2622, 'guilty': 2020, 'marlin_fishyass': 2810, 'somethin': 4023, 'acting': 320, 'treat': 4505, 'polo': 3404, 'satisfied_x': 3738, 'reality': 3570, 'mikediggem': 2900, 'door': 1440, 'final': 1734, 'walkin': 4707, 'daily': 1278, 'stories': 4166, 'morgansmith_20': 2974, 'preach': 3445, 'sounded': 4046, 'slim': 3955, 'innocent': 2318, 'pot': 3430, 'dreaming': 1463, 'amanda': 402, 'fizz': 1757, 'switch': 4246, 'hype': 2249, 'bread': 789, 'playoffs': 3382, 'splash': 4078, 'daughter': 1303, 'activities': 324, 'pet': 3319, 'haters': 2075, 'dare': 1291, 'mckinley719': 2836, 'ways': 4748, 'brianlovesass_': 803, 'letter': 2635, 'weren': 4782, 'spongebob': 4083, 'count': 1182, 'automatically': 521, 'troll': 4528, 'darkskin': 1296, 'fashion': 1679, 'urban': 4630, 'stolen': 4157, 'holla': 2163, 'ugliest': 4596, 'titty': 4448, 'blow': 714, 'busted': 870, '128552': 139, 'iont': 2335, 'residinero': 3622, 'bruhhh': 832, 'express': 1628, 'nosey': 3140, 'guns': 2025, 'beef': 628, 'den': 1349, 'comes': 1117, 'backs': 553, '128169': 96, '35': 219, 'breed': 798, 'poppin': 3415, 'ray': 3561, 'ago': 352, 'jam': 2376, 'bitchin': 684, 'shawty': 3853, 'textin': 4337, 'accidentally': 312, 'goes': 1949, 'lolz': 2720, 'bite': 687, 'sexualgif': 3834, 'coolest': 1162, 'milk': 2908, '187xo_': 183, 'wifey': 4834, 'fear': 1695, 'sooooo': 4036, '18': 180, 'gimme': 1921, 'award': 529, 'sam': 3725, 'southsidevic': 4053, 'freaky': 1824, 'condoms': 1138, 'kept': 2485, 'almost': 388, 'yrs': 4981, 'fckn': 1694, 'stevestfler': 4142, 'whiny': 4810, 'jealous': 2389, '127797': 33, 'subtweet': 4203, 'havin': 2083, 'sittin': 3927, 'felt': 1711, 'town': 4486, 'classes': 1059, 'westsideflee': 4786, 't_flye': 4250, 'cali': 886, 'taecocky': 4255, 'sisters': 3924, 'crash': 1203, 'nut': 3162, 'shopping': 3876, 'practice': 3440, 'snow': 4001, 'typical': 4590, 'bunny': 860, 'ice': 2256, 'sip': 3920, 'smoking': 3989, 'yas': 4938, 'clothing': 1081, '20': 194, 'adam': 330, 'jones': 2430, 'lead': 2598, 'savanigga': 3745, 'lover': 2752, 'fell': 1708, 'draw': 1458, 'clothes': 1080, 'miami': 2884, 'brain': 783, 'tryhardsilva': 4540, 'weezy': 4771, 'verse': 4651, 'diamond': 1370, '07cannon': 5, 'goofy': 1961, 'viridoesitt': 4676, 'tylar____': 4586, 'wins': 4855, 'thanksgiving': 4347, 'pats': 3290, 'thoughts': 4405, 'crush': 1228, '128078': 64, 'weight': 4772, 'jerk': 2392, 'whattheffacts': 4796, 'interview': 2331, 'worldstarfunny': 4899, 'ilovebamf': 2287, 'anyways': 446, '2nd': 216, '4th': 226, 'gas': 1894, 'speak': 4060, 'shittin': 3867, 'hos': 2199, 'cotton': 1177, '127944': 50, '_beautifulkeezy': 276, 'order': 3229, 'ignoring': 2279, '_bucketsmcnasty': 277, 'point': 3395, '8212': 246, 'thottie': 4401, 'chat': 988, 'lock': 2712, 'boyfriends': 775, 'vegetables': 4648, 'potato': 3431, '_perarl': 283, 'stunt': 4198, 'purge': 3500, 'hunting': 2241, 'classic': 1060, 'trippin': 4526, '128221': 102, '127882': 43, '127881': 42, 'clock': 1074, 'hour': 2206, 'wreck': 4913, 'following': 1796, 'rant': 3546, 'azz': 542, 'boi': 731, '__tharealist': 275, 'dream': 1462, 'bitty': 689, 'charge': 981, 'turnt': 4556, 'jigg': 2404, 'sent': 3820, 'peep': 3301, 'against': 350, 'backwards': 554, 'fb': 1692, 'nicer': 3085, 'ahhh': 360, '128516': 111, 'valentines': 4643, 'boa': 723, 'trippen': 4525, 'wonderful': 4880, 'surprised': 4234, 'diss': 1406, 'niglet': 3104, 'greg': 1995, 'hatin': 2077, 'anti': 436, 'slip': 3956, 'basketball': 596, '127936': 48, 'grow': 2006, 'scrappy': 3772, 'whattheflocka': 4797, 'morbidmermaid': 2971, 'bbluedreamm': 602, 'depressed': 1353, 'na': 3026, 'bless': 701, 'atl': 504, 'turnup': 4558, 'fights': 1725, 'bonnoxxx': 737, 'level': 2637, 'lemme': 2625, 'letting': 2636, 'gross': 2002, 'cb_marie': 951, 'koleworld4': 2551, 'dumbass': 1498, 'sarcastic': 3735, 'chrisbrown': 1032, 'secret': 3794, 'puff': 3490, 'paint': 3263, '9757': 261, 'popping': 3416, 'sport': 4085, 'trigger': 4520, 'table': 4252, 'manners': 2797, 'sloppy': 3961, 'daijahshardaee': 1277, 'whoever': 4822, 'counts': 1185, 'dates': 1300, 'appreciate': 459, 'age': 351, '25': 210, 'idgaf': 2263, 'matching': 2820, 'tear': 4311, 'pineapples': 3350, 'stairs': 4103, 'fabbymichelle': 1637, 'ms': 3001, 'brian': 802, '128548': 137, 'fav': 1687, 'purse': 3503, 'tx': 4584, 'uniform': 4616, 'epic': 1577, 'mj': 2933, 'matter': 2825, 'divorced': 1410, 'cocky': 1096, 'twitpic': 4581, 'selfie': 3804, 'proven': 3484, 'shocked': 3870, 'album': 375, 'crime': 1216, 'solo': 4018, 'reward': 3641, 'homo': 2175, 'breakfast': 792, 'doc': 1420, 'anywhere': 447, 'itsdesha__': 2358, '128589': 158, 'aids': 363, 'bit': 681, 'statement': 4122, 'strap': 4171, 'freemolly_': 1829, 'square': 4096, 'wind': 4847, 'talm': 4275, 'spread': 4090, 'earn': 1516, 'joytooawesome': 2434, 'justinbieber': 2457, 'written': 4915, 'bow': 769, 'blast': 699, '128070': 57, 'boot': 745, 'kincade00': 2515, 'rico': 3647, 'biggest': 670, 'hollywood': 2164, 'dislike': 1402, 'nicki': 3088, 'minaj': 2913, 'comfortable': 1118, '128551': 138, 'gut': 2028, 'im_yung_jay': 2291, 'emojis': 1559, 'trusting': 4537, 'nooo': 3132, 'book': 740, 'twins': 4577, 'glasses': 1936, 'insane': 2319, 'lifeof_brandon': 2649, 'grown': 2008, 'lilduval': 2663, '70': 239, 'master': 2818, 'value': 4644, 'youre': 4975, '9829': 264, 'insult': 2325, 'evanbecker513': 1593, 'miilkkk': 2897, 'literally': 2682, 'wen': 4778, 'hardly': 2062, 'harry': 2065, 'tbh': 4295, 'months': 2964, 'website': 4762, 'boon': 743, 'dryer': 1490, 'nvm': 3165, 'group': 2004, 'undercover': 4607, 'feds': 1700, 'rihanna': 3654, 'closet': 1078, 'nerve': 3071, 'hang': 2051, 'fleek': 1764, 'hugs': 2225, 'shine': 3859, 'bathroom': 600, '1waynostra': 193, 'paper_chaysin': 3272, 'association': 497, 'taken': 4260, 'sorryimalex': 4040, 'vote5sos': 4690, 'idea': 2260, 'souljaboy': 4044, 'kmichelle': 2533, 'dumpster': 1500, 'michelle': 2887, 'farm': 1677, 'meal': 2839, 'tweeting': 4568, 'handsome': 2050, 'tend': 4327, 'keys': 2490, 'anytime': 444, 'netflix': 3072, 'chuck': 1038, 'fest': 1718, 'stage': 4102, 'stepping': 4139, 'unfollowed': 4612, 'atleast': 506, 'pizza': 3363, 'books': 741, 'mommy': 2955, 'issue': 2351, 'trouble': 4530, 'honest': 2176, 'salty': 3723, 'bills': 674, 'frozen': 1848, 'vivaalakatyy': 4680, 'punched': 3496, 'accident': 311, 'crap': 1202, 'tax': 4290, 'jew': 2399, 'doctors': 1422, 'coast': 1092, 'sweetest': 4243, 'bone': 735, 'raped': 3549, 'benz': 651, 'stress': 4175, 'rns': 3667, 'zooyorkinit': 4998, 'nikes': 3107, 'mic': 2885, 'safe': 3715, 'coffee': 1100, 'humor': 2232, '9733': 259, 'massage': 2817, 'rated': 3557, 'spa': 4055, '718': 240, '622': 234, '0221': 3, 'grand': 1983, 'fw': 1880, 'traffic': 4493, 'understood': 4609, 'fucken': 1857, 'jeans': 2390, 'negros': 3065, 'pulling': 3493, 'timbs': 4437, 'walmart': 4712, 'ron': 3681, 'social': 4007, 'aside': 486, '1043358': 26, '1043215': 22, 'mee': 2849, '1041185': 14, '1041240': 20, '1041219': 19, 'soo': 4032, '1041204': 17, '1041196': 16, 'august': 517, 'alsina': 397, '1043323': 24, '1043291': 23, 'stressful': 4177, 'stopped': 4164, 'defense': 1334, 'entertain': 1574, 'friendly': 1839, 'swag': 4236, 'killa': 2506, '1043359': 27, '1041191': 15, '1041636': 21, 'bein': 638, 'mentality': 2859, 'ina': 2306, 'cherry': 1002, 'vet': 4654, 'sooo': 4034, 'changed': 974, 'proof': 3476, 'cost': 1175, '99': 265, 'hmu': 2151, 'jack': 2369, 'ninja': 3111, 'turtle': 4559, 'leo': 2626, 'makeup': 2786, 'bust': 869, 'mission': 2927, 'std': 4130, 'owe': 3252, 'loyalty': 2760, 'rat': 3554, 'boo': 738, 'answer': 429, 'bike': 671, 'profile': 3470, 'doin': 1429, 'mann': 2796, 'asses': 494, 'blood': 712, 'shits': 3866, 'cryin': 1233, 'stressin': 4178, '1043351': 25, 'askin': 489, 'ridin': 3651, 'royal': 3692, 'steady': 4131, 'lovin': 2754, 'gossip': 1968, 'secrets': 3795, 'attractive': 515, 'mins': 2919, 'added': 332, 'grab': 1977, 'trey': 4514, 'hangin': 2052, 'mid': 2891, 'deserve': 1358, 'runnin': 3705, '2k': 215, 'ko': 2549, '1041210': 18, 'jackson': 2371, 'thirst': 4392, 'models': 2947, 'tats': 4285, 'wifi': 4835, 'happiness': 2057, 'tall': 4273, 'touchdown': 4480, 'watchin': 4740, 'awards': 530, 'form': 1810, 'attack': 508, 'ad': 329, '000': 1, 'gays': 1900, 'scene': 3763, 'parents': 3275, 'instagram': 2323, 'message': 2868, 'con': 1135, 'members': 2854, 'china': 1016, 'conservatives': 1144, 'com': 1113, 'krislisisms': 2553, 'james': 2379, 'sings': 3918, 'idoclyfe': 2267, 'afterwards': 348, 'karate': 2465, '128226': 103, 'argument': 465, 'era': 1582, 'passing': 3283, 'wus': 4920, 'puts': 3510, 'scrolling': 3781, 'touch': 4479, 'squak': 4095, 'accounts': 315, 'crackers': 1200, 'gun': 2023, 'rule': 3702, 'maxin_betha': 2829, 'humbltonbanks': 2231, 'socks': 4009, 'general': 1903, 'gift': 1920, 'tumblr': 4548, 'thugs': 4424, 'flavored': 1762, 'amber': 404, 'motherfucker': 2984, 'worthless': 4906, 'zebras': 4990, 'buckm00se': 840, 'buck': 838, 'minutes': 2921, 'adult': 339, 'effect': 1536, 'offensive': 3181, 'punk': 3498, 'speaking': 4061, 'election': 1547, 'human': 2228, 'qaeda': 3512, 'market': 2809, 'faster': 1682, 'stock': 4154, 'however': 2214, 'completely': 1133, 'armed': 471, 'country': 1184, 'pac': 3256, '1000': 8, 'finish': 1741, 'lonely': 2721, 'runs': 3707, 'crossed': 1222, 'eyed': 1633, 'loaded': 2708, 'evolved': 1605, 'meaning': 2841, 'christmas': 1035, 'mile': 2902, 'philly': 3326, 'dc': 1315, 'mil': 2901, 'dez': 1368, '19': 184, 'arizona': 469, 'nobeeetch': 3121, 'blocking': 709, 'ferguson': 1717, '13': 166, '22': 204, 'eggs': 1539, 'prison': 3463, 'pollo': 3403, 'faced': 1641, 'starting': 4119, '2013': 197, '20k': 201, 'drivers': 1475, '171': 178, 'address': 334, 'guard': 2016, 'dealing': 1319, 'wid': 4831, 'understand': 4608, 'michigan': 2889, 'dey': 1367, 'outchea': 3245, 'heels': 2103, '8419': 254, 'drop': 1477, 'chips': 1022, 'screaming': 3777, 'awake': 528, 'yay': 4943, 'bull': 849, 'hopefully': 2190, 'wheel': 4799, '5sos': 231, 'hockey': 2153, 'fugly': 1865, 'prude': 3486, 'match': 2819, 'pounds': 3434, 'fails': 1654, 'relate': 3598, 'lesson': 2632, 'generation': 1904, 'hs': 2216, '16': 172, '14': 167, 'species': 4064, 'area': 461, '90': 257, 'percent': 3310, 'miles': 2903, '95': 258, 'truly': 4534, 'awful': 535, 'sea': 3783, 'missing': 2926, '8594': 255, 'discuss': 1396, 'busboysandpoets': 866, 'filthy': 1733, 'gorgeous': 1965, '05professor': 4, 'happens': 2056, 'seems': 3800, 'clear': 1066, 'choice': 1025, 'crusty': 1229, 'starbucks': 4113, 'huntermoore': 2240, 'bowl': 770, 'graham': 1981, 'holes': 2161, 'fucktyler': 1864, 'touched': 4481, 'leaves': 2609, 'ground': 2003, 'beast': 615, 'sky': 3937, 'fuc': 1851, 'democrats': 1346, 'republican': 3620, '1sonofyahweh': 189, 'pretend': 3454, 'whips': 4813, 'belt': 646, 'death': 1321, 'praise': 3441, 'less': 2631, 'emotional': 1560, 'tan': 4277, 'doll': 1431, 'somewhere': 4026, 'moneydriven': 2960, 'figure': 1726, 'reminds': 3609, 'showin': 3892, 'earlier': 1514, 'push': 3504, 'slaves': 3946, 'lived': 2686, 'anchor': 414, 'gaga': 1885, '9786': 262, 'remembers': 3607, 'jobs': 2417, 'huhwhatsacondom': 2227, 'phil': 3325, 'drinks': 1471, 'bugs': 845, 'cleaned': 1064, 'mon': 2957, 'cuauhtli02': 1239, 'tips': 4443, 'sweat': 4238, 'clams': 1056, 'comedy': 1116, 'knock': 2538, 'themayormatt': 4363, 'shiner': 3860, 'adolfhibsta': 336, 'nigglet': 3099, 'fro': 1844, 'morning_joe': 2977, 'cell': 959, 'internet': 2330, 'alan_casillas': 372, 'alejandro_bihhh': 377, 'capodaasshole': 915, 'deserves': 1360, 'caption': 918, 'pigs': 3342, 'island': 2347, 'background': 551, 'doesnt': 1426, 'pan': 3266, 'almightyvinny_': 387, 'ampowerblog': 410, 'reading': 3566, 'lyrics': 2771, 'mood': 2965, 'darknight420': 1295, 'law': 2592, 'disgust': 1399, 'numbers': 3160, 'smd': 3975, 'cards': 922, 'credit': 1211, 'perfectly': 3312, 'highly': 2132, 'elementary': 1548, 'survive': 4235, 'livin': 2689, 'pom': 3405, 'luck': 2762, 'army': 473, 'rob': 3670, 'jungle': 2447, 'note': 3143, 'welcome': 4774, 'according': 313, 'blowing': 716, 'forreal': 1812, 'guts': 2029, 'atblackface': 502, 'mrmooncricket': 2999, 'uncleunco': 4605, 'bobbybotsods': 728, 'fuckthemallcops': 1862, 'racistnegro69': 3532, 'schools': 3766, 'schedule': 3764, 'butthurt': 876, 'johnny': 2423, 'cooking': 1159, 'add': 331, 'omm': 3205, 'champion': 968, 'cdfu': 955, 'ruined': 3701, 'throbbing': 4414, 'sucker': 4210, 'vice': 4659, 'magic': 2779, 'shes': 3857, 'shame': 3844, 'b4': 543, 'ballout057': 569, 'thou': 4402, 'mia': 2883, 'beaners': 610, 'belong': 643, 'omfg': 3202, 'winner': 4853, 'taliban': 4265, 'voted': 4691, 'pulled': 3492, 'rug': 3699, 'circle': 1046, 'legal': 2620, 'barbod6fcb': 585, '_cblaze': 278, 'lame': 2571, 'dear': 1320, 'mail': 2780, 'twats': 4562, 'salon': 3721, 'liberal': 2641, 'comeback': 1115, 'higher': 2131, 'jet': 2395, 'skills': 3933, 'pointless': 3396, 'foley': 1790, 'disgrace': 1398, 'bomb': 733, 'muslims': 3014, 'cunts': 1251, 'muzzies': 3021, 'slaying': 3949, 'poop': 3410, 'copy': 1168, 'suckin': 4211, 'ofay': 3178, 'campaign': 901, 'protest': 3481, 'beg': 635, 'service': 3826, 'irish': 2340, 'woods': 4884, 'babes': 546, 'trailer': 4494, 'jo_clark6': 2415, 'fried': 1837, 'steak': 4132, 'potatoes': 3432, 'beans': 612, 'corn': 1171, 'rollin': 3679, 'justinmiculka01': 2458, 'crew': 1213, 'blakkhoodie_562': 696, 'cd': 954, 'bump': 857, 'busy': 872, 'lately': 2582, 'brazil': 787, 'tour': 4484, 'bloggerboxing': 710, 'greedy': 1993, 'loser': 2736, 'status': 4125, 'lololol': 2719, 'taco': 4253, 'shop': 3875, 'current': 1259, 'ignorant': 2277, 'couch': 1178, 'sight': 3903, 'fault': 1686, 'realized': 3572, 'link': 2672, 'comin': 1119, 'load': 2707, 'tap': 4280, 'niet': 3090, 'moet': 2949, 'briscoefunnyguy': 809, '_kaeejones': 279, 'hipster': 2142, 'colors': 1110, 'center': 960, 'member': 2853, 'supporters': 4228, 'spoil': 4080, 'nog': 3124, 'ivanrabago_': 2366, 'version': 4652, 'sand': 3731, 'entertaining': 1575, 'ultimate': 4600, 'proved': 3483, 'ref': 3591, 'hall': 2042, 'fame': 1666, 'decided': 1325, 'explain': 1624, 'logic': 2715, 'info': 2313, 'thursday': 4427, 'career': 924, 'roasted': 3669, 'cheeks': 998, 'sore': 4038, 'norahodonnell': 3136, 'states': 4123, 'charlierose': 985, 'nowhere': 3152, 'spurs': 4092, 'case': 936, 'cheefpolo': 997, 'dime': 1386, 'press': 3451, 'nick_504_': 3087, 'realest': 3569, 'mouf': 2988, 'callmerenee_': 892, 'lilmenifee__': 2664, 'wussup': 4921, 'umm': 4602, 'eyebrows': 1632, 'elissa': 1552, 'leprechaun': 2628, 'beyonc': 661, 'rod': 3675, 'als': 396, 'maar': 2773, 'er': 1581, 'tough': 4483, 'african': 346, 'lebron': 2612, 'knees': 2534, 'plans': 3372, 'cee_murda94': 956, 'defending': 1333, 'hotel': 2204, 'staying': 4129, 'steezeyflow': 4136, 'charlie4927': 984, 'stacydmomof5': 4100, 'revkahjc': 3640, 'cantucimblonde': 913, 'kacado': 2462, 'pattism74': 3291, 'belongs': 644, 'greyyygoose': 1997, 'hypocrite': 2251, 'snack': 3990, 'td': 4298, 'chiefkeef': 1009, 'fuzzy': 1879, 'chink': 1018, 'goat': 1946, 'devils': 1366, 'motherfuckin': 2986, 'vets': 4655, 'dswizzle3': 1491, 'math': 2823, 'pee': 3300, 'pathetic': 3287, 'blacks': 693, 'btw': 836, 'fwm': 1881, 'glass': 1935, 'realize': 3571, 'breh': 799, 'stole': 4156, 'league': 2600, 'expecting': 1621, 'wrote': 4917, 'apparently': 455, 'fever': 1719, '___': 274, 'elchavaloko': 1544, 'saucygyro': 3741, 'threats': 4409, 'plot': 3387, 'twist': 4578, 'showing': 3893, 'bullets': 851, 'style': 4200, 'view': 4664, 'lake': 2568, 'held': 2106, 'hg_shit': 2123, 'd_41395': 1273, 'daniel': 1288, 'training': 4496, 'woody_afc': 4885, 'laying': 2596, 'honky': 2182, 'jewjitsugrl': 2401, 'definition': 1336, 'willing': 4843, 'awe': 533, 'slave': 3944, 'knocking': 2540, 'eh': 1541, 'especially': 1586, 'papoose': 3273, 'plano': 3371, 'chicago': 1004, 'idiot': 2264, 'assholes': 496, 'alike': 381, 'interesting': 2328, 'rikki_lovee': 3656, 'gabrielaangela4': 1884, 'stephyrae7': 4138, 'knw': 2548, 'derekisnormal': 1355, 'yoga': 4965, 'company': 1127, 'pink': 3351, 'holds': 2159, '5th': 232, 'naturally': 3044, 'stayed': 4128, 'yell': 4951, 'lines': 2668, 'divamonroe2uhoe': 1408, 'merry': 2866, 'speech': 4065, 'terms': 4329, 'dizzybala': 1411, 'sellout': 3810, 'gots': 1971, 'nor': 3135, 'pleasure': 3385, 'language': 2575, 'below': 645, 'cuffed': 1243, 'search': 3786, 'turning': 4554, 'whats': 4795, 'elite': 1553, 'cans': 911, 'personal': 3317, 'decision': 1326, 'location': 2711, 'facing': 1643, 'movies': 2995, 'clam': 1055, 'jews': 2402, 'op': 3218, 'hours': 2207, 'freedom': 1828, 'eric_mariners': 1584, 'maniac3x': 2794, 'slay': 3947, 'wearin': 4757, '_triggaplease_': 289, 'sauce': 3740, 'overrated': 3251, 'feather': 1696, 'english': 1569, 'accurate': 316, 'redskin': 3588, 'cheaper': 990, 'femshaveballz': 1716, 'crooked': 1220, 'ben': 647, 'voor': 4688, 'chanelisabeth': 972, 'destroying': 1363, 'mutt': 3019, 'poms': 3406, 'kills': 2513, 'francoiskilljoy': 1821, 'ew': 1606, 'moaning': 2941, 'wnba': 4871, 'shorts': 3878, 'key': 2489, 'sneak': 3996, 'mook': 2966, 'fucktravonn': 1863, 'knowledge': 2544, 'nun': 3161, 'peckerwood': 3299, 'stood': 4162, 'broad': 814, 'samzbikowski': 3729, 'itself': 2360, 'embarrassing': 1557, 'target': 4282, 'gabby': 1883, 'latino': 2586, 'jewish': 2400, 'ruin': 3700, 'neighborhood': 3066, 'wipe': 4858, 'get__em__craig': 1909, 'sneaky': 3997, 'gingerdemoness': 1923, 'nite': 3118, 'ta': 4251, 'doctor': 1421, 'nahh': 3030, 'bacon': 555, 'stuffed': 4197, 'expected': 1620, 'egg': 1537, 'pray': 3442, 'uses': 4638, 'gorgeouscamry_': 1966, 'sandwich': 3733, 'gossipcop': 1969, 'blk': 706, 'bey': 660, 'screw': 3780, 'borrow': 753, 'moon': 2967, 'grizzboadams': 2001, 'wyattnuckels': 4923, 'fart': 1678, 'og': 3188, 'standards': 4108, '00': 0, 'foam': 1785, 'multiple': 3006, 'rare': 3553, 'ghettos': 1916, 'muzzie': 3020, 'het': 2120, 'lazy': 2597, 'ook': 3216, 'flying': 1782, 'heilsidious': 2104, 'carry': 931, 'pre': 3444, 'imo': 2300, 'wore': 4891, '127825': 37, 'steveworks4you': 4144, 'chinks': 1019, 'flow': 1777, 'pokemon': 3398, 'throws': 4419, 'unfollowing': 4613, 'swore': 4247, 'dammit': 1283, 'reach': 3563, 'crist': 1218, 'hovaa_': 2211, 'toilet': 4458, 'american': 406, 'hunglikerobby_': 2235, 'triple6em96': 4524, 'ignore': 2278, 'elephant': 1549, 'mix': 2930, 'bought': 763, 'iggyazalea': 2273, 'ilikecats74': 2283, 'bootyacid': 748, 'sizzurp__': 3932, 'yopapi_chulo': 4968, 'bio': 676, 'fix': 1755, 'i_gotone': 2252, 'feminist': 1715, 'kike': 2504, 'channel': 977, 'dwight': 1505, 'matters': 2826, 'expensive': 1622, 'wedding': 4763, 'filth': 1732, 'afford': 343, 'im_thirst': 2290, 'louis': 2748, 'ck': 1051, 'joey': 2420, 'hawk': 2085, 'shaved': 3852, 'san': 3730, 'italian_montana': 2355, 'dink': 1387, 'thatslutadrian': 4352, 'touching': 4482, 'xdsmooth': 4925, 'jayreidofficial': 2387, 'jzolly23': 2461, 'jmuggaaa': 2414, 'todd__kincannon': 4453, 'twisted': 4579, 'popped': 3414, 'function': 1871, 'jrise88': 2436, 'thatangrynigga': 4350, 'nearly': 3055, 'york': 4969, 'katy': 2471, 'j_kwest': 2368, 'hoping': 2192, 'tyler': 4587, 'article': 478, '128308': 107, 'pressure': 3453, 'illiterate': 2286, 'morons': 2980, 'second': 3792, 'energy': 1568, 'bigger': 669, 'nephew': 3069, 'pair': 3264, 'jawshoeeahhh': 2385, 'balling': 568, 'lolol': 2718, 'spray': 4089, 'fishing': 1748, '2014': 198, 'o_shititslaura': 3170, 'inch': 2307, 'savages': 3744, 'hates': 2076, 'traitor': 4497, 'jimnorton': 2410, 'jim': 2408, 'fathers': 1685, 'judge': 2439, 'allah': 384, 'benghazi': 649, 'nyc': 3167, 'yokel': 4966, 'players': 3378, 'sensitive': 3819, 'options': 3226, 'jimmy': 2409, 'carter': 934, 'bill': 672, 'hire': 2143, 'gm': 1941, 'besides': 653, 'jameis': 2378, 'aware': 531, 'hopes': 2191, 'national': 3042, 'including': 2308, 'respond': 3625, 'dreads': 1461, 'kik': 2503, 'animals': 423, 'jundishes': 2446, 'southern': 4052, 'mute': 3018, 'vile': 4667, 'memphis': 2856, 'wine': 4850, 'rub': 3696, 'nappy': 3038, 'nowadays': 3151, 'knicks': 2536, 'killquana': 2512, '_lostb0y': 281, 'surgery': 4232, 'camel': 898, 'cheer': 999, 'mornin': 2975, 'racism': 3530, 'kensuttling': 2484, 'begin': 636, 'bend': 648, 'bronx': 819, 'paper': 3271, 'tricks': 4516, 'kenny__wright': 2483, 'ohh': 3191, 'thunder': 4426, 'floyd': 1779, 'kevinthegee': 2488, 'kingjames': 2522, 'allen': 385, 'pinto': 3352, 'brings': 808, 'angel': 417, 'pie': 3337, 'pole': 3399, 'picked': 3332, '128683': 163, 'saiyan': 3718, 'guinea': 2021, 'pig': 3341, 'kxrxsxb': 2555, 'scare': 3759, 'ladyvodkax': 2566, 'extreme': 1630, 'invite': 2333, 'prettykells': 3457, 'burger': 861, 'waffle': 4697, 'lifeasking': 2648, 'pity': 3362, 'bush': 867, 'dramatic': 1457, 'ih8tvvitterhoes': 2280, 'liveitupjersey': 2687, 'ccass357': 953, 'concerned': 1136, 'psycho': 3487, 'fits': 1753, 'mediacrooks': 2847, 'terrorists': 4331, 'shitting': 3868, 'louievree': 2747, 'crayons': 1204, 'mob': 2942, 'whine': 4808, 'lvl_7_eevee': 2768, 'unicorncowboy': 4615, 'trade': 4491, 'uk': 4599, 'lmaooooo': 2697, 'wings': 4852, 'exotic': 1618, 'security': 3796, 'mikeb_in_the_d': 2899, 'rams': 3540, 'battle': 601, 'code': 1099, 'wojtata': 4873, 'coconut': 1097, 'oil': 3193, 'msoltan18': 3003, 'icy': 2257, 'koredeb9': 2552, 'matt': 2824, 'paybacks': 3296, 'critical': 1219, 'jr': 2435, 'crystal': 1235, 'softestmuffin': 4012, '_tee13': 286, 'torahblaze': 4475, 'cure': 1255, 'proving': 3485, 'dj': 1412, 'stranger': 4170, '_maniac_mind_': 282, 'jump': 2444, 'weet': 4770, 'kicked': 2496, 'per': 3309, 'p2': 3255, 'judging': 2440, 'slam': 3939, 'thousands': 4408, 'grass': 1988, 'septic': 3822, 'interested': 2327, 'snacks': 3991, 'wouldnt': 4910, 'bastard': 597, 'barely': 587, 'midnight_snacka': 2894, 'stuck': 4190, 'stalking': 4105, 'smarter': 3971, 'peter': 3321, 'griffin': 1998, 'twinkie': 4575, 'arm': 470, 'enjoying': 1571, 'trolling': 4529, 'present': 3449, 'screamin': 3776, 'sup': 4224, 'tiger': 4431, 'wondering': 4881, 'regardless': 3595, 'imagine': 2295, 'kayysavage': 2474, 'fuccing': 1854, '128068': 55, 'seattle': 3790, 'vs': 4692, 'elected': 1546, 'citizens': 1049, 'terrible': 4330, 'nature': 3045, 'wacko': 4696, 'toms': 4462, 'bake': 563, 'relevant': 3605, 'equal': 1579, 'opportunity': 3224, 'freeze': 1830, 'random': 3542, 'causing': 948, 'notch': 3142, 'join': 2425, 'nyrkelsmads': 3168, 'eats': 1528, 'commie': 1124, 'heated': 2100, 'patty': 3292, 'gta': 2010, 'cakes': 885, 'episode': 1578, 'snitch': 3999, 'piersmorgan': 3340, 'toys': 4488, 'kelly': 2481, 'upset': 4628, 'apologize': 452, 'gezus__': 1913, '128109': 69, 'o3_millz': 3169, 'tellin': 4323, 'duck': 1492, 'ole_vertybstard': 3200, 'thereal_emandm': 4371, 'smelly': 3979, 'flip': 1769, 'wendydavistexas': 4779, 'stockboy': 4155, 'oskzilla': 3239, 'pool': 3408, 'whose': 4828, 'aim': 364, 'split': 4079, 'oz_lito': 3254, 'george': 1907, 'pacdagoat': 3257, 'gorilla': 1967, 'pancakes': 3268, 'deported': 1352, 'pennythegoat': 3305, 'pepper_redbone': 3307, 'mets': 2876, 'favor': 1689, 'banned': 581, 'prefer': 3447, 'wa': 4694, 'vick': 4660, 'sa': 3712, 'closed': 1076, 'msnbc': 3002, 'prophzilla': 3479, 'blew': 704, 'based': 591, 'pm': 3391, 'somehow': 4021, 'juss': 2451, 'laughin': 2589, 'en': 1563, 'nawl': 3047, 'boxing': 772, 'fought': 1814, 'sign': 3904, 'wing': 4851, '9825': 263, 'lml': 2705, 'realniggasherm': 3574, 'realskipbayless': 3575, 'constantly': 1147, 'qb': 3513, 'chip': 1020, 'talkn': 4271, 'society': 4008, 'hats': 2079, 'fellow': 1710, 'limit': 2666, 'talked': 4267, 'camp': 900, 'reaction': 3564, 'lit': 2681, 'pimp': 3347, 'moma': 2952, 'tone': 4463, 'bin': 675, 'jets': 2397, 'fancy': 1672, 'rihannahasaids': 3655, 'ye': 4944, 'nra': 3155, 'horny': 2193, '2am': 214, 'fist': 1749, 'anglo': 420, 'garbage': 1891, 'obvious': 3173, 'enemy': 1567, 'sammi_boyden': 3727, 'concert': 1137, 'dice': 1371, 'replied': 3614, 'checking': 995, 'plane': 3369, 'noticed': 3147, 'martin': 2814, 'careful': 925, 'sammylightning_': 3728, 'bee': 627, 'schulzgrayson': 3767, 'phase': 3324, 'eye': 1631, 'witness': 4868, 'apes': 451, 'pocket': 3393, 'tedcruz': 4314, 'mocked': 2944, 'lls': 2692, 'above': 302, 'wan': 4713, 'ish': 2345, 'saudi': 3742, 'curve': 1262, 'trill': 4521, 'guarantee': 2015, 'hillbillies': 2135, 'christian': 1034, 'unlike': 4620, 'scum': 3782, '72': 241, 'driven': 1473, 'aliens': 380, 'israel': 2350, 'hypocrisy': 2250, 'slant': 3940, 'artist': 479, 'situation': 3929, 'texted': 4336, 'golf': 1954, 'stevestockmantx': 4143, 'education': 1534, 'conservative': 1143, 'republicans': 3621, 'leader': 2599, 'parent': 3274, 'gum': 2022, 'taxes': 4291, 'havent': 2082, 'boots': 746, 'nails': 3032, 'camera': 899, 'ignorance': 2276, 'due': 1495, 'changing': 976, 'standard': 4107, 'mickey': 2890, 'mouse': 2989, 'taylor': 4293, 'resist': 3623, 'decide': 1324, 'tayscalf': 4294, 'grabs': 1978, 'drafted': 1451, 'tee_bizzle': 4317, 'eachother': 1510, 'badass': 557, 'that1guyjeff': 4349, 'thejournalist44': 4359, 'playoff': 3381, 'twin': 4574, 'nick': 3086, 'melo': 2852, 'mayweather': 2833, 'born': 752, 'further': 1877, 'liked': 2655, 'rebel': 3579, 'slippery': 3957, 'faith': 1657, 'successful': 4205, 'thelittlefella_': 4361, 'steelers': 4135, 'considered': 1146, 'threesome': 4411, 'memories': 2855, 'therealjb1rd': 4372, 'crows': 1226, 'river': 3664, 'gtf': 2011, 'disgusting': 1400, 'payback': 3295, 'popular': 3418, 'theseanyv': 4376, 'subtweeting': 4204, 'hashtag': 2069, 'gator': 1896, 'bait': 562, 'ashamed': 484, 'pls': 3388, '128134': 79, 'yal': 4930, 'fries': 1842, 'closer': 1077, 'conference': 1139, 'punching': 3497, 'gain': 1886, 'damage': 1282, 'solid': 4017, 'truenovacane': 4533, 'banana': 573, 'westside': 4785, 'lots': 2742, 'cont': 1148, 'gap': 1890, 'film': 1731, 'olympics': 3201, 'audience': 516, 'viri_bracefacee': 4675, 'mlk': 2936, 'disease': 1397, 'picking': 3333, 'remind': 3608, 'whatchu': 4793, 'tease': 4313, 'bombs': 734, 'fellas': 1709, 'smokin': 3988, 'sun': 4222, 'mannn': 2799, 'peyton': 3323, 'smiley': 3984, 'spring': 4091, 'asleep': 492, 'yaremisxo': 4937, 'yeiiowbang': 4950, 'mexicans': 2878, 'houston': 2210, 'wayne': 4746, 'guala': 2014, 'yourdudeferg': 4974, 'thoughtsofrandy': 4406, 'talmbout': 4276, 'clips': 1073, 'tops': 4474, 'log': 2714, 'posting': 3428, 'garrett_winker': 1893, 'zitlalyl': 4994, 'rider': 3650, 'hearing': 2094, 'reg': 3594, 'aha': 356, 'spelling': 4068, 'morgan': 2973, 'influence': 2312, 'compared': 1128, 'ballin': 567, 'convo': 1154, '_wordtothewise': 291, '__0utcast___': 273, 'heartless': 2097, 'suit': 4218, 'jumped': 2445, 'sc': 3755, 'elevator': 1550, 'struggles': 4189, 'kieffer_jason': 2502, 'jason': 2383, 'hoodie': 2185, 'yolo': 4967, '_reathie': 284, '_thedarius': 287, '_tiffnasty': 288, '_xpriceless_': 292, 'five': 1754, 'noise': 3125, 'manziel': 2803, 'horses': 2198, 'joeylattime': 2421, 'trashes': 4501, 'lo': 2706, 'daughters': 1304, 'queers': 3519, 'pills': 3345, 'hasn': 2070, 'sbsylvester': 3754, 'hunterbuch66': 2239, 'kitty': 2531, 'b_shiznitt': 544, 'bieber': 667, 'chipotle': 1021, 'clowney': 1084, 'reply': 3615, 'leopard': 2627, 'patience': 3288, 'positive': 3423, 'sub': 4201, 'cubs': 1240, 'stalk': 4104, 'countries': 1183, 'addicted': 333, 'alabama': 371, 'forehead': 1804, 'sterling': 4140, 'danny': 1290, '58386': 229, 'brendacoyt_3': 801, 'uber': 4592, 'talker': 4268, 'bottles': 761, 'clutch': 1088, 'jamaica': 2377, 'wh': 4790, 'hug': 2223, 'homegirl': 2169, 'former': 1811, 'thumb': 4425, 'peeps': 3302, 'collegefession': 1106, 'birth': 679, 'corey_emanuel': 1170, 'bees': 633, '128680': 162, 'alert': 378, 'ann': 425, 'tracks': 4490, 'curls': 1257, 'chest': 1003, 'disrespect': 1403, 'davegetnmoney': 1306, 'fully': 1869, 'denytheprophecy': 1351, 'discordianslip': 1393, 'grease': 1990, 'djfeds': 1413, 'results': 3630, 'sells': 3811, 'rockin': 3673, 'retweeting': 3636, 'cooked': 1156, 'drunksixthgrade': 1488, 'third': 4391, 'eanahs__': 1512, 'rent': 3611, 'teaching': 4306, 'lace': 2559, 'kicking': 2497, 'mrs': 3000, 'rolled': 3678, 'espn': 1587, 'stressed': 4176, 'nevermind': 3077, 'cigarette': 1043, 'sticks': 4149, 'wide': 4832, 'forgetting': 1808, 'teapot': 4310, 'whenever': 4802, 'insurance': 2326, 'bullying': 855, 'bully': 854, 'humans': 2229, 'cutting': 1270, 'certain': 961, 'racial': 3529, 'abt': 306, 'harley_schuder': 2064, 'shitpussiessay': 3865, 'theory': 4369, 'heydenbunsyolo': 2122, 'repeat': 3613, 'moron': 2979, 'iam_troyal5': 2253, 'gram': 1982, 'refuse': 3593, 'foe': 1788, 'unloyal': 4621, 'planet': 3370, 'jjauthor': 2412, 'active': 323, 'duty': 1504, '128565': 148, 'flipping': 1771, 'stoned': 4160, 'knoww': 2547, 'lack': 2561, 'twinkies': 4576, 'university': 4618, 'signs': 3906, 'mention': 2861, 'recent': 3580, 'cross': 1221, 'justezzzee': 2454, 'jwill252': 2460, 'murdered': 3010, 'list': 2678, 'karlamorenoo': 2467, 'notice': 3146, 'hip': 2139, 'quotes': 3527, 'stink': 4152, 'mirror': 2922, 'winter': 4857, '8th': 256, 'saturday': 3739, 'washing': 4727, 'slopes': 3960, 'nathanndevlin': 3040, 'zach_smith98': 4988, 'excuses': 1614, 'plan': 3368, 'crowd': 1224, 'migos': 2896, 'mcdonalds': 2835, 'parking': 3277, 'mentioned': 2862, 'holder': 2157, 'revenge': 3638, 'places': 3366, 'laceeybugg': 2560, 'trashy': 4502, 'longbongchris': 2723, 'mk': 2934, 'catches': 941, 'thousand': 4407, 'feathers': 1697, 'proper': 3478, 'failed': 1653, 'macktology101': 2776, 'chu': 1036, 'ten': 4326, 'abo': 299, 'goodbye': 1959, 'recently': 3581, 'whatupag': 4798, 'congratulations': 1142, 'charles': 982, 'screams': 3778, 'quality': 3514, 'fil': 1728, 'scaring': 3761, 'mum': 3007, 'discovered': 1395, 'sue': 4215, 'impossible': 2302, 'apples': 458, 'senate': 3812, '128515': 110, 'station': 4124, 'nt': 3156, 'gaza': 1901, 'horror': 2196, 'sugar': 4216, 'pow': 3435, 'bastards': 598, 'liveanduncut': 2685, 'ing': 2314, 'monday': 2958, 'stevie': 4145, 'ryan': 3711, 'rocks': 3674, 'useless': 4637, 'valentine': 4642, 'suicide': 4217, 'seansteiger31': 3785, 'ups': 4627, 'star': 4112, 'skyereyes_': 3938, 'hunt': 2237, 'equality': 1580, 'patrick': 3289, 'joint': 2426, 'coke': 1101, 'sramirez07943': 4097, 'bloody': 713, 'christ': 1033, 'ankles': 424, '128081': 67, 'example': 1610, 'often': 3187, 'eric': 1583, 'superman': 4226, 'thecoreyholcomb': 4355, 'appear': 456, 'falls': 1663, 'darkie': 1294, 'pack': 3259, '127811': 35, 'thin': 4383, 'office': 3183, 'russian': 3709, 'spider': 4074, 'fill': 1729, 'yardie': 4936, 'messi': 2870, 'hustle': 2248, 'str8': 4168, 'woohdakidd_74': 4887, 'beatin': 617, 'oml': 3204, 'curse': 1261, 'surprise': 4233, 'checks': 996, 'blaxican': 700, 'glo': 1939, 'pissing': 3358, 'mn': 2938, 'bf': 664, 'wears': 4759, 'brag': 780, 'waynel_jr': 4747, 'claiming': 1053, 'title': 4445, 'tee': 4316, 'oo': 3214, 'jacket': 2370, 'bricks': 804, 'karmas': 2470, 'shoe': 3871, 'hippo': 2140, '23': 206, 'march': 2804, 'ghost': 1917, '27': 212, 'mcm': 2837, 'nights': 3103, 'hearted': 2096, 'nomore': 3128, 'compete': 1129, '128148': 86, 'cloud': 1082, 'curl': 1256, 'nuttin': 3164, 'noooo': 3133, 'dancing': 1287, 'joints': 2427, 'sudden': 4214, 'prom': 3474, 'te': 4299, 'cuff': 1242, 'flipped': 1770, 'theses': 4377, 'sober': 4004, 'tweetin': 4567, 'selfies': 3805, 'absolute': 303, 'north': 3138, 'false': 1664, 'cheesecake': 1001, 'propaganda': 3477, 'possessed': 3424, 'culture': 1248, 'bucks': 841, 'demon': 1347, 'soooooo': 4037, 'debate': 1322, '127908': 44, 'fallin': 1661, 'bragging': 781, 'thotcho': 4399, 'asks': 491, 'release': 3603, 'apologizing': 453, 'actions': 322, 'rick': 3646, 'nigguhs': 3101, 'yuh': 4983, 'champagne': 967, 'bacc': 549, 'commercial': 1123, 'pisses': 3357, '150': 169, 'yelled': 4952, 'laundry': 2591, 'cardinals': 921, 'cousins': 1191, 'clubs': 1086, 'mcdonald': 2834, 'breathe': 797, 'stiff': 4150, 'brains': 784, 'ova': 3249, 'toss': 4476, 'emabiggestfans1d': 1556, 'sob': 4003, 'customer': 1265, 'periods': 3314, 'legacy': 2619, 'saved': 3747, 'stribpol': 4180, 'trend': 4510, 'hips': 2141, 'berg': 652, 'moe': 2948, 'lastnight': 2580, 'mma': 2937, 'mustard': 3017, 'created': 1209, 'flexin': 1766, 'reds': 3587, 'range': 3544, 'kissed': 2527, 'backpage': 552, 'currently': 1260, 'lawd': 2593, 'grind': 1999, 'hers': 2117, 'spaghetti': 4057, 'contact': 1149, 'browns': 830, 'pt': 3488, 'clap': 1057, 'quite': 3525, 'vonteeeeee': 4687, 'bold': 732, 'sexual': 3833, 'bumpin': 858, 'ross': 3688, 'darealquitam': 1292, 'bjayblast': 690, 'review': 3639, 'mr_jsmart24': 2998, 'princess': 3461, 'cam': 896, 'scott': 3771, 'dems': 1348, 'tonite': 4466, 'frm': 1843, 'stretch': 4179, 'humble': 2230, 'breaks': 794, 'sucka': 4208, 'mexico': 2879, 'arrest': 475, 'chances': 971, 'cod': 1098, 'lib': 2640, 'reports': 3618, 'democratic': 1345, 'shaking': 3842, 'daniels': 1289, 'fukin': 1867, 'sin': 3913, 'chasing': 987, 'bbq': 603, 'henny': 2113, 'quan': 3515, 'toppy': 4473, 'traveling': 4503, 'cruise': 1227, '64': 235, 'laughed': 2588, 'customers': 1266, 'opened': 3220, 'candidate': 907, 'smoked': 3987, 'waking': 4704, 'staring': 4115, 'skinned': 3935, 'outfit': 3246, 'honor': 2183, 'moral': 2969, 'inconsiderate': 2309, 'feminism': 1714, 'professor': 3469, 'mentally': 2860, 'leanandcuisine': 2602, 'popcorn': 3413, 'oscar': 3238, 'designer': 1361, 'health': 2091, 'boat': 724, 'sandals': 3732, 'lottery': 2744, 'wigs': 4839, 'bother': 759, 'hillary': 2134, 'choosin': 1028, 'iggy': 2272, 'nail': 3031, 'leather': 2607, '_sirhampton_': 285, 'struggle': 4188, 'jj': 2411, 'whether': 4805, 'aa': 296, 'mustache': 3016, 'chubby': 1037, 'teddy': 4315, 'losangeles': 2733, 'exes': 1615, 'experience': 1623, 'pencil': 3303, 'artists': 480, 'frontin': 1847, 'fantasy': 1674, 'tuna': 4549, 'european': 1591, 'grave': 1989, 'millions': 2910, '127911': 45, 'click': 1069, '1inkkofrosess': 187, 'kicks': 2498, 'answering': 430, 'kisses': 2528, 'yaw': 4942, '202sole': 200, 'ga': 1882, 'beard': 614, 'gtfoh': 2013, 'spirit': 4075, 'ae': 341, 'tatted': 4286, 'bones': 736, 'po': 3392, 'yous': 4978, 'reasons': 3578, 'ladykimora': 2565, 'spoiled': 4081, 'marry': 2813, 'turntup': 4557, 'goodnight': 1960, 'ketchup': 2486, '128130': 76, 'falling': 1662, 'fave': 1688, 'soldier': 4014, 'robin': 3671, 'columbus': 1112, 'guessed': 2019, 'warning': 4723, 'graphic': 1987, 'pjnet': 3364, 'holiday': 2162, 'related': 3599, 'thincc': 4384, 'relationships': 3601, 'anxiety': 438, 'attacks': 509, 'plenty': 3386, 'attached': 507, 'powers': 3437, 'sean': 3784, 'position': 3422, 'choosing': 1029, 'cap': 914, 'thenna': 4366, 'givin': 1932, 'shoved': 3888, 'yeen': 4949, 'insta': 2322, 'therefore': 4373, 'enter': 1573, 'levels': 2638, 'joy': 2433, 'hospital': 2202, 'official': 3184, 'butts': 878, 'cannot': 910, 'shades': 3839, '10004': 9, 'doo': 1439, 'spoke': 4082, 'thrown': 4418, 'lux': 2767, 'fucced': 1853, 'randomly': 3543, 'wishy': 4863, 'washy': 4729, 'theyre': 4380, 'parties': 3279, 'rims': 3657, 'gatorade': 1897, 'ctfuu': 1237, '__': 272, 'broski5519': 823, 'cracked': 1198, 'slayed': 3948, 'blanket': 698, 'networks': 3074, 'rivers': 3665, 'flirting': 1773, 'sweater': 4239, 'casket': 938, 'ont': 3213, 'winston': 4856, '9992': 267, 'manly': 2795, 'spy': 4093, 'immature': 2297, 'alpha': 393, 'pride': 3460, 'rts': 3695, 'roommate': 3684, '128142': 83, 'string': 4182, 'button': 877, 'became': 622, 'stripping': 4186, 'eyelashes': 1634, 'costume': 1176, 'sweating': 4240, 'drove': 1481, 'meek': 2850, 'subject': 4202, 'jaw': 2384, 'maury': 2828, '180': 181, 'twerkin': 4571, 'anger': 419, 'posts': 3429, 'ops': 3225, 'trifling': 4519, 'barber': 584, 'restaurant': 3628, 'perry': 3315, 'tied': 4430, 'arguments': 466, 'operation': 3222, 'disrupts': 1405, 'shylock': 3898, 'banking': 580, 'priceless': 3459, 'igiveemnathan': 2275, 'degrees': 1338, 'flirt': 1772, '128127': 73, 'salt': 3722, 'accent': 309, 'cramps': 1201, 'breitbartnews': 800, 'abu': 307, 'pilot': 3346, 'helicopter': 2107, 'ios': 2336, 'lou': 2745, '500': 228, 'cup': 1252, 'channymaraj': 978, 'site': 3926, 'lmaooooooo': 2699, 'medical': 2848, '8226': 251, 'cthagod': 1238, 'wallah': 4711, 'lmaoooooo': 2698, 'senorsteez': 3817, 'groupie': 2005, 'forward': 1813, 'jury': 2448, 'familiar': 1667, 'marijuana': 2807, 'teixeira': 4321, 'jane': 2380, 'messages': 2869, 'sang': 3734, 'willyroast2': 4844, 'marie': 2806, 'fitness': 1752, 'moor': 2968, '127932': 47, 'goal': 1944, 'severely': 3831, 'pepsi': 3308, 'flash': 1760, 'dolla': 1432, 'gassing': 1895, 'cannon': 909, 'arigold_88': 468, 'tyrese': 4591, 'snatch': 3995, 'fu': 1850, 'nikko': 3109, 'injury': 2316, 'esteem': 1589, 'tigers': 4432, 'angels': 418, 'genuinely': 1906, 'farewellcaptain': 1676, '1stblocjeremiah': 191, 'wi': 4830, 'renz360': 3612, 'aianhangover': 361, 'iammrechols': 2254, 'funeral': 1872, 'ht': 2217, 'htt': 2219, 'whitdawgem_': 4814, '128181': 100, 'soulja': 4043, 'ruth': 3710, 'htgawm': 2218, 'towards': 4485, 'nonsense': 3131, '_100d': 271, 'unemployed': 4610, 'zzachbarness': 4999, 'budahefner74': 843, '1bookieg': 186, 'donate': 1436, 'ear': 1513, 'staycoolwheels': 4127, 'merica': 2864, 'clues': 1087, 'vocativ': 4681, 'coolie_gbe300': 1163, 'craziestsex': 1205, 'cuhcuhcuh': 1247, 'rise': 3662, 'currensy_spitta': 1258, 'dfkinlopes': 1369, 'gurujeremy': 2027, 'th': 4341, 'zoo': 4997, 'kalikushdoll_': 2463, 'now_thats_fresh': 3150, 'shinsnipes': 3861, '1sleepinggiant': 188, 'busting': 871, 'tonyjrodriguez': 4468, '128138': 80, 'dragonflyjonez': 1454, 'victoria_finae': 4661, 'drown': 1482, 'elect': 1545, '128694': 165, 'urge': 4631, 'whitecholo23': 4817, 'eve': 1594, 'nerds': 3070, 'mansion': 2801, 'gmb_ace': 1942, 'discover': 1394, 'hbcufessions': 2086, 'famu': 1670, 'heissarcastic': 2105, 'veronicagk': 4650, '127838': 38, 'imneverchillin': 2299, 'losbeonit': 2734, 'itsfoodporn': 2361, 'cle': 1062, 'weare_xci': 4756, 'diving': 1409, 'kingtunchi_': 2524, 'pancake': 3267, '128571': 151, 'pitiful': 3361, 'killallsimps': 2507, 'immediately': 2298, 'l1ldebbie': 2556, 'wheeler_kashhh': 4800, 'pirates': 3354, 'ravens': 3559, 'basedamerican': 592, 'logo': 2716, '1585': 171, '1604': 174, '1575': 170, '1610': 175, 'mydickiscalled': 3024, 'nikowavy': 3110, 'nowomanisright': 3153, 'tuesday': 4547, 'poochda63': 3407, 'ripvuhsace': 3661, 'songz': 4030, 'rakwonogod': 3538, '128663': 161, '128659': 160, 'ne': 3053, 'michellemalkin': 2888, 'sexualtruth': 3835, 'sheswantsthed': 3858, 'stevstiffler': 4146, 'taxstone': 4292, 'thedouch3': 4356, '12288': 31, '12290': 32, 'thevoiceofmiami': 4378, 'ideology': 2262, 'twitchyteam': 4580, 'woridstarhlphop': 4892, 'yaboylilb': 4928, 'cha': 962, 'morals': 2970, 'itsdorry': 2359, 'karlos_budah': 2468, 'irri': 2342, 'bpu86qzyft': 777}\n"
          ]
        }
      ]
    },
    {
      "cell_type": "code",
      "source": [
        "# Check for missing values\n",
        "df.isnull().sum()\n"
      ],
      "metadata": {
        "colab": {
          "base_uri": "https://localhost:8080/",
          "height": 300
        },
        "id": "curG1We0wSRS",
        "outputId": "3febfa29-2a59-4743-c95a-d419b0481f9c"
      },
      "execution_count": null,
      "outputs": [
        {
          "output_type": "execute_result",
          "data": {
            "text/plain": [
              "Unnamed: 0            0\n",
              "count                 0\n",
              "hate_speech           0\n",
              "offensive_language    0\n",
              "neither               0\n",
              "class                 0\n",
              "tweet                 0\n",
              "dtype: int64"
            ],
            "text/html": [
              "<div>\n",
              "<style scoped>\n",
              "    .dataframe tbody tr th:only-of-type {\n",
              "        vertical-align: middle;\n",
              "    }\n",
              "\n",
              "    .dataframe tbody tr th {\n",
              "        vertical-align: top;\n",
              "    }\n",
              "\n",
              "    .dataframe thead th {\n",
              "        text-align: right;\n",
              "    }\n",
              "</style>\n",
              "<table border=\"1\" class=\"dataframe\">\n",
              "  <thead>\n",
              "    <tr style=\"text-align: right;\">\n",
              "      <th></th>\n",
              "      <th>0</th>\n",
              "    </tr>\n",
              "  </thead>\n",
              "  <tbody>\n",
              "    <tr>\n",
              "      <th>Unnamed: 0</th>\n",
              "      <td>0</td>\n",
              "    </tr>\n",
              "    <tr>\n",
              "      <th>count</th>\n",
              "      <td>0</td>\n",
              "    </tr>\n",
              "    <tr>\n",
              "      <th>hate_speech</th>\n",
              "      <td>0</td>\n",
              "    </tr>\n",
              "    <tr>\n",
              "      <th>offensive_language</th>\n",
              "      <td>0</td>\n",
              "    </tr>\n",
              "    <tr>\n",
              "      <th>neither</th>\n",
              "      <td>0</td>\n",
              "    </tr>\n",
              "    <tr>\n",
              "      <th>class</th>\n",
              "      <td>0</td>\n",
              "    </tr>\n",
              "    <tr>\n",
              "      <th>tweet</th>\n",
              "      <td>0</td>\n",
              "    </tr>\n",
              "  </tbody>\n",
              "</table>\n",
              "</div><br><label><b>dtype:</b> int64</label>"
            ]
          },
          "metadata": {},
          "execution_count": 26
        }
      ]
    },
    {
      "cell_type": "code",
      "source": [
        "# Check the distribution of the target variable (class)\n",
        "df['class'].value_counts()\n"
      ],
      "metadata": {
        "colab": {
          "base_uri": "https://localhost:8080/",
          "height": 207
        },
        "id": "6wwYcEfkwewB",
        "outputId": "f14b7c3e-65e7-4634-ba02-f272a7f9dde4"
      },
      "execution_count": null,
      "outputs": [
        {
          "output_type": "execute_result",
          "data": {
            "text/plain": [
              "class\n",
              "1    19190\n",
              "2     4163\n",
              "0     1430\n",
              "Name: count, dtype: int64"
            ],
            "text/html": [
              "<div>\n",
              "<style scoped>\n",
              "    .dataframe tbody tr th:only-of-type {\n",
              "        vertical-align: middle;\n",
              "    }\n",
              "\n",
              "    .dataframe tbody tr th {\n",
              "        vertical-align: top;\n",
              "    }\n",
              "\n",
              "    .dataframe thead th {\n",
              "        text-align: right;\n",
              "    }\n",
              "</style>\n",
              "<table border=\"1\" class=\"dataframe\">\n",
              "  <thead>\n",
              "    <tr style=\"text-align: right;\">\n",
              "      <th></th>\n",
              "      <th>count</th>\n",
              "    </tr>\n",
              "    <tr>\n",
              "      <th>class</th>\n",
              "      <th></th>\n",
              "    </tr>\n",
              "  </thead>\n",
              "  <tbody>\n",
              "    <tr>\n",
              "      <th>1</th>\n",
              "      <td>19190</td>\n",
              "    </tr>\n",
              "    <tr>\n",
              "      <th>2</th>\n",
              "      <td>4163</td>\n",
              "    </tr>\n",
              "    <tr>\n",
              "      <th>0</th>\n",
              "      <td>1430</td>\n",
              "    </tr>\n",
              "  </tbody>\n",
              "</table>\n",
              "</div><br><label><b>dtype:</b> int64</label>"
            ]
          },
          "metadata": {},
          "execution_count": 27
        }
      ]
    },
    {
      "cell_type": "code",
      "source": [
        "import pandas as pd\n",
        "from sklearn.model_selection import train_test_split\n",
        "from sklearn.feature_extraction.text import TfidfVectorizer\n",
        "from imblearn.over_sampling import SMOTE\n",
        "from sklearn.linear_model import LogisticRegression\n",
        "\n",
        "# Assuming 'df' is your dataframe with 'tweet' and 'class' columns\n",
        "X = df['tweet']  # Features (text data)\n",
        "y = df['class']  # Labels (target variable)\n",
        "\n",
        "# Split the data into training and testing sets\n",
        "X_train, X_test, y_train, y_test = train_test_split(X, y, test_size=0.2, random_state=42)\n",
        "\n",
        "# Vectorize the text data\n",
        "vectorizer = TfidfVectorizer(max_features=5000)  # You can adjust max_features as needed\n",
        "X_train_vec = vectorizer.fit_transform(X_train)\n",
        "X_test_vec = vectorizer.transform(X_test)\n",
        "\n",
        "# Apply SMOTE to balance the classes\n",
        "smote = SMOTE(sampling_strategy='auto', random_state=42)\n",
        "X_resampled, y_resampled = smote.fit_resample(X_train_vec, y_train)\n",
        "\n",
        "# Train the model with the resampled data\n",
        "model = LogisticRegression()\n",
        "model.fit(X_resampled, y_resampled)\n",
        "\n",
        "# Now you can make predictions and evaluate the model\n",
        "y_pred = model.predict(X_test_vec)\n",
        "\n",
        "# For evaluation, use classification report\n",
        "from sklearn.metrics import classification_report\n",
        "print(classification_report(y_test, y_pred))\n"
      ],
      "metadata": {
        "colab": {
          "base_uri": "https://localhost:8080/"
        },
        "id": "__JU41JXwq4W",
        "outputId": "36f55758-a897-4a68-9217-d69e9e114014"
      },
      "execution_count": null,
      "outputs": [
        {
          "output_type": "stream",
          "name": "stdout",
          "text": [
            "              precision    recall  f1-score   support\n",
            "\n",
            "           0       0.29      0.57      0.38       290\n",
            "           1       0.96      0.86      0.91      3832\n",
            "           2       0.79      0.90      0.84       835\n",
            "\n",
            "    accuracy                           0.85      4957\n",
            "   macro avg       0.68      0.78      0.71      4957\n",
            "weighted avg       0.89      0.85      0.87      4957\n",
            "\n"
          ]
        }
      ]
    },
    {
      "cell_type": "code",
      "source": [
        "from sklearn.utils import resample\n",
        "\n",
        "# Concatenate the original dataset back together\n",
        "df_majority = df[df['class'] == 1]\n",
        "df_minority_2 = df[df['class'] == 2]\n",
        "df_minority_0 = df[df['class'] == 0]\n",
        "\n",
        "# Downsample the majority class\n",
        "df_majority_downsampled = resample(df_majority,\n",
        "                                   replace=False,    # without replacement\n",
        "                                   n_samples=len(df_minority_2) + len(df_minority_0),  # to match the minority class\n",
        "                                   random_state=42)  # for reproducibility\n",
        "\n",
        "# Combine back\n",
        "df_resampled = pd.concat([df_majority_downsampled, df_minority_2, df_minority_0])\n"
      ],
      "metadata": {
        "id": "vhtUZQu_wvcO"
      },
      "execution_count": null,
      "outputs": []
    },
    {
      "cell_type": "code",
      "source": [
        "from sklearn.feature_extraction.text import TfidfVectorizer\n",
        "\n",
        "# Initialize the TF-IDF Vectorizer\n",
        "vectorizer = TfidfVectorizer(stop_words='english', max_features=5000)\n",
        "\n",
        "# Transform the training data to a sparse matrix of TF-IDF features\n",
        "X_train_tfidf = vectorizer.fit_transform(X_train)\n",
        "\n",
        "# Check the shape of the transformed data\n",
        "print(X_train_tfidf.shape)\n"
      ],
      "metadata": {
        "colab": {
          "base_uri": "https://localhost:8080/"
        },
        "id": "drOxE1HqxmvD",
        "outputId": "dd6bad70-8d9f-49e4-e784-a5f0ffbe39d7"
      },
      "execution_count": null,
      "outputs": [
        {
          "output_type": "stream",
          "name": "stdout",
          "text": [
            "(19826, 5000)\n"
          ]
        }
      ]
    },
    {
      "cell_type": "code",
      "source": [
        "# Use the transformed features for model training\n",
        "model.fit(X_train_tfidf, y_train)\n"
      ],
      "metadata": {
        "colab": {
          "base_uri": "https://localhost:8080/",
          "height": 80
        },
        "id": "gMk540xAxrGS",
        "outputId": "3a55229a-c8c1-4268-b432-62df661973cd"
      },
      "execution_count": null,
      "outputs": [
        {
          "output_type": "execute_result",
          "data": {
            "text/plain": [
              "LogisticRegression(class_weight='balanced', random_state=42)"
            ],
            "text/html": [
              "<style>#sk-container-id-1 {\n",
              "  /* Definition of color scheme common for light and dark mode */\n",
              "  --sklearn-color-text: black;\n",
              "  --sklearn-color-line: gray;\n",
              "  /* Definition of color scheme for unfitted estimators */\n",
              "  --sklearn-color-unfitted-level-0: #fff5e6;\n",
              "  --sklearn-color-unfitted-level-1: #f6e4d2;\n",
              "  --sklearn-color-unfitted-level-2: #ffe0b3;\n",
              "  --sklearn-color-unfitted-level-3: chocolate;\n",
              "  /* Definition of color scheme for fitted estimators */\n",
              "  --sklearn-color-fitted-level-0: #f0f8ff;\n",
              "  --sklearn-color-fitted-level-1: #d4ebff;\n",
              "  --sklearn-color-fitted-level-2: #b3dbfd;\n",
              "  --sklearn-color-fitted-level-3: cornflowerblue;\n",
              "\n",
              "  /* Specific color for light theme */\n",
              "  --sklearn-color-text-on-default-background: var(--sg-text-color, var(--theme-code-foreground, var(--jp-content-font-color1, black)));\n",
              "  --sklearn-color-background: var(--sg-background-color, var(--theme-background, var(--jp-layout-color0, white)));\n",
              "  --sklearn-color-border-box: var(--sg-text-color, var(--theme-code-foreground, var(--jp-content-font-color1, black)));\n",
              "  --sklearn-color-icon: #696969;\n",
              "\n",
              "  @media (prefers-color-scheme: dark) {\n",
              "    /* Redefinition of color scheme for dark theme */\n",
              "    --sklearn-color-text-on-default-background: var(--sg-text-color, var(--theme-code-foreground, var(--jp-content-font-color1, white)));\n",
              "    --sklearn-color-background: var(--sg-background-color, var(--theme-background, var(--jp-layout-color0, #111)));\n",
              "    --sklearn-color-border-box: var(--sg-text-color, var(--theme-code-foreground, var(--jp-content-font-color1, white)));\n",
              "    --sklearn-color-icon: #878787;\n",
              "  }\n",
              "}\n",
              "\n",
              "#sk-container-id-1 {\n",
              "  color: var(--sklearn-color-text);\n",
              "}\n",
              "\n",
              "#sk-container-id-1 pre {\n",
              "  padding: 0;\n",
              "}\n",
              "\n",
              "#sk-container-id-1 input.sk-hidden--visually {\n",
              "  border: 0;\n",
              "  clip: rect(1px 1px 1px 1px);\n",
              "  clip: rect(1px, 1px, 1px, 1px);\n",
              "  height: 1px;\n",
              "  margin: -1px;\n",
              "  overflow: hidden;\n",
              "  padding: 0;\n",
              "  position: absolute;\n",
              "  width: 1px;\n",
              "}\n",
              "\n",
              "#sk-container-id-1 div.sk-dashed-wrapped {\n",
              "  border: 1px dashed var(--sklearn-color-line);\n",
              "  margin: 0 0.4em 0.5em 0.4em;\n",
              "  box-sizing: border-box;\n",
              "  padding-bottom: 0.4em;\n",
              "  background-color: var(--sklearn-color-background);\n",
              "}\n",
              "\n",
              "#sk-container-id-1 div.sk-container {\n",
              "  /* jupyter's `normalize.less` sets `[hidden] { display: none; }`\n",
              "     but bootstrap.min.css set `[hidden] { display: none !important; }`\n",
              "     so we also need the `!important` here to be able to override the\n",
              "     default hidden behavior on the sphinx rendered scikit-learn.org.\n",
              "     See: https://github.com/scikit-learn/scikit-learn/issues/21755 */\n",
              "  display: inline-block !important;\n",
              "  position: relative;\n",
              "}\n",
              "\n",
              "#sk-container-id-1 div.sk-text-repr-fallback {\n",
              "  display: none;\n",
              "}\n",
              "\n",
              "div.sk-parallel-item,\n",
              "div.sk-serial,\n",
              "div.sk-item {\n",
              "  /* draw centered vertical line to link estimators */\n",
              "  background-image: linear-gradient(var(--sklearn-color-text-on-default-background), var(--sklearn-color-text-on-default-background));\n",
              "  background-size: 2px 100%;\n",
              "  background-repeat: no-repeat;\n",
              "  background-position: center center;\n",
              "}\n",
              "\n",
              "/* Parallel-specific style estimator block */\n",
              "\n",
              "#sk-container-id-1 div.sk-parallel-item::after {\n",
              "  content: \"\";\n",
              "  width: 100%;\n",
              "  border-bottom: 2px solid var(--sklearn-color-text-on-default-background);\n",
              "  flex-grow: 1;\n",
              "}\n",
              "\n",
              "#sk-container-id-1 div.sk-parallel {\n",
              "  display: flex;\n",
              "  align-items: stretch;\n",
              "  justify-content: center;\n",
              "  background-color: var(--sklearn-color-background);\n",
              "  position: relative;\n",
              "}\n",
              "\n",
              "#sk-container-id-1 div.sk-parallel-item {\n",
              "  display: flex;\n",
              "  flex-direction: column;\n",
              "}\n",
              "\n",
              "#sk-container-id-1 div.sk-parallel-item:first-child::after {\n",
              "  align-self: flex-end;\n",
              "  width: 50%;\n",
              "}\n",
              "\n",
              "#sk-container-id-1 div.sk-parallel-item:last-child::after {\n",
              "  align-self: flex-start;\n",
              "  width: 50%;\n",
              "}\n",
              "\n",
              "#sk-container-id-1 div.sk-parallel-item:only-child::after {\n",
              "  width: 0;\n",
              "}\n",
              "\n",
              "/* Serial-specific style estimator block */\n",
              "\n",
              "#sk-container-id-1 div.sk-serial {\n",
              "  display: flex;\n",
              "  flex-direction: column;\n",
              "  align-items: center;\n",
              "  background-color: var(--sklearn-color-background);\n",
              "  padding-right: 1em;\n",
              "  padding-left: 1em;\n",
              "}\n",
              "\n",
              "\n",
              "/* Toggleable style: style used for estimator/Pipeline/ColumnTransformer box that is\n",
              "clickable and can be expanded/collapsed.\n",
              "- Pipeline and ColumnTransformer use this feature and define the default style\n",
              "- Estimators will overwrite some part of the style using the `sk-estimator` class\n",
              "*/\n",
              "\n",
              "/* Pipeline and ColumnTransformer style (default) */\n",
              "\n",
              "#sk-container-id-1 div.sk-toggleable {\n",
              "  /* Default theme specific background. It is overwritten whether we have a\n",
              "  specific estimator or a Pipeline/ColumnTransformer */\n",
              "  background-color: var(--sklearn-color-background);\n",
              "}\n",
              "\n",
              "/* Toggleable label */\n",
              "#sk-container-id-1 label.sk-toggleable__label {\n",
              "  cursor: pointer;\n",
              "  display: block;\n",
              "  width: 100%;\n",
              "  margin-bottom: 0;\n",
              "  padding: 0.5em;\n",
              "  box-sizing: border-box;\n",
              "  text-align: center;\n",
              "}\n",
              "\n",
              "#sk-container-id-1 label.sk-toggleable__label-arrow:before {\n",
              "  /* Arrow on the left of the label */\n",
              "  content: \"▸\";\n",
              "  float: left;\n",
              "  margin-right: 0.25em;\n",
              "  color: var(--sklearn-color-icon);\n",
              "}\n",
              "\n",
              "#sk-container-id-1 label.sk-toggleable__label-arrow:hover:before {\n",
              "  color: var(--sklearn-color-text);\n",
              "}\n",
              "\n",
              "/* Toggleable content - dropdown */\n",
              "\n",
              "#sk-container-id-1 div.sk-toggleable__content {\n",
              "  max-height: 0;\n",
              "  max-width: 0;\n",
              "  overflow: hidden;\n",
              "  text-align: left;\n",
              "  /* unfitted */\n",
              "  background-color: var(--sklearn-color-unfitted-level-0);\n",
              "}\n",
              "\n",
              "#sk-container-id-1 div.sk-toggleable__content.fitted {\n",
              "  /* fitted */\n",
              "  background-color: var(--sklearn-color-fitted-level-0);\n",
              "}\n",
              "\n",
              "#sk-container-id-1 div.sk-toggleable__content pre {\n",
              "  margin: 0.2em;\n",
              "  border-radius: 0.25em;\n",
              "  color: var(--sklearn-color-text);\n",
              "  /* unfitted */\n",
              "  background-color: var(--sklearn-color-unfitted-level-0);\n",
              "}\n",
              "\n",
              "#sk-container-id-1 div.sk-toggleable__content.fitted pre {\n",
              "  /* unfitted */\n",
              "  background-color: var(--sklearn-color-fitted-level-0);\n",
              "}\n",
              "\n",
              "#sk-container-id-1 input.sk-toggleable__control:checked~div.sk-toggleable__content {\n",
              "  /* Expand drop-down */\n",
              "  max-height: 200px;\n",
              "  max-width: 100%;\n",
              "  overflow: auto;\n",
              "}\n",
              "\n",
              "#sk-container-id-1 input.sk-toggleable__control:checked~label.sk-toggleable__label-arrow:before {\n",
              "  content: \"▾\";\n",
              "}\n",
              "\n",
              "/* Pipeline/ColumnTransformer-specific style */\n",
              "\n",
              "#sk-container-id-1 div.sk-label input.sk-toggleable__control:checked~label.sk-toggleable__label {\n",
              "  color: var(--sklearn-color-text);\n",
              "  background-color: var(--sklearn-color-unfitted-level-2);\n",
              "}\n",
              "\n",
              "#sk-container-id-1 div.sk-label.fitted input.sk-toggleable__control:checked~label.sk-toggleable__label {\n",
              "  background-color: var(--sklearn-color-fitted-level-2);\n",
              "}\n",
              "\n",
              "/* Estimator-specific style */\n",
              "\n",
              "/* Colorize estimator box */\n",
              "#sk-container-id-1 div.sk-estimator input.sk-toggleable__control:checked~label.sk-toggleable__label {\n",
              "  /* unfitted */\n",
              "  background-color: var(--sklearn-color-unfitted-level-2);\n",
              "}\n",
              "\n",
              "#sk-container-id-1 div.sk-estimator.fitted input.sk-toggleable__control:checked~label.sk-toggleable__label {\n",
              "  /* fitted */\n",
              "  background-color: var(--sklearn-color-fitted-level-2);\n",
              "}\n",
              "\n",
              "#sk-container-id-1 div.sk-label label.sk-toggleable__label,\n",
              "#sk-container-id-1 div.sk-label label {\n",
              "  /* The background is the default theme color */\n",
              "  color: var(--sklearn-color-text-on-default-background);\n",
              "}\n",
              "\n",
              "/* On hover, darken the color of the background */\n",
              "#sk-container-id-1 div.sk-label:hover label.sk-toggleable__label {\n",
              "  color: var(--sklearn-color-text);\n",
              "  background-color: var(--sklearn-color-unfitted-level-2);\n",
              "}\n",
              "\n",
              "/* Label box, darken color on hover, fitted */\n",
              "#sk-container-id-1 div.sk-label.fitted:hover label.sk-toggleable__label.fitted {\n",
              "  color: var(--sklearn-color-text);\n",
              "  background-color: var(--sklearn-color-fitted-level-2);\n",
              "}\n",
              "\n",
              "/* Estimator label */\n",
              "\n",
              "#sk-container-id-1 div.sk-label label {\n",
              "  font-family: monospace;\n",
              "  font-weight: bold;\n",
              "  display: inline-block;\n",
              "  line-height: 1.2em;\n",
              "}\n",
              "\n",
              "#sk-container-id-1 div.sk-label-container {\n",
              "  text-align: center;\n",
              "}\n",
              "\n",
              "/* Estimator-specific */\n",
              "#sk-container-id-1 div.sk-estimator {\n",
              "  font-family: monospace;\n",
              "  border: 1px dotted var(--sklearn-color-border-box);\n",
              "  border-radius: 0.25em;\n",
              "  box-sizing: border-box;\n",
              "  margin-bottom: 0.5em;\n",
              "  /* unfitted */\n",
              "  background-color: var(--sklearn-color-unfitted-level-0);\n",
              "}\n",
              "\n",
              "#sk-container-id-1 div.sk-estimator.fitted {\n",
              "  /* fitted */\n",
              "  background-color: var(--sklearn-color-fitted-level-0);\n",
              "}\n",
              "\n",
              "/* on hover */\n",
              "#sk-container-id-1 div.sk-estimator:hover {\n",
              "  /* unfitted */\n",
              "  background-color: var(--sklearn-color-unfitted-level-2);\n",
              "}\n",
              "\n",
              "#sk-container-id-1 div.sk-estimator.fitted:hover {\n",
              "  /* fitted */\n",
              "  background-color: var(--sklearn-color-fitted-level-2);\n",
              "}\n",
              "\n",
              "/* Specification for estimator info (e.g. \"i\" and \"?\") */\n",
              "\n",
              "/* Common style for \"i\" and \"?\" */\n",
              "\n",
              ".sk-estimator-doc-link,\n",
              "a:link.sk-estimator-doc-link,\n",
              "a:visited.sk-estimator-doc-link {\n",
              "  float: right;\n",
              "  font-size: smaller;\n",
              "  line-height: 1em;\n",
              "  font-family: monospace;\n",
              "  background-color: var(--sklearn-color-background);\n",
              "  border-radius: 1em;\n",
              "  height: 1em;\n",
              "  width: 1em;\n",
              "  text-decoration: none !important;\n",
              "  margin-left: 1ex;\n",
              "  /* unfitted */\n",
              "  border: var(--sklearn-color-unfitted-level-1) 1pt solid;\n",
              "  color: var(--sklearn-color-unfitted-level-1);\n",
              "}\n",
              "\n",
              ".sk-estimator-doc-link.fitted,\n",
              "a:link.sk-estimator-doc-link.fitted,\n",
              "a:visited.sk-estimator-doc-link.fitted {\n",
              "  /* fitted */\n",
              "  border: var(--sklearn-color-fitted-level-1) 1pt solid;\n",
              "  color: var(--sklearn-color-fitted-level-1);\n",
              "}\n",
              "\n",
              "/* On hover */\n",
              "div.sk-estimator:hover .sk-estimator-doc-link:hover,\n",
              ".sk-estimator-doc-link:hover,\n",
              "div.sk-label-container:hover .sk-estimator-doc-link:hover,\n",
              ".sk-estimator-doc-link:hover {\n",
              "  /* unfitted */\n",
              "  background-color: var(--sklearn-color-unfitted-level-3);\n",
              "  color: var(--sklearn-color-background);\n",
              "  text-decoration: none;\n",
              "}\n",
              "\n",
              "div.sk-estimator.fitted:hover .sk-estimator-doc-link.fitted:hover,\n",
              ".sk-estimator-doc-link.fitted:hover,\n",
              "div.sk-label-container:hover .sk-estimator-doc-link.fitted:hover,\n",
              ".sk-estimator-doc-link.fitted:hover {\n",
              "  /* fitted */\n",
              "  background-color: var(--sklearn-color-fitted-level-3);\n",
              "  color: var(--sklearn-color-background);\n",
              "  text-decoration: none;\n",
              "}\n",
              "\n",
              "/* Span, style for the box shown on hovering the info icon */\n",
              ".sk-estimator-doc-link span {\n",
              "  display: none;\n",
              "  z-index: 9999;\n",
              "  position: relative;\n",
              "  font-weight: normal;\n",
              "  right: .2ex;\n",
              "  padding: .5ex;\n",
              "  margin: .5ex;\n",
              "  width: min-content;\n",
              "  min-width: 20ex;\n",
              "  max-width: 50ex;\n",
              "  color: var(--sklearn-color-text);\n",
              "  box-shadow: 2pt 2pt 4pt #999;\n",
              "  /* unfitted */\n",
              "  background: var(--sklearn-color-unfitted-level-0);\n",
              "  border: .5pt solid var(--sklearn-color-unfitted-level-3);\n",
              "}\n",
              "\n",
              ".sk-estimator-doc-link.fitted span {\n",
              "  /* fitted */\n",
              "  background: var(--sklearn-color-fitted-level-0);\n",
              "  border: var(--sklearn-color-fitted-level-3);\n",
              "}\n",
              "\n",
              ".sk-estimator-doc-link:hover span {\n",
              "  display: block;\n",
              "}\n",
              "\n",
              "/* \"?\"-specific style due to the `<a>` HTML tag */\n",
              "\n",
              "#sk-container-id-1 a.estimator_doc_link {\n",
              "  float: right;\n",
              "  font-size: 1rem;\n",
              "  line-height: 1em;\n",
              "  font-family: monospace;\n",
              "  background-color: var(--sklearn-color-background);\n",
              "  border-radius: 1rem;\n",
              "  height: 1rem;\n",
              "  width: 1rem;\n",
              "  text-decoration: none;\n",
              "  /* unfitted */\n",
              "  color: var(--sklearn-color-unfitted-level-1);\n",
              "  border: var(--sklearn-color-unfitted-level-1) 1pt solid;\n",
              "}\n",
              "\n",
              "#sk-container-id-1 a.estimator_doc_link.fitted {\n",
              "  /* fitted */\n",
              "  border: var(--sklearn-color-fitted-level-1) 1pt solid;\n",
              "  color: var(--sklearn-color-fitted-level-1);\n",
              "}\n",
              "\n",
              "/* On hover */\n",
              "#sk-container-id-1 a.estimator_doc_link:hover {\n",
              "  /* unfitted */\n",
              "  background-color: var(--sklearn-color-unfitted-level-3);\n",
              "  color: var(--sklearn-color-background);\n",
              "  text-decoration: none;\n",
              "}\n",
              "\n",
              "#sk-container-id-1 a.estimator_doc_link.fitted:hover {\n",
              "  /* fitted */\n",
              "  background-color: var(--sklearn-color-fitted-level-3);\n",
              "}\n",
              "</style><div id=\"sk-container-id-1\" class=\"sk-top-container\"><div class=\"sk-text-repr-fallback\"><pre>LogisticRegression(class_weight=&#x27;balanced&#x27;, random_state=42)</pre><b>In a Jupyter environment, please rerun this cell to show the HTML representation or trust the notebook. <br />On GitHub, the HTML representation is unable to render, please try loading this page with nbviewer.org.</b></div><div class=\"sk-container\" hidden><div class=\"sk-item\"><div class=\"sk-estimator fitted sk-toggleable\"><input class=\"sk-toggleable__control sk-hidden--visually\" id=\"sk-estimator-id-1\" type=\"checkbox\" checked><label for=\"sk-estimator-id-1\" class=\"sk-toggleable__label fitted sk-toggleable__label-arrow fitted\">&nbsp;&nbsp;LogisticRegression<a class=\"sk-estimator-doc-link fitted\" rel=\"noreferrer\" target=\"_blank\" href=\"https://scikit-learn.org/1.5/modules/generated/sklearn.linear_model.LogisticRegression.html\">?<span>Documentation for LogisticRegression</span></a><span class=\"sk-estimator-doc-link fitted\">i<span>Fitted</span></span></label><div class=\"sk-toggleable__content fitted\"><pre>LogisticRegression(class_weight=&#x27;balanced&#x27;, random_state=42)</pre></div> </div></div></div></div>"
            ]
          },
          "metadata": {},
          "execution_count": 35
        }
      ]
    },
    {
      "cell_type": "code",
      "source": [
        "# Transform the test data using the same vectorizer\n",
        "X_test_tfidf = vectorizer.transform(X_test)\n",
        "\n",
        "# Make predictions on the transformed test data\n",
        "y_pred = model.predict(X_test_tfidf)\n"
      ],
      "metadata": {
        "id": "4qIOwfQ1xvbj"
      },
      "execution_count": null,
      "outputs": []
    },
    {
      "cell_type": "code",
      "source": [
        "# Check for missing values (None or empty string)\n",
        "missing_values = [i for i in X_train if i is None or i == '']\n",
        "print(f\"Number of missing values in X_train: {len(missing_values)}\")\n"
      ],
      "metadata": {
        "id": "fS_zcuKFyjZv",
        "outputId": "1e3303ca-bbfd-4282-9bd3-f0826d40c056",
        "colab": {
          "base_uri": "https://localhost:8080/"
        }
      },
      "execution_count": null,
      "outputs": [
        {
          "output_type": "stream",
          "name": "stdout",
          "text": [
            "Number of missing values in X_train: 0\n"
          ]
        }
      ]
    },
    {
      "cell_type": "code",
      "source": [
        "import pandas as pd\n",
        "\n",
        "# Load the data\n",
        "traindf = pd.read_csv(\"Desktop/semeval-tweets/twitter-training-data.txt\", delimiter=\"\\t\", header=None, names=['tweet'])\n"
      ],
      "metadata": {
        "id": "l9xaSGH1qRJt"
      },
      "execution_count": null,
      "outputs": []
    },
    {
      "cell_type": "code",
      "source": [
        "import pandas as pd\n",
        "\n",
        "def readfile(file_path):\n",
        "    # Load the dataset from a CSV or TXT file; adjust delimiter as needed.\n",
        "    try:\n",
        "        # Try loading it as CSV first\n",
        "        data = pd.read_csv(file_path)\n",
        "    except:\n",
        "        # If CSV loading fails, try loading it as a tab-separated TXT file\n",
        "        data = pd.read_csv(file_path, delimiter='\\t')\n",
        "    return data\n"
      ],
      "metadata": {
        "id": "sS5LQZzerwd4"
      },
      "execution_count": null,
      "outputs": []
    },
    {
      "cell_type": "code",
      "source": [
        "import re\n",
        "\n",
        "def preprocessing(data):\n",
        "    # Apply preprocessing steps to the 'tweet' column (update this column name if different)\n",
        "    data['tweet'] = data['tweet'].apply(lambda x: x.lower())  # Convert to lowercase\n",
        "    data['tweet'] = data['tweet'].apply(lambda x: re.sub(r'[^\\w\\s]', '', x))  # Remove punctuation\n",
        "    data['tweet'] = data['tweet'].apply(lambda x: re.sub(r'\\d+', '', x))  # Remove numbers\n",
        "    data['tweet'] = data['tweet'].apply(lambda x: x.strip())  # Remove leading/trailing whitespace\n",
        "    return data\n"
      ],
      "metadata": {
        "id": "8lUnRiE3sDzm"
      },
      "execution_count": null,
      "outputs": []
    },
    {
      "cell_type": "code",
      "source": [
        "# Path to your dataset file\n",
        "file_path = \"/labeled_data.csv\"\n",
        "\n",
        "# Load the dataset\n",
        "traindf = readfile(file_path)\n",
        "\n",
        "# Preprocess the dataset\n",
        "traindf_preprocessing = preprocessing(traindf)\n",
        "\n",
        "# View the first few rows to confirm\n",
        "print(traindf_preprocessing.head())\n"
      ],
      "metadata": {
        "colab": {
          "base_uri": "https://localhost:8080/"
        },
        "id": "XF_WlkgJsIkK",
        "outputId": "eb4716fb-d1e3-4d42-f897-2f6c7df0317a"
      },
      "execution_count": null,
      "outputs": [
        {
          "output_type": "stream",
          "name": "stdout",
          "text": [
            "   Unnamed: 0  count  hate_speech  offensive_language  neither  class  \\\n",
            "0           0      3            0                   0        3      2   \n",
            "1           1      3            0                   3        0      1   \n",
            "2           2      3            0                   3        0      1   \n",
            "3           3      3            0                   2        1      1   \n",
            "4           4      6            0                   6        0      1   \n",
            "\n",
            "                                               tweet  \n",
            "0  rt mayasolovely as a woman you shouldnt compla...  \n",
            "1  rt mleew boy dats coldtyga dwn bad for cuffin ...  \n",
            "2  rt urkindofbrand dawg rt sbabylife you ever fu...  \n",
            "3  rt c_g_anderson viva_based she look like a tranny  \n",
            "4  rt shenikaroberts the shit you hear about me m...  \n"
          ]
        }
      ]
    },
    {
      "source": [
        "import pandas as pd\n",
        "import re\n",
        "from sklearn.model_selection import train_test_split\n",
        "from sklearn.feature_extraction.text import TfidfVectorizer\n",
        "from imblearn.over_sampling import SMOTE\n",
        "from sklearn.linear_model import LogisticRegression\n",
        "from sklearn.metrics import classification_report\n",
        "from sklearn.utils import resample\n",
        "\n",
        "# Function to load the dataset (handles both CSV and tab-separated TXT)\n",
        "def readfile(file_path):\n",
        "    try:\n",
        "        # Try loading as CSV first\n",
        "        data = pd.read_csv(file_path)\n",
        "    except pd.errors.ParserError:  # Use a more specific exception for CSV parsing errors\n",
        "        # If CSV loading fails, try loading as a tab-separated TXT file\n",
        "        try:\n",
        "            data = pd.read_csv(file_path, delimiter='\\t', header=None, names=['id', 'tweet', 'class'])\n",
        "            # Explicitly specify header=None if no header row in TXT file\n",
        "            # and provide names for the columns (update if column names are different)\n",
        "        except FileNotFoundError:\n",
        "            print(f\"Error: File not found at path: {file_path}\")"
      ],
      "cell_type": "code",
      "metadata": {
        "id": "YwrXETjdxVNa"
      },
      "execution_count": null,
      "outputs": []
    },
    {
      "cell_type": "markdown",
      "source": [],
      "metadata": {
        "id": "4IbmE59UziBO"
      }
    },
    {
      "cell_type": "code",
      "source": [
        "from sklearn.impute import SimpleImputer\n",
        "\n",
        "def handle_missing_values(data):\n",
        "    if data.isnull().sum().any():\n",
        "        print(\"Missing values detected. Imputing missing data...\")\n",
        "        imputer = SimpleImputer(strategy='most_frequent')\n",
        "        data['tweet'] = imputer.fit_transform(data[['tweet']])\n",
        "    return data\n"
      ],
      "metadata": {
        "id": "ixOxoVwP19uR"
      },
      "execution_count": null,
      "outputs": []
    },
    {
      "cell_type": "code",
      "source": [
        "from nltk.stem import WordNetLemmatizer\n",
        "from nltk.tokenize import word_tokenize\n",
        "import nltk\n",
        "\n",
        "nltk.download('punkt')\n",
        "nltk.download('wordnet')\n",
        "\n",
        "lemmatizer = WordNetLemmatizer()\n",
        "\n",
        "def preprocessing(data):\n",
        "    data['tweet'] = data['tweet'].apply(lambda x: x.lower())  # Convert to lowercase\n",
        "    data['tweet'] = data['tweet'].apply(lambda x: re.sub(r'[^\\w\\s]', '', x))  # Remove punctuation\n",
        "    data['tweet'] = data['tweet'].apply(lambda x: re.sub(r'\\d+', '', x))  # Remove numbers\n",
        "    data['tweet'] = data['tweet'].apply(lambda x: x.strip())  # Remove leading/trailing whitespace\n",
        "    data['tweet'] = data['tweet'].apply(lambda x: ' '.join([lemmatizer.lemmatize(word) for word in word_tokenize(x)]))  # Lemmatization\n",
        "    return data\n"
      ],
      "metadata": {
        "colab": {
          "base_uri": "https://localhost:8080/"
        },
        "id": "bVoNrQt72BDa",
        "outputId": "2cc7cc66-183e-4835-f8d8-fe66d3330073"
      },
      "execution_count": null,
      "outputs": [
        {
          "output_type": "stream",
          "name": "stderr",
          "text": [
            "[nltk_data] Downloading package punkt to /root/nltk_data...\n",
            "[nltk_data]   Unzipping tokenizers/punkt.zip.\n",
            "[nltk_data] Downloading package wordnet to /root/nltk_data...\n"
          ]
        }
      ]
    },
    {
      "cell_type": "code",
      "source": [
        "import pandas as pd\n",
        "import re\n",
        "from sklearn.model_selection import train_test_split, cross_val_score\n",
        "from sklearn.feature_extraction.text import TfidfVectorizer\n",
        "from imblearn.over_sampling import SMOTE\n",
        "from sklearn.linear_model import LogisticRegression\n",
        "from sklearn.metrics import classification_report\n",
        "\n",
        "# Function to load the dataset (handles both CSV and tab-separated TXT)\n",
        "def readfile(file_path):\n",
        "    try:\n",
        "        # Try loading as CSV first\n",
        "        data = pd.read_csv(file_path)\n",
        "        print(\"CSV file loaded successfully.\")\n",
        "    except pd.errors.ParserError:  # Use a more specific exception for CSV parsing errors\n",
        "        try:\n",
        "            # If CSV loading fails, try loading as a tab-separated TXT file\n",
        "            data = pd.read_csv(file_path, delimiter='\\t', header=None, names=['id', 'tweet', 'class'])\n",
        "            print(\"Tab-separated TXT file loaded successfully.\")\n",
        "        except FileNotFoundError:\n",
        "            print(f\"Error: File not found at path: {file_path}\")\n",
        "            data = None\n",
        "        except Exception as e:\n",
        "            print(f\"Error loading the file: {e}\")\n",
        "            data = None\n",
        "    return data\n",
        "\n",
        "# Preprocessing function for text data\n",
        "def preprocessing(data):\n",
        "    # Apply preprocessing steps to the 'tweet' column (update this column name if different)\n",
        "    data['tweet'] = data['tweet'].apply(lambda x: x.lower())  # Convert to lowercase\n",
        "    data['tweet'] = data['tweet'].apply(lambda x: re.sub(r'[^\\w\\s]', '', x))  # Remove punctuation\n",
        "    data['tweet'] = data['tweet'].apply(lambda x: re.sub(r'\\d+', '', x))  # Remove numbers\n",
        "    data['tweet'] = data['tweet'].apply(lambda x: x.strip())  # Remove leading/trailing whitespace\n",
        "    return data\n",
        "\n",
        "# Function to handle missing values in the dataset\n",
        "def handle_missing_values(data):\n",
        "    if data.isnull().sum().any():\n",
        "        print(\"Missing values detected. Handling missing data...\")\n",
        "        data = data.dropna()  # Drop rows with missing values\n",
        "    return data\n",
        "\n",
        "# Load the dataset\n",
        "file_path = '/labeled_data.csv'  # Update with the correct file path\n",
        "df = readfile(file_path)\n",
        "\n",
        "# If file loading is successful, proceed with further processing\n",
        "if df is not None:\n",
        "    # Handle missing values\n",
        "    df = handle_missing_values(df)\n",
        "\n",
        "    # Preprocess the dataset\n",
        "    df_preprocessed = preprocessing(df)\n",
        "\n",
        "    # Split data into features (X) and target variable (y)\n",
        "    X = df_preprocessed['tweet']  # Features\n",
        "    y = df_preprocessed['class']  # Labels\n",
        "\n",
        "    # Train-Test Split\n",
        "    X_train, X_test, y_train, y_test = train_test_split(X, y, test_size=0.2, random_state=42)\n",
        "\n",
        "    # Vectorize the text data\n",
        "    vectorizer = TfidfVectorizer(max_features=5000, stop_words='english')\n",
        "    X_train_vec = vectorizer.fit_transform(X_train)\n",
        "    X_test_vec = vectorizer.transform(X_test)\n",
        "\n",
        "    # Apply SMOTE to handle class imbalance in training data\n",
        "    smote = SMOTE(sampling_strategy='auto', random_state=42)\n",
        "    X_resampled, y_resampled = smote.fit_resample(X_train_vec, y_train)\n",
        "\n",
        "    # Train the Logistic Regression model\n",
        "    model = LogisticRegression(max_iter=1000)\n",
        "    model.fit(X_resampled, y_resampled)\n",
        "\n",
        "    # Perform cross-validation on the resampled training data\n",
        "    cross_val_scores = cross_val_score(model, X_resampled, y_resampled, cv=5, scoring='accuracy')\n",
        "\n",
        "    # Print the cross-validation scores\n",
        "    print(f\"Cross-validation scores: {cross_val_scores}\")\n",
        "    print(f\"Average cross-validation score: {cross_val_scores.mean()}\")\n",
        "\n",
        "    # Evaluate the model on the test set\n",
        "    y_pred = model.predict(X_test_vec)\n",
        "    print(classification_report(y_test, y_pred))\n"
      ],
      "metadata": {
        "colab": {
          "base_uri": "https://localhost:8080/"
        },
        "id": "N27ga9xw23Dc",
        "outputId": "89fe8c17-0c4e-4225-c338-dc5edb118207"
      },
      "execution_count": null,
      "outputs": [
        {
          "output_type": "stream",
          "name": "stdout",
          "text": [
            "CSV file loaded successfully.\n",
            "Cross-validation scores: [0.89462832 0.91144872 0.90298426 0.90699946 0.90948557]\n",
            "Average cross-validation score: 0.9051092671853598\n",
            "              precision    recall  f1-score   support\n",
            "\n",
            "           0       0.28      0.58      0.38       290\n",
            "           1       0.96      0.86      0.90      3832\n",
            "           2       0.78      0.89      0.83       835\n",
            "\n",
            "    accuracy                           0.84      4957\n",
            "   macro avg       0.67      0.77      0.70      4957\n",
            "weighted avg       0.89      0.84      0.86      4957\n",
            "\n"
          ]
        }
      ]
    },
    {
      "cell_type": "code",
      "source": [
        "from sklearn.model_selection import GridSearchCV\n",
        "\n",
        "# Define parameter grid\n",
        "param_grid = {\n",
        "    'C': [0.1, 1, 10, 100],\n",
        "    'penalty': ['l2'],\n",
        "    'solver': ['liblinear', 'lbfgs']\n",
        "}\n",
        "\n",
        "# Initialize grid search\n",
        "grid_search = GridSearchCV(LogisticRegression(max_iter=1000), param_grid, cv=5, scoring='accuracy')\n",
        "grid_search.fit(X_resampled, y_resampled)\n",
        "\n",
        "# Display best parameters and score\n",
        "print(\"Best Parameters:\", grid_search.best_params_)\n",
        "print(\"Best Cross-Validation Score:\", grid_search.best_score_)\n"
      ],
      "metadata": {
        "colab": {
          "base_uri": "https://localhost:8080/"
        },
        "id": "WWBPKlm23Xce",
        "outputId": "edadf780-5f23-431a-ee94-c907f7b53ad4"
      },
      "execution_count": null,
      "outputs": [
        {
          "output_type": "stream",
          "name": "stdout",
          "text": [
            "Best Parameters: {'C': 100, 'penalty': 'l2', 'solver': 'lbfgs'}\n",
            "Best Cross-Validation Score: 0.9355386722486164\n"
          ]
        }
      ]
    }
  ],
  "metadata": {
    "colab": {
      "provenance": []
    },
    "kernelspec": {
      "display_name": "Python 3",
      "name": "python3"
    },
    "language_info": {
      "name": "python"
    }
  },
  "nbformat": 4,
  "nbformat_minor": 0
}